{
  "cells": [
    {
      "cell_type": "markdown",
      "metadata": {
        "toc": true,
        "id": "w7FeX46LavA9"
      },
      "source": [
        "<h1>Содержание<span class=\"tocSkip\"></span></h1>\n",
        "<div class=\"toc\"><ul class=\"toc-item\"><li><ul class=\"toc-item\"><li><span><a href=\"#Подготовка-данных\" data-toc-modified-id=\"Подготовка-данных-1\"><span class=\"toc-item-num\">1&nbsp;&nbsp;</span>Подготовка данных</a></span></li><li><span><a href=\"#Исследование-задачи\" data-toc-modified-id=\"Исследование-задачи-2\"><span class=\"toc-item-num\">2&nbsp;&nbsp;</span>Исследование задачи</a></span><ul class=\"toc-item\"><li><span><a href=\"#Небалансированная-логистическая-регрессия\" data-toc-modified-id=\"Небалансированная-логистическая-регрессия-2.1\"><span class=\"toc-item-num\">2.1&nbsp;&nbsp;</span>Небалансированная логистическая регрессия</a></span></li><li><span><a href=\"#Небалансированное-дерево-решений\" data-toc-modified-id=\"Небалансированное-дерево-решений-2.2\"><span class=\"toc-item-num\">2.2&nbsp;&nbsp;</span>Небалансированное дерево решений</a></span></li><li><span><a href=\"#Небалансированный-случайный-лес\" data-toc-modified-id=\"Небалансированный-случайный-лес-2.3\"><span class=\"toc-item-num\">2.3&nbsp;&nbsp;</span>Небалансированный случайный лес</a></span></li><li><span><a href=\"#Небалансированный-Catboost\" data-toc-modified-id=\"Небалансированный-Catboost-2.4\"><span class=\"toc-item-num\">2.4&nbsp;&nbsp;</span>Небалансированный Catboost</a></span></li></ul></li><li><span><a href=\"#Борьба-с-дисбалансом\" data-toc-modified-id=\"Борьба-с-дисбалансом-3\"><span class=\"toc-item-num\">3&nbsp;&nbsp;</span>Борьба с дисбалансом</a></span><ul class=\"toc-item\"><li><span><a href=\"#Балансированная-логистическая-регрессия\" data-toc-modified-id=\"Балансированная-логистическая-регрессия-3.1\"><span class=\"toc-item-num\">3.1&nbsp;&nbsp;</span>Балансированная логистическая регрессия</a></span></li><li><span><a href=\"#Балансированное-дерево-решений\" data-toc-modified-id=\"Балансированное-дерево-решений-3.2\"><span class=\"toc-item-num\">3.2&nbsp;&nbsp;</span>Балансированное дерево решений</a></span></li><li><span><a href=\"#Балансированный-случайный-лес\" data-toc-modified-id=\"Балансированный-случайный-лес-3.3\"><span class=\"toc-item-num\">3.3&nbsp;&nbsp;</span>Балансированный случайный лес</a></span></li><li><span><a href=\"#Балансированный-Catboost\" data-toc-modified-id=\"Балансированный-Catboost-3.4\"><span class=\"toc-item-num\">3.4&nbsp;&nbsp;</span>Балансированный Catboost</a></span></li></ul></li><li><span><a href=\"#Тестирование-модели\" data-toc-modified-id=\"Тестирование-модели-4\"><span class=\"toc-item-num\">4&nbsp;&nbsp;</span>Тестирование модели</a></span></li><li><span><a href=\"#Чек-лист-готовности-проекта\" data-toc-modified-id=\"Чек-лист-готовности-проекта-5\"><span class=\"toc-item-num\">5&nbsp;&nbsp;</span>Чек-лист готовности проекта</a></span></li></ul></div>"
      ]
    },
    {
      "cell_type": "markdown",
      "metadata": {
        "id": "HIehzwDJavBA"
      },
      "source": [
        "# Отток клиентов из банка"
      ]
    },
    {
      "cell_type": "markdown",
      "metadata": {
        "id": "Al6n1UQ4avBB"
      },
      "source": [
        "Из «Бета-Банка» стали уходить клиенты. Каждый месяц. Немного, но заметно. Банковские маркетологи посчитали: сохранять текущих клиентов дешевле, чем привлекать новых.\n",
        "\n",
        "Задача: 1) спрогнозировать, уйдёт клиент из банка в ближайшее время или нет на основе исторических данных о поведении клиентов и расторжении договоров с банком. \n",
        "\n",
        "2) построить модель с предельно большим значением *F1*-меры(минимум 0.59). Проверить *F1*-меру на тестовой выборке.\n",
        "\n",
        "3)измерить *AUC-ROC*, сравнить её значение с *F1*-мерой.\n",
        "\n",
        "Источник данных: [https://www.kaggle.com/barelydedicated/bank-customer-churn-modeling](https://www.kaggle.com/barelydedicated/bank-customer-churn-modeling)"
      ]
    },
    {
      "cell_type": "markdown",
      "metadata": {
        "id": "0nKcxiKNavBD"
      },
      "source": [
        "## Подготовка данных"
      ]
    },
    {
      "cell_type": "code",
      "execution_count": null,
      "metadata": {
        "id": "Hhx_nPIaavBE",
        "outputId": "7f8c2866-f5f8-48c2-ea88-c58ec0c7000d"
      },
      "outputs": [
        {
          "name": "stdout",
          "output_type": "stream",
          "text": [
            "Defaulting to user installation because normal site-packages is not writeable\n",
            "Requirement already satisfied: catboost in /opt/conda/lib/python3.7/site-packages (0.20.2)\n",
            "Requirement already satisfied: scipy in /opt/conda/lib/python3.7/site-packages (from catboost) (1.4.1)\n",
            "Requirement already satisfied: six in /opt/conda/lib/python3.7/site-packages (from catboost) (1.15.0)\n",
            "Requirement already satisfied: matplotlib in /opt/conda/lib/python3.7/site-packages (from catboost) (3.1.0)\n",
            "Requirement already satisfied: numpy>=1.16.0 in /opt/conda/lib/python3.7/site-packages (from catboost) (1.19.5)\n",
            "Requirement already satisfied: graphviz in /opt/conda/lib/python3.7/site-packages (from catboost) (0.16)\n",
            "Requirement already satisfied: plotly in /opt/conda/lib/python3.7/site-packages (from catboost) (4.1.0)\n",
            "Requirement already satisfied: pandas>=0.24.0 in /opt/conda/lib/python3.7/site-packages (from catboost) (0.25.1)\n",
            "Requirement already satisfied: kiwisolver>=1.0.1 in /opt/conda/lib/python3.7/site-packages (from matplotlib->catboost) (1.3.1)\n",
            "Requirement already satisfied: python-dateutil>=2.1 in /opt/conda/lib/python3.7/site-packages (from matplotlib->catboost) (2.8.1)\n",
            "Requirement already satisfied: pyparsing!=2.0.4,!=2.1.2,!=2.1.6,>=2.0.1 in /opt/conda/lib/python3.7/site-packages (from matplotlib->catboost) (2.4.7)\n",
            "Requirement already satisfied: cycler>=0.10 in /opt/conda/lib/python3.7/site-packages (from matplotlib->catboost) (0.10.0)\n",
            "Requirement already satisfied: retrying>=1.3.3 in /opt/conda/lib/python3.7/site-packages (from plotly->catboost) (1.3.3)\n",
            "Requirement already satisfied: pytz>=2017.2 in /opt/conda/lib/python3.7/site-packages (from pandas>=0.24.0->catboost) (2021.1)\n"
          ]
        }
      ],
      "source": [
        "import pandas as pd\n",
        "from sklearn.model_selection import train_test_split\n",
        "from sklearn.linear_model import LogisticRegression\n",
        "from sklearn.ensemble import RandomForestClassifier\n",
        "from sklearn.tree import DecisionTreeClassifier\n",
        "from sklearn.preprocessing import StandardScaler\n",
        "from sklearn.utils import shuffle\n",
        "from sklearn.metrics import roc_auc_score\n",
        "from sklearn.metrics import f1_score\n",
        "from sklearn.metrics import roc_curve \n",
        "import matplotlib.pyplot as plt\n",
        "! pip install catboost\n",
        "from catboost import CatBoostClassifier\n",
        "import warnings\n",
        "warnings.filterwarnings('ignore')"
      ]
    },
    {
      "cell_type": "code",
      "execution_count": null,
      "metadata": {
        "id": "HiaLtfabavBI",
        "outputId": "12abdfbb-09be-404b-eda4-1d39f01d8252"
      },
      "outputs": [
        {
          "name": "stdout",
          "output_type": "stream",
          "text": [
            "Defaulting to user installation because normal site-packages is not writeable\n",
            "Requirement already satisfied: opendatasets in /home/jovyan/.local/lib/python3.7/site-packages (0.1.20)\n",
            "Requirement already satisfied: click in /opt/conda/lib/python3.7/site-packages (from opendatasets) (8.0.1)\n",
            "Requirement already satisfied: kaggle in /home/jovyan/.local/lib/python3.7/site-packages (from opendatasets) (1.5.12)\n",
            "Requirement already satisfied: tqdm in /opt/conda/lib/python3.7/site-packages (from opendatasets) (4.51.0)\n",
            "Requirement already satisfied: importlib-metadata; python_version < \"3.8\" in /opt/conda/lib/python3.7/site-packages (from click->opendatasets) (2.0.0)\n",
            "Requirement already satisfied: requests in /opt/conda/lib/python3.7/site-packages (from kaggle->opendatasets) (2.22.0)\n",
            "Requirement already satisfied: python-slugify in /home/jovyan/.local/lib/python3.7/site-packages (from kaggle->opendatasets) (5.0.2)\n",
            "Requirement already satisfied: urllib3 in /opt/conda/lib/python3.7/site-packages (from kaggle->opendatasets) (1.25.11)\n",
            "Requirement already satisfied: python-dateutil in /opt/conda/lib/python3.7/site-packages (from kaggle->opendatasets) (2.8.1)\n",
            "Requirement already satisfied: certifi in /opt/conda/lib/python3.7/site-packages (from kaggle->opendatasets) (2021.5.30)\n",
            "Requirement already satisfied: six>=1.10 in /opt/conda/lib/python3.7/site-packages (from kaggle->opendatasets) (1.15.0)\n",
            "Requirement already satisfied: zipp>=0.5 in /opt/conda/lib/python3.7/site-packages (from importlib-metadata; python_version < \"3.8\"->click->opendatasets) (3.4.0)\n",
            "Requirement already satisfied: idna<2.9,>=2.5 in /opt/conda/lib/python3.7/site-packages (from requests->kaggle->opendatasets) (2.8)\n",
            "Requirement already satisfied: chardet<3.1.0,>=3.0.2 in /opt/conda/lib/python3.7/site-packages (from requests->kaggle->opendatasets) (3.0.4)\n",
            "Requirement already satisfied: text-unidecode>=1.3 in /home/jovyan/.local/lib/python3.7/site-packages (from python-slugify->kaggle->opendatasets) (1.3)\n",
            "Skipping, found downloaded files in \"./bank-customer-churn-modeling\" (use force=True to force download)\n"
          ]
        }
      ],
      "source": [
        "!pip install opendatasets\n",
        "import opendatasets as od\n",
        "od.download('https://www.kaggle.com/barelydedicated/bank-customer-churn-modeling')"
      ]
    },
    {
      "cell_type": "code",
      "execution_count": null,
      "metadata": {
        "id": "nHSmAS9havBM"
      },
      "outputs": [],
      "source": [
        "data = pd.read_csv('bank-customer-churn-modeling/Churn_Modelling.csv')"
      ]
    },
    {
      "cell_type": "code",
      "execution_count": null,
      "metadata": {
        "scrolled": true,
        "id": "mwN3c0lzavBN",
        "outputId": "6a31424f-012a-449a-b015-c63561a7406d"
      },
      "outputs": [
        {
          "data": {
            "text/html": [
              "<div>\n",
              "<style scoped>\n",
              "    .dataframe tbody tr th:only-of-type {\n",
              "        vertical-align: middle;\n",
              "    }\n",
              "\n",
              "    .dataframe tbody tr th {\n",
              "        vertical-align: top;\n",
              "    }\n",
              "\n",
              "    .dataframe thead th {\n",
              "        text-align: right;\n",
              "    }\n",
              "</style>\n",
              "<table border=\"1\" class=\"dataframe\">\n",
              "  <thead>\n",
              "    <tr style=\"text-align: right;\">\n",
              "      <th></th>\n",
              "      <th>RowNumber</th>\n",
              "      <th>CustomerId</th>\n",
              "      <th>Surname</th>\n",
              "      <th>CreditScore</th>\n",
              "      <th>Geography</th>\n",
              "      <th>Gender</th>\n",
              "      <th>Age</th>\n",
              "      <th>Tenure</th>\n",
              "      <th>Balance</th>\n",
              "      <th>NumOfProducts</th>\n",
              "      <th>HasCrCard</th>\n",
              "      <th>IsActiveMember</th>\n",
              "      <th>EstimatedSalary</th>\n",
              "      <th>Exited</th>\n",
              "    </tr>\n",
              "  </thead>\n",
              "  <tbody>\n",
              "    <tr>\n",
              "      <td>9902</td>\n",
              "      <td>9903</td>\n",
              "      <td>15797665</td>\n",
              "      <td>Docherty</td>\n",
              "      <td>730</td>\n",
              "      <td>France</td>\n",
              "      <td>Female</td>\n",
              "      <td>27</td>\n",
              "      <td>7</td>\n",
              "      <td>0.0</td>\n",
              "      <td>2</td>\n",
              "      <td>1</td>\n",
              "      <td>0</td>\n",
              "      <td>144099.48</td>\n",
              "      <td>0</td>\n",
              "    </tr>\n",
              "  </tbody>\n",
              "</table>\n",
              "</div>"
            ],
            "text/plain": [
              "      RowNumber  CustomerId   Surname  CreditScore Geography  Gender  Age  \\\n",
              "9902       9903    15797665  Docherty          730    France  Female   27   \n",
              "\n",
              "      Tenure  Balance  NumOfProducts  HasCrCard  IsActiveMember  \\\n",
              "9902       7      0.0              2          1               0   \n",
              "\n",
              "      EstimatedSalary  Exited  \n",
              "9902        144099.48       0  "
            ]
          },
          "execution_count": 4,
          "metadata": {},
          "output_type": "execute_result"
        }
      ],
      "source": [
        "data.sample()"
      ]
    },
    {
      "cell_type": "code",
      "execution_count": null,
      "metadata": {
        "id": "DMloOXJVavBP",
        "outputId": "a59d64e4-1368-4e2f-adc6-b547e7210776"
      },
      "outputs": [
        {
          "name": "stdout",
          "output_type": "stream",
          "text": [
            "<class 'pandas.core.frame.DataFrame'>\n",
            "RangeIndex: 10000 entries, 0 to 9999\n",
            "Data columns (total 14 columns):\n",
            "RowNumber          10000 non-null int64\n",
            "CustomerId         10000 non-null int64\n",
            "Surname            10000 non-null object\n",
            "CreditScore        10000 non-null int64\n",
            "Geography          10000 non-null object\n",
            "Gender             10000 non-null object\n",
            "Age                10000 non-null int64\n",
            "Tenure             10000 non-null int64\n",
            "Balance            10000 non-null float64\n",
            "NumOfProducts      10000 non-null int64\n",
            "HasCrCard          10000 non-null int64\n",
            "IsActiveMember     10000 non-null int64\n",
            "EstimatedSalary    10000 non-null float64\n",
            "Exited             10000 non-null int64\n",
            "dtypes: float64(2), int64(9), object(3)\n",
            "memory usage: 1.1+ MB\n"
          ]
        }
      ],
      "source": [
        "data.info()"
      ]
    },
    {
      "cell_type": "markdown",
      "metadata": {
        "id": "dHUvBbDoavBQ"
      },
      "source": [
        "Проверены значения методом value_count - не встречено ничего необычного. Лучше избавиться от трех лишних столбцов - номер записи присутствует в индексе, а фамилия и айди помешают кодированию."
      ]
    },
    {
      "cell_type": "code",
      "execution_count": null,
      "metadata": {
        "id": "qZKt2ltpavBX"
      },
      "outputs": [],
      "source": [
        "data = data.drop(['RowNumber', 'Surname', 'CustomerId'], axis = 1)"
      ]
    },
    {
      "cell_type": "markdown",
      "metadata": {
        "id": "SiMuYZVaavBY"
      },
      "source": [
        "Преобразуем категориальные признаки в численные"
      ]
    },
    {
      "cell_type": "code",
      "execution_count": null,
      "metadata": {
        "id": "ib5fvDzoavBZ",
        "outputId": "b7715e20-56cf-42e6-97ba-839cd8f413cd"
      },
      "outputs": [
        {
          "data": {
            "text/html": [
              "<div>\n",
              "<style scoped>\n",
              "    .dataframe tbody tr th:only-of-type {\n",
              "        vertical-align: middle;\n",
              "    }\n",
              "\n",
              "    .dataframe tbody tr th {\n",
              "        vertical-align: top;\n",
              "    }\n",
              "\n",
              "    .dataframe thead th {\n",
              "        text-align: right;\n",
              "    }\n",
              "</style>\n",
              "<table border=\"1\" class=\"dataframe\">\n",
              "  <thead>\n",
              "    <tr style=\"text-align: right;\">\n",
              "      <th></th>\n",
              "      <th>CreditScore</th>\n",
              "      <th>Age</th>\n",
              "      <th>Tenure</th>\n",
              "      <th>Balance</th>\n",
              "      <th>NumOfProducts</th>\n",
              "      <th>HasCrCard</th>\n",
              "      <th>IsActiveMember</th>\n",
              "      <th>EstimatedSalary</th>\n",
              "      <th>Exited</th>\n",
              "      <th>Geography_Germany</th>\n",
              "      <th>Geography_Spain</th>\n",
              "      <th>Gender_Male</th>\n",
              "    </tr>\n",
              "  </thead>\n",
              "  <tbody>\n",
              "    <tr>\n",
              "      <td>2927</td>\n",
              "      <td>632</td>\n",
              "      <td>32</td>\n",
              "      <td>6</td>\n",
              "      <td>111589.33</td>\n",
              "      <td>1</td>\n",
              "      <td>1</td>\n",
              "      <td>1</td>\n",
              "      <td>170382.99</td>\n",
              "      <td>0</td>\n",
              "      <td>0</td>\n",
              "      <td>0</td>\n",
              "      <td>1</td>\n",
              "    </tr>\n",
              "  </tbody>\n",
              "</table>\n",
              "</div>"
            ],
            "text/plain": [
              "      CreditScore  Age  Tenure    Balance  NumOfProducts  HasCrCard  \\\n",
              "2927          632   32       6  111589.33              1          1   \n",
              "\n",
              "      IsActiveMember  EstimatedSalary  Exited  Geography_Germany  \\\n",
              "2927               1        170382.99       0                  0   \n",
              "\n",
              "      Geography_Spain  Gender_Male  \n",
              "2927                0            1  "
            ]
          },
          "execution_count": 11,
          "metadata": {},
          "output_type": "execute_result"
        }
      ],
      "source": [
        "data_ohe = pd.get_dummies(data, drop_first=True)\n",
        "data_ohe.sample()"
      ]
    },
    {
      "cell_type": "code",
      "execution_count": null,
      "metadata": {
        "id": "3tM7_9NPavBa",
        "outputId": "0c4719cb-1703-430b-ba6f-ca0cd2f83e55"
      },
      "outputs": [
        {
          "data": {
            "text/plain": [
              "0    7963\n",
              "1    2037\n",
              "Name: Exited, dtype: int64"
            ]
          },
          "execution_count": 12,
          "metadata": {},
          "output_type": "execute_result"
        }
      ],
      "source": [
        "data['Exited'].value_counts()"
      ]
    },
    {
      "cell_type": "markdown",
      "metadata": {
        "id": "sOqrPtYjavBb"
      },
      "source": [
        "Присутствует дисбаланс классов"
      ]
    },
    {
      "cell_type": "markdown",
      "metadata": {
        "id": "TI1c-VwqavBb"
      },
      "source": [
        "## Исследование задачи"
      ]
    },
    {
      "cell_type": "markdown",
      "metadata": {
        "id": "RwBYHn3kavBb"
      },
      "source": [
        "Поделим выборку на обучающую, валидационную, и тестовую, а также отмасштабируем количественные столбцы."
      ]
    },
    {
      "cell_type": "code",
      "execution_count": null,
      "metadata": {
        "scrolled": true,
        "id": "oyflnLWpavBb",
        "outputId": "84d76f46-d827-4390-c8d1-beea13c8de3f"
      },
      "outputs": [
        {
          "data": {
            "text/html": [
              "<div>\n",
              "<style scoped>\n",
              "    .dataframe tbody tr th:only-of-type {\n",
              "        vertical-align: middle;\n",
              "    }\n",
              "\n",
              "    .dataframe tbody tr th {\n",
              "        vertical-align: top;\n",
              "    }\n",
              "\n",
              "    .dataframe thead th {\n",
              "        text-align: right;\n",
              "    }\n",
              "</style>\n",
              "<table border=\"1\" class=\"dataframe\">\n",
              "  <thead>\n",
              "    <tr style=\"text-align: right;\">\n",
              "      <th></th>\n",
              "      <th>CreditScore</th>\n",
              "      <th>Age</th>\n",
              "      <th>Tenure</th>\n",
              "      <th>Balance</th>\n",
              "      <th>NumOfProducts</th>\n",
              "      <th>HasCrCard</th>\n",
              "      <th>IsActiveMember</th>\n",
              "      <th>EstimatedSalary</th>\n",
              "      <th>Geography_Germany</th>\n",
              "      <th>Geography_Spain</th>\n",
              "      <th>Gender_Male</th>\n",
              "    </tr>\n",
              "  </thead>\n",
              "  <tbody>\n",
              "    <tr>\n",
              "      <td>492</td>\n",
              "      <td>-0.134048</td>\n",
              "      <td>-0.078068</td>\n",
              "      <td>4</td>\n",
              "      <td>0.076163</td>\n",
              "      <td>2</td>\n",
              "      <td>0</td>\n",
              "      <td>1</td>\n",
              "      <td>0.331571</td>\n",
              "      <td>0</td>\n",
              "      <td>0</td>\n",
              "      <td>0</td>\n",
              "    </tr>\n",
              "    <tr>\n",
              "      <td>6655</td>\n",
              "      <td>-1.010798</td>\n",
              "      <td>0.494555</td>\n",
              "      <td>7</td>\n",
              "      <td>0.136391</td>\n",
              "      <td>1</td>\n",
              "      <td>1</td>\n",
              "      <td>1</td>\n",
              "      <td>-0.727858</td>\n",
              "      <td>0</td>\n",
              "      <td>0</td>\n",
              "      <td>1</td>\n",
              "    </tr>\n",
              "    <tr>\n",
              "      <td>4287</td>\n",
              "      <td>0.639554</td>\n",
              "      <td>1.353490</td>\n",
              "      <td>1</td>\n",
              "      <td>0.358435</td>\n",
              "      <td>1</td>\n",
              "      <td>1</td>\n",
              "      <td>1</td>\n",
              "      <td>-0.477006</td>\n",
              "      <td>1</td>\n",
              "      <td>0</td>\n",
              "      <td>1</td>\n",
              "    </tr>\n",
              "    <tr>\n",
              "      <td>42</td>\n",
              "      <td>-0.990168</td>\n",
              "      <td>2.116987</td>\n",
              "      <td>2</td>\n",
              "      <td>0.651725</td>\n",
              "      <td>1</td>\n",
              "      <td>1</td>\n",
              "      <td>1</td>\n",
              "      <td>-0.100232</td>\n",
              "      <td>0</td>\n",
              "      <td>0</td>\n",
              "      <td>0</td>\n",
              "    </tr>\n",
              "    <tr>\n",
              "      <td>8178</td>\n",
              "      <td>0.567351</td>\n",
              "      <td>0.685430</td>\n",
              "      <td>7</td>\n",
              "      <td>0.813110</td>\n",
              "      <td>2</td>\n",
              "      <td>1</td>\n",
              "      <td>1</td>\n",
              "      <td>0.801922</td>\n",
              "      <td>0</td>\n",
              "      <td>0</td>\n",
              "      <td>0</td>\n",
              "    </tr>\n",
              "  </tbody>\n",
              "</table>\n",
              "</div>"
            ],
            "text/plain": [
              "      CreditScore       Age  Tenure   Balance  NumOfProducts  HasCrCard  \\\n",
              "492     -0.134048 -0.078068       4  0.076163              2          0   \n",
              "6655    -1.010798  0.494555       7  0.136391              1          1   \n",
              "4287     0.639554  1.353490       1  0.358435              1          1   \n",
              "42      -0.990168  2.116987       2  0.651725              1          1   \n",
              "8178     0.567351  0.685430       7  0.813110              2          1   \n",
              "\n",
              "      IsActiveMember  EstimatedSalary  Geography_Germany  Geography_Spain  \\\n",
              "492                1         0.331571                  0                0   \n",
              "6655               1        -0.727858                  0                0   \n",
              "4287               1        -0.477006                  1                0   \n",
              "42                 1        -0.100232                  0                0   \n",
              "8178               1         0.801922                  0                0   \n",
              "\n",
              "      Gender_Male  \n",
              "492             0  \n",
              "6655            1  \n",
              "4287            1  \n",
              "42              0  \n",
              "8178            0  "
            ]
          },
          "execution_count": 13,
          "metadata": {},
          "output_type": "execute_result"
        }
      ],
      "source": [
        "target = data_ohe['Exited']\n",
        "features = data_ohe.drop('Exited', axis=1)\n",
        "f, features_test, t, target_test = train_test_split(features, target,test_size=0.2, random_state=12345)\n",
        "features_train, features_valid, target_train, target_valid = train_test_split(f,t,test_size = 0.25, random_state=12345)\n",
        "\n",
        "numeric = ['CreditScore', 'Age', 'Balance', 'EstimatedSalary']\n",
        "\n",
        "scaler = StandardScaler()\n",
        "scaler.fit(features_train[numeric])\n",
        "features_train[numeric] = scaler.transform(features_train[numeric])\n",
        "features_valid[numeric] = scaler.transform(features_valid[numeric]) \n",
        "features_test[numeric] = scaler.transform(features_test[numeric])\n",
        "pd.options.mode.chained_assignment = None\n",
        "features_train.head()"
      ]
    },
    {
      "cell_type": "code",
      "execution_count": null,
      "metadata": {
        "id": "nOLMl7BlavBd",
        "outputId": "59ac82be-3e52-4c6b-fefa-6ea658db9555"
      },
      "outputs": [
        {
          "data": {
            "text/plain": [
              "((2000, 11), (2000,), (6000, 11), (6000,), (2000, 11), (2000,))"
            ]
          },
          "execution_count": 14,
          "metadata": {},
          "output_type": "execute_result"
        }
      ],
      "source": [
        "features_test.shape, target_test.shape, features_train.shape, target_train.shape, features_valid.shape, target_valid.shape"
      ]
    },
    {
      "cell_type": "markdown",
      "metadata": {
        "id": "nMHG03tjavBe"
      },
      "source": [
        "Исследуем модели без балансировки классов"
      ]
    },
    {
      "cell_type": "markdown",
      "metadata": {
        "id": "94KT9VJ4avBe"
      },
      "source": [
        "### Небалансированная логистическая регрессия "
      ]
    },
    {
      "cell_type": "code",
      "execution_count": null,
      "metadata": {
        "id": "4auaXag6avBf",
        "outputId": "4c41c9a1-6998-41ac-a329-f7a64644d0e7"
      },
      "outputs": [
        {
          "data": {
            "text/plain": [
              "0.30393996247654786"
            ]
          },
          "execution_count": 15,
          "metadata": {},
          "output_type": "execute_result"
        }
      ],
      "source": [
        "lr = LogisticRegression()\n",
        "lr.fit(features_train, target_train)\n",
        "predicted_valid = lr.predict(features_valid)\n",
        "f1_score(target_valid, predicted_valid)\n"
      ]
    },
    {
      "cell_type": "code",
      "execution_count": null,
      "metadata": {
        "id": "32Q-Xmi_avBf",
        "outputId": "cefcc6d9-2f2c-4618-dc0c-5f1236714e41"
      },
      "outputs": [
        {
          "data": {
            "text/plain": [
              "0.7702628596497642"
            ]
          },
          "execution_count": 16,
          "metadata": {},
          "output_type": "execute_result"
        }
      ],
      "source": [
        "probabilities_valid = lr.predict_proba(features_valid)\n",
        "probabilities_one_valid = probabilities_valid[:, 1]\n",
        "\n",
        "roc_auc_score(target_valid, probabilities_one_valid)"
      ]
    },
    {
      "cell_type": "markdown",
      "metadata": {
        "id": "wtnHMTqzavBh"
      },
      "source": [
        "### Небалансированное дерево решений"
      ]
    },
    {
      "cell_type": "code",
      "execution_count": null,
      "metadata": {
        "id": "t5MYZv1wavBh",
        "outputId": "5970ff84-2101-4bef-c31d-d0a48655127f"
      },
      "outputs": [
        {
          "data": {
            "text/plain": [
              "0.49196538936959205"
            ]
          },
          "execution_count": 17,
          "metadata": {},
          "output_type": "execute_result"
        }
      ],
      "source": [
        "tree = DecisionTreeClassifier(random_state=12345)\n",
        "tree.fit(features_train, target_train)\n",
        "predicted_valid = tree.predict(features_valid)\n",
        "f1_score(target_valid, predicted_valid)"
      ]
    },
    {
      "cell_type": "code",
      "execution_count": null,
      "metadata": {
        "id": "oamaQQETavBi",
        "outputId": "fe34e958-f98f-47a3-a3d8-7ab04025fe02"
      },
      "outputs": [
        {
          "data": {
            "text/plain": [
              "0.6864210109693079"
            ]
          },
          "execution_count": 18,
          "metadata": {},
          "output_type": "execute_result"
        }
      ],
      "source": [
        "probabilities_valid = tree.predict_proba(features_valid)\n",
        "probabilities_one_valid = probabilities_valid[:, 1]\n",
        "\n",
        "roc_auc_score(target_valid, probabilities_one_valid)"
      ]
    },
    {
      "cell_type": "markdown",
      "metadata": {
        "id": "C5IVgg1OavBi"
      },
      "source": [
        "### Небалансированный случайный лес"
      ]
    },
    {
      "cell_type": "code",
      "execution_count": null,
      "metadata": {
        "id": "55CVeH7UavBj",
        "outputId": "bf665f27-7d72-42d0-90d4-4adbc14d557c"
      },
      "outputs": [
        {
          "data": {
            "text/plain": [
              "0.536115569823435"
            ]
          },
          "execution_count": 19,
          "metadata": {},
          "output_type": "execute_result"
        }
      ],
      "source": [
        "forest = RandomForestClassifier(random_state=12345) \n",
        "forest.fit(features_train, target_train)\n",
        "predicted_valid = forest.predict(features_valid)\n",
        "f1_score(target_valid, predicted_valid)"
      ]
    },
    {
      "cell_type": "code",
      "execution_count": null,
      "metadata": {
        "id": "DtTNwkavavBj",
        "outputId": "d95731c4-863e-4f5b-8b03-7aa829b0b710"
      },
      "outputs": [
        {
          "data": {
            "text/plain": [
              "0.8121206003951558"
            ]
          },
          "execution_count": 20,
          "metadata": {},
          "output_type": "execute_result"
        }
      ],
      "source": [
        "probabilities_valid = forest.predict_proba(features_valid)\n",
        "probabilities_one_valid = probabilities_valid[:, 1]\n",
        "\n",
        "roc_auc_score(target_valid, probabilities_one_valid)"
      ]
    },
    {
      "cell_type": "markdown",
      "metadata": {
        "id": "SUYDcgAPavBk"
      },
      "source": [
        "### Небалансированный Catboost"
      ]
    },
    {
      "cell_type": "code",
      "execution_count": null,
      "metadata": {
        "id": "PuP_0p4yavBk",
        "outputId": "e495fc06-0585-4d53-872b-0b7268d519c6"
      },
      "outputs": [
        {
          "name": "stdout",
          "output_type": "stream",
          "text": [
            "Learning rate set to 0.027819\n",
            "0:\tlearn: 0.6709508\ttotal: 61ms\tremaining: 1m\n",
            "100:\tlearn: 0.3253707\ttotal: 4.06s\tremaining: 36.1s\n",
            "200:\tlearn: 0.3023578\ttotal: 8.01s\tremaining: 31.8s\n",
            "300:\tlearn: 0.2866451\ttotal: 12s\tremaining: 27.8s\n",
            "400:\tlearn: 0.2728660\ttotal: 16s\tremaining: 23.9s\n",
            "500:\tlearn: 0.2603140\ttotal: 19.8s\tremaining: 19.7s\n",
            "600:\tlearn: 0.2486116\ttotal: 23.6s\tremaining: 15.7s\n",
            "700:\tlearn: 0.2369179\ttotal: 27.6s\tremaining: 11.8s\n",
            "800:\tlearn: 0.2265452\ttotal: 31.2s\tremaining: 7.76s\n",
            "900:\tlearn: 0.2162706\ttotal: 34.7s\tremaining: 3.81s\n",
            "999:\tlearn: 0.2073510\ttotal: 38.6s\tremaining: 0us\n"
          ]
        },
        {
          "data": {
            "text/plain": [
              "0.5996860282574569"
            ]
          },
          "execution_count": 21,
          "metadata": {},
          "output_type": "execute_result"
        }
      ],
      "source": [
        "cat = CatBoostClassifier(verbose=100, random_state=12345)\n",
        "cat.fit(features_train, target_train)\n",
        "predicted_valid = cat.predict(features_valid)\n",
        "f1_score(target_valid, predicted_valid)"
      ]
    },
    {
      "cell_type": "code",
      "execution_count": null,
      "metadata": {
        "id": "IU6E726WavBl",
        "outputId": "67dde2d0-d773-48ce-fea6-86d14b161eb7"
      },
      "outputs": [
        {
          "data": {
            "text/plain": [
              "0.8611741180921257"
            ]
          },
          "execution_count": 22,
          "metadata": {},
          "output_type": "execute_result"
        }
      ],
      "source": [
        "probabilities_valid = cat.predict_proba(features_valid)\n",
        "probabilities_one_valid = probabilities_valid[:, 1]\n",
        "\n",
        "roc_auc_score(target_valid, probabilities_one_valid)"
      ]
    },
    {
      "cell_type": "markdown",
      "metadata": {
        "id": "FaMVjlh9avBl"
      },
      "source": [
        "Без балансировки классов метрики F1 и roc_auc низкие, модели будут часто ошибаться. Лучше всех себя показывает Catboost, даже без балансировки классов показатель F1 = 0.6 и roc_auc = 0.86"
      ]
    },
    {
      "cell_type": "markdown",
      "metadata": {
        "id": "WzYsn1BnavBm"
      },
      "source": [
        "## Борьба с дисбалансом"
      ]
    },
    {
      "cell_type": "markdown",
      "metadata": {
        "id": "fdbUYD1EavBm"
      },
      "source": [
        "### Балансированная логистическая регрессия"
      ]
    },
    {
      "cell_type": "markdown",
      "metadata": {
        "id": "4_ZSq-3xavBm"
      },
      "source": [
        "Воспользуемся даунсэмплингом, чтобы уменьшить количество значений отрицательного класса"
      ]
    },
    {
      "cell_type": "code",
      "execution_count": null,
      "metadata": {
        "id": "MqsN3q_FavBn"
      },
      "outputs": [],
      "source": [
        "def downsample(features, target, fraction):\n",
        "    features_zeros = features[target == 0]\n",
        "    features_ones = features[target == 1]\n",
        "    target_zeros = target[target == 0]\n",
        "    target_ones = target[target == 1]\n",
        "\n",
        "    features_downsampled = pd.concat(\n",
        "        [features_zeros.sample(frac=fraction, random_state=12345)] + [features_ones])\n",
        "    target_downsampled = pd.concat(\n",
        "        [target_zeros.sample(frac=fraction, random_state=12345)] + [target_ones])\n",
        "    \n",
        "    features_downsampled, target_downsampled = shuffle(\n",
        "        features_downsampled, target_downsampled, random_state=12345)\n",
        "    \n",
        "    return features_downsampled, target_downsampled\n",
        "\n",
        "features_downsampled, target_downsampled = downsample(features_train, target_train, 0.26)\n"
      ]
    },
    {
      "cell_type": "code",
      "execution_count": null,
      "metadata": {
        "id": "W47HhJnHavBn",
        "outputId": "df5c2586-bef4-413a-c042-4d40285ba4d3"
      },
      "outputs": [
        {
          "data": {
            "text/plain": [
              "0    1243\n",
              "1    1219\n",
              "Name: Exited, dtype: int64"
            ]
          },
          "execution_count": 24,
          "metadata": {},
          "output_type": "execute_result"
        }
      ],
      "source": [
        "target_downsampled.value_counts()"
      ]
    },
    {
      "cell_type": "code",
      "execution_count": null,
      "metadata": {
        "id": "o_gjx1OuavBo",
        "outputId": "fb1e0e5b-5005-45cd-8a28-e46a7d0a6ae9"
      },
      "outputs": [
        {
          "data": {
            "text/plain": [
              "0.4802158273381295"
            ]
          },
          "execution_count": 25,
          "metadata": {},
          "output_type": "execute_result"
        }
      ],
      "source": [
        "lr = LogisticRegression(random_state=12345, solver='liblinear')\n",
        "lr.fit(features_downsampled, target_downsampled)\n",
        "predicted_valid = lr.predict(features_valid)\n",
        "f1_score(target_valid, predicted_valid)"
      ]
    },
    {
      "cell_type": "code",
      "execution_count": null,
      "metadata": {
        "id": "FtpSLQJsavBo",
        "outputId": "3270d66a-0f02-48a8-c0f4-3817d1a8e4a4"
      },
      "outputs": [
        {
          "data": {
            "text/plain": [
              "0.7735102579957049"
            ]
          },
          "execution_count": 26,
          "metadata": {},
          "output_type": "execute_result"
        }
      ],
      "source": [
        "probabilities_valid = lr.predict_proba(features_valid)\n",
        "probabilities_one_valid = probabilities_valid[:, 1]\n",
        "\n",
        "roc_auc_score(target_valid, probabilities_one_valid)"
      ]
    },
    {
      "cell_type": "markdown",
      "metadata": {
        "id": "F0K733TOavBp"
      },
      "source": [
        "Почти так же получится, если добавить параметр class_weight"
      ]
    },
    {
      "cell_type": "code",
      "execution_count": null,
      "metadata": {
        "id": "dkxyA0PFavBp",
        "outputId": "1c2f6450-0a41-4ae3-cd54-c44cceed7b52"
      },
      "outputs": [
        {
          "name": "stdout",
          "output_type": "stream",
          "text": [
            "CPU times: user 41.4 ms, sys: 18.2 ms, total: 59.7 ms\n",
            "Wall time: 31.9 ms\n"
          ]
        },
        {
          "data": {
            "text/plain": [
              "0.47763864042933807"
            ]
          },
          "execution_count": 27,
          "metadata": {},
          "output_type": "execute_result"
        }
      ],
      "source": [
        "%%time\n",
        "lr = LogisticRegression(random_state=12345, solver='liblinear',class_weight='balanced')\n",
        "lr.fit(features_train, target_train)\n",
        "predicted_valid = lr.predict(features_valid)\n",
        "f1_score(target_valid, predicted_valid)"
      ]
    },
    {
      "cell_type": "code",
      "execution_count": null,
      "metadata": {
        "id": "6H_UhHCMavBp",
        "outputId": "eb114cc6-8a66-4755-98bb-ea1671839b2f"
      },
      "outputs": [
        {
          "data": {
            "text/plain": [
              "0.7724866042831324"
            ]
          },
          "execution_count": 28,
          "metadata": {},
          "output_type": "execute_result"
        }
      ],
      "source": [
        "probabilities_valid = lr.predict_proba(features_valid)\n",
        "probabilities_one_valid = probabilities_valid[:, 1]\n",
        "\n",
        "roc_auc_score(target_valid, probabilities_one_valid)"
      ]
    },
    {
      "cell_type": "markdown",
      "metadata": {
        "id": "z04T_LwCavBp"
      },
      "source": [
        "F1 и roc_auc улучшились с балансировкой классов"
      ]
    },
    {
      "cell_type": "markdown",
      "metadata": {
        "id": "mQ9NqlEdavBq"
      },
      "source": [
        "### Балансированное дерево решений"
      ]
    },
    {
      "cell_type": "code",
      "execution_count": null,
      "metadata": {
        "id": "Y3jQLAwCavBq",
        "outputId": "afba3dec-8105-4aae-d109-5e08741e188d"
      },
      "outputs": [
        {
          "data": {
            "text/plain": [
              "0.45524296675191817"
            ]
          },
          "execution_count": 29,
          "metadata": {},
          "output_type": "execute_result"
        }
      ],
      "source": [
        "tree = DecisionTreeClassifier(random_state=12345, class_weight='balanced')\n",
        "tree.fit(features_train, target_train)\n",
        "predicted_valid = tree.predict(features_valid)\n",
        "f1_score(target_valid, predicted_valid)"
      ]
    },
    {
      "cell_type": "markdown",
      "metadata": {
        "id": "52bOa2-AavBq"
      },
      "source": [
        "Подберем лучшие параметры"
      ]
    },
    {
      "cell_type": "code",
      "execution_count": null,
      "metadata": {
        "id": "82y0bbKWavBq",
        "outputId": "382caef6-569f-4631-a933-959b08a0bfc5"
      },
      "outputs": [
        {
          "name": "stdout",
          "output_type": "stream",
          "text": [
            "CPU times: user 230 ms, sys: 0 ns, total: 230 ms\n",
            "Wall time: 240 ms\n"
          ]
        },
        {
          "data": {
            "text/plain": [
              "('F1 лучшей модели дерева решений:', 0.5587044534412956)"
            ]
          },
          "execution_count": 30,
          "metadata": {},
          "output_type": "execute_result"
        }
      ],
      "source": [
        "%%time\n",
        "best_result = 0\n",
        "for depth in range(1, 11):\n",
        "    tree = DecisionTreeClassifier(random_state=12345, max_depth=depth, class_weight='balanced') \n",
        "    tree.fit(features_train, target_train) \n",
        "    predictions_valid = tree.predict(features_valid) \n",
        "    f1 = f1_score(target_valid, predictions_valid)\n",
        "    if f1 > best_result:\n",
        "        max_depth=depth\n",
        "        best_result = f1\n",
        "        \n",
        "\"F1 лучшей модели дерева решений:\", best_result  "
      ]
    },
    {
      "cell_type": "code",
      "execution_count": null,
      "metadata": {
        "id": "aCpwQ8GkavBx",
        "outputId": "155bb5e4-8a4a-4c75-bea4-01f6602f9ae5"
      },
      "outputs": [
        {
          "data": {
            "text/plain": [
              "('max_depth лучшей модели дерева решений:', 6)"
            ]
          },
          "execution_count": 31,
          "metadata": {},
          "output_type": "execute_result"
        }
      ],
      "source": [
        "\"max_depth лучшей модели дерева решений:\", max_depth"
      ]
    },
    {
      "cell_type": "code",
      "execution_count": null,
      "metadata": {
        "id": "xCD9xwUbavBx",
        "outputId": "a59fb7f3-64fd-4e04-f80a-e457916db842"
      },
      "outputs": [
        {
          "data": {
            "text/plain": [
              "0.7072477543994062"
            ]
          },
          "execution_count": 32,
          "metadata": {},
          "output_type": "execute_result"
        }
      ],
      "source": [
        "probabilities_valid = tree.predict_proba(features_valid)\n",
        "probabilities_one_valid = probabilities_valid[:, 1]\n",
        "\n",
        "roc_auc_score(target_valid, probabilities_one_valid)"
      ]
    },
    {
      "cell_type": "markdown",
      "metadata": {
        "id": "LAR8QtUgavBy"
      },
      "source": [
        "F1 и roc_auc улучшились с балансировкой классов"
      ]
    },
    {
      "cell_type": "markdown",
      "metadata": {
        "id": "1s0M3EcLavBy"
      },
      "source": [
        "### Балансированный случайный лес"
      ]
    },
    {
      "cell_type": "code",
      "execution_count": null,
      "metadata": {
        "id": "izRwAWpfavBy",
        "outputId": "af8f4f5b-7d13-4f5f-c90b-0ebe8acfde31"
      },
      "outputs": [
        {
          "name": "stdout",
          "output_type": "stream",
          "text": [
            "CPU times: user 1min 8s, sys: 0 ns, total: 1min 8s\n",
            "Wall time: 1min 8s\n"
          ]
        }
      ],
      "source": [
        "%%time\n",
        "best_result = 0\n",
        "best_est = 0\n",
        "best_depth = 0\n",
        "for est in range(10, 151, 10):\n",
        "    for depth in range (1, 11):\n",
        "        forest = RandomForestClassifier(random_state=12345, n_estimators=est, max_depth=depth, class_weight='balanced') \n",
        "        forest.fit(features_train, target_train)\n",
        "        predicted_valid = forest.predict(features_valid)\n",
        "        f1 = f1_score(target_valid, predicted_valid)\n",
        "        if f1 > best_result:\n",
        "            best_result = f1\n",
        "            best_est = est\n",
        "            best_depth = depth"
      ]
    },
    {
      "cell_type": "code",
      "execution_count": null,
      "metadata": {
        "id": "rWiZheRWavBz",
        "outputId": "d99c2e7c-70e5-4b3d-e004-e0fc95b0bcba"
      },
      "outputs": [
        {
          "data": {
            "text/plain": [
              "('F1 модели случайного леса на валидационной выборке:', 0.5933503836317136)"
            ]
          },
          "execution_count": 34,
          "metadata": {},
          "output_type": "execute_result"
        }
      ],
      "source": [
        "\"F1 модели случайного леса на валидационной выборке:\", f1"
      ]
    },
    {
      "cell_type": "code",
      "execution_count": null,
      "metadata": {
        "id": "Niu3ZU4HavBz",
        "outputId": "e8977a09-f8b0-46d1-95c3-9c3e3b4161e2"
      },
      "outputs": [
        {
          "data": {
            "text/plain": [
              "('n_estimators лучшей модели случайного леса:', 150)"
            ]
          },
          "execution_count": 35,
          "metadata": {},
          "output_type": "execute_result"
        }
      ],
      "source": [
        "\"n_estimators лучшей модели случайного леса:\", est"
      ]
    },
    {
      "cell_type": "code",
      "execution_count": null,
      "metadata": {
        "id": "PkRv5u7savBz",
        "outputId": "976c6176-8e8f-48c6-f935-ce0a1e873809"
      },
      "outputs": [
        {
          "data": {
            "text/plain": [
              "('n_estimators лучшей модели случайного леса:', 10)"
            ]
          },
          "execution_count": 36,
          "metadata": {},
          "output_type": "execute_result"
        }
      ],
      "source": [
        "\"n_estimators лучшей модели случайного леса:\", depth"
      ]
    },
    {
      "cell_type": "code",
      "execution_count": null,
      "metadata": {
        "id": "CJ5dkP7wavBz",
        "outputId": "637161bb-40d5-4bc5-89c6-fd7e48ff375e"
      },
      "outputs": [
        {
          "data": {
            "text/plain": [
              "0.8553977864283229"
            ]
          },
          "execution_count": 37,
          "metadata": {},
          "output_type": "execute_result"
        }
      ],
      "source": [
        "probabilities_valid = forest.predict_proba(features_valid)\n",
        "probabilities_one_valid = probabilities_valid[:, 1]\n",
        "\n",
        "roc_auc_score(target_valid, probabilities_one_valid)"
      ]
    },
    {
      "cell_type": "markdown",
      "metadata": {
        "id": "5bo1gyCBavB0"
      },
      "source": [
        "F1 и roc_auc улучшились с балансировкой классов"
      ]
    },
    {
      "cell_type": "markdown",
      "metadata": {
        "id": "d9m1UQhVavB0"
      },
      "source": [
        "### Балансированный Catboost"
      ]
    },
    {
      "cell_type": "code",
      "execution_count": null,
      "metadata": {
        "id": "NgaK8e-havB0",
        "outputId": "631efeea-05e5-4325-d555-6e39bb2ac53d"
      },
      "outputs": [
        {
          "name": "stdout",
          "output_type": "stream",
          "text": [
            "Learning rate set to 0.027819\n",
            "0:\tlearn: 0.6819530\ttotal: 7.72ms\tremaining: 7.71s\n",
            "100:\tlearn: 0.4416243\ttotal: 3.78s\tremaining: 33.6s\n",
            "200:\tlearn: 0.4093333\ttotal: 7.53s\tremaining: 29.9s\n",
            "300:\tlearn: 0.3859749\ttotal: 11.2s\tremaining: 26.1s\n",
            "400:\tlearn: 0.3626281\ttotal: 15.4s\tremaining: 23s\n",
            "500:\tlearn: 0.3414469\ttotal: 19.4s\tremaining: 19.3s\n",
            "600:\tlearn: 0.3219225\ttotal: 22.8s\tremaining: 15.2s\n",
            "700:\tlearn: 0.3044429\ttotal: 26.5s\tremaining: 11.3s\n",
            "800:\tlearn: 0.2884665\ttotal: 30.4s\tremaining: 7.56s\n",
            "900:\tlearn: 0.2731750\ttotal: 34.3s\tremaining: 3.77s\n",
            "999:\tlearn: 0.2593286\ttotal: 38.3s\tremaining: 0us\n",
            "CPU times: user 34.2 s, sys: 4.71 s, total: 38.9 s\n",
            "Wall time: 40.6 s\n"
          ]
        },
        {
          "data": {
            "text/plain": [
              "0.602436323366556"
            ]
          },
          "execution_count": 38,
          "metadata": {},
          "output_type": "execute_result"
        }
      ],
      "source": [
        "%%time\n",
        "cat = CatBoostClassifier(random_state=12345, verbose=100, class_weights=[1, 4])\n",
        "cat.fit(features_train, target_train)\n",
        "predicted_valid = cat.predict(features_valid)\n",
        "f1_score(target_valid, predicted_valid)"
      ]
    },
    {
      "cell_type": "code",
      "execution_count": null,
      "metadata": {
        "id": "rAT1fl8ravB0",
        "outputId": "3c3d101b-25c1-4818-cea8-7e9f1b57ac28"
      },
      "outputs": [
        {
          "data": {
            "text/plain": [
              "0.8617399887779577"
            ]
          },
          "execution_count": 39,
          "metadata": {},
          "output_type": "execute_result"
        }
      ],
      "source": [
        "probabilities_valid = cat.predict_proba(features_valid)\n",
        "probabilities_one_valid = probabilities_valid[:, 1]\n",
        "\n",
        "roc_auc_score(target_valid, probabilities_one_valid)"
      ]
    },
    {
      "cell_type": "markdown",
      "metadata": {
        "id": "GmWa9IjvavB1"
      },
      "source": [
        "Нужного уровня F1 смогли добиться только две модели из 4-х - случайный лес и catboost. Catboost показывает результат чуть лучше; а так же по времени перебор и учеба леса занимает больше"
      ]
    },
    {
      "cell_type": "markdown",
      "metadata": {
        "id": "iIgzHzR_avB1"
      },
      "source": [
        "## Тестирование модели"
      ]
    },
    {
      "cell_type": "code",
      "execution_count": null,
      "metadata": {
        "id": "00aqOHtlavB1",
        "outputId": "5f1312bd-4a21-40a0-8d16-ad6355aef2b6"
      },
      "outputs": [
        {
          "data": {
            "text/plain": [
              "0.632016632016632"
            ]
          },
          "execution_count": 40,
          "metadata": {},
          "output_type": "execute_result"
        }
      ],
      "source": [
        "cat_test = cat.predict(features_test)\n",
        "f1_score(target_test, cat_test)"
      ]
    },
    {
      "cell_type": "code",
      "execution_count": null,
      "metadata": {
        "id": "guZ9trhRavB2",
        "outputId": "753a0957-09e1-4011-ce10-eecf9a78770a"
      },
      "outputs": [
        {
          "data": {
            "text/plain": [
              "0.8659537184127348"
            ]
          },
          "execution_count": 41,
          "metadata": {},
          "output_type": "execute_result"
        }
      ],
      "source": [
        "probabilities_test = cat.predict_proba(features_test)\n",
        "probabilities_one_test = probabilities_test[:, 1]\n",
        "\n",
        "roc_auc_score(target_test, probabilities_one_test)"
      ]
    },
    {
      "cell_type": "code",
      "execution_count": null,
      "metadata": {
        "id": "UtBOrFVdavB2",
        "outputId": "e491b163-5d9b-4b5f-f867-340321317025"
      },
      "outputs": [
        {
          "data": {
            "image/png": "[encoded data removed]",
            "text/plain": [
              "<Figure size 432x288 with 1 Axes>"
            ]
          },
          "metadata": {
            "needs_background": "light"
          },
          "output_type": "display_data"
        }
      ],
      "source": [
        "fpr, tpr, thresholds = roc_curve(target_test, probabilities_one_test )\n",
        "plt.figure()\n",
        "plt.plot(fpr, tpr)\n",
        "plt.xlim([0.0, 1.0])\n",
        "plt.ylim([0.0, 1.0])\n",
        "plt.xlabel('False Positive Rate')\n",
        "plt.ylabel('True Positive Rate')\n",
        "plt.title('ROC curve')\n",
        "plt.show() "
      ]
    },
    {
      "cell_type": "code",
      "execution_count": null,
      "metadata": {
        "id": "6suBZAzfavB2",
        "outputId": "ad5b3271-7009-4708-e7ff-e6d7c8346203"
      },
      "outputs": [
        {
          "data": {
            "text/plain": [
              "0.6352941176470588"
            ]
          },
          "execution_count": 43,
          "metadata": {},
          "output_type": "execute_result"
        }
      ],
      "source": [
        "forest_test = forest.predict(features_test)\n",
        "f1_score(target_test, forest_test)"
      ]
    },
    {
      "cell_type": "code",
      "execution_count": null,
      "metadata": {
        "id": "eRXbJ5DYavB3",
        "outputId": "0e7ac458-e602-41a5-b385-3f15d5d31dae"
      },
      "outputs": [
        {
          "data": {
            "text/plain": [
              "0.8676792655928274"
            ]
          },
          "execution_count": 44,
          "metadata": {},
          "output_type": "execute_result"
        }
      ],
      "source": [
        "probabilities_test = forest.predict_proba(features_test)\n",
        "probabilities_one_test = probabilities_test[:, 1]\n",
        "\n",
        "roc_auc_score(target_test, probabilities_one_test)"
      ]
    },
    {
      "cell_type": "code",
      "execution_count": null,
      "metadata": {
        "id": "Np_rrD-savB3",
        "outputId": "c9237960-a7fb-4748-e768-4f09a50a7ee7"
      },
      "outputs": [
        {
          "data": {
            "image/png": "[encoded data removed]",
            "text/plain": [
              "<Figure size 432x288 with 1 Axes>"
            ]
          },
          "metadata": {
            "needs_background": "light"
          },
          "output_type": "display_data"
        }
      ],
      "source": [
        "fpr, tpr, thresholds = roc_curve(target_test, probabilities_one_test)\n",
        "plt.figure()\n",
        "plt.plot(fpr, tpr)\n",
        "plt.xlim([0.0, 1.0])\n",
        "plt.ylim([0.0, 1.0])\n",
        "plt.xlabel('False Positive Rate')\n",
        "plt.ylabel('True Positive Rate')\n",
        "plt.title('ROC curve')\n",
        "plt.show() "
      ]
    },
    {
      "cell_type": "markdown",
      "metadata": {
        "id": "70nqGaFpavB4"
      },
      "source": [
        "Проверка на вменяемость - сравним с константной моделью"
      ]
    },
    {
      "cell_type": "code",
      "execution_count": null,
      "metadata": {
        "id": "xKW4Rd50avB4",
        "outputId": "9ae8da0e-ce76-48f6-ac5e-a98065ac79e8"
      },
      "outputs": [
        {
          "data": {
            "text/plain": [
              "0.3384564260197724"
            ]
          },
          "execution_count": 46,
          "metadata": {},
          "output_type": "execute_result"
        }
      ],
      "source": [
        "target_const = target.replace(target, 1)\n",
        "f1_score(target, target_const)"
      ]
    },
    {
      "cell_type": "markdown",
      "metadata": {
        "id": "-bwwRhnSavB5"
      },
      "source": [
        "По предоставленным данным, 20 процентов клиентов покидают банк. Чтобы построить модель, которая предскажет - покинет клиент банк или нет, данные разделили на обучающие (60%), валидационные (20%) и тестовые (20%). Протестировали несколько моделей и на основании параметра f1 и roc_auc выбрали лучшую. Лучше всего себя показали модели слуйчайного леса и catboost. Эти модели показали f1, равное 0,63 - они преодолели заданный порог в f1 = 0,59. Обе модели прошли проверку на адекватность. "
      ]
    }
  ],
  "metadata": {
    "ExecuteTimeLog": [
      {
        "duration": 1441,
        "start_time": "2021-11-14T11:52:04.225Z"
      },
      {
        "duration": 2735,
        "start_time": "2021-11-14T11:52:06.580Z"
      },
      {
        "duration": -111,
        "start_time": "2021-11-14T11:52:09.430Z"
      },
      {
        "duration": 4706,
        "start_time": "2021-11-14T11:52:15.459Z"
      },
      {
        "duration": -48,
        "start_time": "2021-11-14T11:52:20.216Z"
      },
      {
        "duration": 4708,
        "start_time": "2021-11-14T11:54:14.622Z"
      },
      {
        "duration": 569,
        "start_time": "2021-11-14T11:58:14.212Z"
      },
      {
        "duration": 634,
        "start_time": "2021-11-14T11:58:27.978Z"
      },
      {
        "duration": 1843,
        "start_time": "2021-11-14T12:00:26.223Z"
      },
      {
        "duration": 5653,
        "start_time": "2021-11-14T12:02:23.642Z"
      },
      {
        "duration": 4552,
        "start_time": "2021-11-14T12:03:04.271Z"
      },
      {
        "duration": 1933,
        "start_time": "2021-11-14T12:04:15.939Z"
      },
      {
        "duration": 7426,
        "start_time": "2021-11-14T12:07:06.158Z"
      },
      {
        "duration": 257800,
        "start_time": "2021-11-14T12:10:39.041Z"
      },
      {
        "duration": -196,
        "start_time": "2021-11-14T12:14:57.040Z"
      },
      {
        "duration": 21450,
        "start_time": "2021-11-14T12:15:13.416Z"
      },
      {
        "duration": 14053,
        "start_time": "2021-11-14T12:17:25.192Z"
      },
      {
        "duration": 3869,
        "start_time": "2021-11-14T12:18:36.448Z"
      },
      {
        "duration": 284,
        "start_time": "2021-11-14T12:20:51.798Z"
      },
      {
        "duration": 279,
        "start_time": "2021-11-14T12:21:21.682Z"
      },
      {
        "duration": 293,
        "start_time": "2021-11-14T12:22:25.404Z"
      },
      {
        "duration": 305,
        "start_time": "2021-11-14T12:27:02.123Z"
      },
      {
        "duration": 342,
        "start_time": "2021-11-14T12:30:12.818Z"
      },
      {
        "duration": 253,
        "start_time": "2021-11-14T12:31:12.590Z"
      },
      {
        "duration": 280,
        "start_time": "2021-11-14T12:31:23.850Z"
      },
      {
        "duration": 275,
        "start_time": "2021-11-14T12:31:38.201Z"
      },
      {
        "duration": 414,
        "start_time": "2021-11-14T12:31:50.556Z"
      },
      {
        "duration": 370,
        "start_time": "2021-11-14T12:32:44.532Z"
      },
      {
        "duration": 283,
        "start_time": "2021-11-14T12:32:52.116Z"
      },
      {
        "duration": 1726,
        "start_time": "2021-11-14T12:34:09.891Z"
      },
      {
        "duration": 1975,
        "start_time": "2021-11-14T12:34:20.177Z"
      },
      {
        "duration": 1838,
        "start_time": "2021-11-14T12:34:37.398Z"
      },
      {
        "duration": 2276,
        "start_time": "2021-11-14T12:35:00.781Z"
      },
      {
        "duration": 3779,
        "start_time": "2021-11-14T12:38:15.258Z"
      },
      {
        "duration": 1922,
        "start_time": "2021-11-14T12:38:44.619Z"
      },
      {
        "duration": 1858,
        "start_time": "2021-11-14T12:38:57.717Z"
      },
      {
        "duration": 1801,
        "start_time": "2021-11-14T12:39:05.719Z"
      },
      {
        "duration": 4632,
        "start_time": "2021-11-14T12:40:39.258Z"
      },
      {
        "duration": 252,
        "start_time": "2021-11-14T12:41:11.183Z"
      },
      {
        "duration": 172,
        "start_time": "2021-11-14T12:41:36.050Z"
      },
      {
        "duration": 28,
        "start_time": "2021-11-14T12:41:42.881Z"
      },
      {
        "duration": 17,
        "start_time": "2021-11-14T12:42:23.663Z"
      },
      {
        "duration": 12,
        "start_time": "2021-11-14T12:43:06.782Z"
      },
      {
        "duration": 13,
        "start_time": "2021-11-14T12:50:13.778Z"
      },
      {
        "duration": 261,
        "start_time": "2021-11-14T12:51:09.511Z"
      },
      {
        "duration": 280,
        "start_time": "2021-11-14T12:51:21.219Z"
      },
      {
        "duration": 283,
        "start_time": "2021-11-14T12:51:29.823Z"
      },
      {
        "duration": 259,
        "start_time": "2021-11-14T12:51:57.947Z"
      },
      {
        "duration": 9,
        "start_time": "2021-11-14T12:52:04.908Z"
      },
      {
        "duration": 9,
        "start_time": "2021-11-14T12:52:16.156Z"
      },
      {
        "duration": 8,
        "start_time": "2021-11-14T12:52:36.702Z"
      },
      {
        "duration": 9,
        "start_time": "2021-11-14T12:52:46.910Z"
      },
      {
        "duration": 9,
        "start_time": "2021-11-14T12:53:01.464Z"
      },
      {
        "duration": 9,
        "start_time": "2021-11-14T12:53:19.971Z"
      },
      {
        "duration": 310,
        "start_time": "2021-11-14T12:54:39.766Z"
      },
      {
        "duration": 338,
        "start_time": "2021-11-14T12:54:53.598Z"
      },
      {
        "duration": 311,
        "start_time": "2021-11-14T12:55:38.495Z"
      },
      {
        "duration": 289,
        "start_time": "2021-11-14T12:57:36.844Z"
      },
      {
        "duration": 302,
        "start_time": "2021-11-14T12:58:39.210Z"
      },
      {
        "duration": 6,
        "start_time": "2021-11-14T13:00:01.480Z"
      },
      {
        "duration": 23,
        "start_time": "2021-11-14T13:00:02.821Z"
      },
      {
        "duration": 32,
        "start_time": "2021-11-14T13:00:14.736Z"
      },
      {
        "duration": 293,
        "start_time": "2021-11-14T13:01:07.112Z"
      },
      {
        "duration": 171,
        "start_time": "2021-11-14T13:01:18.419Z"
      },
      {
        "duration": 17,
        "start_time": "2021-11-14T13:01:19.375Z"
      },
      {
        "duration": 13,
        "start_time": "2021-11-14T13:01:20.135Z"
      },
      {
        "duration": 6,
        "start_time": "2021-11-14T13:01:21.773Z"
      },
      {
        "duration": 21,
        "start_time": "2021-11-14T13:01:22.956Z"
      },
      {
        "duration": 21,
        "start_time": "2021-11-14T13:01:40.367Z"
      },
      {
        "duration": 6422,
        "start_time": "2021-11-14T13:03:48.776Z"
      },
      {
        "duration": 10,
        "start_time": "2021-11-14T13:05:27.948Z"
      },
      {
        "duration": 33,
        "start_time": "2021-11-14T13:06:49.129Z"
      },
      {
        "duration": 1207,
        "start_time": "2021-11-14T13:08:50.699Z"
      },
      {
        "duration": 4,
        "start_time": "2021-11-14T13:09:15.596Z"
      },
      {
        "duration": 3199,
        "start_time": "2021-11-14T13:09:20.911Z"
      },
      {
        "duration": 178,
        "start_time": "2021-11-14T13:09:28.837Z"
      },
      {
        "duration": 20,
        "start_time": "2021-11-14T13:09:30.281Z"
      },
      {
        "duration": 18,
        "start_time": "2021-11-14T13:09:32.476Z"
      },
      {
        "duration": 8,
        "start_time": "2021-11-14T13:09:33.936Z"
      },
      {
        "duration": 35,
        "start_time": "2021-11-14T13:09:34.430Z"
      },
      {
        "duration": 8,
        "start_time": "2021-11-14T13:09:35.208Z"
      },
      {
        "duration": 49,
        "start_time": "2021-11-14T13:09:37.229Z"
      },
      {
        "duration": 72,
        "start_time": "2021-11-14T13:10:15.633Z"
      },
      {
        "duration": 10,
        "start_time": "2021-11-14T15:56:14.476Z"
      },
      {
        "duration": 361,
        "start_time": "2021-11-14T15:56:20.531Z"
      },
      {
        "duration": 34,
        "start_time": "2021-11-14T15:56:21.243Z"
      },
      {
        "duration": 8,
        "start_time": "2021-11-14T15:56:23.778Z"
      },
      {
        "duration": 75,
        "start_time": "2021-11-14T15:56:27.868Z"
      },
      {
        "duration": 45,
        "start_time": "2021-11-14T15:56:42.811Z"
      },
      {
        "duration": 88,
        "start_time": "2021-11-14T15:57:21.843Z"
      },
      {
        "duration": 43,
        "start_time": "2021-11-14T15:57:26.515Z"
      },
      {
        "duration": 5113,
        "start_time": "2021-11-14T16:07:48.510Z"
      },
      {
        "duration": 3235,
        "start_time": "2021-11-14T16:07:53.626Z"
      },
      {
        "duration": 176,
        "start_time": "2021-11-14T16:07:56.864Z"
      },
      {
        "duration": 27,
        "start_time": "2021-11-14T16:07:57.043Z"
      },
      {
        "duration": 13,
        "start_time": "2021-11-14T16:07:57.073Z"
      },
      {
        "duration": 6,
        "start_time": "2021-11-14T16:07:57.088Z"
      },
      {
        "duration": 36,
        "start_time": "2021-11-14T16:07:57.097Z"
      },
      {
        "duration": 8,
        "start_time": "2021-11-14T16:07:57.169Z"
      },
      {
        "duration": 48,
        "start_time": "2021-11-14T16:07:57.180Z"
      },
      {
        "duration": 3182,
        "start_time": "2021-11-14T16:09:35.729Z"
      },
      {
        "duration": 499,
        "start_time": "2021-11-14T16:10:08.832Z"
      },
      {
        "duration": 381,
        "start_time": "2021-11-14T16:11:25.962Z"
      },
      {
        "duration": 53,
        "start_time": "2021-11-14T16:14:30.728Z"
      },
      {
        "duration": 401,
        "start_time": "2021-11-14T16:14:35.262Z"
      },
      {
        "duration": 20,
        "start_time": "2021-11-14T16:15:37.509Z"
      },
      {
        "duration": 421,
        "start_time": "2021-11-14T16:15:50.701Z"
      },
      {
        "duration": 68,
        "start_time": "2021-11-14T16:15:58.903Z"
      },
      {
        "duration": 20,
        "start_time": "2021-11-14T16:16:22.933Z"
      },
      {
        "duration": 17,
        "start_time": "2021-11-14T16:16:27.461Z"
      },
      {
        "duration": 256,
        "start_time": "2021-11-14T16:17:39.569Z"
      },
      {
        "duration": 10,
        "start_time": "2021-11-14T16:17:46.862Z"
      },
      {
        "duration": 272,
        "start_time": "2021-11-14T16:19:22.928Z"
      },
      {
        "duration": 4640,
        "start_time": "2021-11-14T16:19:46.075Z"
      },
      {
        "duration": 397,
        "start_time": "2021-11-14T16:20:12.512Z"
      },
      {
        "duration": 49198,
        "start_time": "2021-11-14T16:20:47.209Z"
      },
      {
        "duration": 6,
        "start_time": "2021-11-14T16:21:48.168Z"
      },
      {
        "duration": 49060,
        "start_time": "2021-11-14T16:21:57.312Z"
      },
      {
        "duration": 246,
        "start_time": "2021-11-14T16:23:58.758Z"
      },
      {
        "duration": 4110,
        "start_time": "2021-11-14T16:24:04.189Z"
      },
      {
        "duration": 51,
        "start_time": "2021-11-14T16:24:12.028Z"
      },
      {
        "duration": 4337,
        "start_time": "2021-11-14T16:24:45.532Z"
      },
      {
        "duration": 73,
        "start_time": "2021-11-14T16:25:13.678Z"
      },
      {
        "duration": 85,
        "start_time": "2021-11-14T16:26:53.470Z"
      },
      {
        "duration": 57,
        "start_time": "2021-11-14T16:26:57.018Z"
      },
      {
        "duration": 61,
        "start_time": "2021-11-14T16:26:57.882Z"
      },
      {
        "duration": 67,
        "start_time": "2021-11-14T16:27:07.035Z"
      },
      {
        "duration": 9,
        "start_time": "2021-11-14T16:27:24.833Z"
      },
      {
        "duration": 98,
        "start_time": "2021-11-14T16:27:35.573Z"
      },
      {
        "duration": 11,
        "start_time": "2021-11-14T16:27:36.368Z"
      },
      {
        "duration": 62,
        "start_time": "2021-11-14T16:27:38.371Z"
      },
      {
        "duration": 9,
        "start_time": "2021-11-14T16:27:39.394Z"
      },
      {
        "duration": 32,
        "start_time": "2021-11-14T16:28:20.036Z"
      },
      {
        "duration": 12,
        "start_time": "2021-11-14T16:28:20.858Z"
      },
      {
        "duration": 71,
        "start_time": "2021-11-14T16:28:37.619Z"
      },
      {
        "duration": 10,
        "start_time": "2021-11-14T16:28:39.550Z"
      },
      {
        "duration": 119,
        "start_time": "2021-11-14T16:29:28.411Z"
      },
      {
        "duration": 1799,
        "start_time": "2021-11-14T16:31:18.465Z"
      },
      {
        "duration": 27060,
        "start_time": "2021-11-14T16:31:37.862Z"
      },
      {
        "duration": 1968,
        "start_time": "2021-11-14T16:32:37.528Z"
      },
      {
        "duration": 16713,
        "start_time": "2021-11-14T16:33:44.424Z"
      },
      {
        "duration": 85,
        "start_time": "2021-11-14T16:35:47.199Z"
      },
      {
        "duration": 138,
        "start_time": "2021-11-14T16:35:53.136Z"
      },
      {
        "duration": 117,
        "start_time": "2021-11-14T16:36:03.457Z"
      },
      {
        "duration": 11,
        "start_time": "2021-11-14T16:36:06.497Z"
      },
      {
        "duration": 64,
        "start_time": "2021-11-14T16:37:48.401Z"
      },
      {
        "duration": 13849,
        "start_time": "2021-11-14T16:41:18.580Z"
      },
      {
        "duration": 276,
        "start_time": "2021-11-14T16:43:45.638Z"
      },
      {
        "duration": 31664,
        "start_time": "2021-11-14T16:43:47.878Z"
      },
      {
        "duration": 6,
        "start_time": "2021-11-14T16:44:23.185Z"
      },
      {
        "duration": 6,
        "start_time": "2021-11-14T16:44:24.824Z"
      },
      {
        "duration": 7,
        "start_time": "2021-11-14T16:44:25.988Z"
      },
      {
        "duration": 83598,
        "start_time": "2021-11-14T16:44:44.829Z"
      },
      {
        "duration": 7,
        "start_time": "2021-11-14T16:46:13.020Z"
      },
      {
        "duration": 6,
        "start_time": "2021-11-14T16:46:16.317Z"
      },
      {
        "duration": 6,
        "start_time": "2021-11-14T16:46:18.092Z"
      },
      {
        "duration": 59,
        "start_time": "2021-11-14T16:48:05.671Z"
      },
      {
        "duration": 77559,
        "start_time": "2021-11-14T16:48:35.327Z"
      },
      {
        "duration": 5,
        "start_time": "2021-11-14T16:50:04.055Z"
      },
      {
        "duration": 6,
        "start_time": "2021-11-14T16:50:06.453Z"
      },
      {
        "duration": 6,
        "start_time": "2021-11-14T16:50:07.367Z"
      },
      {
        "duration": 14415,
        "start_time": "2021-11-14T16:50:08.488Z"
      },
      {
        "duration": 1327,
        "start_time": "2021-11-14T16:50:51.344Z"
      },
      {
        "duration": 14274,
        "start_time": "2021-11-14T16:50:54.589Z"
      },
      {
        "duration": 1327,
        "start_time": "2021-11-14T16:51:36.445Z"
      },
      {
        "duration": 9553,
        "start_time": "2021-11-14T16:52:10.323Z"
      },
      {
        "duration": 78627,
        "start_time": "2021-11-14T16:52:42.274Z"
      },
      {
        "duration": 5,
        "start_time": "2021-11-14T16:54:00.904Z"
      },
      {
        "duration": 50,
        "start_time": "2021-11-14T16:54:00.912Z"
      },
      {
        "duration": 14,
        "start_time": "2021-11-14T16:54:00.964Z"
      },
      {
        "duration": 14024,
        "start_time": "2021-11-14T16:54:00.981Z"
      },
      {
        "duration": 1937,
        "start_time": "2021-11-14T16:54:15.008Z"
      },
      {
        "duration": 11,
        "start_time": "2021-11-14T16:54:46.356Z"
      },
      {
        "duration": 76647,
        "start_time": "2021-11-14T16:55:00.059Z"
      },
      {
        "duration": 5,
        "start_time": "2021-11-14T16:56:35.915Z"
      },
      {
        "duration": 5,
        "start_time": "2021-11-14T16:56:36.723Z"
      },
      {
        "duration": 6,
        "start_time": "2021-11-14T16:56:37.368Z"
      },
      {
        "duration": 14777,
        "start_time": "2021-11-14T16:56:37.967Z"
      },
      {
        "duration": 8726,
        "start_time": "2021-11-14T16:57:07.182Z"
      },
      {
        "duration": 7354,
        "start_time": "2021-11-14T16:57:29.571Z"
      },
      {
        "duration": 4383,
        "start_time": "2021-11-14T16:58:43.446Z"
      },
      {
        "duration": 10,
        "start_time": "2021-11-14T17:02:02.445Z"
      },
      {
        "duration": 6,
        "start_time": "2021-11-14T17:02:42.142Z"
      },
      {
        "duration": 22,
        "start_time": "2021-11-14T17:05:43.044Z"
      },
      {
        "duration": 82,
        "start_time": "2021-11-14T17:06:10.191Z"
      },
      {
        "duration": 8,
        "start_time": "2021-11-14T17:06:16.085Z"
      },
      {
        "duration": 63,
        "start_time": "2021-11-14T17:08:06.859Z"
      },
      {
        "duration": 24,
        "start_time": "2021-11-14T17:08:21.063Z"
      },
      {
        "duration": 63,
        "start_time": "2021-11-14T17:08:30.558Z"
      },
      {
        "duration": 23,
        "start_time": "2021-11-14T17:08:31.706Z"
      },
      {
        "duration": 201,
        "start_time": "2021-11-14T17:08:48.470Z"
      },
      {
        "duration": 26,
        "start_time": "2021-11-14T17:08:50.827Z"
      },
      {
        "duration": 61,
        "start_time": "2021-11-14T17:08:52.208Z"
      },
      {
        "duration": 275,
        "start_time": "2021-11-14T17:10:10.129Z"
      },
      {
        "duration": 699,
        "start_time": "2021-11-14T17:10:24.119Z"
      },
      {
        "duration": 276,
        "start_time": "2021-11-14T17:10:31.436Z"
      },
      {
        "duration": 286,
        "start_time": "2021-11-14T17:10:44.073Z"
      },
      {
        "duration": 35,
        "start_time": "2021-11-14T20:04:12.138Z"
      },
      {
        "duration": 8,
        "start_time": "2021-11-14T20:04:57.855Z"
      },
      {
        "duration": 56,
        "start_time": "2021-11-14T20:05:23.982Z"
      },
      {
        "duration": 7,
        "start_time": "2021-11-14T20:05:30.874Z"
      },
      {
        "duration": 66,
        "start_time": "2021-11-14T20:05:44.301Z"
      },
      {
        "duration": 9,
        "start_time": "2021-11-14T20:05:46.234Z"
      },
      {
        "duration": 62,
        "start_time": "2021-11-14T20:08:44.724Z"
      },
      {
        "duration": 8,
        "start_time": "2021-11-14T20:08:46.593Z"
      },
      {
        "duration": 128,
        "start_time": "2021-11-14T20:10:43.448Z"
      },
      {
        "duration": 129,
        "start_time": "2021-11-14T20:10:58.531Z"
      },
      {
        "duration": 8,
        "start_time": "2021-11-14T20:10:59.669Z"
      },
      {
        "duration": 18126,
        "start_time": "2021-11-14T20:11:33.825Z"
      },
      {
        "duration": 11129,
        "start_time": "2021-11-14T20:11:53.238Z"
      },
      {
        "duration": 60,
        "start_time": "2021-11-14T20:14:55.991Z"
      },
      {
        "duration": 8,
        "start_time": "2021-11-14T20:14:56.455Z"
      },
      {
        "duration": 130,
        "start_time": "2021-11-14T20:15:05.751Z"
      },
      {
        "duration": 9,
        "start_time": "2021-11-14T20:15:06.377Z"
      },
      {
        "duration": 21,
        "start_time": "2021-11-14T20:18:45.462Z"
      },
      {
        "duration": 20,
        "start_time": "2021-11-14T20:19:07.312Z"
      },
      {
        "duration": 7,
        "start_time": "2021-11-14T20:19:10.713Z"
      },
      {
        "duration": 82,
        "start_time": "2021-11-14T20:19:15.788Z"
      },
      {
        "duration": 77,
        "start_time": "2021-11-14T20:19:32.392Z"
      },
      {
        "duration": 8,
        "start_time": "2021-11-14T20:20:02.299Z"
      },
      {
        "duration": 59,
        "start_time": "2021-11-14T20:20:02.472Z"
      },
      {
        "duration": 19,
        "start_time": "2021-11-14T20:20:31.476Z"
      },
      {
        "duration": 8,
        "start_time": "2021-11-14T20:20:32.264Z"
      },
      {
        "duration": 76,
        "start_time": "2021-11-14T20:21:17.094Z"
      },
      {
        "duration": 8,
        "start_time": "2021-11-14T20:21:18.028Z"
      },
      {
        "duration": 99,
        "start_time": "2021-11-14T20:22:35.572Z"
      },
      {
        "duration": 8,
        "start_time": "2021-11-14T20:22:38.347Z"
      },
      {
        "duration": 88,
        "start_time": "2021-11-14T20:22:39.576Z"
      },
      {
        "duration": 58,
        "start_time": "2021-11-14T20:23:28.441Z"
      },
      {
        "duration": 59,
        "start_time": "2021-11-14T20:23:55.264Z"
      },
      {
        "duration": 58,
        "start_time": "2021-11-14T20:24:00.226Z"
      },
      {
        "duration": 326,
        "start_time": "2021-11-14T20:27:13.397Z"
      },
      {
        "duration": 5,
        "start_time": "2021-11-14T20:27:15.414Z"
      },
      {
        "duration": 6,
        "start_time": "2021-11-14T20:27:37.727Z"
      },
      {
        "duration": 5,
        "start_time": "2021-11-14T20:28:05.798Z"
      },
      {
        "duration": 304,
        "start_time": "2021-11-14T20:28:32.199Z"
      },
      {
        "duration": 5,
        "start_time": "2021-11-14T20:28:33.418Z"
      },
      {
        "duration": 6,
        "start_time": "2021-11-14T20:28:34.190Z"
      },
      {
        "duration": 81209,
        "start_time": "2021-11-14T20:32:57.658Z"
      },
      {
        "duration": 6,
        "start_time": "2021-11-14T20:34:36.474Z"
      },
      {
        "duration": 6,
        "start_time": "2021-11-14T20:34:39.234Z"
      },
      {
        "duration": 5,
        "start_time": "2021-11-14T20:34:40.135Z"
      },
      {
        "duration": 8,
        "start_time": "2021-11-14T20:34:41.655Z"
      },
      {
        "duration": 78170,
        "start_time": "2021-11-14T20:35:09.498Z"
      },
      {
        "duration": 5,
        "start_time": "2021-11-14T20:36:54.826Z"
      },
      {
        "duration": 6,
        "start_time": "2021-11-14T20:36:56.874Z"
      },
      {
        "duration": 5,
        "start_time": "2021-11-14T20:36:57.706Z"
      },
      {
        "duration": 5,
        "start_time": "2021-11-14T20:36:58.334Z"
      },
      {
        "duration": 92,
        "start_time": "2021-11-14T20:37:54.419Z"
      },
      {
        "duration": 7910,
        "start_time": "2021-11-14T20:38:17.610Z"
      },
      {
        "duration": 9317,
        "start_time": "2021-11-14T20:39:08.876Z"
      },
      {
        "duration": 7492,
        "start_time": "2021-11-14T20:39:30.433Z"
      },
      {
        "duration": 12,
        "start_time": "2021-11-14T20:45:38.208Z"
      },
      {
        "duration": 16,
        "start_time": "2021-11-14T20:46:01.534Z"
      },
      {
        "duration": 8,
        "start_time": "2021-11-14T20:46:36.797Z"
      },
      {
        "duration": 5098,
        "start_time": "2021-11-14T20:46:55.842Z"
      },
      {
        "duration": 13,
        "start_time": "2021-11-14T20:47:03.287Z"
      },
      {
        "duration": 8,
        "start_time": "2021-11-14T20:47:04.349Z"
      },
      {
        "duration": 56,
        "start_time": "2021-11-14T20:47:54.732Z"
      },
      {
        "duration": 60,
        "start_time": "2021-11-14T20:48:18.142Z"
      },
      {
        "duration": 291,
        "start_time": "2021-11-14T20:49:40.871Z"
      },
      {
        "duration": 293,
        "start_time": "2021-11-14T20:50:03.555Z"
      },
      {
        "duration": 12,
        "start_time": "2021-11-14T20:50:13.586Z"
      },
      {
        "duration": 11,
        "start_time": "2021-11-14T20:51:15.802Z"
      },
      {
        "duration": 17,
        "start_time": "2021-11-14T20:51:35.204Z"
      },
      {
        "duration": 308,
        "start_time": "2021-11-14T20:52:00.870Z"
      },
      {
        "duration": 12,
        "start_time": "2021-11-14T20:52:11.132Z"
      },
      {
        "duration": 14,
        "start_time": "2021-11-14T20:52:22.039Z"
      },
      {
        "duration": 4680,
        "start_time": "2021-11-14T20:52:46.743Z"
      },
      {
        "duration": 3210,
        "start_time": "2021-11-14T20:52:51.426Z"
      },
      {
        "duration": 230,
        "start_time": "2021-11-14T20:52:54.640Z"
      },
      {
        "duration": 29,
        "start_time": "2021-11-14T20:52:54.873Z"
      },
      {
        "duration": 13,
        "start_time": "2021-11-14T20:52:54.905Z"
      },
      {
        "duration": 5,
        "start_time": "2021-11-14T20:52:54.921Z"
      },
      {
        "duration": 65,
        "start_time": "2021-11-14T20:52:54.928Z"
      },
      {
        "duration": 7,
        "start_time": "2021-11-14T20:52:54.997Z"
      },
      {
        "duration": 77,
        "start_time": "2021-11-14T20:52:55.007Z"
      },
      {
        "duration": 6,
        "start_time": "2021-11-14T20:52:55.086Z"
      },
      {
        "duration": 75,
        "start_time": "2021-11-14T20:52:55.094Z"
      },
      {
        "duration": 99,
        "start_time": "2021-11-14T20:52:55.173Z"
      },
      {
        "duration": 59,
        "start_time": "2021-11-14T20:52:55.274Z"
      },
      {
        "duration": 33,
        "start_time": "2021-11-14T20:52:55.336Z"
      },
      {
        "duration": 147,
        "start_time": "2021-11-14T20:52:55.371Z"
      },
      {
        "duration": 8,
        "start_time": "2021-11-14T20:52:55.521Z"
      },
      {
        "duration": 18087,
        "start_time": "2021-11-14T20:52:55.531Z"
      },
      {
        "duration": 10509,
        "start_time": "2021-11-14T20:53:13.620Z"
      },
      {
        "duration": 21,
        "start_time": "2021-11-14T20:53:24.131Z"
      },
      {
        "duration": 21,
        "start_time": "2021-11-14T20:53:24.154Z"
      },
      {
        "duration": 100,
        "start_time": "2021-11-14T20:53:24.273Z"
      },
      {
        "duration": 99,
        "start_time": "2021-11-14T20:53:24.376Z"
      },
      {
        "duration": 8,
        "start_time": "2021-11-14T20:53:24.568Z"
      },
      {
        "duration": 136,
        "start_time": "2021-11-14T20:53:24.579Z"
      },
      {
        "duration": 331,
        "start_time": "2021-11-14T20:53:24.718Z"
      },
      {
        "duration": 18,
        "start_time": "2021-11-14T20:53:25.052Z"
      },
      {
        "duration": 9,
        "start_time": "2021-11-14T20:53:25.073Z"
      },
      {
        "duration": 76861,
        "start_time": "2021-11-14T20:53:25.085Z"
      },
      {
        "duration": 18,
        "start_time": "2021-11-14T20:54:41.949Z"
      },
      {
        "duration": 7,
        "start_time": "2021-11-14T20:54:41.970Z"
      },
      {
        "duration": 12,
        "start_time": "2021-11-14T20:54:41.979Z"
      },
      {
        "duration": 8,
        "start_time": "2021-11-14T20:54:41.994Z"
      },
      {
        "duration": 8202,
        "start_time": "2021-11-14T20:54:42.005Z"
      },
      {
        "duration": 10482,
        "start_time": "2021-11-14T20:54:50.210Z"
      },
      {
        "duration": 5060,
        "start_time": "2021-11-14T20:55:00.694Z"
      },
      {
        "duration": 12,
        "start_time": "2021-11-14T20:55:05.756Z"
      },
      {
        "duration": 11,
        "start_time": "2021-11-14T20:55:05.770Z"
      },
      {
        "duration": 70,
        "start_time": "2021-11-14T20:55:05.783Z"
      },
      {
        "duration": 10,
        "start_time": "2021-11-14T20:56:31.376Z"
      },
      {
        "duration": 11,
        "start_time": "2021-11-14T20:56:42.266Z"
      },
      {
        "duration": 20,
        "start_time": "2021-11-14T20:57:19.378Z"
      },
      {
        "duration": 9,
        "start_time": "2021-11-14T20:57:20.657Z"
      },
      {
        "duration": 59,
        "start_time": "2021-11-14T20:57:21.231Z"
      },
      {
        "duration": 11,
        "start_time": "2021-11-14T20:57:21.665Z"
      },
      {
        "duration": 61,
        "start_time": "2021-11-14T20:57:28.856Z"
      },
      {
        "duration": 10,
        "start_time": "2021-11-14T20:57:29.488Z"
      },
      {
        "duration": 8793,
        "start_time": "2021-11-14T21:04:13.260Z"
      },
      {
        "duration": 12,
        "start_time": "2021-11-14T21:04:25.200Z"
      },
      {
        "duration": 7657,
        "start_time": "2021-11-14T21:04:36.411Z"
      },
      {
        "duration": 10,
        "start_time": "2021-11-14T21:04:46.655Z"
      },
      {
        "duration": 7774,
        "start_time": "2021-11-14T21:04:58.797Z"
      },
      {
        "duration": 11,
        "start_time": "2021-11-14T21:05:08.794Z"
      },
      {
        "duration": 8443,
        "start_time": "2021-11-14T21:08:52.782Z"
      },
      {
        "duration": 10929,
        "start_time": "2021-11-14T21:09:13.040Z"
      },
      {
        "duration": 12,
        "start_time": "2021-11-14T21:09:28.078Z"
      },
      {
        "duration": 6739,
        "start_time": "2021-11-14T21:10:35.791Z"
      },
      {
        "duration": 11,
        "start_time": "2021-11-14T21:10:45.892Z"
      },
      {
        "duration": 14358,
        "start_time": "2021-11-14T21:10:57.135Z"
      },
      {
        "duration": 11,
        "start_time": "2021-11-14T21:11:16.271Z"
      },
      {
        "duration": 1931,
        "start_time": "2021-11-14T21:11:23.615Z"
      },
      {
        "duration": 1888,
        "start_time": "2021-11-14T21:11:31.489Z"
      },
      {
        "duration": 351,
        "start_time": "2021-11-14T21:17:58.060Z"
      },
      {
        "duration": 5043,
        "start_time": "2021-11-14T21:18:11.522Z"
      },
      {
        "duration": 7619,
        "start_time": "2021-11-14T21:18:16.568Z"
      },
      {
        "duration": 145,
        "start_time": "2021-11-14T21:18:24.191Z"
      },
      {
        "duration": 31,
        "start_time": "2021-11-14T21:18:24.340Z"
      },
      {
        "duration": 68,
        "start_time": "2021-11-14T21:18:24.373Z"
      },
      {
        "duration": 12,
        "start_time": "2021-11-14T21:18:24.444Z"
      },
      {
        "duration": 39,
        "start_time": "2021-11-14T21:18:24.459Z"
      },
      {
        "duration": 9,
        "start_time": "2021-11-14T21:18:24.503Z"
      },
      {
        "duration": 86,
        "start_time": "2021-11-14T21:18:24.516Z"
      },
      {
        "duration": 6,
        "start_time": "2021-11-14T21:18:24.605Z"
      },
      {
        "duration": 70,
        "start_time": "2021-11-14T21:18:24.613Z"
      },
      {
        "duration": 98,
        "start_time": "2021-11-14T21:18:24.769Z"
      },
      {
        "duration": 59,
        "start_time": "2021-11-14T21:18:24.870Z"
      },
      {
        "duration": 8,
        "start_time": "2021-11-14T21:18:24.931Z"
      },
      {
        "duration": 151,
        "start_time": "2021-11-14T21:18:24.968Z"
      },
      {
        "duration": 8,
        "start_time": "2021-11-14T21:18:25.121Z"
      },
      {
        "duration": 29096,
        "start_time": "2021-11-14T21:18:25.132Z"
      },
      {
        "duration": 16263,
        "start_time": "2021-11-14T21:18:54.231Z"
      },
      {
        "duration": 22,
        "start_time": "2021-11-14T21:19:10.496Z"
      },
      {
        "duration": 50,
        "start_time": "2021-11-14T21:19:10.521Z"
      },
      {
        "duration": 95,
        "start_time": "2021-11-14T21:19:10.575Z"
      },
      {
        "duration": 196,
        "start_time": "2021-11-14T21:19:10.673Z"
      },
      {
        "duration": 7,
        "start_time": "2021-11-14T21:19:10.874Z"
      },
      {
        "duration": 98,
        "start_time": "2021-11-14T21:19:10.884Z"
      },
      {
        "duration": 320,
        "start_time": "2021-11-14T21:19:10.984Z"
      },
      {
        "duration": 5,
        "start_time": "2021-11-14T21:19:11.307Z"
      },
      {
        "duration": 7,
        "start_time": "2021-11-14T21:19:11.314Z"
      },
      {
        "duration": 77173,
        "start_time": "2021-11-14T21:19:11.324Z"
      },
      {
        "duration": 6,
        "start_time": "2021-11-14T21:20:28.499Z"
      },
      {
        "duration": 9,
        "start_time": "2021-11-14T21:20:28.507Z"
      },
      {
        "duration": 10,
        "start_time": "2021-11-14T21:20:28.519Z"
      },
      {
        "duration": 38,
        "start_time": "2021-11-14T21:20:28.533Z"
      },
      {
        "duration": 8325,
        "start_time": "2021-11-14T21:20:28.574Z"
      },
      {
        "duration": 9663,
        "start_time": "2021-11-14T21:20:36.902Z"
      },
      {
        "duration": 1478,
        "start_time": "2021-11-14T21:20:46.568Z"
      },
      {
        "duration": 15,
        "start_time": "2021-11-14T21:20:48.049Z"
      },
      {
        "duration": 68,
        "start_time": "2021-11-14T21:20:48.066Z"
      },
      {
        "duration": 9,
        "start_time": "2021-11-14T21:20:48.136Z"
      },
      {
        "duration": 1570,
        "start_time": "2021-11-14T21:21:13.999Z"
      },
      {
        "duration": 21,
        "start_time": "2021-11-14T21:21:22.503Z"
      },
      {
        "duration": 60,
        "start_time": "2021-11-14T21:21:23.257Z"
      },
      {
        "duration": 9,
        "start_time": "2021-11-14T21:21:24.587Z"
      },
      {
        "duration": 1715,
        "start_time": "2021-11-14T21:22:08.005Z"
      },
      {
        "duration": 15,
        "start_time": "2021-11-14T21:22:15.005Z"
      },
      {
        "duration": 28,
        "start_time": "2021-11-14T21:23:23.366Z"
      },
      {
        "duration": 21,
        "start_time": "2021-11-14T21:23:24.503Z"
      },
      {
        "duration": 20,
        "start_time": "2021-11-14T21:23:30.992Z"
      },
      {
        "duration": 47,
        "start_time": "2021-11-14T21:23:32.119Z"
      },
      {
        "duration": 8,
        "start_time": "2021-11-14T21:23:39.045Z"
      },
      {
        "duration": 104,
        "start_time": "2021-11-14T21:23:42.869Z"
      },
      {
        "duration": 9,
        "start_time": "2021-11-14T21:23:44.045Z"
      },
      {
        "duration": 19,
        "start_time": "2021-11-14T21:25:17.982Z"
      },
      {
        "duration": 24,
        "start_time": "2021-11-14T21:25:30.901Z"
      },
      {
        "duration": 23,
        "start_time": "2021-11-14T21:25:34.823Z"
      },
      {
        "duration": 156,
        "start_time": "2021-11-14T21:26:15.464Z"
      },
      {
        "duration": 16,
        "start_time": "2021-11-14T21:26:23.330Z"
      },
      {
        "duration": 77,
        "start_time": "2021-11-14T21:26:47.199Z"
      },
      {
        "duration": 57,
        "start_time": "2021-11-14T21:26:58.793Z"
      },
      {
        "duration": 474,
        "start_time": "2021-11-14T21:31:01.073Z"
      },
      {
        "duration": 3303,
        "start_time": "2021-11-14T21:31:05.692Z"
      },
      {
        "duration": 3341,
        "start_time": "2021-11-14T21:31:08.999Z"
      },
      {
        "duration": 258,
        "start_time": "2021-11-14T21:31:12.344Z"
      },
      {
        "duration": 19,
        "start_time": "2021-11-14T21:31:12.605Z"
      },
      {
        "duration": 12,
        "start_time": "2021-11-14T21:31:14.120Z"
      },
      {
        "duration": 6,
        "start_time": "2021-11-14T21:31:15.914Z"
      },
      {
        "duration": 35,
        "start_time": "2021-11-14T21:31:19.021Z"
      },
      {
        "duration": 9,
        "start_time": "2021-11-14T21:31:23.213Z"
      },
      {
        "duration": 55,
        "start_time": "2021-11-14T21:31:26.892Z"
      },
      {
        "duration": 6,
        "start_time": "2021-11-14T21:31:30.090Z"
      },
      {
        "duration": 82,
        "start_time": "2021-11-14T21:31:33.387Z"
      },
      {
        "duration": 8,
        "start_time": "2021-11-14T21:31:34.144Z"
      },
      {
        "duration": 51,
        "start_time": "2021-11-14T21:31:39.625Z"
      },
      {
        "duration": 8,
        "start_time": "2021-11-14T21:31:40.675Z"
      },
      {
        "duration": 116,
        "start_time": "2021-11-14T21:31:42.482Z"
      },
      {
        "duration": 8,
        "start_time": "2021-11-14T21:31:43.512Z"
      },
      {
        "duration": 20293,
        "start_time": "2021-11-14T21:31:46.784Z"
      },
      {
        "duration": 11046,
        "start_time": "2021-11-14T21:32:09.052Z"
      },
      {
        "duration": 18,
        "start_time": "2021-11-14T21:32:33.974Z"
      },
      {
        "duration": 89,
        "start_time": "2021-11-14T21:32:35.479Z"
      },
      {
        "duration": 8,
        "start_time": "2021-11-14T21:32:36.667Z"
      },
      {
        "duration": 136,
        "start_time": "2021-11-14T21:32:39.332Z"
      },
      {
        "duration": 9,
        "start_time": "2021-11-14T21:32:40.654Z"
      },
      {
        "duration": 49,
        "start_time": "2021-11-14T21:32:43.482Z"
      },
      {
        "duration": 312,
        "start_time": "2021-11-14T21:32:45.568Z"
      },
      {
        "duration": 5,
        "start_time": "2021-11-14T21:32:48.283Z"
      },
      {
        "duration": 6,
        "start_time": "2021-11-14T21:32:51.345Z"
      },
      {
        "duration": 74079,
        "start_time": "2021-11-14T21:32:54.226Z"
      },
      {
        "duration": 5,
        "start_time": "2021-11-14T21:35:33.248Z"
      },
      {
        "duration": 5,
        "start_time": "2021-11-14T21:35:34.170Z"
      },
      {
        "duration": 6,
        "start_time": "2021-11-14T21:35:34.884Z"
      },
      {
        "duration": 5,
        "start_time": "2021-11-14T21:35:35.507Z"
      },
      {
        "duration": 5214,
        "start_time": "2021-11-14T21:35:37.490Z"
      },
      {
        "duration": 7504,
        "start_time": "2021-11-14T21:35:44.525Z"
      },
      {
        "duration": 1542,
        "start_time": "2021-11-14T21:35:56.318Z"
      },
      {
        "duration": 16,
        "start_time": "2021-11-14T21:36:00.589Z"
      },
      {
        "duration": 59,
        "start_time": "2021-11-14T21:36:02.374Z"
      },
      {
        "duration": 9,
        "start_time": "2021-11-14T21:36:04.294Z"
      },
      {
        "duration": 48,
        "start_time": "2021-11-14T21:38:49.857Z"
      },
      {
        "duration": 6,
        "start_time": "2021-11-14T21:38:51.642Z"
      },
      {
        "duration": 111,
        "start_time": "2021-11-14T21:38:56.860Z"
      },
      {
        "duration": 8,
        "start_time": "2021-11-14T21:38:58.128Z"
      },
      {
        "duration": 51,
        "start_time": "2021-11-14T21:39:00.408Z"
      },
      {
        "duration": 8,
        "start_time": "2021-11-14T21:39:01.100Z"
      },
      {
        "duration": 122,
        "start_time": "2021-11-14T21:39:02.528Z"
      },
      {
        "duration": 11,
        "start_time": "2021-11-14T21:39:03.291Z"
      },
      {
        "duration": 21994,
        "start_time": "2021-11-14T21:39:04.477Z"
      },
      {
        "duration": 9498,
        "start_time": "2021-11-14T21:39:28.038Z"
      },
      {
        "duration": 18,
        "start_time": "2021-11-14T21:39:41.408Z"
      },
      {
        "duration": 24,
        "start_time": "2021-11-14T21:39:42.331Z"
      },
      {
        "duration": 8,
        "start_time": "2021-11-14T21:39:43.355Z"
      },
      {
        "duration": 72,
        "start_time": "2021-11-14T21:39:45.597Z"
      },
      {
        "duration": 8,
        "start_time": "2021-11-14T21:39:46.637Z"
      },
      {
        "duration": 51,
        "start_time": "2021-11-14T21:39:48.135Z"
      },
      {
        "duration": 261,
        "start_time": "2021-11-14T21:39:49.516Z"
      },
      {
        "duration": 6,
        "start_time": "2021-11-14T21:39:53.377Z"
      },
      {
        "duration": 5,
        "start_time": "2021-11-14T21:39:54.283Z"
      },
      {
        "duration": 70885,
        "start_time": "2021-11-14T21:39:55.728Z"
      },
      {
        "duration": 5,
        "start_time": "2021-11-14T21:41:33.194Z"
      },
      {
        "duration": 5,
        "start_time": "2021-11-14T21:41:37.243Z"
      },
      {
        "duration": 5,
        "start_time": "2021-11-14T21:41:38.325Z"
      },
      {
        "duration": 6,
        "start_time": "2021-11-14T21:41:39.824Z"
      },
      {
        "duration": 4075,
        "start_time": "2021-11-14T21:41:41.352Z"
      },
      {
        "duration": 5676,
        "start_time": "2021-11-14T21:41:46.983Z"
      },
      {
        "duration": 1428,
        "start_time": "2021-11-14T21:41:54.293Z"
      },
      {
        "duration": 24,
        "start_time": "2021-11-14T21:41:58.668Z"
      },
      {
        "duration": 61,
        "start_time": "2021-11-14T21:41:59.952Z"
      },
      {
        "duration": 10,
        "start_time": "2021-11-14T21:42:00.469Z"
      },
      {
        "duration": 53,
        "start_time": "2021-11-14T21:42:56.783Z"
      },
      {
        "duration": 1728,
        "start_time": "2021-11-14T21:43:02.927Z"
      },
      {
        "duration": 14,
        "start_time": "2021-11-14T21:43:05.688Z"
      },
      {
        "duration": 11,
        "start_time": "2021-11-14T21:43:20.976Z"
      },
      {
        "duration": 79,
        "start_time": "2021-11-14T21:43:58.733Z"
      },
      {
        "duration": 4587,
        "start_time": "2021-11-14T21:44:09.085Z"
      },
      {
        "duration": 3167,
        "start_time": "2021-11-14T21:44:13.676Z"
      },
      {
        "duration": 269,
        "start_time": "2021-11-14T21:44:16.846Z"
      },
      {
        "duration": 29,
        "start_time": "2021-11-14T21:44:17.118Z"
      },
      {
        "duration": 17,
        "start_time": "2021-11-14T21:44:17.149Z"
      },
      {
        "duration": 6,
        "start_time": "2021-11-14T21:44:17.169Z"
      },
      {
        "duration": 40,
        "start_time": "2021-11-14T21:44:17.177Z"
      },
      {
        "duration": 11,
        "start_time": "2021-11-14T21:44:17.219Z"
      },
      {
        "duration": 83,
        "start_time": "2021-11-14T21:44:17.236Z"
      },
      {
        "duration": 7,
        "start_time": "2021-11-14T21:44:17.323Z"
      },
      {
        "duration": 136,
        "start_time": "2021-11-14T21:44:17.333Z"
      },
      {
        "duration": 96,
        "start_time": "2021-11-14T21:44:17.473Z"
      },
      {
        "duration": 50,
        "start_time": "2021-11-14T21:44:17.572Z"
      },
      {
        "duration": 8,
        "start_time": "2021-11-14T21:44:17.624Z"
      },
      {
        "duration": 128,
        "start_time": "2021-11-14T21:44:17.666Z"
      },
      {
        "duration": 8,
        "start_time": "2021-11-14T21:44:17.796Z"
      },
      {
        "duration": 17215,
        "start_time": "2021-11-14T21:44:17.806Z"
      },
      {
        "duration": 8825,
        "start_time": "2021-11-14T21:44:35.023Z"
      },
      {
        "duration": 22,
        "start_time": "2021-11-14T21:44:43.851Z"
      },
      {
        "duration": 25,
        "start_time": "2021-11-14T21:44:43.875Z"
      },
      {
        "duration": 164,
        "start_time": "2021-11-14T21:44:43.903Z"
      },
      {
        "duration": 102,
        "start_time": "2021-11-14T21:44:44.069Z"
      },
      {
        "duration": 97,
        "start_time": "2021-11-14T21:44:44.174Z"
      },
      {
        "duration": 53,
        "start_time": "2021-11-14T21:44:44.274Z"
      },
      {
        "duration": 288,
        "start_time": "2021-11-14T21:44:44.329Z"
      },
      {
        "duration": 5,
        "start_time": "2021-11-14T21:44:44.619Z"
      },
      {
        "duration": 6,
        "start_time": "2021-11-14T21:44:44.629Z"
      },
      {
        "duration": 70429,
        "start_time": "2021-11-14T21:44:44.638Z"
      },
      {
        "duration": 5,
        "start_time": "2021-11-14T21:45:55.070Z"
      },
      {
        "duration": 17,
        "start_time": "2021-11-14T21:45:55.078Z"
      },
      {
        "duration": 10,
        "start_time": "2021-11-14T21:45:55.098Z"
      },
      {
        "duration": 13,
        "start_time": "2021-11-14T21:45:55.111Z"
      },
      {
        "duration": 3701,
        "start_time": "2021-11-14T21:45:55.126Z"
      },
      {
        "duration": 6252,
        "start_time": "2021-11-14T21:45:58.830Z"
      },
      {
        "duration": 1568,
        "start_time": "2021-11-14T21:46:05.085Z"
      },
      {
        "duration": 11,
        "start_time": "2021-11-14T21:46:06.656Z"
      },
      {
        "duration": 76,
        "start_time": "2021-11-14T21:46:06.669Z"
      },
      {
        "duration": 21,
        "start_time": "2021-11-14T21:46:06.747Z"
      },
      {
        "duration": 83,
        "start_time": "2021-11-14T21:47:20.851Z"
      },
      {
        "duration": 25234,
        "start_time": "2021-11-14T21:47:26.856Z"
      },
      {
        "duration": 8,
        "start_time": "2021-11-14T21:48:11.881Z"
      },
      {
        "duration": 14,
        "start_time": "2021-11-14T21:53:00.889Z"
      },
      {
        "duration": 12,
        "start_time": "2021-11-14T21:53:12.880Z"
      },
      {
        "duration": 73,
        "start_time": "2021-11-14T21:53:14.047Z"
      },
      {
        "duration": 1569,
        "start_time": "2021-11-14T21:53:38.362Z"
      },
      {
        "duration": 1194,
        "start_time": "2021-11-14T21:54:23.073Z"
      },
      {
        "duration": 1207,
        "start_time": "2021-11-14T21:54:42.316Z"
      },
      {
        "duration": 1247,
        "start_time": "2021-11-14T21:54:55.587Z"
      },
      {
        "duration": 26218,
        "start_time": "2021-11-14T21:55:05.856Z"
      },
      {
        "duration": 8,
        "start_time": "2021-11-14T21:56:17.993Z"
      },
      {
        "duration": 26,
        "start_time": "2021-11-14T21:56:21.506Z"
      },
      {
        "duration": 75,
        "start_time": "2021-11-14T21:56:22.908Z"
      },
      {
        "duration": 7,
        "start_time": "2021-11-14T21:57:26.397Z"
      },
      {
        "duration": 183,
        "start_time": "2021-11-14T21:57:31.483Z"
      },
      {
        "duration": 8,
        "start_time": "2021-11-14T21:57:33.266Z"
      },
      {
        "duration": 4913,
        "start_time": "2021-11-14T21:57:50.566Z"
      },
      {
        "duration": 3213,
        "start_time": "2021-11-14T21:57:55.482Z"
      },
      {
        "duration": 242,
        "start_time": "2021-11-14T21:57:58.699Z"
      },
      {
        "duration": 28,
        "start_time": "2021-11-14T21:57:58.944Z"
      },
      {
        "duration": 13,
        "start_time": "2021-11-14T21:57:58.974Z"
      },
      {
        "duration": 6,
        "start_time": "2021-11-14T21:57:58.990Z"
      },
      {
        "duration": 36,
        "start_time": "2021-11-14T21:57:58.998Z"
      },
      {
        "duration": 9,
        "start_time": "2021-11-14T21:57:59.066Z"
      },
      {
        "duration": 52,
        "start_time": "2021-11-14T21:57:59.078Z"
      },
      {
        "duration": 34,
        "start_time": "2021-11-14T21:57:59.133Z"
      },
      {
        "duration": 100,
        "start_time": "2021-11-14T21:57:59.169Z"
      },
      {
        "duration": 97,
        "start_time": "2021-11-14T21:57:59.272Z"
      },
      {
        "duration": 48,
        "start_time": "2021-11-14T21:57:59.372Z"
      },
      {
        "duration": 7,
        "start_time": "2021-11-14T21:57:59.422Z"
      },
      {
        "duration": 150,
        "start_time": "2021-11-14T21:57:59.431Z"
      },
      {
        "duration": 8,
        "start_time": "2021-11-14T21:57:59.584Z"
      },
      {
        "duration": 25624,
        "start_time": "2021-11-14T21:57:59.594Z"
      },
      {
        "duration": 9,
        "start_time": "2021-11-14T21:58:25.221Z"
      },
      {
        "duration": 22,
        "start_time": "2021-11-14T21:58:25.232Z"
      },
      {
        "duration": 33,
        "start_time": "2021-11-14T21:58:25.256Z"
      },
      {
        "duration": 83,
        "start_time": "2021-11-14T21:58:25.292Z"
      },
      {
        "duration": 105,
        "start_time": "2021-11-14T21:58:25.467Z"
      },
      {
        "duration": 94,
        "start_time": "2021-11-14T21:58:25.580Z"
      },
      {
        "duration": 48,
        "start_time": "2021-11-14T21:58:25.677Z"
      },
      {
        "duration": 292,
        "start_time": "2021-11-14T21:58:25.728Z"
      },
      {
        "duration": 5,
        "start_time": "2021-11-14T21:58:26.023Z"
      },
      {
        "duration": 7,
        "start_time": "2021-11-14T21:58:26.030Z"
      },
      {
        "duration": 71262,
        "start_time": "2021-11-14T21:58:26.039Z"
      },
      {
        "duration": 5,
        "start_time": "2021-11-14T21:59:37.303Z"
      },
      {
        "duration": 9,
        "start_time": "2021-11-14T21:59:37.310Z"
      },
      {
        "duration": 7,
        "start_time": "2021-11-14T21:59:37.321Z"
      },
      {
        "duration": 39,
        "start_time": "2021-11-14T21:59:37.330Z"
      },
      {
        "duration": 25126,
        "start_time": "2021-11-14T21:59:37.372Z"
      },
      {
        "duration": 7,
        "start_time": "2021-11-14T22:00:02.501Z"
      },
      {
        "duration": 21,
        "start_time": "2021-11-14T22:00:02.510Z"
      },
      {
        "duration": 76,
        "start_time": "2021-11-14T22:00:02.568Z"
      },
      {
        "duration": 27,
        "start_time": "2021-11-14T22:00:02.646Z"
      },
      {
        "duration": 25707,
        "start_time": "2021-11-14T22:02:21.007Z"
      },
      {
        "duration": 8,
        "start_time": "2021-11-14T22:02:52.665Z"
      },
      {
        "duration": 16,
        "start_time": "2021-11-14T22:04:10.223Z"
      },
      {
        "duration": 75,
        "start_time": "2021-11-14T22:04:14.359Z"
      },
      {
        "duration": 10,
        "start_time": "2021-11-14T22:04:19.182Z"
      },
      {
        "duration": 17,
        "start_time": "2021-11-14T22:05:42.773Z"
      },
      {
        "duration": 11,
        "start_time": "2021-11-14T22:06:01.102Z"
      },
      {
        "duration": 9,
        "start_time": "2021-11-14T22:06:20.339Z"
      },
      {
        "duration": 9,
        "start_time": "2021-11-14T22:07:06.070Z"
      },
      {
        "duration": 11,
        "start_time": "2021-11-14T22:07:15.990Z"
      },
      {
        "duration": 9,
        "start_time": "2021-11-14T22:07:16.749Z"
      },
      {
        "duration": 7,
        "start_time": "2021-11-14T22:07:36.023Z"
      },
      {
        "duration": 8,
        "start_time": "2021-11-14T22:07:54.663Z"
      },
      {
        "duration": 45,
        "start_time": "2021-11-14T22:13:56.624Z"
      },
      {
        "duration": 8,
        "start_time": "2021-11-14T22:13:57.286Z"
      },
      {
        "duration": 83,
        "start_time": "2021-11-14T22:15:41.651Z"
      },
      {
        "duration": 1218,
        "start_time": "2021-11-14T22:15:53.154Z"
      },
      {
        "duration": 25098,
        "start_time": "2021-11-14T22:16:05.625Z"
      },
      {
        "duration": 8,
        "start_time": "2021-11-14T22:16:37.444Z"
      },
      {
        "duration": 14,
        "start_time": "2021-11-14T22:16:41.792Z"
      },
      {
        "duration": 9,
        "start_time": "2021-11-14T22:16:42.659Z"
      },
      {
        "duration": 75,
        "start_time": "2021-11-14T22:16:44.285Z"
      },
      {
        "duration": 8,
        "start_time": "2021-11-14T22:16:45.003Z"
      },
      {
        "duration": 12,
        "start_time": "2021-11-14T22:16:46.299Z"
      },
      {
        "duration": 9,
        "start_time": "2021-11-14T22:16:47.086Z"
      },
      {
        "duration": 448,
        "start_time": "2021-11-15T21:21:36.589Z"
      },
      {
        "duration": 5393,
        "start_time": "2021-11-15T21:21:44.225Z"
      },
      {
        "duration": 7483,
        "start_time": "2021-11-15T21:21:52.278Z"
      },
      {
        "duration": 198,
        "start_time": "2021-11-15T21:21:59.764Z"
      },
      {
        "duration": 30,
        "start_time": "2021-11-15T21:22:02.887Z"
      },
      {
        "duration": 13,
        "start_time": "2021-11-15T21:22:04.960Z"
      },
      {
        "duration": 34,
        "start_time": "2021-11-15T21:22:07.371Z"
      },
      {
        "duration": 27,
        "start_time": "2021-11-15T21:22:20.782Z"
      },
      {
        "duration": 11,
        "start_time": "2021-11-15T21:22:33.551Z"
      },
      {
        "duration": 33,
        "start_time": "2021-11-15T21:23:47.835Z"
      },
      {
        "duration": 12,
        "start_time": "2021-11-15T21:23:48.347Z"
      },
      {
        "duration": 9,
        "start_time": "2021-11-15T21:24:36.631Z"
      },
      {
        "duration": 11,
        "start_time": "2021-11-15T21:25:16.136Z"
      },
      {
        "duration": 7,
        "start_time": "2021-11-15T21:32:40.901Z"
      },
      {
        "duration": 13,
        "start_time": "2021-11-15T21:32:51.455Z"
      },
      {
        "duration": 31,
        "start_time": "2021-11-15T21:37:23.630Z"
      },
      {
        "duration": 11,
        "start_time": "2021-11-15T21:37:24.314Z"
      },
      {
        "duration": 5,
        "start_time": "2021-11-15T21:37:25.409Z"
      },
      {
        "duration": 11,
        "start_time": "2021-11-15T21:37:25.911Z"
      },
      {
        "duration": 3645,
        "start_time": "2021-11-15T21:40:26.915Z"
      },
      {
        "duration": 3578,
        "start_time": "2021-11-15T21:40:48.451Z"
      },
      {
        "duration": 244,
        "start_time": "2021-11-15T21:40:56.047Z"
      },
      {
        "duration": 18,
        "start_time": "2021-11-15T21:40:56.691Z"
      },
      {
        "duration": 13,
        "start_time": "2021-11-15T21:40:57.531Z"
      },
      {
        "duration": 33,
        "start_time": "2021-11-15T21:40:59.561Z"
      },
      {
        "duration": 14,
        "start_time": "2021-11-15T21:41:00.290Z"
      },
      {
        "duration": 8,
        "start_time": "2021-11-15T21:41:01.886Z"
      },
      {
        "duration": 12,
        "start_time": "2021-11-15T21:41:02.761Z"
      },
      {
        "duration": 7,
        "start_time": "2021-11-15T21:41:05.745Z"
      },
      {
        "duration": 40,
        "start_time": "2021-11-15T21:41:08.112Z"
      },
      {
        "duration": 8,
        "start_time": "2021-11-15T21:41:09.511Z"
      },
      {
        "duration": 83,
        "start_time": "2021-11-15T21:41:13.153Z"
      },
      {
        "duration": 6,
        "start_time": "2021-11-15T21:41:14.035Z"
      },
      {
        "duration": 86,
        "start_time": "2021-11-15T21:41:20.306Z"
      },
      {
        "duration": 101,
        "start_time": "2021-11-15T21:42:36.188Z"
      },
      {
        "duration": 104,
        "start_time": "2021-11-15T21:42:43.179Z"
      },
      {
        "duration": 17,
        "start_time": "2021-11-15T21:44:15.945Z"
      },
      {
        "duration": 49,
        "start_time": "2021-11-15T21:44:18.500Z"
      },
      {
        "duration": 9,
        "start_time": "2021-11-15T21:44:32.368Z"
      },
      {
        "duration": 456,
        "start_time": "2021-11-15T21:45:26.155Z"
      },
      {
        "duration": 12,
        "start_time": "2021-11-15T21:45:31.388Z"
      },
      {
        "duration": 156,
        "start_time": "2021-11-15T21:45:32.910Z"
      },
      {
        "duration": 17,
        "start_time": "2021-11-15T21:45:33.999Z"
      },
      {
        "duration": 42388,
        "start_time": "2021-11-15T21:45:50.891Z"
      },
      {
        "duration": 14,
        "start_time": "2021-11-15T21:46:38.970Z"
      },
      {
        "duration": 6,
        "start_time": "2021-11-16T07:37:46.557Z"
      },
      {
        "duration": 235,
        "start_time": "2021-11-16T07:39:54.756Z"
      },
      {
        "duration": 19,
        "start_time": "2021-11-16T07:41:12.577Z"
      },
      {
        "duration": 9,
        "start_time": "2021-11-16T07:41:16.239Z"
      },
      {
        "duration": 11,
        "start_time": "2021-11-16T07:42:11.400Z"
      },
      {
        "duration": 349,
        "start_time": "2021-11-16T07:43:22.646Z"
      },
      {
        "duration": 12,
        "start_time": "2021-11-16T07:43:59.423Z"
      },
      {
        "duration": 9342,
        "start_time": "2021-11-16T07:52:47.918Z"
      },
      {
        "duration": 307,
        "start_time": "2021-11-16T07:53:05.013Z"
      },
      {
        "duration": 48,
        "start_time": "2021-11-16T08:01:03.115Z"
      },
      {
        "duration": 9,
        "start_time": "2021-11-16T08:01:04.011Z"
      },
      {
        "duration": 111,
        "start_time": "2021-11-16T08:01:06.223Z"
      },
      {
        "duration": 16,
        "start_time": "2021-11-16T08:01:07.248Z"
      },
      {
        "duration": 11,
        "start_time": "2021-11-16T08:01:20.923Z"
      },
      {
        "duration": 292,
        "start_time": "2021-11-16T08:02:47.350Z"
      },
      {
        "duration": 19,
        "start_time": "2021-11-16T08:02:53.241Z"
      },
      {
        "duration": 5,
        "start_time": "2021-11-16T08:02:54.498Z"
      },
      {
        "duration": 8,
        "start_time": "2021-11-16T08:04:11.804Z"
      },
      {
        "duration": 28,
        "start_time": "2021-11-16T08:05:56.115Z"
      },
      {
        "duration": 8,
        "start_time": "2021-11-16T08:06:07.116Z"
      },
      {
        "duration": 37,
        "start_time": "2021-11-16T08:06:20.410Z"
      },
      {
        "duration": 8,
        "start_time": "2021-11-16T08:06:21.707Z"
      },
      {
        "duration": 23,
        "start_time": "2021-11-16T08:06:33.423Z"
      },
      {
        "duration": 8,
        "start_time": "2021-11-16T08:06:35.287Z"
      },
      {
        "duration": 20,
        "start_time": "2021-11-16T08:06:53.604Z"
      },
      {
        "duration": 8,
        "start_time": "2021-11-16T08:06:54.417Z"
      },
      {
        "duration": 24,
        "start_time": "2021-11-16T08:07:01.986Z"
      },
      {
        "duration": 7,
        "start_time": "2021-11-16T08:07:02.776Z"
      },
      {
        "duration": 19,
        "start_time": "2021-11-16T08:07:08.330Z"
      },
      {
        "duration": 7,
        "start_time": "2021-11-16T08:07:09.459Z"
      },
      {
        "duration": 94,
        "start_time": "2021-11-16T08:07:54.659Z"
      },
      {
        "duration": 19,
        "start_time": "2021-11-16T08:08:05.710Z"
      },
      {
        "duration": 8,
        "start_time": "2021-11-16T08:08:06.601Z"
      },
      {
        "duration": 102,
        "start_time": "2021-11-16T08:08:14.379Z"
      },
      {
        "duration": 10,
        "start_time": "2021-11-16T08:08:16.026Z"
      },
      {
        "duration": 34,
        "start_time": "2021-11-16T08:09:19.948Z"
      },
      {
        "duration": 13,
        "start_time": "2021-11-16T08:09:20.964Z"
      },
      {
        "duration": 87,
        "start_time": "2021-11-16T08:09:27.598Z"
      },
      {
        "duration": 60,
        "start_time": "2021-11-16T08:09:40.525Z"
      },
      {
        "duration": 78,
        "start_time": "2021-11-16T08:09:41.605Z"
      },
      {
        "duration": 217,
        "start_time": "2021-11-16T08:11:15.788Z"
      },
      {
        "duration": 6,
        "start_time": "2021-11-16T08:11:36.751Z"
      },
      {
        "duration": 10,
        "start_time": "2021-11-16T08:11:58.328Z"
      },
      {
        "duration": 102,
        "start_time": "2021-11-16T08:12:21.439Z"
      },
      {
        "duration": 213,
        "start_time": "2021-11-16T08:12:25.737Z"
      },
      {
        "duration": 5,
        "start_time": "2021-11-16T08:12:26.345Z"
      },
      {
        "duration": 9,
        "start_time": "2021-11-16T08:12:28.537Z"
      },
      {
        "duration": 36,
        "start_time": "2021-11-16T08:13:40.537Z"
      },
      {
        "duration": 24,
        "start_time": "2021-11-16T08:14:52.007Z"
      },
      {
        "duration": 36,
        "start_time": "2021-11-16T08:15:02.401Z"
      },
      {
        "duration": 34,
        "start_time": "2021-11-16T08:15:41.401Z"
      },
      {
        "duration": 49,
        "start_time": "2021-11-16T08:17:05.873Z"
      },
      {
        "duration": 10,
        "start_time": "2021-11-16T08:17:06.408Z"
      },
      {
        "duration": 215,
        "start_time": "2021-11-16T08:19:07.320Z"
      },
      {
        "duration": 6,
        "start_time": "2021-11-16T08:19:11.313Z"
      },
      {
        "duration": 6,
        "start_time": "2021-11-16T08:19:15.496Z"
      },
      {
        "duration": 230,
        "start_time": "2021-11-16T08:19:24.293Z"
      },
      {
        "duration": 6,
        "start_time": "2021-11-16T08:19:26.218Z"
      },
      {
        "duration": 5,
        "start_time": "2021-11-16T08:19:27.392Z"
      },
      {
        "duration": 238,
        "start_time": "2021-11-16T08:19:38.403Z"
      },
      {
        "duration": 7,
        "start_time": "2021-11-16T08:19:39.932Z"
      },
      {
        "duration": 10,
        "start_time": "2021-11-16T08:20:11.720Z"
      },
      {
        "duration": 17,
        "start_time": "2021-11-16T08:21:57.905Z"
      },
      {
        "duration": 68480,
        "start_time": "2021-11-16T08:22:01.738Z"
      },
      {
        "duration": 69134,
        "start_time": "2021-11-16T08:23:16.832Z"
      },
      {
        "duration": 5,
        "start_time": "2021-11-16T08:24:25.968Z"
      },
      {
        "duration": 6,
        "start_time": "2021-11-16T08:25:11.328Z"
      },
      {
        "duration": 5,
        "start_time": "2021-11-16T08:25:13.727Z"
      },
      {
        "duration": 5,
        "start_time": "2021-11-16T08:25:15.087Z"
      },
      {
        "duration": 72,
        "start_time": "2021-11-16T08:25:18.658Z"
      },
      {
        "duration": 26045,
        "start_time": "2021-11-16T08:25:52.721Z"
      },
      {
        "duration": 14,
        "start_time": "2021-11-16T08:26:29.404Z"
      },
      {
        "duration": 13,
        "start_time": "2021-11-16T08:27:12.574Z"
      },
      {
        "duration": 13,
        "start_time": "2021-11-16T08:27:41.990Z"
      },
      {
        "duration": 73,
        "start_time": "2021-11-16T08:28:00.300Z"
      },
      {
        "duration": 74,
        "start_time": "2021-11-16T08:28:22.663Z"
      },
      {
        "duration": 74,
        "start_time": "2021-11-16T08:28:38.159Z"
      },
      {
        "duration": 73,
        "start_time": "2021-11-16T08:28:39.389Z"
      },
      {
        "duration": 73,
        "start_time": "2021-11-16T08:28:52.606Z"
      },
      {
        "duration": 24,
        "start_time": "2021-11-16T08:31:54.531Z"
      },
      {
        "duration": 11,
        "start_time": "2021-11-16T08:33:15.860Z"
      },
      {
        "duration": 515,
        "start_time": "2021-11-16T08:33:48.184Z"
      },
      {
        "duration": 508,
        "start_time": "2021-11-16T08:34:16.991Z"
      },
      {
        "duration": 334,
        "start_time": "2021-11-16T08:37:22.426Z"
      },
      {
        "duration": 316,
        "start_time": "2021-11-16T08:37:28.802Z"
      },
      {
        "duration": 252,
        "start_time": "2021-11-16T08:37:33.678Z"
      },
      {
        "duration": 24,
        "start_time": "2021-11-16T08:37:53.059Z"
      },
      {
        "duration": 24,
        "start_time": "2021-11-16T08:37:53.746Z"
      },
      {
        "duration": 249,
        "start_time": "2021-11-16T08:37:54.491Z"
      },
      {
        "duration": 256,
        "start_time": "2021-11-16T08:38:00.539Z"
      },
      {
        "duration": 75,
        "start_time": "2021-11-16T08:38:01.687Z"
      },
      {
        "duration": 76,
        "start_time": "2021-11-16T08:38:02.631Z"
      },
      {
        "duration": 250,
        "start_time": "2021-11-16T08:38:08.468Z"
      },
      {
        "duration": 22,
        "start_time": "2021-11-16T08:38:37.518Z"
      },
      {
        "duration": 23,
        "start_time": "2021-11-16T08:38:38.431Z"
      },
      {
        "duration": 256,
        "start_time": "2021-11-16T08:38:39.431Z"
      },
      {
        "duration": 76,
        "start_time": "2021-11-16T08:38:42.023Z"
      },
      {
        "duration": 74,
        "start_time": "2021-11-16T08:38:43.027Z"
      },
      {
        "duration": 312,
        "start_time": "2021-11-16T08:38:43.535Z"
      },
      {
        "duration": 238,
        "start_time": "2021-11-16T08:39:27.100Z"
      },
      {
        "duration": 124,
        "start_time": "2021-11-16T08:39:46.298Z"
      },
      {
        "duration": 94,
        "start_time": "2021-11-16T08:41:29.699Z"
      },
      {
        "duration": 5505,
        "start_time": "2021-11-16T08:41:51.212Z"
      },
      {
        "duration": 3536,
        "start_time": "2021-11-16T08:41:56.720Z"
      },
      {
        "duration": 213,
        "start_time": "2021-11-16T08:42:00.259Z"
      },
      {
        "duration": 25,
        "start_time": "2021-11-16T08:42:00.475Z"
      },
      {
        "duration": 15,
        "start_time": "2021-11-16T08:42:00.503Z"
      },
      {
        "duration": 57,
        "start_time": "2021-11-16T08:42:00.521Z"
      },
      {
        "duration": 14,
        "start_time": "2021-11-16T08:42:00.581Z"
      },
      {
        "duration": 14,
        "start_time": "2021-11-16T08:42:00.600Z"
      },
      {
        "duration": 33,
        "start_time": "2021-11-16T08:42:00.618Z"
      },
      {
        "duration": 28,
        "start_time": "2021-11-16T08:42:00.654Z"
      },
      {
        "duration": 56,
        "start_time": "2021-11-16T08:42:00.684Z"
      },
      {
        "duration": 12,
        "start_time": "2021-11-16T08:42:00.744Z"
      },
      {
        "duration": 91,
        "start_time": "2021-11-16T08:42:00.759Z"
      },
      {
        "duration": 7,
        "start_time": "2021-11-16T08:42:00.854Z"
      },
      {
        "duration": 109,
        "start_time": "2021-11-16T08:42:00.883Z"
      },
      {
        "duration": 95,
        "start_time": "2021-11-16T08:42:00.996Z"
      },
      {
        "duration": 245,
        "start_time": "2021-11-16T08:42:01.094Z"
      },
      {
        "duration": 10,
        "start_time": "2021-11-16T08:42:01.343Z"
      },
      {
        "duration": 154,
        "start_time": "2021-11-16T08:42:01.355Z"
      },
      {
        "duration": 19,
        "start_time": "2021-11-16T08:42:01.512Z"
      },
      {
        "duration": 42150,
        "start_time": "2021-11-16T08:42:01.533Z"
      },
      {
        "duration": 17,
        "start_time": "2021-11-16T08:42:43.686Z"
      },
      {
        "duration": 27,
        "start_time": "2021-11-16T08:42:43.708Z"
      },
      {
        "duration": 43,
        "start_time": "2021-11-16T08:42:43.739Z"
      },
      {
        "duration": 97,
        "start_time": "2021-11-16T08:42:43.785Z"
      },
      {
        "duration": 99,
        "start_time": "2021-11-16T08:42:43.886Z"
      },
      {
        "duration": 195,
        "start_time": "2021-11-16T08:42:43.989Z"
      },
      {
        "duration": 194,
        "start_time": "2021-11-16T08:42:44.188Z"
      },
      {
        "duration": 100,
        "start_time": "2021-11-16T08:42:44.385Z"
      },
      {
        "duration": 247,
        "start_time": "2021-11-16T08:42:44.487Z"
      },
      {
        "duration": 5,
        "start_time": "2021-11-16T08:42:44.737Z"
      },
      {
        "duration": 12,
        "start_time": "2021-11-16T08:42:44.744Z"
      },
      {
        "duration": 68816,
        "start_time": "2021-11-16T08:42:44.782Z"
      },
      {
        "duration": 5,
        "start_time": "2021-11-16T08:43:53.600Z"
      },
      {
        "duration": 8,
        "start_time": "2021-11-16T08:43:53.607Z"
      },
      {
        "duration": 7,
        "start_time": "2021-11-16T08:43:53.617Z"
      },
      {
        "duration": 115,
        "start_time": "2021-11-16T08:43:53.627Z"
      },
      {
        "duration": 40591,
        "start_time": "2021-11-16T08:43:53.744Z"
      },
      {
        "duration": 14,
        "start_time": "2021-11-16T08:44:34.337Z"
      },
      {
        "duration": 36,
        "start_time": "2021-11-16T08:44:34.354Z"
      },
      {
        "duration": 15,
        "start_time": "2021-11-16T08:44:34.392Z"
      },
      {
        "duration": 287,
        "start_time": "2021-11-16T08:44:34.410Z"
      },
      {
        "duration": 87,
        "start_time": "2021-11-16T08:44:34.700Z"
      },
      {
        "duration": 74,
        "start_time": "2021-11-16T08:44:34.789Z"
      },
      {
        "duration": 274,
        "start_time": "2021-11-16T08:44:34.865Z"
      },
      {
        "duration": 9483,
        "start_time": "2021-11-16T08:44:35.141Z"
      }
    ],
    "kernelspec": {
      "display_name": "Python 3",
      "language": "python",
      "name": "python3"
    },
    "language_info": {
      "codemirror_mode": {
        "name": "ipython",
        "version": 3
      },
      "file_extension": ".py",
      "mimetype": "text/x-python",
      "name": "python",
      "nbconvert_exporter": "python",
      "pygments_lexer": "ipython3",
      "version": "3.7.8"
    },
    "toc": {
      "base_numbering": 1,
      "nav_menu": {
        "height": "12.9844px",
        "width": "159.984px"
      },
      "number_sections": true,
      "sideBar": true,
      "skip_h1_title": true,
      "title_cell": "Содержание",
      "title_sidebar": "Contents",
      "toc_cell": true,
      "toc_position": {},
      "toc_section_display": true,
      "toc_window_display": false
    },
    "colab": {
      "provenance": []
    }
  },
  "nbformat": 4,
  "nbformat_minor": 0
}