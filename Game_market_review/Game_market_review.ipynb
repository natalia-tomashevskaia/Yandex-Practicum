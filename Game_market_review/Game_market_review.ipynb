{
  "cells": [
    {
      "cell_type": "markdown",
      "metadata": {
        "id": "hm01furDnYPq"
      },
      "source": [
        "<h1>Содержание<span class=\"tocSkip\"></span></h1>\n",
        "<li><span><a href=\"#Изучение-данных-из-файла\" data-toc-modified-id=\"Изучение-данных-из-файла-1\"><span class=\"toc-item-num\">1&nbsp;&nbsp;</span>Изучение данных из файла</a></span><li><span><a href=\"#Предобработка-данных\" data-toc-modified-id=\"Предобработка-данных-2\"><span class=\"toc-item-num\">2&nbsp;&nbsp;</span>Предобработка данных</a></span></li><li><span><a href=\"#Анализ-данных\" data-toc-modified-id=\"Анализ-данных-3\"><span class=\"toc-item-num\">3&nbsp;&nbsp;</span>Анализ данных</a></span></li><li><span><a href=\"#Портрет пользователя\" data-toc-modified-id=\"Портрет-пользователя-4\"><span class=\"toc-item-num\">4&nbsp;&nbsp;</span>Портрет пользователя</a></span></li><li><span><a href=\"#Проверка-гипотез\" data-toc-modified-id=\"Проверка-гипотез-5\"><span class=\"toc-item-num\">5&nbsp;&nbsp;</span>Проверка гипотез</a></span></li><li><span><a href=\"#Общий-вывод\" data-toc-modified-id=\"Общий-вывод-6\"><span class=\"toc-item-num\">6&nbsp;&nbsp;</span>Общий вывод</a></span></li><li><span><a href=\"#Чек-лист-готовности-проекта\" data-toc-modified-id=\"Чек-лист-готовности-проекта-7\"><span class=\"toc-item-num\">7&nbsp;&nbsp;</span>Чек-лист готовности проекта</a></span></li></ul></div>\n"
      ]
    },
    {
      "cell_type": "markdown",
      "metadata": {
        "id": "9D1axPOjnYPs"
      },
      "source": [
        "# Исследование продаж игр\n",
        "\n",
        "Интернет-магазине «Стримчик» продаёт по всему миру компьютерные игры. Из открытых источников доступны исторические данные о продажах игр, оценки пользователей и экспертов, жанры и платформы (например, Xbox или PlayStation). Нужно выявить определяющие успешность игры закономерности. Это позволит сделать ставку на потенциально популярный продукт и спланировать рекламные кампании.<br>\n",
        "Есть данные до 2016 года. Сейчас декабрь 2016 г.,  ипланируется кампания на 2017-й. Данные за 2016 год могут быть неполными.<br><br>\n",
        "<b>Описание данных</b><br>\n",
        "<i>Name</i> — название игры<br>\n",
        "<i>Platform</i> — платформа<br>\n",
        "<i>Year_of_Release</i> — год выпуска<br>\n",
        "<i>Genre</i> — жанр игры<br>\n",
        "<i>NA_sales</i> — продажи в Северной Америке (миллионы проданных копий)<br>\n",
        "<i>EU_sales</i> — продажи в Европе (миллионы проданных копий)<br>\n",
        "<i>JP_sales</i> — продажи в Японии (миллионы проданных копий)<br>\n",
        "<i>Other_sales</i> — продажи в других странах (миллионы проданных копий)<br>\n",
        "<i>Critic_Score</i> — оценка критиков (максимум 100)<br>\n",
        "<i>User_Score</i> — оценка пользователей (максимум 10)<br>\n",
        "<i>Rating</i> — рейтинг от организации ESRB (англ. Entertainment Software Rating Board). Эта ассоциация определяет рейтинг<br> компьютерных игр и присваивает им подходящую возрастную категорию.<br>"
      ]
    },
    {
      "cell_type": "markdown",
      "metadata": {
        "id": "XGVNILgxnYPu"
      },
      "source": [
        "## Изучение данных из файла"
      ]
    },
    {
      "cell_type": "code",
      "execution_count": null,
      "metadata": {
        "id": "wg-yd7I9nYPv",
        "outputId": "dfd430cc-c1cb-4645-d617-22656cced4bd"
      },
      "outputs": [
        {
          "name": "stdout",
          "output_type": "stream",
          "text": [
            "Defaulting to user installation because normal site-packages is not writeable\n",
            "Requirement already up-to-date: seaborn in /home/jovyan/.local/lib/python3.7/site-packages (0.11.2)\n",
            "Requirement already satisfied, skipping upgrade: numpy>=1.15 in /opt/conda/lib/python3.7/site-packages (from seaborn) (1.19.5)\n",
            "Requirement already satisfied, skipping upgrade: matplotlib>=2.2 in /opt/conda/lib/python3.7/site-packages (from seaborn) (3.1.0)\n",
            "Requirement already satisfied, skipping upgrade: pandas>=0.23 in /opt/conda/lib/python3.7/site-packages (from seaborn) (0.25.1)\n",
            "Requirement already satisfied, skipping upgrade: scipy>=1.0 in /opt/conda/lib/python3.7/site-packages (from seaborn) (1.4.1)\n",
            "Requirement already satisfied, skipping upgrade: pyparsing!=2.0.4,!=2.1.2,!=2.1.6,>=2.0.1 in /opt/conda/lib/python3.7/site-packages (from matplotlib>=2.2->seaborn) (2.4.7)\n",
            "Requirement already satisfied, skipping upgrade: cycler>=0.10 in /opt/conda/lib/python3.7/site-packages (from matplotlib>=2.2->seaborn) (0.10.0)\n",
            "Requirement already satisfied, skipping upgrade: kiwisolver>=1.0.1 in /opt/conda/lib/python3.7/site-packages (from matplotlib>=2.2->seaborn) (1.3.1)\n",
            "Requirement already satisfied, skipping upgrade: python-dateutil>=2.1 in /opt/conda/lib/python3.7/site-packages (from matplotlib>=2.2->seaborn) (2.8.1)\n",
            "Requirement already satisfied, skipping upgrade: pytz>=2017.2 in /opt/conda/lib/python3.7/site-packages (from pandas>=0.23->seaborn) (2021.1)\n",
            "Requirement already satisfied, skipping upgrade: six in /opt/conda/lib/python3.7/site-packages (from cycler>=0.10->matplotlib>=2.2->seaborn) (1.15.0)\n"
          ]
        }
      ],
      "source": [
        "import pandas as pd\n",
        "import numpy as np \n",
        "!pip install -U seaborn\n",
        "import seaborn as sns\n",
        "from scipy import stats as st\n",
        "import matplotlib.pyplot as plt\n",
        "import warnings\n",
        "warnings.filterwarnings('ignore')"
      ]
    },
    {
      "cell_type": "code",
      "execution_count": null,
      "metadata": {
        "id": "2O7geSmVnYPz"
      },
      "outputs": [],
      "source": [
        "games = pd.read_csv('/datasets/games.csv')"
      ]
    },
    {
      "cell_type": "code",
      "execution_count": null,
      "metadata": {
        "id": "sd-BLJPjnYP0",
        "outputId": "84a90320-bfe0-4619-dae6-6cf79302a0e5"
      },
      "outputs": [
        {
          "data": {
            "text/html": [
              "<div>\n",
              "<style scoped>\n",
              "    .dataframe tbody tr th:only-of-type {\n",
              "        vertical-align: middle;\n",
              "    }\n",
              "\n",
              "    .dataframe tbody tr th {\n",
              "        vertical-align: top;\n",
              "    }\n",
              "\n",
              "    .dataframe thead th {\n",
              "        text-align: right;\n",
              "    }\n",
              "</style>\n",
              "<table border=\"1\" class=\"dataframe\">\n",
              "  <thead>\n",
              "    <tr style=\"text-align: right;\">\n",
              "      <th></th>\n",
              "      <th>Name</th>\n",
              "      <th>Platform</th>\n",
              "      <th>Year_of_Release</th>\n",
              "      <th>Genre</th>\n",
              "      <th>NA_sales</th>\n",
              "      <th>EU_sales</th>\n",
              "      <th>JP_sales</th>\n",
              "      <th>Other_sales</th>\n",
              "      <th>Critic_Score</th>\n",
              "      <th>User_Score</th>\n",
              "      <th>Rating</th>\n",
              "    </tr>\n",
              "  </thead>\n",
              "  <tbody>\n",
              "    <tr>\n",
              "      <td>7616</td>\n",
              "      <td>Clive Barker's Jericho</td>\n",
              "      <td>PS3</td>\n",
              "      <td>2007.0</td>\n",
              "      <td>Shooter</td>\n",
              "      <td>0.17</td>\n",
              "      <td>0.01</td>\n",
              "      <td>0.0</td>\n",
              "      <td>0.02</td>\n",
              "      <td>60.0</td>\n",
              "      <td>7.1</td>\n",
              "      <td>M</td>\n",
              "    </tr>\n",
              "  </tbody>\n",
              "</table>\n",
              "</div>"
            ],
            "text/plain": [
              "                        Name Platform  Year_of_Release    Genre  NA_sales  \\\n",
              "7616  Clive Barker's Jericho      PS3           2007.0  Shooter      0.17   \n",
              "\n",
              "      EU_sales  JP_sales  Other_sales  Critic_Score User_Score Rating  \n",
              "7616      0.01       0.0         0.02          60.0        7.1      M  "
            ]
          },
          "execution_count": 3,
          "metadata": {},
          "output_type": "execute_result"
        }
      ],
      "source": [
        "games.sample()"
      ]
    },
    {
      "cell_type": "code",
      "execution_count": null,
      "metadata": {
        "id": "rtoaIdR2nYP1",
        "outputId": "9f0559a3-9d6c-409f-8a8a-6b1d6bf0c6fe"
      },
      "outputs": [
        {
          "name": "stdout",
          "output_type": "stream",
          "text": [
            "<class 'pandas.core.frame.DataFrame'>\n",
            "RangeIndex: 16715 entries, 0 to 16714\n",
            "Data columns (total 11 columns):\n",
            "Name               16713 non-null object\n",
            "Platform           16715 non-null object\n",
            "Year_of_Release    16446 non-null float64\n",
            "Genre              16713 non-null object\n",
            "NA_sales           16715 non-null float64\n",
            "EU_sales           16715 non-null float64\n",
            "JP_sales           16715 non-null float64\n",
            "Other_sales        16715 non-null float64\n",
            "Critic_Score       8137 non-null float64\n",
            "User_Score         10014 non-null object\n",
            "Rating             9949 non-null object\n",
            "dtypes: float64(6), object(5)\n",
            "memory usage: 1.4+ MB\n"
          ]
        }
      ],
      "source": [
        "games.info()"
      ]
    },
    {
      "cell_type": "markdown",
      "metadata": {
        "id": "28WDtvdDnYP3"
      },
      "source": [
        "В файле есть пропуски, в некоторых столбцах данные собраны не полностью, некоторые типы данных нужно будет поменять, а названия столбцов поменять на написанные со строчными буквами, как и все строковые данные в столбцах"
      ]
    },
    {
      "cell_type": "markdown",
      "metadata": {
        "id": "ZdxW4NNLnYP5"
      },
      "source": [
        "## Предобработка данных"
      ]
    },
    {
      "cell_type": "markdown",
      "metadata": {
        "id": "sGC-eFu8nYP5"
      },
      "source": [
        "Приведем данные к единообразной форме записи в низком регистре."
      ]
    },
    {
      "cell_type": "code",
      "execution_count": null,
      "metadata": {
        "id": "AoaL2u8onYP6",
        "outputId": "ef251ce7-8a3c-4442-bd5b-eb9ed602d4c0"
      },
      "outputs": [
        {
          "data": {
            "text/html": [
              "<div>\n",
              "<style scoped>\n",
              "    .dataframe tbody tr th:only-of-type {\n",
              "        vertical-align: middle;\n",
              "    }\n",
              "\n",
              "    .dataframe tbody tr th {\n",
              "        vertical-align: top;\n",
              "    }\n",
              "\n",
              "    .dataframe thead th {\n",
              "        text-align: right;\n",
              "    }\n",
              "</style>\n",
              "<table border=\"1\" class=\"dataframe\">\n",
              "  <thead>\n",
              "    <tr style=\"text-align: right;\">\n",
              "      <th></th>\n",
              "      <th>name</th>\n",
              "      <th>platform</th>\n",
              "      <th>year_of_release</th>\n",
              "      <th>genre</th>\n",
              "      <th>na_sales</th>\n",
              "      <th>eu_sales</th>\n",
              "      <th>jp_sales</th>\n",
              "      <th>other_sales</th>\n",
              "      <th>critic_score</th>\n",
              "      <th>user_score</th>\n",
              "      <th>rating</th>\n",
              "    </tr>\n",
              "  </thead>\n",
              "  <tbody>\n",
              "    <tr>\n",
              "      <td>9038</td>\n",
              "      <td>monster house</td>\n",
              "      <td>ps2</td>\n",
              "      <td>2006.0</td>\n",
              "      <td>adventure</td>\n",
              "      <td>0.07</td>\n",
              "      <td>0.05</td>\n",
              "      <td>0.0</td>\n",
              "      <td>0.02</td>\n",
              "      <td>59.0</td>\n",
              "      <td>tbd</td>\n",
              "      <td>e10+</td>\n",
              "    </tr>\n",
              "  </tbody>\n",
              "</table>\n",
              "</div>"
            ],
            "text/plain": [
              "               name platform  year_of_release      genre  na_sales  eu_sales  \\\n",
              "9038  monster house      ps2           2006.0  adventure      0.07      0.05   \n",
              "\n",
              "      jp_sales  other_sales  critic_score user_score rating  \n",
              "9038       0.0         0.02          59.0        tbd   e10+  "
            ]
          },
          "execution_count": 5,
          "metadata": {},
          "output_type": "execute_result"
        }
      ],
      "source": [
        "games.columns = games.columns.str.lower()\n",
        "games['name'] = games['name'].str.lower()\n",
        "games['platform'] = games['platform'].str.lower()\n",
        "games['genre'] = games['genre'].str.lower() \n",
        "games['rating'] = games['rating'].str.lower() \n",
        "games.sample()"
      ]
    },
    {
      "cell_type": "code",
      "execution_count": null,
      "metadata": {
        "id": "Y7d_3l5-nYP7",
        "outputId": "ee584ada-741e-4c23-ce79-64ade46ee5b2"
      },
      "outputs": [
        {
          "data": {
            "text/plain": [
              "array(['sports', 'platform', 'racing', 'role-playing', 'puzzle', 'misc',\n",
              "       'shooter', 'simulation', 'action', 'fighting', 'adventure',\n",
              "       'strategy', nan], dtype=object)"
            ]
          },
          "execution_count": 6,
          "metadata": {},
          "output_type": "execute_result"
        }
      ],
      "source": [
        "games['genre'].unique()"
      ]
    },
    {
      "cell_type": "code",
      "execution_count": null,
      "metadata": {
        "id": "6smIBFk0nYP7",
        "outputId": "eefc3a13-d6c8-48fd-fab8-d3a3e3758d98"
      },
      "outputs": [
        {
          "data": {
            "text/plain": [
              "array(['e', nan, 'm', 't', 'e10+', 'k-a', 'ao', 'ec', 'rp'], dtype=object)"
            ]
          },
          "execution_count": 7,
          "metadata": {},
          "output_type": "execute_result"
        }
      ],
      "source": [
        "games['rating'].unique()"
      ]
    },
    {
      "cell_type": "code",
      "execution_count": null,
      "metadata": {
        "id": "o9h_ORjFnYP8",
        "outputId": "565c2c0a-2941-475d-f240-10c230d0c122"
      },
      "outputs": [
        {
          "data": {
            "text/plain": [
              "array(['wii', 'nes', 'gb', 'ds', 'x360', 'ps3', 'ps2', 'snes', 'gba',\n",
              "       'ps4', '3ds', 'n64', 'ps', 'xb', 'pc', '2600', 'psp', 'xone',\n",
              "       'wiiu', 'gc', 'gen', 'dc', 'psv', 'sat', 'scd', 'ws', 'ng', 'tg16',\n",
              "       '3do', 'gg', 'pcfx'], dtype=object)"
            ]
          },
          "execution_count": 8,
          "metadata": {},
          "output_type": "execute_result"
        }
      ],
      "source": [
        "games['platform'].unique()"
      ]
    },
    {
      "cell_type": "markdown",
      "metadata": {
        "id": "8hDBqh6mnYP9"
      },
      "source": [
        "Заменим типы данных. 'year_of_release' очевидно надо перевести в int. В 'genre', 'platform' и 'rating' немного уникальных значений, значит их можно перевести в тип category, чтобы сэкономить память. 'user_score' должен быть в численном виде. там встречается nan и to be determined - переведем первые в -1, вторые в -2, чтобы сразу было видно, что значения отсутствуют и в то же время различаются. Потом их можно будет не принимать в расчет<br>\n",
        "Рейтинговые значения могу отстутсвовать потому, что игры непопулярны и информацию по ним трудно найти. Лучше не заменять тут пропуски.<br>\n",
        "Пропуски по году выпуска могут быть случайными, их немного, нет смысла их заменять."
      ]
    },
    {
      "cell_type": "code",
      "execution_count": null,
      "metadata": {
        "id": "svsWTjMDnYP-",
        "outputId": "addeffc8-1e16-431b-f2fd-6a5722522714"
      },
      "outputs": [
        {
          "data": {
            "text/html": [
              "<div>\n",
              "<style scoped>\n",
              "    .dataframe tbody tr th:only-of-type {\n",
              "        vertical-align: middle;\n",
              "    }\n",
              "\n",
              "    .dataframe tbody tr th {\n",
              "        vertical-align: top;\n",
              "    }\n",
              "\n",
              "    .dataframe thead th {\n",
              "        text-align: right;\n",
              "    }\n",
              "</style>\n",
              "<table border=\"1\" class=\"dataframe\">\n",
              "  <thead>\n",
              "    <tr style=\"text-align: right;\">\n",
              "      <th></th>\n",
              "      <th>name</th>\n",
              "      <th>platform</th>\n",
              "      <th>year_of_release</th>\n",
              "      <th>genre</th>\n",
              "      <th>na_sales</th>\n",
              "      <th>eu_sales</th>\n",
              "      <th>jp_sales</th>\n",
              "      <th>other_sales</th>\n",
              "      <th>critic_score</th>\n",
              "      <th>user_score</th>\n",
              "      <th>rating</th>\n",
              "    </tr>\n",
              "  </thead>\n",
              "  <tbody>\n",
              "    <tr>\n",
              "      <td>8954</td>\n",
              "      <td>tamagotchi collection</td>\n",
              "      <td>ds</td>\n",
              "      <td>2011</td>\n",
              "      <td>misc</td>\n",
              "      <td>0.0</td>\n",
              "      <td>0.0</td>\n",
              "      <td>0.15</td>\n",
              "      <td>0.0</td>\n",
              "      <td>NaN</td>\n",
              "      <td>-1.0</td>\n",
              "      <td>NaN</td>\n",
              "    </tr>\n",
              "  </tbody>\n",
              "</table>\n",
              "</div>"
            ],
            "text/plain": [
              "                       name platform  year_of_release genre  na_sales  \\\n",
              "8954  tamagotchi collection       ds             2011  misc       0.0   \n",
              "\n",
              "      eu_sales  jp_sales  other_sales  critic_score  user_score rating  \n",
              "8954       0.0      0.15          0.0           NaN        -1.0    NaN  "
            ]
          },
          "execution_count": 9,
          "metadata": {},
          "output_type": "execute_result"
        }
      ],
      "source": [
        "games['year_of_release'] = games['year_of_release'].astype('Int16')\n",
        "games[['genre', 'platform', 'rating']] = games[['genre', 'platform', 'rating']].astype('category')\n",
        "\n",
        "games['user_score'] = games['user_score'].fillna(-1)\n",
        "games['user_score']=games['user_score'].replace(to_replace='tbd',value='-2')\n",
        "games['user_score'] = games['user_score'].astype('float')\n",
        "games['critic_score'] = games['critic_score'].astype('Int16')\n",
        "games.sample()"
      ]
    },
    {
      "cell_type": "markdown",
      "metadata": {
        "id": "Sdhyv0AynYP_"
      },
      "source": [
        "Добавим столбец с итоговыми продажами по всем регионам"
      ]
    },
    {
      "cell_type": "code",
      "execution_count": null,
      "metadata": {
        "id": "tAYrs4ZfnYP_",
        "outputId": "797d9222-cb5e-430f-ab21-733b2ce12e51"
      },
      "outputs": [
        {
          "data": {
            "text/html": [
              "<div>\n",
              "<style scoped>\n",
              "    .dataframe tbody tr th:only-of-type {\n",
              "        vertical-align: middle;\n",
              "    }\n",
              "\n",
              "    .dataframe tbody tr th {\n",
              "        vertical-align: top;\n",
              "    }\n",
              "\n",
              "    .dataframe thead th {\n",
              "        text-align: right;\n",
              "    }\n",
              "</style>\n",
              "<table border=\"1\" class=\"dataframe\">\n",
              "  <thead>\n",
              "    <tr style=\"text-align: right;\">\n",
              "      <th></th>\n",
              "      <th>name</th>\n",
              "      <th>platform</th>\n",
              "      <th>year_of_release</th>\n",
              "      <th>genre</th>\n",
              "      <th>na_sales</th>\n",
              "      <th>eu_sales</th>\n",
              "      <th>jp_sales</th>\n",
              "      <th>other_sales</th>\n",
              "      <th>total_sales</th>\n",
              "      <th>critic_score</th>\n",
              "      <th>user_score</th>\n",
              "      <th>rating</th>\n",
              "    </tr>\n",
              "  </thead>\n",
              "  <tbody>\n",
              "    <tr>\n",
              "      <td>1676</td>\n",
              "      <td>f1 2011</td>\n",
              "      <td>ps3</td>\n",
              "      <td>2011</td>\n",
              "      <td>racing</td>\n",
              "      <td>0.12</td>\n",
              "      <td>0.74</td>\n",
              "      <td>0.11</td>\n",
              "      <td>0.24</td>\n",
              "      <td>1.21</td>\n",
              "      <td>82</td>\n",
              "      <td>7.1</td>\n",
              "      <td>e</td>\n",
              "    </tr>\n",
              "  </tbody>\n",
              "</table>\n",
              "</div>"
            ],
            "text/plain": [
              "         name platform  year_of_release   genre  na_sales  eu_sales  jp_sales  \\\n",
              "1676  f1 2011      ps3             2011  racing      0.12      0.74      0.11   \n",
              "\n",
              "      other_sales  total_sales  critic_score  user_score rating  \n",
              "1676         0.24         1.21            82         7.1      e  "
            ]
          },
          "execution_count": 10,
          "metadata": {},
          "output_type": "execute_result"
        }
      ],
      "source": [
        "games['total_sales'] = games['na_sales'] + games['eu_sales'] + games['jp_sales'] + games['other_sales']\n",
        "column_names = ['name', 'platform', 'year_of_release', 'genre', 'na_sales', 'eu_sales', 'jp_sales', 'other_sales', 'total_sales', 'critic_score', 'user_score', 'rating']\n",
        "games = games.reindex(columns=column_names)\n",
        "games.sample()"
      ]
    },
    {
      "cell_type": "code",
      "execution_count": null,
      "metadata": {
        "id": "WCrcLrkfnYQB",
        "outputId": "39400f93-a0f8-4f21-d992-f7b8157b8167"
      },
      "outputs": [
        {
          "data": {
            "text/plain": [
              "e       3990\n",
              "t       2961\n",
              "m       1563\n",
              "e10+    1420\n",
              "ec         8\n",
              "rp         3\n",
              "k-a        3\n",
              "ao         1\n",
              "Name: rating, dtype: int64"
            ]
          },
          "execution_count": 11,
          "metadata": {},
          "output_type": "execute_result"
        }
      ],
      "source": [
        "games['rating'].value_counts()"
      ]
    },
    {
      "cell_type": "markdown",
      "metadata": {
        "id": "LGNlUdjcnYQC"
      },
      "source": [
        "В 1998 k-a был переименован в e. ao только 1 игра, удалим ее, как и rp c 3 появлениями. ec можно добавить к e10+"
      ]
    },
    {
      "cell_type": "code",
      "execution_count": null,
      "metadata": {
        "id": "pZ7F8Dt4nYQD"
      },
      "outputs": [],
      "source": [
        "games['rating'] = games['rating'].replace({'ec': 'e10+', 'k-a': 'e' })\n",
        "games['rating'] = games['rating'].replace('ao', np.nan)\n",
        "games['rating'] = games['rating'].replace('rp', np.nan)\n",
        "games['rating'] = games['rating'].fillna('unrated')"
      ]
    },
    {
      "cell_type": "code",
      "execution_count": null,
      "metadata": {
        "id": "nXBUwbcxnYQD",
        "outputId": "42e30fd1-2acc-495c-df13-75617889725a"
      },
      "outputs": [
        {
          "data": {
            "text/plain": [
              "array(['e', 'unrated', 'm', 't', 'e10+'], dtype=object)"
            ]
          },
          "execution_count": 13,
          "metadata": {},
          "output_type": "execute_result"
        }
      ],
      "source": [
        "games['rating'].unique()"
      ]
    },
    {
      "cell_type": "markdown",
      "metadata": {
        "id": "-poM7ln2nYQE"
      },
      "source": [
        "## Анализ данных"
      ]
    },
    {
      "cell_type": "markdown",
      "metadata": {
        "id": "77b1bwLVnYQE"
      },
      "source": [
        "Посмотрим, сколько игр выпускалось за предыдущие годы"
      ]
    },
    {
      "cell_type": "code",
      "execution_count": null,
      "metadata": {
        "id": "Ou8QrLW5nYQE",
        "outputId": "8adb38f0-f511-494e-cbe0-21b518139e6d"
      },
      "outputs": [
        {
          "data": {
            "text/plain": [
              "Text(0, 0.5, 'Count of games')"
            ]
          },
          "execution_count": 14,
          "metadata": {},
          "output_type": "execute_result"
        },
        {
          "data": {
            "image/png": "[encoded data removed]",
            "text/plain": [
              "<Figure size 432x288 with 1 Axes>"
            ]
          },
          "metadata": {
            "needs_background": "light"
          },
          "output_type": "display_data"
        }
      ],
      "source": [
        "games_years = games.pivot_table(index = 'year_of_release', values='total_sales', aggfunc='count')\n",
        "ax = games_years.plot(title='Amount of games per year')\n",
        "ax.set_xlabel(\"Year of release\")\n",
        "ax.set_ylabel(\"Count of games\")\n"
      ]
    },
    {
      "cell_type": "markdown",
      "metadata": {
        "id": "6eHlBGDYnYQG"
      },
      "source": [
        "Все годы брать в расчет не будем - слишком радикально менялась индустрия с 1980-х. В 1980-х игр было мало, потом пошел заметный рост с пиком в 2010-x. Логичнее всего взять период последних 5 лет, там похожее количество игр."
      ]
    },
    {
      "cell_type": "markdown",
      "metadata": {
        "id": "hQeoEWbknYQH"
      },
      "source": [
        "Самые прибыльные платформы:"
      ]
    },
    {
      "cell_type": "code",
      "execution_count": null,
      "metadata": {
        "id": "pizmhqHfnYQH",
        "outputId": "9466ce68-b573-482c-c264-b98c2ca463f9"
      },
      "outputs": [
        {
          "data": {
            "text/html": [
              "<div>\n",
              "<style scoped>\n",
              "    .dataframe tbody tr th:only-of-type {\n",
              "        vertical-align: middle;\n",
              "    }\n",
              "\n",
              "    .dataframe tbody tr th {\n",
              "        vertical-align: top;\n",
              "    }\n",
              "\n",
              "    .dataframe thead th {\n",
              "        text-align: right;\n",
              "    }\n",
              "</style>\n",
              "<table border=\"1\" class=\"dataframe\">\n",
              "  <thead>\n",
              "    <tr style=\"text-align: right;\">\n",
              "      <th></th>\n",
              "      <th>platform</th>\n",
              "      <th>total_sales</th>\n",
              "    </tr>\n",
              "  </thead>\n",
              "  <tbody>\n",
              "    <tr>\n",
              "      <td>0</td>\n",
              "      <td>ps2</td>\n",
              "      <td>1255.77</td>\n",
              "    </tr>\n",
              "    <tr>\n",
              "      <td>1</td>\n",
              "      <td>x360</td>\n",
              "      <td>971.42</td>\n",
              "    </tr>\n",
              "    <tr>\n",
              "      <td>2</td>\n",
              "      <td>ps3</td>\n",
              "      <td>939.65</td>\n",
              "    </tr>\n",
              "    <tr>\n",
              "      <td>3</td>\n",
              "      <td>wii</td>\n",
              "      <td>907.51</td>\n",
              "    </tr>\n",
              "    <tr>\n",
              "      <td>4</td>\n",
              "      <td>ds</td>\n",
              "      <td>806.12</td>\n",
              "    </tr>\n",
              "    <tr>\n",
              "      <td>5</td>\n",
              "      <td>ps</td>\n",
              "      <td>730.86</td>\n",
              "    </tr>\n",
              "    <tr>\n",
              "      <td>6</td>\n",
              "      <td>gba</td>\n",
              "      <td>317.85</td>\n",
              "    </tr>\n",
              "    <tr>\n",
              "      <td>7</td>\n",
              "      <td>ps4</td>\n",
              "      <td>314.14</td>\n",
              "    </tr>\n",
              "  </tbody>\n",
              "</table>\n",
              "</div>"
            ],
            "text/plain": [
              "  platform  total_sales\n",
              "0      ps2      1255.77\n",
              "1     x360       971.42\n",
              "2      ps3       939.65\n",
              "3      wii       907.51\n",
              "4       ds       806.12\n",
              "5       ps       730.86\n",
              "6      gba       317.85\n",
              "7      ps4       314.14"
            ]
          },
          "execution_count": 15,
          "metadata": {},
          "output_type": "execute_result"
        }
      ],
      "source": [
        "games_platform = games.pivot_table(index = ['platform'], values='total_sales', aggfunc='sum').sort_values(by=['total_sales'], axis=0, ascending=False).reset_index().head(8)\n",
        "games_platform"
      ]
    },
    {
      "cell_type": "code",
      "execution_count": null,
      "metadata": {
        "id": "4zFoe3DynYQI",
        "outputId": "80a0faf8-d6fa-47ce-be63-6a66c3f10975"
      },
      "outputs": [
        {
          "data": {
            "text/plain": [
              "Text(0.5, 1, 'Popular platforms lifecycle')"
            ]
          },
          "execution_count": 16,
          "metadata": {},
          "output_type": "execute_result"
        },
        {
          "data": {
            "image/png": "[encoded data removed]",
            "text/plain": [
              "<Figure size 648x720 with 2 Axes>"
            ]
          },
          "metadata": {},
          "output_type": "display_data"
        }
      ],
      "source": [
        "games_platform_year = games.pivot_table(index = ['platform', 'year_of_release'], values='total_sales', aggfunc='sum').sort_values(by=['total_sales'], axis=0, ascending=False).reset_index()\n",
        "filtered_platform = games_platform_year[games_platform_year['platform'].isin(games_platform['platform'])]\n",
        "filtered = filtered_platform.pivot_table(index = 'year_of_release', columns = 'platform', values='total_sales', aggfunc='sum')\n",
        "sns.set(rc={'figure.figsize':(9,10)})\n",
        "sns.heatmap(filtered, annot=True, annot_kws={\"size\": 11})\n",
        "ax = plt.axes()\n",
        "ax.set_title('Popular platforms lifecycle')\n"
      ]
    },
    {
      "cell_type": "markdown",
      "metadata": {
        "id": "xM1lGYQQnYQJ"
      },
      "source": [
        "Платформа живет примерно 10 лет."
      ]
    },
    {
      "cell_type": "code",
      "execution_count": null,
      "metadata": {
        "id": "QnFERLXdnYQJ",
        "outputId": "30edee42-4516-4da9-d634-cb10d31740d8"
      },
      "outputs": [
        {
          "data": {
            "text/html": [
              "<div>\n",
              "<style scoped>\n",
              "    .dataframe tbody tr th:only-of-type {\n",
              "        vertical-align: middle;\n",
              "    }\n",
              "\n",
              "    .dataframe tbody tr th {\n",
              "        vertical-align: top;\n",
              "    }\n",
              "\n",
              "    .dataframe thead th {\n",
              "        text-align: right;\n",
              "    }\n",
              "</style>\n",
              "<table border=\"1\" class=\"dataframe\">\n",
              "  <thead>\n",
              "    <tr style=\"text-align: right;\">\n",
              "      <th></th>\n",
              "      <th>platform</th>\n",
              "      <th>year_of_release</th>\n",
              "      <th>total_sales</th>\n",
              "    </tr>\n",
              "  </thead>\n",
              "  <tbody>\n",
              "    <tr>\n",
              "      <td>25</td>\n",
              "      <td>ps4</td>\n",
              "      <td>2015</td>\n",
              "      <td>118.90</td>\n",
              "    </tr>\n",
              "    <tr>\n",
              "      <td>46</td>\n",
              "      <td>xone</td>\n",
              "      <td>2015</td>\n",
              "      <td>60.14</td>\n",
              "    </tr>\n",
              "    <tr>\n",
              "      <td>91</td>\n",
              "      <td>3ds</td>\n",
              "      <td>2015</td>\n",
              "      <td>27.78</td>\n",
              "    </tr>\n",
              "    <tr>\n",
              "      <td>115</td>\n",
              "      <td>ps3</td>\n",
              "      <td>2015</td>\n",
              "      <td>16.82</td>\n",
              "    </tr>\n",
              "    <tr>\n",
              "      <td>116</td>\n",
              "      <td>wiiu</td>\n",
              "      <td>2015</td>\n",
              "      <td>16.35</td>\n",
              "    </tr>\n",
              "    <tr>\n",
              "      <td>128</td>\n",
              "      <td>x360</td>\n",
              "      <td>2015</td>\n",
              "      <td>11.96</td>\n",
              "    </tr>\n",
              "    <tr>\n",
              "      <td>145</td>\n",
              "      <td>pc</td>\n",
              "      <td>2015</td>\n",
              "      <td>8.52</td>\n",
              "    </tr>\n",
              "    <tr>\n",
              "      <td>155</td>\n",
              "      <td>psv</td>\n",
              "      <td>2015</td>\n",
              "      <td>6.25</td>\n",
              "    </tr>\n",
              "    <tr>\n",
              "      <td>197</td>\n",
              "      <td>wii</td>\n",
              "      <td>2015</td>\n",
              "      <td>1.14</td>\n",
              "    </tr>\n",
              "    <tr>\n",
              "      <td>223</td>\n",
              "      <td>psp</td>\n",
              "      <td>2015</td>\n",
              "      <td>0.12</td>\n",
              "    </tr>\n",
              "  </tbody>\n",
              "</table>\n",
              "</div>"
            ],
            "text/plain": [
              "    platform  year_of_release  total_sales\n",
              "25       ps4             2015       118.90\n",
              "46      xone             2015        60.14\n",
              "91       3ds             2015        27.78\n",
              "115      ps3             2015        16.82\n",
              "116     wiiu             2015        16.35\n",
              "128     x360             2015        11.96\n",
              "145       pc             2015         8.52\n",
              "155      psv             2015         6.25\n",
              "197      wii             2015         1.14\n",
              "223      psp             2015         0.12"
            ]
          },
          "execution_count": 17,
          "metadata": {},
          "output_type": "execute_result"
        }
      ],
      "source": [
        "games_platform_year.query('year_of_release ==2015')"
      ]
    },
    {
      "cell_type": "markdown",
      "metadata": {
        "id": "U_IxHievnYQK"
      },
      "source": [
        "Самые популярные в предыдущем году и потенциально прибыльные  - ps4, xone, 3ds. PC остается как всегда релевантная.<br>\n",
        "xbox 360, wii, ps3 уxодят в прошлое."
      ]
    },
    {
      "cell_type": "code",
      "execution_count": null,
      "metadata": {
        "id": "cBu4VefynYQL",
        "outputId": "95879800-7056-4a96-948f-e02cb473ccc6"
      },
      "outputs": [
        {
          "data": {
            "image/png": "[encoded data removed]",
            "text/plain": [
              "<Figure size 2160x720 with 1 Axes>"
            ]
          },
          "metadata": {},
          "output_type": "display_data"
        }
      ],
      "source": [
        "sns.boxplot(x='platform', y='total_sales', data=games_platform_year, palette=\"Set3\", linewidth=1)\n",
        "ax = plt.axes()\n",
        "sns.set(rc={'figure.figsize':(30,10)})\n",
        "ax.set_title('Sales per platform 1980-2016', fontsize = 30)\n",
        "sns.set_context(\"paper\", font_scale=2)   "
      ]
    },
    {
      "cell_type": "markdown",
      "metadata": {
        "id": "JLx6TZf0nYQL"
      },
      "source": [
        "По этому графику по размеру каждого \"ящика\" хорошо видно самые прибыльные и самые незначительные платформы. Новые прибыльные платформы на этом графике выглядят небольшими, потому что нет полных данных об их жизненном цикле. У популярных платформ, уходящих в прошлое, все равно остаются \"хвосты\" - люди продолжают покупать игры для полюбившейся платформы, даже если она становится менее популярна."
      ]
    },
    {
      "cell_type": "markdown",
      "metadata": {
        "id": "V-Qz0n9YnYQM"
      },
      "source": [
        "Посчитаем корреляцию между отзывами критиков и продажами и отзывами пользователей и продажами для одной популярной платформы - ps4."
      ]
    },
    {
      "cell_type": "markdown",
      "metadata": {
        "id": "_5S8L9ErnYQM"
      },
      "source": [
        "На основе предыдущих выводов о сроке жизни платформы и о перемене в игровой индустрии с 2010 года, возьмем в свой набор данных для работы только игры, выпущенные позже 2013 года."
      ]
    },
    {
      "cell_type": "code",
      "execution_count": null,
      "metadata": {
        "id": "VzRtKdU3nYQM",
        "outputId": "ccc41e09-05c8-435b-99cd-a382a5ff8926"
      },
      "outputs": [
        {
          "data": {
            "text/html": [
              "<div>\n",
              "<style scoped>\n",
              "    .dataframe tbody tr th:only-of-type {\n",
              "        vertical-align: middle;\n",
              "    }\n",
              "\n",
              "    .dataframe tbody tr th {\n",
              "        vertical-align: top;\n",
              "    }\n",
              "\n",
              "    .dataframe thead th {\n",
              "        text-align: right;\n",
              "    }\n",
              "</style>\n",
              "<table border=\"1\" class=\"dataframe\">\n",
              "  <thead>\n",
              "    <tr style=\"text-align: right;\">\n",
              "      <th></th>\n",
              "      <th>name</th>\n",
              "      <th>platform</th>\n",
              "      <th>year_of_release</th>\n",
              "      <th>genre</th>\n",
              "      <th>na_sales</th>\n",
              "      <th>eu_sales</th>\n",
              "      <th>jp_sales</th>\n",
              "      <th>other_sales</th>\n",
              "      <th>total_sales</th>\n",
              "      <th>critic_score</th>\n",
              "      <th>user_score</th>\n",
              "      <th>rating</th>\n",
              "    </tr>\n",
              "  </thead>\n",
              "  <tbody>\n",
              "    <tr>\n",
              "      <td>563</td>\n",
              "      <td>yokai watch 2 shinuchi</td>\n",
              "      <td>3ds</td>\n",
              "      <td>2014</td>\n",
              "      <td>role-playing</td>\n",
              "      <td>0.0</td>\n",
              "      <td>0.0</td>\n",
              "      <td>2.68</td>\n",
              "      <td>0.0</td>\n",
              "      <td>2.68</td>\n",
              "      <td>NaN</td>\n",
              "      <td>-1.0</td>\n",
              "      <td>unrated</td>\n",
              "    </tr>\n",
              "  </tbody>\n",
              "</table>\n",
              "</div>"
            ],
            "text/plain": [
              "                       name platform  year_of_release         genre  na_sales  \\\n",
              "563  yokai watch 2 shinuchi      3ds             2014  role-playing       0.0   \n",
              "\n",
              "     eu_sales  jp_sales  other_sales  total_sales  critic_score  user_score  \\\n",
              "563       0.0      2.68          0.0         2.68           NaN        -1.0   \n",
              "\n",
              "      rating  \n",
              "563  unrated  "
            ]
          },
          "execution_count": 19,
          "metadata": {},
          "output_type": "execute_result"
        }
      ],
      "source": [
        "our_games = games.query ('year_of_release > 2013')\n",
        "our_games.sample()"
      ]
    },
    {
      "cell_type": "code",
      "execution_count": null,
      "metadata": {
        "id": "-qZCWSjknYQO",
        "outputId": "0dda9583-decf-4caa-cdf7-dd2fa4e141d8"
      },
      "outputs": [
        {
          "data": {
            "text/html": [
              "<div>\n",
              "<style scoped>\n",
              "    .dataframe tbody tr th:only-of-type {\n",
              "        vertical-align: middle;\n",
              "    }\n",
              "\n",
              "    .dataframe tbody tr th {\n",
              "        vertical-align: top;\n",
              "    }\n",
              "\n",
              "    .dataframe thead th {\n",
              "        text-align: right;\n",
              "    }\n",
              "</style>\n",
              "<table border=\"1\" class=\"dataframe\">\n",
              "  <thead>\n",
              "    <tr style=\"text-align: right;\">\n",
              "      <th></th>\n",
              "      <th>name</th>\n",
              "      <th>platform</th>\n",
              "      <th>year_of_release</th>\n",
              "      <th>genre</th>\n",
              "      <th>na_sales</th>\n",
              "      <th>eu_sales</th>\n",
              "      <th>jp_sales</th>\n",
              "      <th>other_sales</th>\n",
              "      <th>total_sales</th>\n",
              "      <th>critic_score</th>\n",
              "      <th>user_score</th>\n",
              "      <th>rating</th>\n",
              "    </tr>\n",
              "  </thead>\n",
              "  <tbody>\n",
              "    <tr>\n",
              "      <td>42</td>\n",
              "      <td>grand theft auto v</td>\n",
              "      <td>ps4</td>\n",
              "      <td>2014</td>\n",
              "      <td>action</td>\n",
              "      <td>3.96</td>\n",
              "      <td>6.31</td>\n",
              "      <td>0.38</td>\n",
              "      <td>1.97</td>\n",
              "      <td>12</td>\n",
              "      <td>97</td>\n",
              "      <td>8.3</td>\n",
              "      <td>m</td>\n",
              "    </tr>\n",
              "    <tr>\n",
              "      <td>77</td>\n",
              "      <td>fifa 16</td>\n",
              "      <td>ps4</td>\n",
              "      <td>2015</td>\n",
              "      <td>sports</td>\n",
              "      <td>1.12</td>\n",
              "      <td>6.12</td>\n",
              "      <td>0.06</td>\n",
              "      <td>1.28</td>\n",
              "      <td>8</td>\n",
              "      <td>82</td>\n",
              "      <td>4.3</td>\n",
              "      <td>e</td>\n",
              "    </tr>\n",
              "    <tr>\n",
              "      <td>92</td>\n",
              "      <td>call of duty: advanced warfare</td>\n",
              "      <td>ps4</td>\n",
              "      <td>2014</td>\n",
              "      <td>shooter</td>\n",
              "      <td>2.81</td>\n",
              "      <td>3.48</td>\n",
              "      <td>0.14</td>\n",
              "      <td>1.23</td>\n",
              "      <td>7</td>\n",
              "      <td>83</td>\n",
              "      <td>5.7</td>\n",
              "      <td>m</td>\n",
              "    </tr>\n",
              "    <tr>\n",
              "      <td>94</td>\n",
              "      <td>fifa 17</td>\n",
              "      <td>ps4</td>\n",
              "      <td>2016</td>\n",
              "      <td>sports</td>\n",
              "      <td>0.66</td>\n",
              "      <td>5.75</td>\n",
              "      <td>0.08</td>\n",
              "      <td>1.11</td>\n",
              "      <td>7</td>\n",
              "      <td>85</td>\n",
              "      <td>5.0</td>\n",
              "      <td>e</td>\n",
              "    </tr>\n",
              "    <tr>\n",
              "      <td>105</td>\n",
              "      <td>fallout 4</td>\n",
              "      <td>ps4</td>\n",
              "      <td>2015</td>\n",
              "      <td>role-playing</td>\n",
              "      <td>2.53</td>\n",
              "      <td>3.27</td>\n",
              "      <td>0.24</td>\n",
              "      <td>1.13</td>\n",
              "      <td>7</td>\n",
              "      <td>87</td>\n",
              "      <td>6.5</td>\n",
              "      <td>m</td>\n",
              "    </tr>\n",
              "    <tr>\n",
              "      <td>...</td>\n",
              "      <td>...</td>\n",
              "      <td>...</td>\n",
              "      <td>...</td>\n",
              "      <td>...</td>\n",
              "      <td>...</td>\n",
              "      <td>...</td>\n",
              "      <td>...</td>\n",
              "      <td>...</td>\n",
              "      <td>...</td>\n",
              "      <td>...</td>\n",
              "      <td>...</td>\n",
              "      <td>...</td>\n",
              "    </tr>\n",
              "    <tr>\n",
              "      <td>16486</td>\n",
              "      <td>super dungeon bros</td>\n",
              "      <td>ps4</td>\n",
              "      <td>2016</td>\n",
              "      <td>action</td>\n",
              "      <td>0.01</td>\n",
              "      <td>0.00</td>\n",
              "      <td>0.00</td>\n",
              "      <td>0.00</td>\n",
              "      <td>0</td>\n",
              "      <td>42</td>\n",
              "      <td>2.3</td>\n",
              "      <td>e10+</td>\n",
              "    </tr>\n",
              "    <tr>\n",
              "      <td>16499</td>\n",
              "      <td>sherlock holmes: the devil's daughter</td>\n",
              "      <td>ps4</td>\n",
              "      <td>2016</td>\n",
              "      <td>adventure</td>\n",
              "      <td>0.01</td>\n",
              "      <td>0.00</td>\n",
              "      <td>0.00</td>\n",
              "      <td>0.00</td>\n",
              "      <td>0</td>\n",
              "      <td>70</td>\n",
              "      <td>6.8</td>\n",
              "      <td>t</td>\n",
              "    </tr>\n",
              "    <tr>\n",
              "      <td>16500</td>\n",
              "      <td>root letter</td>\n",
              "      <td>ps4</td>\n",
              "      <td>2016</td>\n",
              "      <td>adventure</td>\n",
              "      <td>0.00</td>\n",
              "      <td>0.00</td>\n",
              "      <td>0.01</td>\n",
              "      <td>0.00</td>\n",
              "      <td>0</td>\n",
              "      <td>69</td>\n",
              "      <td>7.5</td>\n",
              "      <td>unrated</td>\n",
              "    </tr>\n",
              "    <tr>\n",
              "      <td>16526</td>\n",
              "      <td>dungeons 2</td>\n",
              "      <td>ps4</td>\n",
              "      <td>2016</td>\n",
              "      <td>role-playing</td>\n",
              "      <td>0.01</td>\n",
              "      <td>0.00</td>\n",
              "      <td>0.00</td>\n",
              "      <td>0.00</td>\n",
              "      <td>0</td>\n",
              "      <td>61</td>\n",
              "      <td>7.9</td>\n",
              "      <td>t</td>\n",
              "    </tr>\n",
              "    <tr>\n",
              "      <td>16530</td>\n",
              "      <td>carmageddon: max damage</td>\n",
              "      <td>ps4</td>\n",
              "      <td>2016</td>\n",
              "      <td>action</td>\n",
              "      <td>0.01</td>\n",
              "      <td>0.00</td>\n",
              "      <td>0.00</td>\n",
              "      <td>0.00</td>\n",
              "      <td>0</td>\n",
              "      <td>51</td>\n",
              "      <td>5.5</td>\n",
              "      <td>m</td>\n",
              "    </tr>\n",
              "  </tbody>\n",
              "</table>\n",
              "<p>237 rows × 12 columns</p>\n",
              "</div>"
            ],
            "text/plain": [
              "                                        name platform  year_of_release  \\\n",
              "42                        grand theft auto v      ps4             2014   \n",
              "77                                   fifa 16      ps4             2015   \n",
              "92            call of duty: advanced warfare      ps4             2014   \n",
              "94                                   fifa 17      ps4             2016   \n",
              "105                                fallout 4      ps4             2015   \n",
              "...                                      ...      ...              ...   \n",
              "16486                     super dungeon bros      ps4             2016   \n",
              "16499  sherlock holmes: the devil's daughter      ps4             2016   \n",
              "16500                            root letter      ps4             2016   \n",
              "16526                             dungeons 2      ps4             2016   \n",
              "16530                carmageddon: max damage      ps4             2016   \n",
              "\n",
              "              genre  na_sales  eu_sales  jp_sales  other_sales  total_sales  \\\n",
              "42           action      3.96      6.31      0.38         1.97           12   \n",
              "77           sports      1.12      6.12      0.06         1.28            8   \n",
              "92          shooter      2.81      3.48      0.14         1.23            7   \n",
              "94           sports      0.66      5.75      0.08         1.11            7   \n",
              "105    role-playing      2.53      3.27      0.24         1.13            7   \n",
              "...             ...       ...       ...       ...          ...          ...   \n",
              "16486        action      0.01      0.00      0.00         0.00            0   \n",
              "16499     adventure      0.01      0.00      0.00         0.00            0   \n",
              "16500     adventure      0.00      0.00      0.01         0.00            0   \n",
              "16526  role-playing      0.01      0.00      0.00         0.00            0   \n",
              "16530        action      0.01      0.00      0.00         0.00            0   \n",
              "\n",
              "       critic_score  user_score   rating  \n",
              "42               97         8.3        m  \n",
              "77               82         4.3        e  \n",
              "92               83         5.7        m  \n",
              "94               85         5.0        e  \n",
              "105              87         6.5        m  \n",
              "...             ...         ...      ...  \n",
              "16486            42         2.3     e10+  \n",
              "16499            70         6.8        t  \n",
              "16500            69         7.5  unrated  \n",
              "16526            61         7.9        t  \n",
              "16530            51         5.5        m  \n",
              "\n",
              "[237 rows x 12 columns]"
            ]
          },
          "execution_count": 20,
          "metadata": {},
          "output_type": "execute_result"
        }
      ],
      "source": [
        "ps4 = our_games.query ('platform == \"ps4\"')\n",
        "ps4 = ps4.dropna(subset = ['critic_score'])\n",
        "ps4['total_sales'] = ps4['total_sales'].astype('int16')\n",
        "ps4"
      ]
    },
    {
      "cell_type": "code",
      "execution_count": null,
      "metadata": {
        "scrolled": true,
        "id": "ZyTe921SnYQO",
        "outputId": "ef8a0011-0c3c-4ab1-c240-6e3c42c98828"
      },
      "outputs": [
        {
          "name": "stderr",
          "output_type": "stream",
          "text": [
            "'c' argument looks like a single numeric RGB or RGBA sequence, which should be avoided as value-mapping will have precedence in case its length matches with 'x' & 'y'.  Please use a 2-D array with a single row if you really want to specify the same RGB or RGBA value for all points.\n"
          ]
        },
        {
          "data": {
            "text/plain": [
              "0.3649325200909993"
            ]
          },
          "execution_count": 21,
          "metadata": {},
          "output_type": "execute_result"
        },
        {
          "data": {
            "image/png": "[encoded data removed]",
            "text/plain": [
              "<Figure size 2160x720 with 1 Axes>"
            ]
          },
          "metadata": {},
          "output_type": "display_data"
        }
      ],
      "source": [
        "ps4.plot(x='total_sales', y='critic_score', kind='scatter', title ='Critic scores vs sales for ps4')\n",
        "ps4['total_sales'] = ps4['total_sales'].astype('int16')\n",
        "ps4['critic_score'] = ps4['critic_score'].astype('int16')\n",
        "a = ps4['total_sales'].corr(ps4['critic_score'])\n",
        "a\n"
      ]
    },
    {
      "cell_type": "code",
      "execution_count": null,
      "metadata": {
        "id": "4u_oe_jNnYQP",
        "outputId": "7ff305b1-0099-422e-de8a-ff5106a6a8b3"
      },
      "outputs": [
        {
          "name": "stderr",
          "output_type": "stream",
          "text": [
            "'c' argument looks like a single numeric RGB or RGBA sequence, which should be avoided as value-mapping will have precedence in case its length matches with 'x' & 'y'.  Please use a 2-D array with a single row if you really want to specify the same RGB or RGBA value for all points.\n"
          ]
        },
        {
          "data": {
            "text/plain": [
              "-0.04311077135067621"
            ]
          },
          "execution_count": 35,
          "metadata": {},
          "output_type": "execute_result"
        },
        {
          "data": {
            "image/png": "[encoded data removed]",
            "text/plain": [
              "<Figure size 2160x720 with 1 Axes>"
            ]
          },
          "metadata": {},
          "output_type": "display_data"
        }
      ],
      "source": [
        "ps4.plot(x='total_sales', y='user_score', kind='scatter', title ='User scores vs sales for ps2')\n",
        "ps4['total_sales'] = ps4['total_sales'].astype('int16')\n",
        "ps4['user_score'] = ps4['user_score'].astype('float16')\n",
        "ps4 = ps4.query('user_score != -1')\n",
        "ps4 = ps4.query('user_score != -2')\n",
        "a = ps4['total_sales'].corr(ps4['user_score'])\n",
        "a\n"
      ]
    },
    {
      "cell_type": "markdown",
      "metadata": {
        "id": "2ELZ1_eInYQP"
      },
      "source": [
        "Никакой корреляции между отзывами пользователей и продажами и отзывами критиков и продажами нет. А также корреляция не говорит о причинно-следственной связи. Чем выше оценки критиков, тем выше продажи игр, но нельзя сказать, что высокие оценки приводят к высоким продажам."
      ]
    },
    {
      "cell_type": "code",
      "execution_count": null,
      "metadata": {
        "id": "9OWU3M8unYQS",
        "outputId": "067f5179-0b19-42da-fdfe-f29f94912f4c"
      },
      "outputs": [
        {
          "data": {
            "text/html": [
              "<div>\n",
              "<style scoped>\n",
              "    .dataframe tbody tr th:only-of-type {\n",
              "        vertical-align: middle;\n",
              "    }\n",
              "\n",
              "    .dataframe tbody tr th {\n",
              "        vertical-align: top;\n",
              "    }\n",
              "\n",
              "    .dataframe thead th {\n",
              "        text-align: right;\n",
              "    }\n",
              "</style>\n",
              "<table border=\"1\" class=\"dataframe\">\n",
              "  <thead>\n",
              "    <tr style=\"text-align: right;\">\n",
              "      <th></th>\n",
              "      <th>genre</th>\n",
              "      <th>total_sales</th>\n",
              "    </tr>\n",
              "  </thead>\n",
              "  <tbody>\n",
              "    <tr>\n",
              "      <td>0</td>\n",
              "      <td>shooter</td>\n",
              "      <td>0.515</td>\n",
              "    </tr>\n",
              "    <tr>\n",
              "      <td>1</td>\n",
              "      <td>sports</td>\n",
              "      <td>0.180</td>\n",
              "    </tr>\n",
              "    <tr>\n",
              "      <td>2</td>\n",
              "      <td>platform</td>\n",
              "      <td>0.140</td>\n",
              "    </tr>\n",
              "    <tr>\n",
              "      <td>3</td>\n",
              "      <td>fighting</td>\n",
              "      <td>0.125</td>\n",
              "    </tr>\n",
              "    <tr>\n",
              "      <td>4</td>\n",
              "      <td>role-playing</td>\n",
              "      <td>0.110</td>\n",
              "    </tr>\n",
              "    <tr>\n",
              "      <td>5</td>\n",
              "      <td>simulation</td>\n",
              "      <td>0.100</td>\n",
              "    </tr>\n",
              "    <tr>\n",
              "      <td>6</td>\n",
              "      <td>action</td>\n",
              "      <td>0.090</td>\n",
              "    </tr>\n",
              "    <tr>\n",
              "      <td>7</td>\n",
              "      <td>misc</td>\n",
              "      <td>0.090</td>\n",
              "    </tr>\n",
              "    <tr>\n",
              "      <td>8</td>\n",
              "      <td>racing</td>\n",
              "      <td>0.090</td>\n",
              "    </tr>\n",
              "    <tr>\n",
              "      <td>9</td>\n",
              "      <td>strategy</td>\n",
              "      <td>0.060</td>\n",
              "    </tr>\n",
              "    <tr>\n",
              "      <td>10</td>\n",
              "      <td>puzzle</td>\n",
              "      <td>0.045</td>\n",
              "    </tr>\n",
              "    <tr>\n",
              "      <td>11</td>\n",
              "      <td>adventure</td>\n",
              "      <td>0.030</td>\n",
              "    </tr>\n",
              "  </tbody>\n",
              "</table>\n",
              "</div>"
            ],
            "text/plain": [
              "           genre  total_sales\n",
              "0        shooter        0.515\n",
              "1         sports        0.180\n",
              "2       platform        0.140\n",
              "3       fighting        0.125\n",
              "4   role-playing        0.110\n",
              "5     simulation        0.100\n",
              "6         action        0.090\n",
              "7           misc        0.090\n",
              "8         racing        0.090\n",
              "9       strategy        0.060\n",
              "10        puzzle        0.045\n",
              "11     adventure        0.030"
            ]
          },
          "execution_count": 41,
          "metadata": {},
          "output_type": "execute_result"
        }
      ],
      "source": [
        "games_platform = our_games.pivot_table(index = ['genre'], values='total_sales', aggfunc='median').sort_values(by=['total_sales'], axis=0, ascending=False).reset_index()\n",
        "games_platform"
      ]
    },
    {
      "cell_type": "markdown",
      "metadata": {
        "id": "U1_MeGwCnYQS"
      },
      "source": [
        "Самые прибыльный жанр - shooter, самый неприбыльный - adventure. Они значимо отделяются от своих соседей."
      ]
    },
    {
      "cell_type": "markdown",
      "metadata": {
        "id": "hRNmH4KVnYQU"
      },
      "source": [
        "## Портрет пользователя"
      ]
    },
    {
      "cell_type": "markdown",
      "metadata": {
        "id": "0FS7MdmCnYQU"
      },
      "source": [
        "Для Европы определим самые популярные платформы и жанры; посмотрим на рейтинг"
      ]
    },
    {
      "cell_type": "code",
      "execution_count": null,
      "metadata": {
        "id": "BRJzZZlgnYQU",
        "outputId": "890faf4b-1366-4bdd-fc33-980e440ae81c"
      },
      "outputs": [
        {
          "data": {
            "text/html": [
              "<div>\n",
              "<style scoped>\n",
              "    .dataframe tbody tr th:only-of-type {\n",
              "        vertical-align: middle;\n",
              "    }\n",
              "\n",
              "    .dataframe tbody tr th {\n",
              "        vertical-align: top;\n",
              "    }\n",
              "\n",
              "    .dataframe thead th {\n",
              "        text-align: right;\n",
              "    }\n",
              "</style>\n",
              "<table border=\"1\" class=\"dataframe\">\n",
              "  <thead>\n",
              "    <tr style=\"text-align: right;\">\n",
              "      <th></th>\n",
              "      <th>genre</th>\n",
              "      <th>eu_sales</th>\n",
              "    </tr>\n",
              "  </thead>\n",
              "  <tbody>\n",
              "    <tr>\n",
              "      <td>0</td>\n",
              "      <td>shooter</td>\n",
              "      <td>0.220</td>\n",
              "    </tr>\n",
              "    <tr>\n",
              "      <td>1</td>\n",
              "      <td>platform</td>\n",
              "      <td>0.055</td>\n",
              "    </tr>\n",
              "    <tr>\n",
              "      <td>2</td>\n",
              "      <td>racing</td>\n",
              "      <td>0.050</td>\n",
              "    </tr>\n",
              "    <tr>\n",
              "      <td>3</td>\n",
              "      <td>sports</td>\n",
              "      <td>0.050</td>\n",
              "    </tr>\n",
              "    <tr>\n",
              "      <td>4</td>\n",
              "      <td>simulation</td>\n",
              "      <td>0.030</td>\n",
              "    </tr>\n",
              "  </tbody>\n",
              "</table>\n",
              "</div>"
            ],
            "text/plain": [
              "        genre  eu_sales\n",
              "0     shooter     0.220\n",
              "1    platform     0.055\n",
              "2      racing     0.050\n",
              "3      sports     0.050\n",
              "4  simulation     0.030"
            ]
          },
          "execution_count": 45,
          "metadata": {},
          "output_type": "execute_result"
        }
      ],
      "source": [
        "genres_eu = our_games.pivot_table(index = ['genre'], values='eu_sales', aggfunc='median').sort_values(by=['eu_sales'], axis=0, ascending=False).reset_index().head()\n",
        "genres_eu"
      ]
    },
    {
      "cell_type": "code",
      "execution_count": null,
      "metadata": {
        "id": "YGjPFGSynYQV",
        "outputId": "4bffae07-e808-40e6-d0ce-3626f0a67158"
      },
      "outputs": [
        {
          "data": {
            "text/html": [
              "<div>\n",
              "<style scoped>\n",
              "    .dataframe tbody tr th:only-of-type {\n",
              "        vertical-align: middle;\n",
              "    }\n",
              "\n",
              "    .dataframe tbody tr th {\n",
              "        vertical-align: top;\n",
              "    }\n",
              "\n",
              "    .dataframe thead th {\n",
              "        text-align: right;\n",
              "    }\n",
              "</style>\n",
              "<table border=\"1\" class=\"dataframe\">\n",
              "  <thead>\n",
              "    <tr style=\"text-align: right;\">\n",
              "      <th></th>\n",
              "      <th>platform</th>\n",
              "      <th>eu_sales</th>\n",
              "    </tr>\n",
              "  </thead>\n",
              "  <tbody>\n",
              "    <tr>\n",
              "      <td>0</td>\n",
              "      <td>wii</td>\n",
              "      <td>0.12</td>\n",
              "    </tr>\n",
              "    <tr>\n",
              "      <td>1</td>\n",
              "      <td>ps4</td>\n",
              "      <td>0.07</td>\n",
              "    </tr>\n",
              "    <tr>\n",
              "      <td>2</td>\n",
              "      <td>xone</td>\n",
              "      <td>0.07</td>\n",
              "    </tr>\n",
              "    <tr>\n",
              "      <td>3</td>\n",
              "      <td>wiiu</td>\n",
              "      <td>0.06</td>\n",
              "    </tr>\n",
              "    <tr>\n",
              "      <td>4</td>\n",
              "      <td>pc</td>\n",
              "      <td>0.05</td>\n",
              "    </tr>\n",
              "  </tbody>\n",
              "</table>\n",
              "</div>"
            ],
            "text/plain": [
              "  platform  eu_sales\n",
              "0      wii      0.12\n",
              "1      ps4      0.07\n",
              "2     xone      0.07\n",
              "3     wiiu      0.06\n",
              "4       pc      0.05"
            ]
          },
          "execution_count": 46,
          "metadata": {},
          "output_type": "execute_result"
        }
      ],
      "source": [
        "platform_eu = our_games.pivot_table(index = ['platform'], values='eu_sales', aggfunc='median').sort_values(by=['eu_sales'], axis=0, ascending=False).reset_index().head()\n",
        "platform_eu"
      ]
    },
    {
      "cell_type": "code",
      "execution_count": null,
      "metadata": {
        "id": "48MEA8m0nYQV",
        "outputId": "47a9b7ab-c2f8-4d7d-dc95-f35377576c16"
      },
      "outputs": [
        {
          "data": {
            "text/html": [
              "<div>\n",
              "<style scoped>\n",
              "    .dataframe tbody tr th:only-of-type {\n",
              "        vertical-align: middle;\n",
              "    }\n",
              "\n",
              "    .dataframe tbody tr th {\n",
              "        vertical-align: top;\n",
              "    }\n",
              "\n",
              "    .dataframe thead th {\n",
              "        text-align: right;\n",
              "    }\n",
              "</style>\n",
              "<table border=\"1\" class=\"dataframe\">\n",
              "  <thead>\n",
              "    <tr style=\"text-align: right;\">\n",
              "      <th></th>\n",
              "      <th>rating</th>\n",
              "      <th>eu_sales</th>\n",
              "    </tr>\n",
              "  </thead>\n",
              "  <tbody>\n",
              "    <tr>\n",
              "      <td>0</td>\n",
              "      <td>m</td>\n",
              "      <td>0.12</td>\n",
              "    </tr>\n",
              "    <tr>\n",
              "      <td>1</td>\n",
              "      <td>e10+</td>\n",
              "      <td>0.09</td>\n",
              "    </tr>\n",
              "    <tr>\n",
              "      <td>2</td>\n",
              "      <td>e</td>\n",
              "      <td>0.05</td>\n",
              "    </tr>\n",
              "    <tr>\n",
              "      <td>3</td>\n",
              "      <td>t</td>\n",
              "      <td>0.04</td>\n",
              "    </tr>\n",
              "    <tr>\n",
              "      <td>4</td>\n",
              "      <td>unrated</td>\n",
              "      <td>0.00</td>\n",
              "    </tr>\n",
              "  </tbody>\n",
              "</table>\n",
              "</div>"
            ],
            "text/plain": [
              "    rating  eu_sales\n",
              "0        m      0.12\n",
              "1     e10+      0.09\n",
              "2        e      0.05\n",
              "3        t      0.04\n",
              "4  unrated      0.00"
            ]
          },
          "execution_count": 50,
          "metadata": {},
          "output_type": "execute_result"
        }
      ],
      "source": [
        "rating_eu = our_games.pivot_table(index = ['rating'], values='eu_sales', aggfunc='median').sort_values(by=['eu_sales'], axis=0, ascending=False).reset_index().head()\n",
        "rating_eu"
      ]
    },
    {
      "cell_type": "markdown",
      "metadata": {
        "id": "h3m54U5dnYQV"
      },
      "source": [
        "Для Америки:"
      ]
    },
    {
      "cell_type": "code",
      "execution_count": null,
      "metadata": {
        "id": "ylDC8ZKgnYQW",
        "outputId": "0772b76f-dd53-4bad-e965-47cbc79483ed"
      },
      "outputs": [
        {
          "data": {
            "text/html": [
              "<div>\n",
              "<style scoped>\n",
              "    .dataframe tbody tr th:only-of-type {\n",
              "        vertical-align: middle;\n",
              "    }\n",
              "\n",
              "    .dataframe tbody tr th {\n",
              "        vertical-align: top;\n",
              "    }\n",
              "\n",
              "    .dataframe thead th {\n",
              "        text-align: right;\n",
              "    }\n",
              "</style>\n",
              "<table border=\"1\" class=\"dataframe\">\n",
              "  <thead>\n",
              "    <tr style=\"text-align: right;\">\n",
              "      <th></th>\n",
              "      <th>genre</th>\n",
              "      <th>na_sales</th>\n",
              "    </tr>\n",
              "  </thead>\n",
              "  <tbody>\n",
              "    <tr>\n",
              "      <td>0</td>\n",
              "      <td>shooter</td>\n",
              "      <td>0.220</td>\n",
              "    </tr>\n",
              "    <tr>\n",
              "      <td>1</td>\n",
              "      <td>platform</td>\n",
              "      <td>0.075</td>\n",
              "    </tr>\n",
              "    <tr>\n",
              "      <td>2</td>\n",
              "      <td>sports</td>\n",
              "      <td>0.070</td>\n",
              "    </tr>\n",
              "    <tr>\n",
              "      <td>3</td>\n",
              "      <td>fighting</td>\n",
              "      <td>0.040</td>\n",
              "    </tr>\n",
              "    <tr>\n",
              "      <td>4</td>\n",
              "      <td>racing</td>\n",
              "      <td>0.030</td>\n",
              "    </tr>\n",
              "  </tbody>\n",
              "</table>\n",
              "</div>"
            ],
            "text/plain": [
              "      genre  na_sales\n",
              "0   shooter     0.220\n",
              "1  platform     0.075\n",
              "2    sports     0.070\n",
              "3  fighting     0.040\n",
              "4    racing     0.030"
            ]
          },
          "execution_count": 47,
          "metadata": {},
          "output_type": "execute_result"
        }
      ],
      "source": [
        "genres_na = our_games.pivot_table(index = ['genre'], values='na_sales', aggfunc='median').sort_values(by=['na_sales'], axis=0, ascending=False).reset_index().head()\n",
        "genres_na"
      ]
    },
    {
      "cell_type": "code",
      "execution_count": null,
      "metadata": {
        "id": "KYkr1Ku0nYQW",
        "outputId": "fad708f9-4b01-47cc-c405-8eaa9bf91578"
      },
      "outputs": [
        {
          "data": {
            "text/html": [
              "<div>\n",
              "<style scoped>\n",
              "    .dataframe tbody tr th:only-of-type {\n",
              "        vertical-align: middle;\n",
              "    }\n",
              "\n",
              "    .dataframe tbody tr th {\n",
              "        vertical-align: top;\n",
              "    }\n",
              "\n",
              "    .dataframe thead th {\n",
              "        text-align: right;\n",
              "    }\n",
              "</style>\n",
              "<table border=\"1\" class=\"dataframe\">\n",
              "  <thead>\n",
              "    <tr style=\"text-align: right;\">\n",
              "      <th></th>\n",
              "      <th>platform</th>\n",
              "      <th>na_sales</th>\n",
              "    </tr>\n",
              "  </thead>\n",
              "  <tbody>\n",
              "    <tr>\n",
              "      <td>0</td>\n",
              "      <td>x360</td>\n",
              "      <td>0.10</td>\n",
              "    </tr>\n",
              "    <tr>\n",
              "      <td>1</td>\n",
              "      <td>xone</td>\n",
              "      <td>0.10</td>\n",
              "    </tr>\n",
              "    <tr>\n",
              "      <td>2</td>\n",
              "      <td>wiiu</td>\n",
              "      <td>0.09</td>\n",
              "    </tr>\n",
              "    <tr>\n",
              "      <td>3</td>\n",
              "      <td>ps4</td>\n",
              "      <td>0.05</td>\n",
              "    </tr>\n",
              "    <tr>\n",
              "      <td>4</td>\n",
              "      <td>wii</td>\n",
              "      <td>0.04</td>\n",
              "    </tr>\n",
              "  </tbody>\n",
              "</table>\n",
              "</div>"
            ],
            "text/plain": [
              "  platform  na_sales\n",
              "0     x360      0.10\n",
              "1     xone      0.10\n",
              "2     wiiu      0.09\n",
              "3      ps4      0.05\n",
              "4      wii      0.04"
            ]
          },
          "execution_count": 59,
          "metadata": {},
          "output_type": "execute_result"
        }
      ],
      "source": [
        "platform_na = our_games.pivot_table(index = ['platform'], values='na_sales', aggfunc='median').sort_values(by=['na_sales'], axis=0, ascending=False).reset_index().head()\n",
        "platform_na"
      ]
    },
    {
      "cell_type": "code",
      "execution_count": null,
      "metadata": {
        "id": "IJrs9L-YnYQX",
        "outputId": "de0adc03-6ef8-4130-b339-f69d7caeea96"
      },
      "outputs": [
        {
          "data": {
            "text/html": [
              "<div>\n",
              "<style scoped>\n",
              "    .dataframe tbody tr th:only-of-type {\n",
              "        vertical-align: middle;\n",
              "    }\n",
              "\n",
              "    .dataframe tbody tr th {\n",
              "        vertical-align: top;\n",
              "    }\n",
              "\n",
              "    .dataframe thead th {\n",
              "        text-align: right;\n",
              "    }\n",
              "</style>\n",
              "<table border=\"1\" class=\"dataframe\">\n",
              "  <thead>\n",
              "    <tr style=\"text-align: right;\">\n",
              "      <th></th>\n",
              "      <th>rating</th>\n",
              "      <th>na_sales</th>\n",
              "    </tr>\n",
              "  </thead>\n",
              "  <tbody>\n",
              "    <tr>\n",
              "      <td>0</td>\n",
              "      <td>m</td>\n",
              "      <td>0.12</td>\n",
              "    </tr>\n",
              "    <tr>\n",
              "      <td>1</td>\n",
              "      <td>e10+</td>\n",
              "      <td>0.10</td>\n",
              "    </tr>\n",
              "    <tr>\n",
              "      <td>2</td>\n",
              "      <td>e</td>\n",
              "      <td>0.05</td>\n",
              "    </tr>\n",
              "    <tr>\n",
              "      <td>3</td>\n",
              "      <td>t</td>\n",
              "      <td>0.03</td>\n",
              "    </tr>\n",
              "    <tr>\n",
              "      <td>4</td>\n",
              "      <td>unrated</td>\n",
              "      <td>0.00</td>\n",
              "    </tr>\n",
              "  </tbody>\n",
              "</table>\n",
              "</div>"
            ],
            "text/plain": [
              "    rating  na_sales\n",
              "0        m      0.12\n",
              "1     e10+      0.10\n",
              "2        e      0.05\n",
              "3        t      0.03\n",
              "4  unrated      0.00"
            ]
          },
          "execution_count": 60,
          "metadata": {},
          "output_type": "execute_result"
        }
      ],
      "source": [
        "rating_na = our_games.pivot_table(index = ['rating'], values='na_sales', aggfunc='median').sort_values(by=['na_sales'], axis=0, ascending=False).reset_index().head(10)\n",
        "rating_na"
      ]
    },
    {
      "cell_type": "markdown",
      "metadata": {
        "id": "B0QkeK1knYQX"
      },
      "source": [
        "Для Японии:"
      ]
    },
    {
      "cell_type": "code",
      "execution_count": null,
      "metadata": {
        "id": "NP7dM7zsnYQX",
        "outputId": "39476fac-e544-461c-af2a-a7536ab2db96"
      },
      "outputs": [
        {
          "data": {
            "text/html": [
              "<div>\n",
              "<style scoped>\n",
              "    .dataframe tbody tr th:only-of-type {\n",
              "        vertical-align: middle;\n",
              "    }\n",
              "\n",
              "    .dataframe tbody tr th {\n",
              "        vertical-align: top;\n",
              "    }\n",
              "\n",
              "    .dataframe thead th {\n",
              "        text-align: right;\n",
              "    }\n",
              "</style>\n",
              "<table border=\"1\" class=\"dataframe\">\n",
              "  <thead>\n",
              "    <tr style=\"text-align: right;\">\n",
              "      <th></th>\n",
              "      <th>genre</th>\n",
              "      <th>jp_sales</th>\n",
              "    </tr>\n",
              "  </thead>\n",
              "  <tbody>\n",
              "    <tr>\n",
              "      <td>0</td>\n",
              "      <td>role-playing</td>\n",
              "      <td>0.05</td>\n",
              "    </tr>\n",
              "    <tr>\n",
              "      <td>1</td>\n",
              "      <td>fighting</td>\n",
              "      <td>0.03</td>\n",
              "    </tr>\n",
              "    <tr>\n",
              "      <td>2</td>\n",
              "      <td>puzzle</td>\n",
              "      <td>0.03</td>\n",
              "    </tr>\n",
              "    <tr>\n",
              "      <td>3</td>\n",
              "      <td>action</td>\n",
              "      <td>0.01</td>\n",
              "    </tr>\n",
              "    <tr>\n",
              "      <td>4</td>\n",
              "      <td>adventure</td>\n",
              "      <td>0.01</td>\n",
              "    </tr>\n",
              "  </tbody>\n",
              "</table>\n",
              "</div>"
            ],
            "text/plain": [
              "          genre  jp_sales\n",
              "0  role-playing      0.05\n",
              "1      fighting      0.03\n",
              "2        puzzle      0.03\n",
              "3        action      0.01\n",
              "4     adventure      0.01"
            ]
          },
          "execution_count": 61,
          "metadata": {},
          "output_type": "execute_result"
        }
      ],
      "source": [
        "genres_jp = our_games.pivot_table(index = ['genre'], values='jp_sales', aggfunc='median').sort_values(by=['jp_sales'], axis=0, ascending=False).reset_index().head()\n",
        "genres_jp"
      ]
    },
    {
      "cell_type": "code",
      "execution_count": null,
      "metadata": {
        "id": "8FQjx1P7nYQY",
        "outputId": "ba5424cd-8a0a-4c28-e78b-cbaaf19bbabb"
      },
      "outputs": [
        {
          "data": {
            "text/html": [
              "<div>\n",
              "<style scoped>\n",
              "    .dataframe tbody tr th:only-of-type {\n",
              "        vertical-align: middle;\n",
              "    }\n",
              "\n",
              "    .dataframe tbody tr th {\n",
              "        vertical-align: top;\n",
              "    }\n",
              "\n",
              "    .dataframe thead th {\n",
              "        text-align: right;\n",
              "    }\n",
              "</style>\n",
              "<table border=\"1\" class=\"dataframe\">\n",
              "  <thead>\n",
              "    <tr style=\"text-align: right;\">\n",
              "      <th></th>\n",
              "      <th>platform</th>\n",
              "      <th>jp_sales</th>\n",
              "    </tr>\n",
              "  </thead>\n",
              "  <tbody>\n",
              "    <tr>\n",
              "      <td>0</td>\n",
              "      <td>3ds</td>\n",
              "      <td>0.055</td>\n",
              "    </tr>\n",
              "    <tr>\n",
              "      <td>1</td>\n",
              "      <td>psv</td>\n",
              "      <td>0.030</td>\n",
              "    </tr>\n",
              "    <tr>\n",
              "      <td>2</td>\n",
              "      <td>ps3</td>\n",
              "      <td>0.020</td>\n",
              "    </tr>\n",
              "    <tr>\n",
              "      <td>3</td>\n",
              "      <td>psp</td>\n",
              "      <td>0.020</td>\n",
              "    </tr>\n",
              "    <tr>\n",
              "      <td>4</td>\n",
              "      <td>ps4</td>\n",
              "      <td>0.015</td>\n",
              "    </tr>\n",
              "  </tbody>\n",
              "</table>\n",
              "</div>"
            ],
            "text/plain": [
              "  platform  jp_sales\n",
              "0      3ds     0.055\n",
              "1      psv     0.030\n",
              "2      ps3     0.020\n",
              "3      psp     0.020\n",
              "4      ps4     0.015"
            ]
          },
          "execution_count": 62,
          "metadata": {},
          "output_type": "execute_result"
        }
      ],
      "source": [
        "platform_jp = our_games.pivot_table(index = ['platform'], values='jp_sales', aggfunc='median').sort_values(by=['jp_sales'], axis=0, ascending=False).reset_index().head()\n",
        "platform_jp"
      ]
    },
    {
      "cell_type": "code",
      "execution_count": null,
      "metadata": {
        "id": "0PlyKJ1YnYQZ",
        "outputId": "61afbbad-2f3c-44d5-f964-e982146bb869"
      },
      "outputs": [
        {
          "data": {
            "text/html": [
              "<div>\n",
              "<style scoped>\n",
              "    .dataframe tbody tr th:only-of-type {\n",
              "        vertical-align: middle;\n",
              "    }\n",
              "\n",
              "    .dataframe tbody tr th {\n",
              "        vertical-align: top;\n",
              "    }\n",
              "\n",
              "    .dataframe thead th {\n",
              "        text-align: right;\n",
              "    }\n",
              "</style>\n",
              "<table border=\"1\" class=\"dataframe\">\n",
              "  <thead>\n",
              "    <tr style=\"text-align: right;\">\n",
              "      <th></th>\n",
              "      <th>rating</th>\n",
              "      <th>jp_sales</th>\n",
              "    </tr>\n",
              "  </thead>\n",
              "  <tbody>\n",
              "    <tr>\n",
              "      <td>0</td>\n",
              "      <td>unrated</td>\n",
              "      <td>0.02</td>\n",
              "    </tr>\n",
              "    <tr>\n",
              "      <td>1</td>\n",
              "      <td>t</td>\n",
              "      <td>0.01</td>\n",
              "    </tr>\n",
              "    <tr>\n",
              "      <td>2</td>\n",
              "      <td>e</td>\n",
              "      <td>0.00</td>\n",
              "    </tr>\n",
              "    <tr>\n",
              "      <td>3</td>\n",
              "      <td>e10+</td>\n",
              "      <td>0.00</td>\n",
              "    </tr>\n",
              "  </tbody>\n",
              "</table>\n",
              "</div>"
            ],
            "text/plain": [
              "    rating  jp_sales\n",
              "0  unrated      0.02\n",
              "1        t      0.01\n",
              "2        e      0.00\n",
              "3     e10+      0.00"
            ]
          },
          "execution_count": 63,
          "metadata": {},
          "output_type": "execute_result"
        }
      ],
      "source": [
        "rating_jp = our_games.pivot_table(index = ['rating'], values='jp_sales', aggfunc='median').sort_values(by=['jp_sales'], axis=0, ascending=False).reset_index().head(4)\n",
        "rating_jp"
      ]
    },
    {
      "cell_type": "markdown",
      "metadata": {
        "id": "9BTN_itanYQZ"
      },
      "source": [
        "<b>Рейтинг ESRB:</b><br>\n",
        "e - everyone<br>\n",
        "e10+ - everyone 10 and older<br>\n",
        "t - teen<br>\n",
        "m - mature<br>\n"
      ]
    },
    {
      "cell_type": "markdown",
      "metadata": {
        "id": "WNmMROfWnYQa"
      },
      "source": [
        "Любимые жанры и платформы различаются от региона к региону, при этом у европейцев и Северной Америки больше сходства - по жанрам абсолютный лидер shooter, а в Японии role-playing. По платформам европейцы предпочитают nintendo wii, американцы xbox 360, а японцы nintendo 3ds. Продажи по рейтингу ESRB очень схожи в Европе и Северной Америке, Япония отличается: m популярнее в Европе и Северной Америке, t - в Японии."
      ]
    },
    {
      "cell_type": "markdown",
      "metadata": {
        "id": "SrTyPh_9nYQb"
      },
      "source": [
        "## Проверка гипотез"
      ]
    },
    {
      "cell_type": "markdown",
      "metadata": {
        "id": "7AuEQy4anYQb"
      },
      "source": [
        "Нулевая гипотеза обычно предполагает равенство сравниваемых параметров. Для проверки гипотез был выбран критерий Стьюдента, потому что выборки небольшие"
      ]
    },
    {
      "cell_type": "markdown",
      "metadata": {
        "id": "dcOvpVlMnYQb"
      },
      "source": [
        "H0: Средние пользовательские рейтинги платформ Xbox One и PC одинаковые <br>\n",
        "H1: Средние пользовательские рейтинги платформ Xbox One и PC отличаются"
      ]
    },
   
    {
      "cell_type": "code",
      "execution_count": null,
      "metadata": {
        "id": "2bS62Bi4nYQc"
      },
      "outputs": [],
      "source": [
        "final_rating = our_games.pivot_table(index = 'name', columns='platform', values = 'user_score', aggfunc= 'mean')\n",
        "final_rating = final_rating.query('pc != -1')\n",
        "final_rating = final_rating.query('pc != -2')\n",
        "final_rating = final_rating.query('xone != -1')\n",
        "final_rating = final_rating.query('xone != -2')\n",
        "final_rating.sample()"
      ]
    },
    {
      "cell_type": "code",
      "execution_count": null,
      "metadata": {
        "id": "eVWFKo7SnYQc"
      },
      "outputs": [],
      "source": [
        "alpha = .05\n",
        "results = st.ttest_ind(final_rating['xone'].dropna(), final_rating['pc'].dropna(), equal_var = False)\n",
        "print('p-значение:', results.pvalue)\n",
        "if results.pvalue < alpha: \n",
        "    print(\"Отвергаем нулевую гипотезу\")\n",
        "else:\n",
        "    print(\"Не получилось отвергнуть нулевую гипотезу\")"
      ]
    },
    {
      "cell_type": "markdown",
      "metadata": {
        "id": "bdg4WGeXnYQd"
      },
      "source": [
        "H0: Средние пользовательские рейтинги жанров action и sports одинаковые.<br>\n",
        "H1: Средние пользовательские рейтинги жанров action и sports разные."
      ]
    },
    {
      "cell_type": "code",
      "execution_count": null,
      "metadata": {
        "id": "4090Z739nYQd"
      },
      "outputs": [],
      "source": [
        "final_genre = our_games.pivot_table(index = 'name', columns='genre', values = 'user_score', aggfunc= 'mean')\n",
        "final_genre = final_genre.query('action != -1')\n",
        "final_genre = final_genre.query('action != -2')\n",
        "final_genre = final_genre.query('sports != -1')\n",
        "final_genre = final_genre.query('sports != -2')\n",
        "final_genre.sample()"
      ]
    },
    {
      "cell_type": "code",
      "execution_count": null,
      "metadata": {
        "id": "SuTArFGOnYQd"
      },
      "outputs": [],
      "source": [
        "alpha = .05\n",
        "results = st.ttest_ind(final_genre['action'].dropna(), final_genre['sports'].dropna(), equal_var = False)\n",
        "print('p-значение:', results.pvalue)\n",
        "if results.pvalue < alpha: \n",
        "    print(\"Отвергаем нулевую гипотезу\")\n",
        "else:\n",
        "    print(\"Не получилось отвергнуть нулевую гипотезу\")"
      ]
    },
    {
      "cell_type": "markdown",
      "metadata": {
        "id": "etAwGUwJnYQd"
      },
      "source": [
        "Пользовательские рейтинги платформ Xbox One и PC значимо не отличаются. Пользовательские рейтинги жанров action и sports отличаются."
      ]
    },
    {
      "cell_type": "markdown",
      "metadata": {
        "id": "R2icuLxAnYQe"
      },
      "source": [
        "## Общий вывод"
      ]
    },
    {
      "cell_type": "markdown",
      "metadata": {
        "id": "_oM6WiaqnYQe"
      },
      "source": [
        "В среднем игровая платформа живет около 10 лет, потом ей на смену приходят новые. В новом 2017 году можно сделать ставку на ps4, xone, 3ds, pc. Xbox 360, wii, ps3 уxодят в прошлое, но при этом у них все еще остается группа ценителей.<br> \n",
        "В европейском и североамериканском регионе имеет смысл продавать игры жанра shooting, в Японии - role-playing. Продажи по рейтингу ESRB схожи в Европе и Северной Америке, Япония отличается: игры для людей старше 17 самые популярные в Европе и Северной Америке, игры для подростков - в Японии.<br> \n",
        "Пользовательские отзывы и отзывы критиков не влияют на популярность игр. Пользовательские рейтинги платформ xone и pс значимо не отличаются. Пользовательские рейтинги игра в жанрах action и sports отличаются."
      ]
    }
  ],
  "metadata": {
    "ExecuteTimeLog": [
      {
        "duration": 4,
        "start_time": "2021-10-11T09:16:13.715Z"
      },
      {
        "duration": 6130,
        "start_time": "2021-10-11T09:29:30.292Z"
      },
      {
        "duration": 49,
        "start_time": "2021-10-11T09:29:36.426Z"
      },
      {
        "duration": 27,
        "start_time": "2021-10-11T09:29:37.870Z"
      },
      {
        "duration": 15,
        "start_time": "2021-10-11T09:51:15.437Z"
      },
      {
        "duration": 19,
        "start_time": "2021-10-11T11:46:40.763Z"
      },
      {
        "duration": 1419,
        "start_time": "2021-10-11T11:48:22.044Z"
      },
      {
        "duration": 337,
        "start_time": "2021-10-11T11:49:12.378Z"
      },
      {
        "duration": 332,
        "start_time": "2021-10-11T11:49:21.942Z"
      },
      {
        "duration": 304,
        "start_time": "2021-10-11T11:49:28.580Z"
      },
      {
        "duration": 320,
        "start_time": "2021-10-11T11:50:43.481Z"
      },
      {
        "duration": 335,
        "start_time": "2021-10-11T11:50:55.233Z"
      },
      {
        "duration": 3522,
        "start_time": "2021-10-11T11:51:00.305Z"
      },
      {
        "duration": 51,
        "start_time": "2021-10-11T11:51:05.869Z"
      },
      {
        "duration": 19,
        "start_time": "2021-10-11T11:51:06.809Z"
      },
      {
        "duration": 16,
        "start_time": "2021-10-11T11:51:07.606Z"
      },
      {
        "duration": 347,
        "start_time": "2021-10-11T11:51:09.824Z"
      },
      {
        "duration": 28,
        "start_time": "2021-10-11T11:52:51.544Z"
      },
      {
        "duration": 37,
        "start_time": "2021-10-11T11:53:06.875Z"
      },
      {
        "duration": 48,
        "start_time": "2021-10-11T11:53:37.348Z"
      },
      {
        "duration": 331,
        "start_time": "2021-10-11T11:54:14.760Z"
      },
      {
        "duration": 45,
        "start_time": "2021-10-11T11:54:43.698Z"
      },
      {
        "duration": 13,
        "start_time": "2021-10-11T11:55:49.043Z"
      },
      {
        "duration": 262,
        "start_time": "2021-10-11T11:56:27.898Z"
      },
      {
        "duration": 8,
        "start_time": "2021-10-11T11:56:37.231Z"
      },
      {
        "duration": 7,
        "start_time": "2021-10-11T11:57:02.347Z"
      },
      {
        "duration": 6,
        "start_time": "2021-10-11T11:57:17.116Z"
      },
      {
        "duration": 11,
        "start_time": "2021-10-11T11:57:32.479Z"
      },
      {
        "duration": 8,
        "start_time": "2021-10-11T11:59:00.591Z"
      },
      {
        "duration": 24,
        "start_time": "2021-10-11T11:59:27.070Z"
      },
      {
        "duration": 44,
        "start_time": "2021-10-11T12:00:09.855Z"
      },
      {
        "duration": 341,
        "start_time": "2021-10-11T12:01:06.542Z"
      },
      {
        "duration": 786,
        "start_time": "2021-10-11T12:02:45.146Z"
      },
      {
        "duration": 19,
        "start_time": "2021-10-11T12:02:56.820Z"
      },
      {
        "duration": 381,
        "start_time": "2021-10-11T12:03:09.156Z"
      },
      {
        "duration": 304,
        "start_time": "2021-10-11T12:05:14.043Z"
      },
      {
        "duration": 22,
        "start_time": "2021-10-11T12:05:28.334Z"
      },
      {
        "duration": 26,
        "start_time": "2021-10-11T12:05:36.154Z"
      },
      {
        "duration": 20,
        "start_time": "2021-10-11T12:05:39.717Z"
      },
      {
        "duration": 371,
        "start_time": "2021-10-11T12:06:00.470Z"
      },
      {
        "duration": 6,
        "start_time": "2021-10-11T12:06:09.539Z"
      },
      {
        "duration": 20,
        "start_time": "2021-10-11T12:06:57.161Z"
      },
      {
        "duration": 8,
        "start_time": "2021-10-11T12:08:39.771Z"
      },
      {
        "duration": 15,
        "start_time": "2021-10-11T12:09:09.667Z"
      },
      {
        "duration": 50,
        "start_time": "2021-10-11T12:09:34.233Z"
      },
      {
        "duration": 8,
        "start_time": "2021-10-11T12:09:36.490Z"
      },
      {
        "duration": 7,
        "start_time": "2021-10-11T12:09:37.171Z"
      },
      {
        "duration": 6,
        "start_time": "2021-10-11T12:11:43.491Z"
      },
      {
        "duration": 9202,
        "start_time": "2021-10-11T12:13:13.183Z"
      },
      {
        "duration": 314,
        "start_time": "2021-10-11T12:13:40.802Z"
      },
      {
        "duration": 37,
        "start_time": "2021-10-11T12:13:48.861Z"
      },
      {
        "duration": 29,
        "start_time": "2021-10-11T12:14:02.454Z"
      },
      {
        "duration": 29,
        "start_time": "2021-10-11T12:14:05.010Z"
      },
      {
        "duration": 27,
        "start_time": "2021-10-11T12:14:12.421Z"
      },
      {
        "duration": 405,
        "start_time": "2021-10-11T12:15:33.382Z"
      },
      {
        "duration": 1771,
        "start_time": "2021-10-11T12:15:45.714Z"
      },
      {
        "duration": 1230,
        "start_time": "2021-10-11T12:21:12.527Z"
      },
      {
        "duration": 29,
        "start_time": "2021-10-11T12:21:39.255Z"
      },
      {
        "duration": 1235,
        "start_time": "2021-10-11T12:21:51.295Z"
      },
      {
        "duration": 337,
        "start_time": "2021-10-11T12:22:03.215Z"
      },
      {
        "duration": 321,
        "start_time": "2021-10-11T12:22:09.521Z"
      },
      {
        "duration": 322,
        "start_time": "2021-10-11T12:23:34.941Z"
      },
      {
        "duration": 354,
        "start_time": "2021-10-11T12:24:10.015Z"
      },
      {
        "duration": 311,
        "start_time": "2021-10-11T12:24:20.388Z"
      },
      {
        "duration": 339,
        "start_time": "2021-10-11T12:26:02.221Z"
      },
      {
        "duration": 2251,
        "start_time": "2021-10-11T12:27:53.355Z"
      },
      {
        "duration": 397,
        "start_time": "2021-10-11T12:30:09.717Z"
      },
      {
        "duration": 2210,
        "start_time": "2021-10-11T12:30:24.150Z"
      },
      {
        "duration": 8,
        "start_time": "2021-10-11T12:35:43.783Z"
      },
      {
        "duration": 8,
        "start_time": "2021-10-11T12:36:01.497Z"
      },
      {
        "duration": 316,
        "start_time": "2021-10-11T12:42:54.967Z"
      },
      {
        "duration": 423,
        "start_time": "2021-10-11T12:48:33.346Z"
      },
      {
        "duration": 1378,
        "start_time": "2021-10-11T12:48:53.408Z"
      },
      {
        "duration": 40,
        "start_time": "2021-10-11T12:50:36.991Z"
      },
      {
        "duration": 36,
        "start_time": "2021-10-11T12:50:47.532Z"
      },
      {
        "duration": 31,
        "start_time": "2021-10-11T12:50:57.565Z"
      },
      {
        "duration": 34,
        "start_time": "2021-10-11T12:51:43.490Z"
      },
      {
        "duration": 31,
        "start_time": "2021-10-11T13:19:16.143Z"
      },
      {
        "duration": 24,
        "start_time": "2021-10-11T13:21:34.074Z"
      },
      {
        "duration": 29,
        "start_time": "2021-10-11T13:24:58.719Z"
      },
      {
        "duration": 23,
        "start_time": "2021-10-11T13:30:57.047Z"
      },
      {
        "duration": 40,
        "start_time": "2021-10-11T13:31:15.984Z"
      },
      {
        "duration": 40,
        "start_time": "2021-10-11T13:31:28.802Z"
      },
      {
        "duration": 1873,
        "start_time": "2021-10-11T13:31:57.920Z"
      },
      {
        "duration": 24,
        "start_time": "2021-10-11T13:32:07.163Z"
      },
      {
        "duration": 335,
        "start_time": "2021-10-11T13:32:52.258Z"
      },
      {
        "duration": 301,
        "start_time": "2021-10-11T13:33:30.383Z"
      },
      {
        "duration": 970,
        "start_time": "2021-10-11T13:33:44.777Z"
      },
      {
        "duration": 316,
        "start_time": "2021-10-11T13:34:07.397Z"
      },
      {
        "duration": 319,
        "start_time": "2021-10-11T13:34:38.977Z"
      },
      {
        "duration": 269,
        "start_time": "2021-10-11T13:36:30.538Z"
      },
      {
        "duration": 542,
        "start_time": "2021-10-11T13:37:44.857Z"
      },
      {
        "duration": 645,
        "start_time": "2021-10-11T13:38:00.677Z"
      },
      {
        "duration": 629,
        "start_time": "2021-10-11T13:38:14.644Z"
      },
      {
        "duration": 189,
        "start_time": "2021-10-11T13:38:25.518Z"
      },
      {
        "duration": 273,
        "start_time": "2021-10-11T13:38:33.049Z"
      },
      {
        "duration": 23,
        "start_time": "2021-10-11T13:38:43.820Z"
      },
      {
        "duration": 635,
        "start_time": "2021-10-11T13:41:02.912Z"
      },
      {
        "duration": 1290,
        "start_time": "2021-10-11T13:42:39.298Z"
      },
      {
        "duration": 1170,
        "start_time": "2021-10-11T13:42:52.605Z"
      },
      {
        "duration": 1212,
        "start_time": "2021-10-11T13:43:16.839Z"
      },
      {
        "duration": 24,
        "start_time": "2021-10-11T13:43:33.086Z"
      },
      {
        "duration": 1186,
        "start_time": "2021-10-11T13:43:52.638Z"
      },
      {
        "duration": 1177,
        "start_time": "2021-10-11T13:44:07.234Z"
      },
      {
        "duration": 21,
        "start_time": "2021-10-11T13:45:00.134Z"
      },
      {
        "duration": 1949,
        "start_time": "2021-10-11T13:46:18.499Z"
      },
      {
        "duration": 23,
        "start_time": "2021-10-11T13:46:29.841Z"
      },
      {
        "duration": 315,
        "start_time": "2021-10-11T13:48:33.506Z"
      },
      {
        "duration": 323,
        "start_time": "2021-10-11T14:04:48.352Z"
      },
      {
        "duration": 22,
        "start_time": "2021-10-11T14:11:17.235Z"
      },
      {
        "duration": 23,
        "start_time": "2021-10-11T14:44:48.701Z"
      },
      {
        "duration": 23,
        "start_time": "2021-10-11T14:45:07.588Z"
      },
      {
        "duration": 16,
        "start_time": "2021-10-11T14:45:28.258Z"
      },
      {
        "duration": 122,
        "start_time": "2021-10-11T14:45:45.700Z"
      },
      {
        "duration": 22,
        "start_time": "2021-10-11T14:45:53.586Z"
      },
      {
        "duration": 91,
        "start_time": "2021-10-11T14:46:10.796Z"
      },
      {
        "duration": 24,
        "start_time": "2021-10-11T14:46:17.883Z"
      },
      {
        "duration": 24,
        "start_time": "2021-10-11T14:47:40.859Z"
      },
      {
        "duration": 22,
        "start_time": "2021-10-11T14:48:14.819Z"
      },
      {
        "duration": 40,
        "start_time": "2021-10-11T14:48:52.106Z"
      },
      {
        "duration": 50,
        "start_time": "2021-10-11T14:49:04.894Z"
      },
      {
        "duration": 44,
        "start_time": "2021-10-11T14:49:26.724Z"
      },
      {
        "duration": 41,
        "start_time": "2021-10-11T14:49:37.485Z"
      },
      {
        "duration": 320,
        "start_time": "2021-10-11T14:50:25.824Z"
      },
      {
        "duration": 44,
        "start_time": "2021-10-11T14:50:31.279Z"
      },
      {
        "duration": 41,
        "start_time": "2021-10-11T14:50:40.895Z"
      },
      {
        "duration": 48,
        "start_time": "2021-10-11T14:50:56.635Z"
      },
      {
        "duration": 25,
        "start_time": "2021-10-11T14:51:17.430Z"
      },
      {
        "duration": 24,
        "start_time": "2021-10-11T14:51:26.958Z"
      },
      {
        "duration": 43,
        "start_time": "2021-10-11T14:56:09.756Z"
      },
      {
        "duration": 49,
        "start_time": "2021-10-11T14:56:52.533Z"
      },
      {
        "duration": 43,
        "start_time": "2021-10-11T14:57:41.073Z"
      },
      {
        "duration": 43,
        "start_time": "2021-10-11T14:58:04.316Z"
      },
      {
        "duration": 45,
        "start_time": "2021-10-11T14:58:58.966Z"
      },
      {
        "duration": 241,
        "start_time": "2021-10-12T07:58:36.355Z"
      },
      {
        "duration": 4769,
        "start_time": "2021-10-12T07:58:44.915Z"
      },
      {
        "duration": 39,
        "start_time": "2021-10-12T07:58:49.687Z"
      },
      {
        "duration": 16,
        "start_time": "2021-10-12T07:58:50.271Z"
      },
      {
        "duration": 10,
        "start_time": "2021-10-12T07:58:51.276Z"
      },
      {
        "duration": 34,
        "start_time": "2021-10-12T07:58:55.185Z"
      },
      {
        "duration": 6,
        "start_time": "2021-10-12T07:58:55.975Z"
      },
      {
        "duration": 5,
        "start_time": "2021-10-12T07:58:56.766Z"
      },
      {
        "duration": 5,
        "start_time": "2021-10-12T07:58:57.495Z"
      },
      {
        "duration": 33,
        "start_time": "2021-10-12T07:58:59.844Z"
      },
      {
        "duration": 24,
        "start_time": "2021-10-12T07:59:02.275Z"
      },
      {
        "duration": 200,
        "start_time": "2021-10-12T07:59:10.050Z"
      },
      {
        "duration": 16,
        "start_time": "2021-10-12T07:59:29.248Z"
      },
      {
        "duration": 28,
        "start_time": "2021-10-12T08:00:47.335Z"
      },
      {
        "duration": 27,
        "start_time": "2021-10-12T08:01:09.786Z"
      },
      {
        "duration": 26,
        "start_time": "2021-10-12T08:01:19.156Z"
      },
      {
        "duration": 5786,
        "start_time": "2021-10-12T08:03:51.934Z"
      },
      {
        "duration": 5305,
        "start_time": "2021-10-12T08:05:30.705Z"
      },
      {
        "duration": 230,
        "start_time": "2021-10-12T08:08:52.771Z"
      },
      {
        "duration": 26,
        "start_time": "2021-10-12T08:09:23.897Z"
      },
      {
        "duration": 256,
        "start_time": "2021-10-12T08:24:56.577Z"
      },
      {
        "duration": 153,
        "start_time": "2021-10-12T08:25:24.739Z"
      },
      {
        "duration": 217,
        "start_time": "2021-10-12T08:25:40.145Z"
      },
      {
        "duration": 121,
        "start_time": "2021-10-12T08:31:59.326Z"
      },
      {
        "duration": 30,
        "start_time": "2021-10-12T08:32:04.774Z"
      },
      {
        "duration": 963,
        "start_time": "2021-10-12T08:32:55.327Z"
      },
      {
        "duration": 1077,
        "start_time": "2021-10-12T08:33:30.169Z"
      },
      {
        "duration": 248,
        "start_time": "2021-10-12T08:35:17.745Z"
      },
      {
        "duration": 32,
        "start_time": "2021-10-12T08:35:50.473Z"
      },
      {
        "duration": 35,
        "start_time": "2021-10-12T08:36:02.453Z"
      },
      {
        "duration": 18,
        "start_time": "2021-10-12T08:38:51.863Z"
      },
      {
        "duration": 33,
        "start_time": "2021-10-12T08:56:18.187Z"
      },
      {
        "duration": 33,
        "start_time": "2021-10-12T08:56:36.368Z"
      },
      {
        "duration": 226,
        "start_time": "2021-10-12T08:57:11.166Z"
      },
      {
        "duration": 373,
        "start_time": "2021-10-12T08:57:30.773Z"
      },
      {
        "duration": 26,
        "start_time": "2021-10-12T08:57:46.414Z"
      },
      {
        "duration": 235,
        "start_time": "2021-10-12T08:57:47.666Z"
      },
      {
        "duration": 51,
        "start_time": "2021-10-12T08:58:30.928Z"
      },
      {
        "duration": 54,
        "start_time": "2021-10-12T08:58:52.325Z"
      },
      {
        "duration": 18,
        "start_time": "2021-10-12T08:59:09.983Z"
      },
      {
        "duration": 237,
        "start_time": "2021-10-12T08:59:53.062Z"
      },
      {
        "duration": 33,
        "start_time": "2021-10-12T09:00:01.717Z"
      },
      {
        "duration": 73,
        "start_time": "2021-10-12T09:03:37.989Z"
      },
      {
        "duration": 7092,
        "start_time": "2021-10-12T09:03:52.688Z"
      },
      {
        "duration": 150,
        "start_time": "2021-10-12T09:04:49.002Z"
      },
      {
        "duration": 7271,
        "start_time": "2021-10-12T09:05:13.786Z"
      },
      {
        "duration": 6846,
        "start_time": "2021-10-12T09:09:51.826Z"
      },
      {
        "duration": 7554,
        "start_time": "2021-10-12T09:11:22.456Z"
      },
      {
        "duration": 7018,
        "start_time": "2021-10-12T09:12:06.460Z"
      },
      {
        "duration": 6750,
        "start_time": "2021-10-12T09:13:49.584Z"
      },
      {
        "duration": 34,
        "start_time": "2021-10-12T09:14:14.980Z"
      },
      {
        "duration": 281,
        "start_time": "2021-10-12T09:17:38.226Z"
      },
      {
        "duration": 380,
        "start_time": "2021-10-12T09:18:53.863Z"
      },
      {
        "duration": 507,
        "start_time": "2021-10-12T09:19:19.611Z"
      },
      {
        "duration": 5521,
        "start_time": "2021-10-12T09:19:36.910Z"
      },
      {
        "duration": 355,
        "start_time": "2021-10-12T09:19:49.381Z"
      },
      {
        "duration": 125,
        "start_time": "2021-10-12T09:20:47.039Z"
      },
      {
        "duration": 369,
        "start_time": "2021-10-12T09:21:02.180Z"
      },
      {
        "duration": 131,
        "start_time": "2021-10-12T09:21:24.331Z"
      },
      {
        "duration": 26,
        "start_time": "2021-10-12T09:21:40.423Z"
      },
      {
        "duration": 26,
        "start_time": "2021-10-12T09:21:50.715Z"
      },
      {
        "duration": 27,
        "start_time": "2021-10-12T09:21:57.130Z"
      },
      {
        "duration": 32,
        "start_time": "2021-10-12T09:22:36.875Z"
      },
      {
        "duration": 337,
        "start_time": "2021-10-12T09:23:20.227Z"
      },
      {
        "duration": 198,
        "start_time": "2021-10-12T09:23:56.573Z"
      },
      {
        "duration": 423,
        "start_time": "2021-10-12T09:25:20.269Z"
      },
      {
        "duration": 979,
        "start_time": "2021-10-12T09:25:35.741Z"
      },
      {
        "duration": 1025,
        "start_time": "2021-10-12T09:26:18.295Z"
      },
      {
        "duration": 974,
        "start_time": "2021-10-12T09:26:40.092Z"
      },
      {
        "duration": 395,
        "start_time": "2021-10-12T09:26:48.806Z"
      },
      {
        "duration": 952,
        "start_time": "2021-10-12T09:26:56.983Z"
      },
      {
        "duration": 67,
        "start_time": "2021-10-12T09:27:30.985Z"
      },
      {
        "duration": 382,
        "start_time": "2021-10-12T09:27:55.522Z"
      },
      {
        "duration": 422,
        "start_time": "2021-10-12T09:28:13.039Z"
      },
      {
        "duration": 25,
        "start_time": "2021-10-12T09:28:33.980Z"
      },
      {
        "duration": 26,
        "start_time": "2021-10-12T09:28:40.600Z"
      },
      {
        "duration": 399,
        "start_time": "2021-10-12T09:28:46.646Z"
      },
      {
        "duration": 395,
        "start_time": "2021-10-12T09:29:39.931Z"
      },
      {
        "duration": 446,
        "start_time": "2021-10-12T09:30:04.687Z"
      },
      {
        "duration": 72,
        "start_time": "2021-10-12T09:30:31.232Z"
      },
      {
        "duration": 360,
        "start_time": "2021-10-12T09:30:45.707Z"
      },
      {
        "duration": 414,
        "start_time": "2021-10-12T09:32:45.215Z"
      },
      {
        "duration": 443,
        "start_time": "2021-10-12T09:32:52.518Z"
      },
      {
        "duration": 237,
        "start_time": "2021-10-12T09:33:36.839Z"
      },
      {
        "duration": 221,
        "start_time": "2021-10-12T09:33:49.805Z"
      },
      {
        "duration": 229,
        "start_time": "2021-10-12T09:34:43.237Z"
      },
      {
        "duration": 216,
        "start_time": "2021-10-12T09:35:18.949Z"
      },
      {
        "duration": 194,
        "start_time": "2021-10-12T09:35:56.180Z"
      },
      {
        "duration": 206,
        "start_time": "2021-10-12T09:36:11.205Z"
      },
      {
        "duration": 180,
        "start_time": "2021-10-12T09:36:36.874Z"
      },
      {
        "duration": 136,
        "start_time": "2021-10-12T09:36:54.566Z"
      },
      {
        "duration": 13,
        "start_time": "2021-10-12T09:41:05.567Z"
      },
      {
        "duration": 244,
        "start_time": "2021-10-12T09:51:29.369Z"
      },
      {
        "duration": 223,
        "start_time": "2021-10-12T09:51:43.157Z"
      },
      {
        "duration": 194,
        "start_time": "2021-10-12T09:54:33.768Z"
      },
      {
        "duration": 10,
        "start_time": "2021-10-12T09:54:53.781Z"
      },
      {
        "duration": 10,
        "start_time": "2021-10-12T09:55:07.387Z"
      },
      {
        "duration": 8,
        "start_time": "2021-10-12T09:57:35.591Z"
      },
      {
        "duration": 7,
        "start_time": "2021-10-12T09:57:41.164Z"
      },
      {
        "duration": 10,
        "start_time": "2021-10-12T09:57:48.239Z"
      },
      {
        "duration": 11,
        "start_time": "2021-10-12T09:58:37.938Z"
      },
      {
        "duration": 232,
        "start_time": "2021-10-12T09:59:43.023Z"
      },
      {
        "duration": 10,
        "start_time": "2021-10-12T10:00:01.291Z"
      },
      {
        "duration": 343,
        "start_time": "2021-10-12T10:00:15.331Z"
      },
      {
        "duration": 10,
        "start_time": "2021-10-12T10:00:23.830Z"
      },
      {
        "duration": 11,
        "start_time": "2021-10-12T10:00:33.512Z"
      },
      {
        "duration": 3657,
        "start_time": "2021-10-12T10:00:55.222Z"
      },
      {
        "duration": 41,
        "start_time": "2021-10-12T10:00:58.882Z"
      },
      {
        "duration": 27,
        "start_time": "2021-10-12T10:00:58.926Z"
      },
      {
        "duration": 13,
        "start_time": "2021-10-12T10:00:58.956Z"
      },
      {
        "duration": 38,
        "start_time": "2021-10-12T10:00:58.971Z"
      },
      {
        "duration": 8,
        "start_time": "2021-10-12T10:00:59.011Z"
      },
      {
        "duration": 8,
        "start_time": "2021-10-12T10:00:59.049Z"
      },
      {
        "duration": 8,
        "start_time": "2021-10-12T10:00:59.060Z"
      },
      {
        "duration": 35,
        "start_time": "2021-10-12T10:00:59.072Z"
      },
      {
        "duration": 57,
        "start_time": "2021-10-12T10:00:59.110Z"
      },
      {
        "duration": 214,
        "start_time": "2021-10-12T10:00:59.169Z"
      },
      {
        "duration": 19,
        "start_time": "2021-10-12T10:00:59.385Z"
      },
      {
        "duration": 287,
        "start_time": "2021-10-12T10:00:59.405Z"
      },
      {
        "duration": -16,
        "start_time": "2021-10-12T10:00:59.710Z"
      },
      {
        "duration": -17,
        "start_time": "2021-10-12T10:00:59.712Z"
      },
      {
        "duration": -18,
        "start_time": "2021-10-12T10:00:59.714Z"
      },
      {
        "duration": -18,
        "start_time": "2021-10-12T10:00:59.715Z"
      },
      {
        "duration": -28,
        "start_time": "2021-10-12T10:00:59.726Z"
      },
      {
        "duration": -33,
        "start_time": "2021-10-12T10:00:59.731Z"
      },
      {
        "duration": -34,
        "start_time": "2021-10-12T10:00:59.733Z"
      },
      {
        "duration": -34,
        "start_time": "2021-10-12T10:00:59.735Z"
      },
      {
        "duration": -34,
        "start_time": "2021-10-12T10:00:59.736Z"
      },
      {
        "duration": 387,
        "start_time": "2021-10-12T10:01:24.503Z"
      },
      {
        "duration": 230,
        "start_time": "2021-10-12T10:01:29.775Z"
      },
      {
        "duration": 12,
        "start_time": "2021-10-12T10:01:31.580Z"
      },
      {
        "duration": 265,
        "start_time": "2021-10-12T10:01:57.490Z"
      },
      {
        "duration": 9,
        "start_time": "2021-10-12T10:02:05.947Z"
      },
      {
        "duration": 11,
        "start_time": "2021-10-12T10:02:13.371Z"
      },
      {
        "duration": 14,
        "start_time": "2021-10-12T10:04:38.988Z"
      },
      {
        "duration": 599,
        "start_time": "2021-10-12T10:05:05.783Z"
      },
      {
        "duration": 15,
        "start_time": "2021-10-12T10:05:27.430Z"
      },
      {
        "duration": 14,
        "start_time": "2021-10-12T10:07:06.493Z"
      },
      {
        "duration": 9,
        "start_time": "2021-10-12T10:07:21.791Z"
      },
      {
        "duration": 14,
        "start_time": "2021-10-12T10:07:32.020Z"
      },
      {
        "duration": 15,
        "start_time": "2021-10-12T11:07:49.444Z"
      },
      {
        "duration": 8,
        "start_time": "2021-10-12T11:08:08.351Z"
      },
      {
        "duration": 12,
        "start_time": "2021-10-12T11:09:06.204Z"
      },
      {
        "duration": 17,
        "start_time": "2021-10-12T11:09:12.417Z"
      },
      {
        "duration": 29,
        "start_time": "2021-10-12T11:10:29.683Z"
      },
      {
        "duration": 26,
        "start_time": "2021-10-12T11:10:52.702Z"
      },
      {
        "duration": 31,
        "start_time": "2021-10-12T11:11:37.151Z"
      },
      {
        "duration": 32,
        "start_time": "2021-10-12T11:12:06.503Z"
      },
      {
        "duration": 681,
        "start_time": "2021-10-12T11:14:51.702Z"
      },
      {
        "duration": 712,
        "start_time": "2021-10-12T11:15:25.246Z"
      },
      {
        "duration": 666,
        "start_time": "2021-10-12T11:15:36.192Z"
      },
      {
        "duration": 622,
        "start_time": "2021-10-12T11:17:02.327Z"
      },
      {
        "duration": 1031,
        "start_time": "2021-10-12T11:17:23.373Z"
      },
      {
        "duration": 764,
        "start_time": "2021-10-12T11:17:38.440Z"
      },
      {
        "duration": 868,
        "start_time": "2021-10-12T11:17:45.493Z"
      },
      {
        "duration": 762,
        "start_time": "2021-10-12T11:18:13.791Z"
      },
      {
        "duration": 780,
        "start_time": "2021-10-12T11:18:53.402Z"
      },
      {
        "duration": 783,
        "start_time": "2021-10-12T11:19:24.432Z"
      },
      {
        "duration": 1001,
        "start_time": "2021-10-12T11:35:46.086Z"
      },
      {
        "duration": 852,
        "start_time": "2021-10-12T11:36:06.391Z"
      },
      {
        "duration": 923,
        "start_time": "2021-10-12T11:37:54.714Z"
      },
      {
        "duration": 860,
        "start_time": "2021-10-12T11:38:03.087Z"
      },
      {
        "duration": 8,
        "start_time": "2021-10-12T11:39:29.921Z"
      },
      {
        "duration": 13,
        "start_time": "2021-10-12T11:39:45.451Z"
      },
      {
        "duration": 11,
        "start_time": "2021-10-12T11:40:27.073Z"
      },
      {
        "duration": 11,
        "start_time": "2021-10-12T11:41:05.466Z"
      },
      {
        "duration": 11,
        "start_time": "2021-10-12T11:41:26.657Z"
      },
      {
        "duration": 11,
        "start_time": "2021-10-12T11:41:51.385Z"
      },
      {
        "duration": 14,
        "start_time": "2021-10-12T11:46:02.545Z"
      },
      {
        "duration": 34,
        "start_time": "2021-10-12T11:46:54.239Z"
      },
      {
        "duration": 18,
        "start_time": "2021-10-12T11:48:23.961Z"
      },
      {
        "duration": 228,
        "start_time": "2021-10-12T11:49:19.690Z"
      },
      {
        "duration": 1598,
        "start_time": "2021-10-12T11:49:28.536Z"
      },
      {
        "duration": 1298,
        "start_time": "2021-10-12T11:49:52.541Z"
      },
      {
        "duration": 1463,
        "start_time": "2021-10-12T11:50:37.213Z"
      },
      {
        "duration": 399,
        "start_time": "2021-10-12T11:51:35.717Z"
      },
      {
        "duration": 510,
        "start_time": "2021-10-12T11:52:02.887Z"
      },
      {
        "duration": 516,
        "start_time": "2021-10-12T11:52:16.849Z"
      },
      {
        "duration": 531,
        "start_time": "2021-10-12T11:53:04.002Z"
      },
      {
        "duration": 505,
        "start_time": "2021-10-12T11:53:09.721Z"
      },
      {
        "duration": 566,
        "start_time": "2021-10-12T11:53:24.273Z"
      },
      {
        "duration": 957,
        "start_time": "2021-10-12T11:53:35.129Z"
      },
      {
        "duration": 525,
        "start_time": "2021-10-12T11:53:42.640Z"
      },
      {
        "duration": 346,
        "start_time": "2021-10-12T11:53:54.671Z"
      },
      {
        "duration": 342,
        "start_time": "2021-10-12T11:54:09.926Z"
      },
      {
        "duration": 3787,
        "start_time": "2021-10-12T11:54:24.095Z"
      },
      {
        "duration": 39,
        "start_time": "2021-10-12T11:54:27.884Z"
      },
      {
        "duration": 16,
        "start_time": "2021-10-12T11:54:27.925Z"
      },
      {
        "duration": 15,
        "start_time": "2021-10-12T11:54:27.943Z"
      },
      {
        "duration": 35,
        "start_time": "2021-10-12T11:54:27.960Z"
      },
      {
        "duration": 5,
        "start_time": "2021-10-12T11:54:27.997Z"
      },
      {
        "duration": 8,
        "start_time": "2021-10-12T11:54:28.004Z"
      },
      {
        "duration": 13,
        "start_time": "2021-10-12T11:54:28.013Z"
      },
      {
        "duration": 33,
        "start_time": "2021-10-12T11:54:28.051Z"
      },
      {
        "duration": 25,
        "start_time": "2021-10-12T11:54:28.086Z"
      },
      {
        "duration": 218,
        "start_time": "2021-10-12T11:54:28.113Z"
      },
      {
        "duration": 28,
        "start_time": "2021-10-12T11:54:28.332Z"
      },
      {
        "duration": 996,
        "start_time": "2021-10-12T11:54:28.361Z"
      },
      {
        "duration": 11,
        "start_time": "2021-10-12T11:54:29.359Z"
      },
      {
        "duration": 350,
        "start_time": "2021-10-12T11:54:29.372Z"
      },
      {
        "duration": 305,
        "start_time": "2021-10-12T11:55:12.734Z"
      },
      {
        "duration": 806,
        "start_time": "2021-10-12T11:55:21.665Z"
      },
      {
        "duration": 800,
        "start_time": "2021-10-12T11:55:52.664Z"
      },
      {
        "duration": 688,
        "start_time": "2021-10-12T11:56:15.682Z"
      },
      {
        "duration": 819,
        "start_time": "2021-10-12T11:56:24.756Z"
      },
      {
        "duration": 727,
        "start_time": "2021-10-12T11:56:35.419Z"
      },
      {
        "duration": 921,
        "start_time": "2021-10-12T11:57:28.152Z"
      },
      {
        "duration": 754,
        "start_time": "2021-10-12T11:58:11.245Z"
      },
      {
        "duration": 236,
        "start_time": "2021-10-12T11:59:19.613Z"
      },
      {
        "duration": 4918,
        "start_time": "2021-10-12T11:59:54.106Z"
      },
      {
        "duration": 235,
        "start_time": "2021-10-12T12:00:15.738Z"
      },
      {
        "duration": 68,
        "start_time": "2021-10-12T12:00:30.159Z"
      },
      {
        "duration": 64,
        "start_time": "2021-10-12T12:00:45.953Z"
      },
      {
        "duration": 904,
        "start_time": "2021-10-12T12:00:52.309Z"
      },
      {
        "duration": 13,
        "start_time": "2021-10-12T12:02:36.100Z"
      },
      {
        "duration": 1687,
        "start_time": "2021-10-12T12:03:33.673Z"
      },
      {
        "duration": 495,
        "start_time": "2021-10-12T12:06:53.285Z"
      },
      {
        "duration": 8,
        "start_time": "2021-10-12T12:07:20.165Z"
      },
      {
        "duration": 1775,
        "start_time": "2021-10-12T12:07:43.894Z"
      },
      {
        "duration": 1023,
        "start_time": "2021-10-12T12:08:07.221Z"
      },
      {
        "duration": 14,
        "start_time": "2021-10-12T12:09:12.690Z"
      },
      {
        "duration": 34,
        "start_time": "2021-10-12T12:11:04.463Z"
      },
      {
        "duration": 848,
        "start_time": "2021-10-12T12:11:32.149Z"
      },
      {
        "duration": 802,
        "start_time": "2021-10-12T12:12:15.388Z"
      },
      {
        "duration": 212,
        "start_time": "2021-10-12T12:14:02.192Z"
      },
      {
        "duration": 214,
        "start_time": "2021-10-12T12:14:19.698Z"
      },
      {
        "duration": 796,
        "start_time": "2021-10-12T12:14:38.989Z"
      },
      {
        "duration": 210,
        "start_time": "2021-10-12T12:16:34.197Z"
      },
      {
        "duration": 221,
        "start_time": "2021-10-12T12:16:39.658Z"
      },
      {
        "duration": 207,
        "start_time": "2021-10-12T12:17:11.262Z"
      },
      {
        "duration": 580,
        "start_time": "2021-10-12T12:17:20.214Z"
      },
      {
        "duration": 893,
        "start_time": "2021-10-12T12:18:35.569Z"
      },
      {
        "duration": 1219,
        "start_time": "2021-10-12T12:19:43.444Z"
      },
      {
        "duration": 922,
        "start_time": "2021-10-12T12:20:27.083Z"
      },
      {
        "duration": 910,
        "start_time": "2021-10-12T12:20:34.966Z"
      },
      {
        "duration": 1002,
        "start_time": "2021-10-12T12:20:42.689Z"
      },
      {
        "duration": 1041,
        "start_time": "2021-10-12T12:20:50.728Z"
      },
      {
        "duration": 903,
        "start_time": "2021-10-12T12:21:03.856Z"
      },
      {
        "duration": 912,
        "start_time": "2021-10-12T12:21:10.191Z"
      },
      {
        "duration": 1071,
        "start_time": "2021-10-12T12:21:15.870Z"
      },
      {
        "duration": 1001,
        "start_time": "2021-10-12T12:21:23.491Z"
      },
      {
        "duration": 902,
        "start_time": "2021-10-12T12:21:29.716Z"
      },
      {
        "duration": 939,
        "start_time": "2021-10-12T12:22:10.561Z"
      },
      {
        "duration": 1188,
        "start_time": "2021-10-12T12:22:19.568Z"
      },
      {
        "duration": 973,
        "start_time": "2021-10-12T12:22:25.276Z"
      },
      {
        "duration": 924,
        "start_time": "2021-10-12T12:22:31.244Z"
      },
      {
        "duration": 915,
        "start_time": "2021-10-12T12:22:39.841Z"
      },
      {
        "duration": 1091,
        "start_time": "2021-10-12T12:32:07.770Z"
      },
      {
        "duration": 912,
        "start_time": "2021-10-12T12:32:17.849Z"
      },
      {
        "duration": 915,
        "start_time": "2021-10-12T12:32:25.895Z"
      },
      {
        "duration": 1129,
        "start_time": "2021-10-12T12:32:32.672Z"
      },
      {
        "duration": 30,
        "start_time": "2021-10-12T12:46:53.914Z"
      },
      {
        "duration": 7,
        "start_time": "2021-10-12T12:49:31.732Z"
      },
      {
        "duration": 19,
        "start_time": "2021-10-12T12:50:19.039Z"
      },
      {
        "duration": 25,
        "start_time": "2021-10-12T14:40:35.191Z"
      },
      {
        "duration": 226,
        "start_time": "2021-10-12T14:41:45.556Z"
      },
      {
        "duration": 24,
        "start_time": "2021-10-12T14:41:57.620Z"
      },
      {
        "duration": 28,
        "start_time": "2021-10-12T14:42:04.410Z"
      },
      {
        "duration": 23,
        "start_time": "2021-10-12T14:42:08.695Z"
      },
      {
        "duration": 25,
        "start_time": "2021-10-12T14:42:12.971Z"
      },
      {
        "duration": 25,
        "start_time": "2021-10-12T14:42:17.558Z"
      },
      {
        "duration": 28,
        "start_time": "2021-10-12T14:42:59.651Z"
      },
      {
        "duration": 10,
        "start_time": "2021-10-12T14:44:10.505Z"
      },
      {
        "duration": 30,
        "start_time": "2021-10-12T14:44:31.547Z"
      },
      {
        "duration": 381,
        "start_time": "2021-10-12T14:45:17.365Z"
      },
      {
        "duration": 1553,
        "start_time": "2021-10-12T14:46:03.255Z"
      },
      {
        "duration": 1232,
        "start_time": "2021-10-12T14:46:27.887Z"
      },
      {
        "duration": 10,
        "start_time": "2021-10-12T14:47:28.604Z"
      },
      {
        "duration": 29,
        "start_time": "2021-10-12T14:47:45.890Z"
      },
      {
        "duration": 11,
        "start_time": "2021-10-12T14:49:31.351Z"
      },
      {
        "duration": 11,
        "start_time": "2021-10-12T14:49:37.285Z"
      },
      {
        "duration": 11,
        "start_time": "2021-10-12T14:49:42.161Z"
      },
      {
        "duration": 565,
        "start_time": "2021-10-12T14:49:44.719Z"
      },
      {
        "duration": 11,
        "start_time": "2021-10-12T14:50:04.145Z"
      },
      {
        "duration": 21,
        "start_time": "2021-10-12T14:50:15.238Z"
      },
      {
        "duration": 30,
        "start_time": "2021-10-12T14:50:21.511Z"
      },
      {
        "duration": 1505,
        "start_time": "2021-10-12T14:50:27.658Z"
      },
      {
        "duration": 1088,
        "start_time": "2021-10-12T14:51:48.831Z"
      },
      {
        "duration": 524,
        "start_time": "2021-10-12T14:52:06.276Z"
      },
      {
        "duration": 86,
        "start_time": "2021-10-12T15:01:10.110Z"
      },
      {
        "duration": 1195,
        "start_time": "2021-10-12T15:01:15.379Z"
      },
      {
        "duration": 669,
        "start_time": "2021-10-12T15:02:11.520Z"
      },
      {
        "duration": 1073,
        "start_time": "2021-10-12T15:02:18.603Z"
      },
      {
        "duration": 1175,
        "start_time": "2021-10-12T15:02:36.335Z"
      },
      {
        "duration": 1207,
        "start_time": "2021-10-12T15:03:09.486Z"
      },
      {
        "duration": 8,
        "start_time": "2021-10-12T15:03:13.524Z"
      },
      {
        "duration": 1040,
        "start_time": "2021-10-12T15:05:37.501Z"
      },
      {
        "duration": 1067,
        "start_time": "2021-10-12T15:05:50.042Z"
      },
      {
        "duration": 536,
        "start_time": "2021-10-12T15:07:19.173Z"
      },
      {
        "duration": 589,
        "start_time": "2021-10-12T15:07:29.724Z"
      },
      {
        "duration": 558,
        "start_time": "2021-10-12T15:07:55.044Z"
      },
      {
        "duration": 549,
        "start_time": "2021-10-12T15:07:59.771Z"
      },
      {
        "duration": 31,
        "start_time": "2021-10-12T15:08:30.067Z"
      },
      {
        "duration": 567,
        "start_time": "2021-10-12T15:08:32.738Z"
      },
      {
        "duration": 10,
        "start_time": "2021-10-12T15:08:39.594Z"
      },
      {
        "duration": 3634,
        "start_time": "2021-10-12T15:08:52.433Z"
      },
      {
        "duration": 38,
        "start_time": "2021-10-12T15:08:56.069Z"
      },
      {
        "duration": 14,
        "start_time": "2021-10-12T15:08:56.110Z"
      },
      {
        "duration": 12,
        "start_time": "2021-10-12T15:08:56.126Z"
      },
      {
        "duration": 40,
        "start_time": "2021-10-12T15:08:56.140Z"
      },
      {
        "duration": 6,
        "start_time": "2021-10-12T15:08:56.181Z"
      },
      {
        "duration": 7,
        "start_time": "2021-10-12T15:08:56.188Z"
      },
      {
        "duration": 7,
        "start_time": "2021-10-12T15:08:56.197Z"
      },
      {
        "duration": 65,
        "start_time": "2021-10-12T15:08:56.207Z"
      },
      {
        "duration": 18,
        "start_time": "2021-10-12T15:08:56.274Z"
      },
      {
        "duration": 203,
        "start_time": "2021-10-12T15:08:56.294Z"
      },
      {
        "duration": 17,
        "start_time": "2021-10-12T15:08:56.499Z"
      },
      {
        "duration": 847,
        "start_time": "2021-10-12T15:08:56.518Z"
      },
      {
        "duration": 11,
        "start_time": "2021-10-12T15:08:57.367Z"
      },
      {
        "duration": 854,
        "start_time": "2021-10-12T15:08:57.380Z"
      },
      {
        "duration": 41,
        "start_time": "2021-10-12T15:08:58.235Z"
      },
      {
        "duration": 451,
        "start_time": "2021-10-12T15:08:58.277Z"
      },
      {
        "duration": 19,
        "start_time": "2021-10-12T15:08:58.730Z"
      },
      {
        "duration": 18,
        "start_time": "2021-10-12T15:08:58.751Z"
      },
      {
        "duration": 921,
        "start_time": "2021-10-12T15:09:44.451Z"
      },
      {
        "duration": 936,
        "start_time": "2021-10-12T15:09:55.505Z"
      },
      {
        "duration": 991,
        "start_time": "2021-10-12T15:10:02.852Z"
      },
      {
        "duration": 1117,
        "start_time": "2021-10-12T15:10:16.824Z"
      },
      {
        "duration": 962,
        "start_time": "2021-10-12T15:10:27.262Z"
      },
      {
        "duration": 3661,
        "start_time": "2021-10-12T15:10:42.109Z"
      },
      {
        "duration": 40,
        "start_time": "2021-10-12T15:10:45.772Z"
      },
      {
        "duration": 16,
        "start_time": "2021-10-12T15:10:45.814Z"
      },
      {
        "duration": 22,
        "start_time": "2021-10-12T15:10:45.832Z"
      },
      {
        "duration": 36,
        "start_time": "2021-10-12T15:10:45.856Z"
      },
      {
        "duration": 5,
        "start_time": "2021-10-12T15:10:45.894Z"
      },
      {
        "duration": 12,
        "start_time": "2021-10-12T15:10:45.901Z"
      },
      {
        "duration": 8,
        "start_time": "2021-10-12T15:10:45.915Z"
      },
      {
        "duration": 54,
        "start_time": "2021-10-12T15:10:45.925Z"
      },
      {
        "duration": 21,
        "start_time": "2021-10-12T15:10:45.981Z"
      },
      {
        "duration": 213,
        "start_time": "2021-10-12T15:10:46.004Z"
      },
      {
        "duration": 30,
        "start_time": "2021-10-12T15:10:46.220Z"
      },
      {
        "duration": 866,
        "start_time": "2021-10-12T15:10:46.252Z"
      },
      {
        "duration": 13,
        "start_time": "2021-10-12T15:10:47.120Z"
      },
      {
        "duration": 795,
        "start_time": "2021-10-12T15:10:47.135Z"
      },
      {
        "duration": 39,
        "start_time": "2021-10-12T15:10:47.932Z"
      },
      {
        "duration": 472,
        "start_time": "2021-10-12T15:10:47.973Z"
      },
      {
        "duration": 8,
        "start_time": "2021-10-12T15:10:48.449Z"
      },
      {
        "duration": 25,
        "start_time": "2021-10-12T15:10:48.459Z"
      },
      {
        "duration": 875,
        "start_time": "2021-10-12T15:10:59.932Z"
      },
      {
        "duration": 828,
        "start_time": "2021-10-12T15:11:08.270Z"
      },
      {
        "duration": 931,
        "start_time": "2021-10-12T15:11:18.046Z"
      },
      {
        "duration": 662,
        "start_time": "2021-10-12T15:11:44.613Z"
      },
      {
        "duration": 3556,
        "start_time": "2021-10-12T15:12:09.081Z"
      },
      {
        "duration": 39,
        "start_time": "2021-10-12T15:12:12.639Z"
      },
      {
        "duration": 15,
        "start_time": "2021-10-12T15:12:12.681Z"
      },
      {
        "duration": 10,
        "start_time": "2021-10-12T15:12:12.698Z"
      },
      {
        "duration": 55,
        "start_time": "2021-10-12T15:12:12.709Z"
      },
      {
        "duration": 6,
        "start_time": "2021-10-12T15:12:12.766Z"
      },
      {
        "duration": 10,
        "start_time": "2021-10-12T15:12:12.773Z"
      },
      {
        "duration": 7,
        "start_time": "2021-10-12T15:12:12.784Z"
      },
      {
        "duration": 33,
        "start_time": "2021-10-12T15:12:12.793Z"
      },
      {
        "duration": 21,
        "start_time": "2021-10-12T15:12:12.849Z"
      },
      {
        "duration": 204,
        "start_time": "2021-10-12T15:12:12.871Z"
      },
      {
        "duration": 18,
        "start_time": "2021-10-12T15:12:13.077Z"
      },
      {
        "duration": 905,
        "start_time": "2021-10-12T15:12:13.097Z"
      },
      {
        "duration": 11,
        "start_time": "2021-10-12T15:12:14.004Z"
      },
      {
        "duration": 794,
        "start_time": "2021-10-12T15:12:14.018Z"
      },
      {
        "duration": 46,
        "start_time": "2021-10-12T15:12:14.814Z"
      },
      {
        "duration": 660,
        "start_time": "2021-10-12T15:12:14.862Z"
      },
      {
        "duration": 10,
        "start_time": "2021-10-12T15:12:15.525Z"
      },
      {
        "duration": 27,
        "start_time": "2021-10-12T15:12:15.537Z"
      },
      {
        "duration": 1292,
        "start_time": "2021-10-12T15:12:23.168Z"
      },
      {
        "duration": 998,
        "start_time": "2021-10-12T15:12:41.320Z"
      },
      {
        "duration": 1015,
        "start_time": "2021-10-12T15:12:46.805Z"
      },
      {
        "duration": 1100,
        "start_time": "2021-10-12T15:12:56.505Z"
      },
      {
        "duration": 989,
        "start_time": "2021-10-12T15:13:06.900Z"
      },
      {
        "duration": 983,
        "start_time": "2021-10-12T15:14:12.772Z"
      },
      {
        "duration": 1080,
        "start_time": "2021-10-12T15:14:20.515Z"
      },
      {
        "duration": 688,
        "start_time": "2021-10-12T15:18:08.935Z"
      },
      {
        "duration": 800,
        "start_time": "2021-10-12T15:18:22.628Z"
      },
      {
        "duration": 665,
        "start_time": "2021-10-12T15:18:38.594Z"
      },
      {
        "duration": 630,
        "start_time": "2021-10-12T15:18:53.977Z"
      },
      {
        "duration": 652,
        "start_time": "2021-10-12T15:20:46.004Z"
      },
      {
        "duration": 32,
        "start_time": "2021-10-12T15:23:38.801Z"
      },
      {
        "duration": 700,
        "start_time": "2021-10-12T15:23:39.269Z"
      },
      {
        "duration": 687,
        "start_time": "2021-10-12T15:23:40.444Z"
      },
      {
        "duration": 18,
        "start_time": "2021-10-12T15:25:11.846Z"
      },
      {
        "duration": 539,
        "start_time": "2021-10-12T15:28:45.084Z"
      },
      {
        "duration": 16,
        "start_time": "2021-10-12T15:28:56.251Z"
      },
      {
        "duration": 507,
        "start_time": "2021-10-12T15:29:42.451Z"
      },
      {
        "duration": 369,
        "start_time": "2021-10-12T15:30:00.004Z"
      },
      {
        "duration": 18,
        "start_time": "2021-10-12T15:30:07.888Z"
      },
      {
        "duration": 219,
        "start_time": "2021-10-12T15:45:52.187Z"
      },
      {
        "duration": 17,
        "start_time": "2021-10-12T15:46:00.682Z"
      },
      {
        "duration": 17,
        "start_time": "2021-10-12T15:46:15.041Z"
      },
      {
        "duration": 29,
        "start_time": "2021-10-12T16:03:47.934Z"
      },
      {
        "duration": 17,
        "start_time": "2021-10-12T16:11:31.109Z"
      },
      {
        "duration": 16,
        "start_time": "2021-10-12T16:11:35.763Z"
      },
      {
        "duration": 16,
        "start_time": "2021-10-12T16:12:29.719Z"
      },
      {
        "duration": 17,
        "start_time": "2021-10-12T16:12:31.417Z"
      },
      {
        "duration": 18,
        "start_time": "2021-10-12T16:18:05.070Z"
      },
      {
        "duration": 18,
        "start_time": "2021-10-12T16:18:06.199Z"
      },
      {
        "duration": 18,
        "start_time": "2021-10-12T16:18:13.850Z"
      },
      {
        "duration": 18,
        "start_time": "2021-10-12T16:18:14.552Z"
      },
      {
        "duration": 16,
        "start_time": "2021-10-12T16:18:15.058Z"
      },
      {
        "duration": 21,
        "start_time": "2021-10-12T16:18:15.601Z"
      },
      {
        "duration": 18,
        "start_time": "2021-10-12T16:18:16.193Z"
      },
      {
        "duration": 18,
        "start_time": "2021-10-12T16:18:16.866Z"
      },
      {
        "duration": 67,
        "start_time": "2021-10-12T16:20:44.427Z"
      },
      {
        "duration": 17,
        "start_time": "2021-10-12T16:22:19.681Z"
      },
      {
        "duration": 18,
        "start_time": "2021-10-12T16:22:42.163Z"
      },
      {
        "duration": 18,
        "start_time": "2021-10-12T16:22:42.798Z"
      },
      {
        "duration": 18,
        "start_time": "2021-10-12T16:22:49.124Z"
      },
      {
        "duration": 17,
        "start_time": "2021-10-12T16:23:13.169Z"
      },
      {
        "duration": 18,
        "start_time": "2021-10-12T16:23:44.862Z"
      },
      {
        "duration": 561,
        "start_time": "2021-10-12T16:48:41.058Z"
      },
      {
        "duration": 221,
        "start_time": "2021-10-12T16:49:55.147Z"
      },
      {
        "duration": 207,
        "start_time": "2021-10-12T16:50:06.647Z"
      },
      {
        "duration": 5,
        "start_time": "2021-10-12T16:50:22.725Z"
      },
      {
        "duration": 535,
        "start_time": "2021-10-12T16:50:51.600Z"
      },
      {
        "duration": 7,
        "start_time": "2021-10-12T16:50:59.170Z"
      },
      {
        "duration": 7,
        "start_time": "2021-10-12T16:51:23.888Z"
      },
      {
        "duration": 427,
        "start_time": "2021-10-12T16:51:33.027Z"
      },
      {
        "duration": 7,
        "start_time": "2021-10-12T16:51:38.002Z"
      },
      {
        "duration": 242,
        "start_time": "2021-10-12T16:53:51.384Z"
      },
      {
        "duration": 6,
        "start_time": "2021-10-12T16:54:22.138Z"
      },
      {
        "duration": 3732,
        "start_time": "2021-10-12T16:58:16.069Z"
      },
      {
        "duration": 42,
        "start_time": "2021-10-12T16:58:19.804Z"
      },
      {
        "duration": 16,
        "start_time": "2021-10-12T16:58:19.848Z"
      },
      {
        "duration": 11,
        "start_time": "2021-10-12T16:58:19.866Z"
      },
      {
        "duration": 34,
        "start_time": "2021-10-12T16:58:19.879Z"
      },
      {
        "duration": 6,
        "start_time": "2021-10-12T16:58:19.915Z"
      },
      {
        "duration": 32,
        "start_time": "2021-10-12T16:58:19.922Z"
      },
      {
        "duration": 8,
        "start_time": "2021-10-12T16:58:19.957Z"
      },
      {
        "duration": 37,
        "start_time": "2021-10-12T16:58:19.968Z"
      },
      {
        "duration": 46,
        "start_time": "2021-10-12T16:58:20.007Z"
      },
      {
        "duration": 217,
        "start_time": "2021-10-12T16:58:20.055Z"
      },
      {
        "duration": 17,
        "start_time": "2021-10-12T16:58:20.274Z"
      },
      {
        "duration": 975,
        "start_time": "2021-10-12T16:58:20.293Z"
      },
      {
        "duration": 11,
        "start_time": "2021-10-12T16:58:21.270Z"
      },
      {
        "duration": 832,
        "start_time": "2021-10-12T16:58:21.283Z"
      },
      {
        "duration": 46,
        "start_time": "2021-10-12T16:58:22.117Z"
      },
      {
        "duration": 664,
        "start_time": "2021-10-12T16:58:22.165Z"
      },
      {
        "duration": 782,
        "start_time": "2021-10-12T16:58:22.831Z"
      },
      {
        "duration": 18,
        "start_time": "2021-10-12T16:58:23.615Z"
      },
      {
        "duration": 30,
        "start_time": "2021-10-12T16:58:23.635Z"
      },
      {
        "duration": 21,
        "start_time": "2021-10-12T16:58:23.667Z"
      },
      {
        "duration": 21,
        "start_time": "2021-10-12T16:58:23.690Z"
      },
      {
        "duration": 43,
        "start_time": "2021-10-12T16:58:23.714Z"
      },
      {
        "duration": 16,
        "start_time": "2021-10-12T16:58:23.759Z"
      },
      {
        "duration": 17,
        "start_time": "2021-10-12T16:58:23.777Z"
      },
      {
        "duration": 18,
        "start_time": "2021-10-12T16:58:23.796Z"
      },
      {
        "duration": 46,
        "start_time": "2021-10-12T16:58:23.816Z"
      },
      {
        "duration": 24,
        "start_time": "2021-10-12T16:58:23.865Z"
      },
      {
        "duration": 22,
        "start_time": "2021-10-12T16:58:23.890Z"
      },
      {
        "duration": 448,
        "start_time": "2021-10-12T16:58:23.914Z"
      },
      {
        "duration": 7,
        "start_time": "2021-10-12T16:58:24.365Z"
      },
      {
        "duration": 256,
        "start_time": "2021-10-12T16:58:24.374Z"
      },
      {
        "duration": 18,
        "start_time": "2021-10-12T16:58:24.632Z"
      },
      {
        "duration": 1046,
        "start_time": "2021-10-12T16:58:58.451Z"
      },
      {
        "duration": 3460,
        "start_time": "2021-10-13T10:06:59.015Z"
      },
      {
        "duration": 40,
        "start_time": "2021-10-13T10:07:02.477Z"
      },
      {
        "duration": 15,
        "start_time": "2021-10-13T10:07:02.519Z"
      },
      {
        "duration": 20,
        "start_time": "2021-10-13T10:07:02.536Z"
      },
      {
        "duration": 43,
        "start_time": "2021-10-13T10:07:02.558Z"
      },
      {
        "duration": 18,
        "start_time": "2021-10-13T10:07:02.603Z"
      },
      {
        "duration": 25,
        "start_time": "2021-10-13T10:07:02.623Z"
      },
      {
        "duration": 21,
        "start_time": "2021-10-13T10:07:02.651Z"
      },
      {
        "duration": 50,
        "start_time": "2021-10-13T10:07:02.675Z"
      },
      {
        "duration": 20,
        "start_time": "2021-10-13T10:07:02.727Z"
      },
      {
        "duration": 196,
        "start_time": "2021-10-13T10:07:02.749Z"
      },
      {
        "duration": 16,
        "start_time": "2021-10-13T10:07:02.948Z"
      },
      {
        "duration": 906,
        "start_time": "2021-10-13T10:07:02.966Z"
      },
      {
        "duration": 11,
        "start_time": "2021-10-13T10:07:03.874Z"
      },
      {
        "duration": 803,
        "start_time": "2021-10-13T10:07:03.887Z"
      },
      {
        "duration": 29,
        "start_time": "2021-10-13T10:07:04.692Z"
      },
      {
        "duration": 700,
        "start_time": "2021-10-13T10:07:04.723Z"
      },
      {
        "duration": 775,
        "start_time": "2021-10-13T10:07:05.424Z"
      },
      {
        "duration": 17,
        "start_time": "2021-10-13T10:07:06.201Z"
      },
      {
        "duration": 33,
        "start_time": "2021-10-13T10:07:06.219Z"
      },
      {
        "duration": 17,
        "start_time": "2021-10-13T10:07:06.254Z"
      },
      {
        "duration": 15,
        "start_time": "2021-10-13T10:07:06.273Z"
      },
      {
        "duration": 17,
        "start_time": "2021-10-13T10:07:06.291Z"
      },
      {
        "duration": 46,
        "start_time": "2021-10-13T10:07:06.310Z"
      },
      {
        "duration": 16,
        "start_time": "2021-10-13T10:07:06.358Z"
      },
      {
        "duration": 16,
        "start_time": "2021-10-13T10:07:06.377Z"
      },
      {
        "duration": 16,
        "start_time": "2021-10-13T10:07:06.396Z"
      },
      {
        "duration": 54,
        "start_time": "2021-10-13T10:07:06.413Z"
      },
      {
        "duration": 16,
        "start_time": "2021-10-13T10:07:06.469Z"
      },
      {
        "duration": 435,
        "start_time": "2021-10-13T10:07:06.487Z"
      },
      {
        "duration": 8,
        "start_time": "2021-10-13T10:07:06.924Z"
      },
      {
        "duration": 244,
        "start_time": "2021-10-13T10:07:06.934Z"
      },
      {
        "duration": 7,
        "start_time": "2021-10-13T10:07:07.180Z"
      },
      {
        "duration": 1028,
        "start_time": "2021-10-13T10:07:31.950Z"
      },
      {
        "duration": 8,
        "start_time": "2021-10-13T10:22:37.822Z"
      },
      {
        "duration": 19,
        "start_time": "2021-10-13T10:25:45.100Z"
      },
      {
        "duration": 17,
        "start_time": "2021-10-13T10:25:46.550Z"
      },
      {
        "duration": 18,
        "start_time": "2021-10-13T10:26:00.127Z"
      },
      {
        "duration": 19,
        "start_time": "2021-10-13T10:26:06.950Z"
      },
      {
        "duration": 17,
        "start_time": "2021-10-13T10:26:10.372Z"
      },
      {
        "duration": 18,
        "start_time": "2021-10-13T10:26:12.434Z"
      },
      {
        "duration": 17,
        "start_time": "2021-10-13T10:26:15.625Z"
      },
      {
        "duration": 18,
        "start_time": "2021-10-13T10:26:17.759Z"
      },
      {
        "duration": 18,
        "start_time": "2021-10-13T10:26:20.206Z"
      },
      {
        "duration": 16,
        "start_time": "2021-10-13T10:26:25.712Z"
      },
      {
        "duration": 18,
        "start_time": "2021-10-13T10:26:27.988Z"
      },
      {
        "duration": 326,
        "start_time": "2021-10-13T10:26:38.013Z"
      },
      {
        "duration": 7,
        "start_time": "2021-10-13T10:26:39.680Z"
      },
      {
        "duration": 187,
        "start_time": "2021-10-13T10:26:46.420Z"
      },
      {
        "duration": 7,
        "start_time": "2021-10-13T10:26:48.393Z"
      },
      {
        "duration": 20,
        "start_time": "2021-10-13T10:28:02.332Z"
      },
      {
        "duration": 7,
        "start_time": "2021-10-13T10:28:11.233Z"
      },
      {
        "duration": 111,
        "start_time": "2021-10-13T10:28:14.592Z"
      },
      {
        "duration": 7,
        "start_time": "2021-10-13T10:28:19.669Z"
      },
      {
        "duration": 3749,
        "start_time": "2021-10-13T10:28:39.206Z"
      },
      {
        "duration": 40,
        "start_time": "2021-10-13T10:28:42.957Z"
      },
      {
        "duration": 16,
        "start_time": "2021-10-13T10:28:42.999Z"
      },
      {
        "duration": 12,
        "start_time": "2021-10-13T10:28:43.017Z"
      },
      {
        "duration": 51,
        "start_time": "2021-10-13T10:28:43.031Z"
      },
      {
        "duration": 7,
        "start_time": "2021-10-13T10:28:43.085Z"
      },
      {
        "duration": 15,
        "start_time": "2021-10-13T10:28:43.093Z"
      },
      {
        "duration": 6,
        "start_time": "2021-10-13T10:28:43.110Z"
      },
      {
        "duration": 354,
        "start_time": "2021-10-13T10:28:43.118Z"
      },
      {
        "duration": 5,
        "start_time": "2021-10-13T10:28:43.470Z"
      },
      {
        "duration": 4,
        "start_time": "2021-10-13T10:28:43.472Z"
      },
      {
        "duration": 3,
        "start_time": "2021-10-13T10:28:43.474Z"
      },
      {
        "duration": 1,
        "start_time": "2021-10-13T10:28:43.476Z"
      },
      {
        "duration": 0,
        "start_time": "2021-10-13T10:28:43.478Z"
      },
      {
        "duration": 0,
        "start_time": "2021-10-13T10:28:43.479Z"
      },
      {
        "duration": -1,
        "start_time": "2021-10-13T10:28:43.481Z"
      },
      {
        "duration": -5,
        "start_time": "2021-10-13T10:28:43.486Z"
      },
      {
        "duration": -11,
        "start_time": "2021-10-13T10:28:43.493Z"
      },
      {
        "duration": -12,
        "start_time": "2021-10-13T10:28:43.495Z"
      },
      {
        "duration": -12,
        "start_time": "2021-10-13T10:28:43.496Z"
      },
      {
        "duration": -13,
        "start_time": "2021-10-13T10:28:43.498Z"
      },
      {
        "duration": -22,
        "start_time": "2021-10-13T10:28:43.507Z"
      },
      {
        "duration": -22,
        "start_time": "2021-10-13T10:28:43.508Z"
      },
      {
        "duration": -22,
        "start_time": "2021-10-13T10:28:43.510Z"
      },
      {
        "duration": -27,
        "start_time": "2021-10-13T10:28:43.516Z"
      },
      {
        "duration": -35,
        "start_time": "2021-10-13T10:28:43.525Z"
      },
      {
        "duration": -37,
        "start_time": "2021-10-13T10:28:43.528Z"
      },
      {
        "duration": -38,
        "start_time": "2021-10-13T10:28:43.530Z"
      },
      {
        "duration": -41,
        "start_time": "2021-10-13T10:28:43.534Z"
      },
      {
        "duration": -48,
        "start_time": "2021-10-13T10:28:43.542Z"
      },
      {
        "duration": -50,
        "start_time": "2021-10-13T10:28:43.544Z"
      },
      {
        "duration": -50,
        "start_time": "2021-10-13T10:28:43.546Z"
      },
      {
        "duration": -50,
        "start_time": "2021-10-13T10:28:43.547Z"
      },
      {
        "duration": -59,
        "start_time": "2021-10-13T10:28:43.556Z"
      },
      {
        "duration": 22,
        "start_time": "2021-10-13T10:29:13.713Z"
      },
      {
        "duration": 25,
        "start_time": "2021-10-13T10:29:17.213Z"
      },
      {
        "duration": 194,
        "start_time": "2021-10-13T10:29:19.937Z"
      },
      {
        "duration": 8,
        "start_time": "2021-10-13T10:29:23.766Z"
      },
      {
        "duration": 17,
        "start_time": "2021-10-13T10:29:25.975Z"
      },
      {
        "duration": 884,
        "start_time": "2021-10-13T10:29:26.766Z"
      },
      {
        "duration": 11,
        "start_time": "2021-10-13T10:29:31.518Z"
      },
      {
        "duration": 784,
        "start_time": "2021-10-13T10:29:33.128Z"
      },
      {
        "duration": 31,
        "start_time": "2021-10-13T10:29:35.722Z"
      },
      {
        "duration": 676,
        "start_time": "2021-10-13T10:29:36.555Z"
      },
      {
        "duration": 226,
        "start_time": "2021-10-13T10:29:37.262Z"
      },
      {
        "duration": 18,
        "start_time": "2021-10-13T10:29:45.575Z"
      },
      {
        "duration": 17,
        "start_time": "2021-10-13T10:29:46.592Z"
      },
      {
        "duration": 17,
        "start_time": "2021-10-13T10:29:49.100Z"
      },
      {
        "duration": 98,
        "start_time": "2021-10-13T10:29:49.920Z"
      },
      {
        "duration": 18,
        "start_time": "2021-10-13T10:29:50.415Z"
      },
      {
        "duration": 16,
        "start_time": "2021-10-13T10:29:51.286Z"
      },
      {
        "duration": 16,
        "start_time": "2021-10-13T10:29:51.792Z"
      },
      {
        "duration": 16,
        "start_time": "2021-10-13T10:29:52.294Z"
      },
      {
        "duration": 16,
        "start_time": "2021-10-13T10:29:53.347Z"
      },
      {
        "duration": 16,
        "start_time": "2021-10-13T10:29:53.881Z"
      },
      {
        "duration": 15,
        "start_time": "2021-10-13T10:29:54.400Z"
      },
      {
        "duration": 280,
        "start_time": "2021-10-13T10:29:57.630Z"
      },
      {
        "duration": 279,
        "start_time": "2021-10-13T10:30:00.503Z"
      },
      {
        "duration": 226,
        "start_time": "2021-10-13T10:30:05.158Z"
      },
      {
        "duration": 27,
        "start_time": "2021-10-13T10:31:23.094Z"
      },
      {
        "duration": 19,
        "start_time": "2021-10-13T10:31:24.378Z"
      },
      {
        "duration": 570,
        "start_time": "2021-10-13T10:31:25.783Z"
      },
      {
        "duration": 7,
        "start_time": "2021-10-13T10:31:26.354Z"
      },
      {
        "duration": 18,
        "start_time": "2021-10-13T10:31:27.901Z"
      },
      {
        "duration": 820,
        "start_time": "2021-10-13T10:31:28.465Z"
      },
      {
        "duration": 10,
        "start_time": "2021-10-13T10:31:29.616Z"
      },
      {
        "duration": 786,
        "start_time": "2021-10-13T10:31:30.774Z"
      },
      {
        "duration": 30,
        "start_time": "2021-10-13T10:31:32.092Z"
      },
      {
        "duration": 667,
        "start_time": "2021-10-13T10:31:32.616Z"
      },
      {
        "duration": 639,
        "start_time": "2021-10-13T10:31:33.285Z"
      },
      {
        "duration": 24,
        "start_time": "2021-10-13T10:31:35.596Z"
      },
      {
        "duration": 16,
        "start_time": "2021-10-13T10:31:38.488Z"
      },
      {
        "duration": 15,
        "start_time": "2021-10-13T10:31:44.490Z"
      },
      {
        "duration": 17,
        "start_time": "2021-10-13T10:31:44.899Z"
      },
      {
        "duration": 17,
        "start_time": "2021-10-13T10:31:45.337Z"
      },
      {
        "duration": 17,
        "start_time": "2021-10-13T10:31:46.254Z"
      },
      {
        "duration": 15,
        "start_time": "2021-10-13T10:31:46.757Z"
      },
      {
        "duration": 16,
        "start_time": "2021-10-13T10:31:47.274Z"
      },
      {
        "duration": 16,
        "start_time": "2021-10-13T10:31:48.146Z"
      },
      {
        "duration": 16,
        "start_time": "2021-10-13T10:31:48.564Z"
      },
      {
        "duration": 17,
        "start_time": "2021-10-13T10:31:48.985Z"
      },
      {
        "duration": 344,
        "start_time": "2021-10-13T10:31:51.908Z"
      },
      {
        "duration": 7,
        "start_time": "2021-10-13T10:31:53.050Z"
      },
      {
        "duration": 197,
        "start_time": "2021-10-13T10:31:54.496Z"
      },
      {
        "duration": 7,
        "start_time": "2021-10-13T10:31:55.607Z"
      },
      {
        "duration": 23,
        "start_time": "2021-10-13T10:33:26.515Z"
      },
      {
        "duration": 23,
        "start_time": "2021-10-13T10:33:36.519Z"
      },
      {
        "duration": 558,
        "start_time": "2021-10-13T10:37:05.967Z"
      },
      {
        "duration": 3618,
        "start_time": "2021-10-13T10:38:56.037Z"
      },
      {
        "duration": 40,
        "start_time": "2021-10-13T10:38:59.657Z"
      },
      {
        "duration": 15,
        "start_time": "2021-10-13T10:38:59.699Z"
      },
      {
        "duration": 13,
        "start_time": "2021-10-13T10:38:59.716Z"
      },
      {
        "duration": 44,
        "start_time": "2021-10-13T10:38:59.731Z"
      },
      {
        "duration": 7,
        "start_time": "2021-10-13T10:38:59.777Z"
      },
      {
        "duration": 17,
        "start_time": "2021-10-13T10:38:59.786Z"
      },
      {
        "duration": 7,
        "start_time": "2021-10-13T10:38:59.807Z"
      },
      {
        "duration": 58,
        "start_time": "2021-10-13T10:38:59.816Z"
      },
      {
        "duration": 18,
        "start_time": "2021-10-13T10:38:59.877Z"
      },
      {
        "duration": 214,
        "start_time": "2021-10-13T10:38:59.897Z"
      },
      {
        "duration": 17,
        "start_time": "2021-10-13T10:39:00.112Z"
      },
      {
        "duration": 856,
        "start_time": "2021-10-13T10:39:00.130Z"
      },
      {
        "duration": 12,
        "start_time": "2021-10-13T10:39:00.988Z"
      },
      {
        "duration": 829,
        "start_time": "2021-10-13T10:39:01.002Z"
      },
      {
        "duration": 44,
        "start_time": "2021-10-13T10:39:01.833Z"
      },
      {
        "duration": 652,
        "start_time": "2021-10-13T10:39:01.880Z"
      },
      {
        "duration": 757,
        "start_time": "2021-10-13T10:39:02.534Z"
      },
      {
        "duration": 17,
        "start_time": "2021-10-13T10:39:03.293Z"
      },
      {
        "duration": 16,
        "start_time": "2021-10-13T10:39:03.312Z"
      },
      {
        "duration": 16,
        "start_time": "2021-10-13T10:39:03.350Z"
      },
      {
        "duration": 15,
        "start_time": "2021-10-13T10:39:03.368Z"
      },
      {
        "duration": 26,
        "start_time": "2021-10-13T10:39:03.386Z"
      },
      {
        "duration": 38,
        "start_time": "2021-10-13T10:39:03.414Z"
      },
      {
        "duration": 16,
        "start_time": "2021-10-13T10:39:03.454Z"
      },
      {
        "duration": 22,
        "start_time": "2021-10-13T10:39:03.472Z"
      },
      {
        "duration": 19,
        "start_time": "2021-10-13T10:39:03.496Z"
      },
      {
        "duration": 35,
        "start_time": "2021-10-13T10:39:03.517Z"
      },
      {
        "duration": 16,
        "start_time": "2021-10-13T10:39:03.553Z"
      },
      {
        "duration": 630,
        "start_time": "2021-10-13T10:39:03.571Z"
      },
      {
        "duration": -244,
        "start_time": "2021-10-13T10:39:04.448Z"
      },
      {
        "duration": -247,
        "start_time": "2021-10-13T10:39:04.452Z"
      },
      {
        "duration": -248,
        "start_time": "2021-10-13T10:39:04.455Z"
      },
      {
        "duration": 545,
        "start_time": "2021-10-13T10:39:32.643Z"
      },
      {
        "duration": 5901,
        "start_time": "2021-10-13T10:39:49.770Z"
      },
      {
        "duration": 591,
        "start_time": "2021-10-13T10:40:16.460Z"
      },
      {
        "duration": 319,
        "start_time": "2021-10-13T10:40:34.405Z"
      },
      {
        "duration": 331,
        "start_time": "2021-10-13T10:41:40.941Z"
      },
      {
        "duration": 329,
        "start_time": "2021-10-13T10:42:05.482Z"
      },
      {
        "duration": 7,
        "start_time": "2021-10-13T10:42:07.959Z"
      },
      {
        "duration": 199,
        "start_time": "2021-10-13T10:43:02.930Z"
      },
      {
        "duration": 7,
        "start_time": "2021-10-13T10:43:04.823Z"
      },
      {
        "duration": 658,
        "start_time": "2021-10-13T10:44:39.415Z"
      },
      {
        "duration": 636,
        "start_time": "2021-10-13T10:44:46.278Z"
      },
      {
        "duration": 3502,
        "start_time": "2021-10-13T10:45:02.571Z"
      },
      {
        "duration": 40,
        "start_time": "2021-10-13T10:45:06.076Z"
      },
      {
        "duration": 17,
        "start_time": "2021-10-13T10:45:06.119Z"
      },
      {
        "duration": 21,
        "start_time": "2021-10-13T10:45:06.138Z"
      },
      {
        "duration": 35,
        "start_time": "2021-10-13T10:45:06.161Z"
      },
      {
        "duration": 7,
        "start_time": "2021-10-13T10:45:06.198Z"
      },
      {
        "duration": 8,
        "start_time": "2021-10-13T10:45:06.207Z"
      },
      {
        "duration": 33,
        "start_time": "2021-10-13T10:45:06.217Z"
      },
      {
        "duration": 32,
        "start_time": "2021-10-13T10:45:06.253Z"
      },
      {
        "duration": 19,
        "start_time": "2021-10-13T10:45:06.287Z"
      },
      {
        "duration": 219,
        "start_time": "2021-10-13T10:45:06.308Z"
      },
      {
        "duration": 25,
        "start_time": "2021-10-13T10:45:06.529Z"
      },
      {
        "duration": 858,
        "start_time": "2021-10-13T10:45:06.556Z"
      },
      {
        "duration": 11,
        "start_time": "2021-10-13T10:45:07.416Z"
      },
      {
        "duration": 805,
        "start_time": "2021-10-13T10:45:07.429Z"
      },
      {
        "duration": 40,
        "start_time": "2021-10-13T10:45:08.235Z"
      },
      {
        "duration": 650,
        "start_time": "2021-10-13T10:45:08.277Z"
      },
      {
        "duration": 781,
        "start_time": "2021-10-13T10:45:08.929Z"
      },
      {
        "duration": 18,
        "start_time": "2021-10-13T10:45:09.712Z"
      },
      {
        "duration": 31,
        "start_time": "2021-10-13T10:45:09.731Z"
      },
      {
        "duration": 19,
        "start_time": "2021-10-13T10:45:09.764Z"
      },
      {
        "duration": 19,
        "start_time": "2021-10-13T10:45:09.785Z"
      },
      {
        "duration": 17,
        "start_time": "2021-10-13T10:45:09.807Z"
      },
      {
        "duration": 18,
        "start_time": "2021-10-13T10:45:09.850Z"
      },
      {
        "duration": 21,
        "start_time": "2021-10-13T10:45:09.870Z"
      },
      {
        "duration": 17,
        "start_time": "2021-10-13T10:45:09.893Z"
      },
      {
        "duration": 43,
        "start_time": "2021-10-13T10:45:09.912Z"
      },
      {
        "duration": 22,
        "start_time": "2021-10-13T10:45:09.957Z"
      },
      {
        "duration": 16,
        "start_time": "2021-10-13T10:45:09.981Z"
      },
      {
        "duration": 352,
        "start_time": "2021-10-13T10:45:09.999Z"
      },
      {
        "duration": 6,
        "start_time": "2021-10-13T10:45:10.353Z"
      },
      {
        "duration": 136,
        "start_time": "2021-10-13T10:45:10.360Z"
      },
      {
        "duration": 5,
        "start_time": "2021-10-13T10:45:10.498Z"
      },
      {
        "duration": 1031,
        "start_time": "2021-10-13T10:45:20.683Z"
      },
      {
        "duration": 671,
        "start_time": "2021-10-13T10:45:48.428Z"
      },
      {
        "duration": 745,
        "start_time": "2021-10-13T10:45:53.998Z"
      },
      {
        "duration": 4568,
        "start_time": "2021-10-14T07:52:33.813Z"
      },
      {
        "duration": 35,
        "start_time": "2021-10-14T07:52:38.382Z"
      },
      {
        "duration": 13,
        "start_time": "2021-10-14T07:52:38.419Z"
      },
      {
        "duration": 9,
        "start_time": "2021-10-14T07:52:38.434Z"
      },
      {
        "duration": 31,
        "start_time": "2021-10-14T07:52:38.444Z"
      },
      {
        "duration": 25,
        "start_time": "2021-10-14T07:52:38.477Z"
      },
      {
        "duration": 7,
        "start_time": "2021-10-14T07:52:38.503Z"
      },
      {
        "duration": 4,
        "start_time": "2021-10-14T07:52:38.513Z"
      },
      {
        "duration": 28,
        "start_time": "2021-10-14T07:52:38.519Z"
      },
      {
        "duration": 17,
        "start_time": "2021-10-14T07:52:38.549Z"
      },
      {
        "duration": 220,
        "start_time": "2021-10-14T07:52:38.567Z"
      },
      {
        "duration": 22,
        "start_time": "2021-10-14T07:52:38.789Z"
      },
      {
        "duration": 905,
        "start_time": "2021-10-14T07:52:38.813Z"
      },
      {
        "duration": 12,
        "start_time": "2021-10-14T07:52:39.719Z"
      },
      {
        "duration": 804,
        "start_time": "2021-10-14T07:52:39.732Z"
      },
      {
        "duration": 30,
        "start_time": "2021-10-14T07:52:40.538Z"
      },
      {
        "duration": 678,
        "start_time": "2021-10-14T07:52:40.570Z"
      },
      {
        "duration": 715,
        "start_time": "2021-10-14T07:52:41.250Z"
      },
      {
        "duration": 15,
        "start_time": "2021-10-14T07:52:41.967Z"
      },
      {
        "duration": 26,
        "start_time": "2021-10-14T07:52:41.983Z"
      },
      {
        "duration": 15,
        "start_time": "2021-10-14T07:52:42.011Z"
      },
      {
        "duration": 20,
        "start_time": "2021-10-14T07:52:42.027Z"
      },
      {
        "duration": 14,
        "start_time": "2021-10-14T07:52:42.050Z"
      },
      {
        "duration": 34,
        "start_time": "2021-10-14T07:52:42.066Z"
      },
      {
        "duration": 15,
        "start_time": "2021-10-14T07:52:42.102Z"
      },
      {
        "duration": 29,
        "start_time": "2021-10-14T07:52:42.119Z"
      },
      {
        "duration": 14,
        "start_time": "2021-10-14T07:52:42.149Z"
      },
      {
        "duration": 28,
        "start_time": "2021-10-14T07:52:42.164Z"
      },
      {
        "duration": 27,
        "start_time": "2021-10-14T07:52:42.194Z"
      },
      {
        "duration": 300,
        "start_time": "2021-10-14T07:52:42.223Z"
      },
      {
        "duration": 5,
        "start_time": "2021-10-14T07:52:42.525Z"
      },
      {
        "duration": 123,
        "start_time": "2021-10-14T07:52:42.532Z"
      },
      {
        "duration": 5,
        "start_time": "2021-10-14T07:52:42.657Z"
      },
      {
        "duration": 445,
        "start_time": "2021-10-14T09:23:00.287Z"
      },
      {
        "duration": 4735,
        "start_time": "2021-10-14T09:23:21.951Z"
      },
      {
        "duration": 39,
        "start_time": "2021-10-14T09:23:27.171Z"
      },
      {
        "duration": 13,
        "start_time": "2021-10-14T09:23:27.212Z"
      },
      {
        "duration": 10,
        "start_time": "2021-10-14T09:23:28.311Z"
      },
      {
        "duration": 32,
        "start_time": "2021-10-14T09:23:32.623Z"
      },
      {
        "duration": 6,
        "start_time": "2021-10-14T09:23:38.235Z"
      },
      {
        "duration": 6,
        "start_time": "2021-10-14T09:23:38.914Z"
      },
      {
        "duration": 6,
        "start_time": "2021-10-14T09:23:39.746Z"
      },
      {
        "duration": 31,
        "start_time": "2021-10-14T09:23:41.545Z"
      },
      {
        "duration": 25,
        "start_time": "2021-10-14T09:23:42.826Z"
      },
      {
        "duration": 184,
        "start_time": "2021-10-14T09:23:44.881Z"
      },
      {
        "duration": 291,
        "start_time": "2021-10-14T09:25:13.332Z"
      },
      {
        "duration": 419,
        "start_time": "2021-10-14T09:32:01.684Z"
      },
      {
        "duration": 5,
        "start_time": "2021-10-14T09:32:09.872Z"
      },
      {
        "duration": 6,
        "start_time": "2021-10-14T09:32:46.773Z"
      },
      {
        "duration": 6,
        "start_time": "2021-10-14T09:33:29.442Z"
      },
      {
        "duration": 149,
        "start_time": "2021-10-14T09:51:19.293Z"
      },
      {
        "duration": 2632,
        "start_time": "2021-10-14T10:28:42.841Z"
      },
      {
        "duration": 111,
        "start_time": "2021-10-14T10:28:57.107Z"
      },
      {
        "duration": 12,
        "start_time": "2021-10-14T10:29:04.964Z"
      },
      {
        "duration": 8,
        "start_time": "2021-10-14T10:29:20.084Z"
      },
      {
        "duration": 199,
        "start_time": "2021-10-14T10:29:24.765Z"
      },
      {
        "duration": 16,
        "start_time": "2021-10-14T10:29:28.457Z"
      },
      {
        "duration": 109,
        "start_time": "2021-10-14T10:30:03.674Z"
      },
      {
        "duration": 375,
        "start_time": "2021-10-14T10:31:55.042Z"
      },
      {
        "duration": 352,
        "start_time": "2021-10-14T10:32:00.385Z"
      },
      {
        "duration": 405,
        "start_time": "2021-10-14T10:32:16.197Z"
      },
      {
        "duration": 17,
        "start_time": "2021-10-14T10:32:30.759Z"
      },
      {
        "duration": 7,
        "start_time": "2021-10-14T10:32:32.365Z"
      },
      {
        "duration": 7,
        "start_time": "2021-10-14T10:32:33.403Z"
      },
      {
        "duration": 6,
        "start_time": "2021-10-14T10:32:41.218Z"
      },
      {
        "duration": 3577,
        "start_time": "2021-10-14T10:32:52.894Z"
      },
      {
        "duration": 38,
        "start_time": "2021-10-14T10:32:56.473Z"
      },
      {
        "duration": 14,
        "start_time": "2021-10-14T10:32:56.514Z"
      },
      {
        "duration": 10,
        "start_time": "2021-10-14T10:32:56.529Z"
      },
      {
        "duration": 42,
        "start_time": "2021-10-14T10:32:56.541Z"
      },
      {
        "duration": 5,
        "start_time": "2021-10-14T10:32:56.585Z"
      },
      {
        "duration": 8,
        "start_time": "2021-10-14T10:32:56.591Z"
      },
      {
        "duration": 7,
        "start_time": "2021-10-14T10:32:56.600Z"
      },
      {
        "duration": 29,
        "start_time": "2021-10-14T10:32:56.610Z"
      },
      {
        "duration": 48,
        "start_time": "2021-10-14T10:32:56.641Z"
      },
      {
        "duration": 6,
        "start_time": "2021-10-14T10:32:56.690Z"
      },
      {
        "duration": 11,
        "start_time": "2021-10-14T10:32:56.698Z"
      },
      {
        "duration": 205,
        "start_time": "2021-10-14T10:32:56.710Z"
      },
      {
        "duration": 16,
        "start_time": "2021-10-14T10:32:56.917Z"
      },
      {
        "duration": 903,
        "start_time": "2021-10-14T10:32:56.935Z"
      },
      {
        "duration": 10,
        "start_time": "2021-10-14T10:32:57.840Z"
      },
      {
        "duration": 789,
        "start_time": "2021-10-14T10:32:57.853Z"
      },
      {
        "duration": 44,
        "start_time": "2021-10-14T10:32:58.644Z"
      },
      {
        "duration": 652,
        "start_time": "2021-10-14T10:32:58.690Z"
      },
      {
        "duration": 702,
        "start_time": "2021-10-14T10:32:59.344Z"
      },
      {
        "duration": 17,
        "start_time": "2021-10-14T10:33:00.048Z"
      },
      {
        "duration": 17,
        "start_time": "2021-10-14T10:33:00.076Z"
      },
      {
        "duration": 18,
        "start_time": "2021-10-14T10:33:00.095Z"
      },
      {
        "duration": 25,
        "start_time": "2021-10-14T10:33:00.115Z"
      },
      {
        "duration": 456,
        "start_time": "2021-10-14T10:33:00.142Z"
      },
      {
        "duration": 64,
        "start_time": "2021-10-14T10:33:00.537Z"
      },
      {
        "duration": 57,
        "start_time": "2021-10-14T10:33:00.544Z"
      },
      {
        "duration": 54,
        "start_time": "2021-10-14T10:33:00.548Z"
      },
      {
        "duration": 52,
        "start_time": "2021-10-14T10:33:00.551Z"
      },
      {
        "duration": 36,
        "start_time": "2021-10-14T10:33:00.568Z"
      },
      {
        "duration": 34,
        "start_time": "2021-10-14T10:33:00.571Z"
      },
      {
        "duration": 27,
        "start_time": "2021-10-14T10:33:00.579Z"
      },
      {
        "duration": 25,
        "start_time": "2021-10-14T10:33:00.582Z"
      },
      {
        "duration": 23,
        "start_time": "2021-10-14T10:33:00.584Z"
      },
      {
        "duration": 22,
        "start_time": "2021-10-14T10:33:00.586Z"
      },
      {
        "duration": 954,
        "start_time": "2021-10-14T10:33:15.028Z"
      },
      {
        "duration": 120,
        "start_time": "2021-10-14T10:34:53.042Z"
      },
      {
        "duration": 23,
        "start_time": "2021-10-14T10:35:19.891Z"
      },
      {
        "duration": 26,
        "start_time": "2021-10-14T10:48:22.533Z"
      },
      {
        "duration": 29,
        "start_time": "2021-10-14T10:48:44.140Z"
      },
      {
        "duration": 32,
        "start_time": "2021-10-14T10:49:09.893Z"
      },
      {
        "duration": 17,
        "start_time": "2021-10-14T10:49:23.059Z"
      },
      {
        "duration": 41,
        "start_time": "2021-10-14T10:49:29.396Z"
      },
      {
        "duration": 618,
        "start_time": "2021-10-14T10:49:56.384Z"
      },
      {
        "duration": 605,
        "start_time": "2021-10-14T10:50:22.215Z"
      },
      {
        "duration": 163,
        "start_time": "2021-10-14T10:52:12.565Z"
      },
      {
        "duration": 340,
        "start_time": "2021-10-14T11:00:37.601Z"
      },
      {
        "duration": 15,
        "start_time": "2021-10-14T11:01:00.363Z"
      },
      {
        "duration": 14,
        "start_time": "2021-10-14T11:01:01.608Z"
      },
      {
        "duration": 372,
        "start_time": "2021-10-14T11:01:02.478Z"
      },
      {
        "duration": 17,
        "start_time": "2021-10-14T11:01:21.127Z"
      },
      {
        "duration": 16,
        "start_time": "2021-10-14T11:01:21.854Z"
      },
      {
        "duration": 408,
        "start_time": "2021-10-14T11:01:22.692Z"
      },
      {
        "duration": 8,
        "start_time": "2021-10-14T11:07:00.736Z"
      },
      {
        "duration": 6,
        "start_time": "2021-10-14T11:07:10.916Z"
      },
      {
        "duration": 4,
        "start_time": "2021-10-14T11:07:26.504Z"
      },
      {
        "duration": 8,
        "start_time": "2021-10-14T11:07:37.121Z"
      },
      {
        "duration": 7,
        "start_time": "2021-10-14T11:07:38.284Z"
      },
      {
        "duration": 7,
        "start_time": "2021-10-14T11:08:24.164Z"
      },
      {
        "duration": 5,
        "start_time": "2021-10-14T11:08:25.220Z"
      },
      {
        "duration": 9,
        "start_time": "2021-10-14T11:08:34.985Z"
      },
      {
        "duration": 10,
        "start_time": "2021-10-14T11:08:42.894Z"
      },
      {
        "duration": 3,
        "start_time": "2021-10-14T11:09:01.147Z"
      },
      {
        "duration": 5,
        "start_time": "2021-10-14T11:09:01.669Z"
      },
      {
        "duration": 5,
        "start_time": "2021-10-14T11:09:05.470Z"
      },
      {
        "duration": 6,
        "start_time": "2021-10-14T11:09:10.205Z"
      },
      {
        "duration": 6,
        "start_time": "2021-10-14T11:09:15.109Z"
      },
      {
        "duration": 3669,
        "start_time": "2021-10-14T11:09:27.503Z"
      },
      {
        "duration": 40,
        "start_time": "2021-10-14T11:09:31.173Z"
      },
      {
        "duration": 14,
        "start_time": "2021-10-14T11:09:31.215Z"
      },
      {
        "duration": 11,
        "start_time": "2021-10-14T11:09:31.231Z"
      },
      {
        "duration": 41,
        "start_time": "2021-10-14T11:09:31.244Z"
      },
      {
        "duration": 5,
        "start_time": "2021-10-14T11:09:31.287Z"
      },
      {
        "duration": 22,
        "start_time": "2021-10-14T11:09:31.294Z"
      },
      {
        "duration": 12,
        "start_time": "2021-10-14T11:09:31.319Z"
      },
      {
        "duration": 46,
        "start_time": "2021-10-14T11:09:31.333Z"
      },
      {
        "duration": 18,
        "start_time": "2021-10-14T11:09:31.381Z"
      },
      {
        "duration": 8,
        "start_time": "2021-10-14T11:09:31.401Z"
      },
      {
        "duration": 2,
        "start_time": "2021-10-14T11:09:31.410Z"
      },
      {
        "duration": 16,
        "start_time": "2021-10-14T11:09:31.414Z"
      },
      {
        "duration": 218,
        "start_time": "2021-10-14T11:09:31.432Z"
      },
      {
        "duration": 26,
        "start_time": "2021-10-14T11:09:31.652Z"
      },
      {
        "duration": 804,
        "start_time": "2021-10-14T11:09:31.680Z"
      },
      {
        "duration": 10,
        "start_time": "2021-10-14T11:09:32.486Z"
      },
      {
        "duration": 884,
        "start_time": "2021-10-14T11:09:32.498Z"
      },
      {
        "duration": 17,
        "start_time": "2021-10-14T11:09:33.384Z"
      },
      {
        "duration": 30,
        "start_time": "2021-10-14T11:09:33.402Z"
      },
      {
        "duration": 689,
        "start_time": "2021-10-14T11:09:33.433Z"
      },
      {
        "duration": 1275,
        "start_time": "2021-10-14T11:09:34.124Z"
      },
      {
        "duration": -2551,
        "start_time": "2021-10-14T11:09:37.952Z"
      },
      {
        "duration": -2554,
        "start_time": "2021-10-14T11:09:37.956Z"
      },
      {
        "duration": -2617,
        "start_time": "2021-10-14T11:09:38.019Z"
      },
      {
        "duration": -2619,
        "start_time": "2021-10-14T11:09:38.022Z"
      },
      {
        "duration": -2620,
        "start_time": "2021-10-14T11:09:38.024Z"
      },
      {
        "duration": -2622,
        "start_time": "2021-10-14T11:09:38.027Z"
      },
      {
        "duration": -2624,
        "start_time": "2021-10-14T11:09:38.030Z"
      },
      {
        "duration": -2635,
        "start_time": "2021-10-14T11:09:38.041Z"
      },
      {
        "duration": -2640,
        "start_time": "2021-10-14T11:09:38.047Z"
      },
      {
        "duration": -2641,
        "start_time": "2021-10-14T11:09:38.049Z"
      },
      {
        "duration": -2644,
        "start_time": "2021-10-14T11:09:38.052Z"
      },
      {
        "duration": -2674,
        "start_time": "2021-10-14T11:09:38.083Z"
      },
      {
        "duration": -2679,
        "start_time": "2021-10-14T11:09:38.089Z"
      },
      {
        "duration": 9,
        "start_time": "2021-10-14T11:09:55.189Z"
      },
      {
        "duration": 6,
        "start_time": "2021-10-14T11:09:57.847Z"
      },
      {
        "duration": 5,
        "start_time": "2021-10-14T11:10:17.625Z"
      },
      {
        "duration": 6,
        "start_time": "2021-10-14T11:10:26.405Z"
      },
      {
        "duration": 5,
        "start_time": "2021-10-14T11:10:27.701Z"
      },
      {
        "duration": 10,
        "start_time": "2021-10-14T11:10:42.280Z"
      },
      {
        "duration": 5,
        "start_time": "2021-10-14T11:10:43.933Z"
      },
      {
        "duration": 8,
        "start_time": "2021-10-14T11:10:55.697Z"
      },
      {
        "duration": 6,
        "start_time": "2021-10-14T11:10:58.745Z"
      },
      {
        "duration": 17,
        "start_time": "2021-10-14T11:11:13.242Z"
      },
      {
        "duration": 21,
        "start_time": "2021-10-14T11:11:14.033Z"
      },
      {
        "duration": 17,
        "start_time": "2021-10-14T11:11:14.843Z"
      },
      {
        "duration": 17,
        "start_time": "2021-10-14T11:11:19.659Z"
      },
      {
        "duration": 17,
        "start_time": "2021-10-14T11:11:21.121Z"
      },
      {
        "duration": 16,
        "start_time": "2021-10-14T11:11:21.832Z"
      },
      {
        "duration": 16,
        "start_time": "2021-10-14T11:11:26.184Z"
      },
      {
        "duration": 15,
        "start_time": "2021-10-14T11:11:26.843Z"
      },
      {
        "duration": 16,
        "start_time": "2021-10-14T11:11:28.076Z"
      },
      {
        "duration": 8,
        "start_time": "2021-10-14T11:11:40.004Z"
      },
      {
        "duration": 5,
        "start_time": "2021-10-14T11:11:41.365Z"
      },
      {
        "duration": 16,
        "start_time": "2021-10-14T11:11:49.363Z"
      },
      {
        "duration": 6,
        "start_time": "2021-10-14T11:12:38.399Z"
      },
      {
        "duration": 5,
        "start_time": "2021-10-14T11:13:26.215Z"
      },
      {
        "duration": 17,
        "start_time": "2021-10-14T11:13:53.535Z"
      },
      {
        "duration": 15,
        "start_time": "2021-10-14T11:14:07.249Z"
      },
      {
        "duration": 16,
        "start_time": "2021-10-14T11:14:19.510Z"
      },
      {
        "duration": 16,
        "start_time": "2021-10-14T11:14:29.187Z"
      },
      {
        "duration": 17,
        "start_time": "2021-10-14T11:15:42.954Z"
      },
      {
        "duration": 15,
        "start_time": "2021-10-14T11:15:49.333Z"
      },
      {
        "duration": 16,
        "start_time": "2021-10-14T11:15:52.945Z"
      },
      {
        "duration": 17,
        "start_time": "2021-10-14T11:15:59.067Z"
      },
      {
        "duration": 15,
        "start_time": "2021-10-14T11:16:09.053Z"
      },
      {
        "duration": 9,
        "start_time": "2021-10-14T11:17:34.946Z"
      },
      {
        "duration": 5,
        "start_time": "2021-10-14T11:17:35.806Z"
      },
      {
        "duration": 16,
        "start_time": "2021-10-14T11:17:47.113Z"
      },
      {
        "duration": 15,
        "start_time": "2021-10-14T11:17:55.075Z"
      },
      {
        "duration": 16,
        "start_time": "2021-10-14T11:18:02.295Z"
      },
      {
        "duration": 4360,
        "start_time": "2021-10-14T11:18:16.160Z"
      },
      {
        "duration": 40,
        "start_time": "2021-10-14T11:18:20.522Z"
      },
      {
        "duration": 15,
        "start_time": "2021-10-14T11:18:20.564Z"
      },
      {
        "duration": 14,
        "start_time": "2021-10-14T11:18:20.582Z"
      },
      {
        "duration": 37,
        "start_time": "2021-10-14T11:18:20.598Z"
      },
      {
        "duration": 5,
        "start_time": "2021-10-14T11:18:20.637Z"
      },
      {
        "duration": 34,
        "start_time": "2021-10-14T11:18:20.644Z"
      },
      {
        "duration": 7,
        "start_time": "2021-10-14T11:18:20.681Z"
      },
      {
        "duration": 39,
        "start_time": "2021-10-14T11:18:20.690Z"
      },
      {
        "duration": 24,
        "start_time": "2021-10-14T11:18:20.731Z"
      },
      {
        "duration": 22,
        "start_time": "2021-10-14T11:18:20.756Z"
      },
      {
        "duration": 12,
        "start_time": "2021-10-14T11:18:20.780Z"
      },
      {
        "duration": 5,
        "start_time": "2021-10-14T11:18:20.793Z"
      },
      {
        "duration": 222,
        "start_time": "2021-10-14T11:18:20.800Z"
      },
      {
        "duration": 16,
        "start_time": "2021-10-14T11:18:21.024Z"
      },
      {
        "duration": 883,
        "start_time": "2021-10-14T11:18:21.042Z"
      },
      {
        "duration": 9,
        "start_time": "2021-10-14T11:18:21.927Z"
      },
      {
        "duration": 813,
        "start_time": "2021-10-14T11:18:21.938Z"
      },
      {
        "duration": 24,
        "start_time": "2021-10-14T11:18:22.753Z"
      },
      {
        "duration": 27,
        "start_time": "2021-10-14T11:18:22.779Z"
      },
      {
        "duration": 621,
        "start_time": "2021-10-14T11:18:22.808Z"
      },
      {
        "duration": 1329,
        "start_time": "2021-10-14T11:18:23.431Z"
      },
      {
        "duration": -437,
        "start_time": "2021-10-14T11:18:25.200Z"
      },
      {
        "duration": -439,
        "start_time": "2021-10-14T11:18:25.203Z"
      },
      {
        "duration": -442,
        "start_time": "2021-10-14T11:18:25.206Z"
      },
      {
        "duration": -443,
        "start_time": "2021-10-14T11:18:25.209Z"
      },
      {
        "duration": -444,
        "start_time": "2021-10-14T11:18:25.211Z"
      },
      {
        "duration": -437,
        "start_time": "2021-10-14T11:18:25.213Z"
      },
      {
        "duration": -440,
        "start_time": "2021-10-14T11:18:25.217Z"
      },
      {
        "duration": -442,
        "start_time": "2021-10-14T11:18:25.220Z"
      },
      {
        "duration": -444,
        "start_time": "2021-10-14T11:18:25.223Z"
      },
      {
        "duration": -445,
        "start_time": "2021-10-14T11:18:25.225Z"
      },
      {
        "duration": -446,
        "start_time": "2021-10-14T11:18:25.227Z"
      },
      {
        "duration": -447,
        "start_time": "2021-10-14T11:18:25.229Z"
      },
      {
        "duration": -448,
        "start_time": "2021-10-14T11:18:25.231Z"
      },
      {
        "duration": 16,
        "start_time": "2021-10-14T11:21:13.098Z"
      },
      {
        "duration": 20,
        "start_time": "2021-10-14T11:21:13.950Z"
      },
      {
        "duration": 15,
        "start_time": "2021-10-14T11:21:16.625Z"
      },
      {
        "duration": 16,
        "start_time": "2021-10-14T11:21:23.436Z"
      },
      {
        "duration": 17,
        "start_time": "2021-10-14T11:21:26.361Z"
      },
      {
        "duration": 16,
        "start_time": "2021-10-14T11:21:26.911Z"
      },
      {
        "duration": 16,
        "start_time": "2021-10-14T11:21:28.026Z"
      },
      {
        "duration": 16,
        "start_time": "2021-10-14T11:21:29.911Z"
      },
      {
        "duration": 15,
        "start_time": "2021-10-14T11:21:31.734Z"
      },
      {
        "duration": 15,
        "start_time": "2021-10-14T11:21:32.680Z"
      },
      {
        "duration": 137,
        "start_time": "2021-10-14T11:22:34.206Z"
      },
      {
        "duration": 942,
        "start_time": "2021-10-14T11:33:57.951Z"
      },
      {
        "duration": 637,
        "start_time": "2021-10-14T11:34:57.723Z"
      },
      {
        "duration": 17,
        "start_time": "2021-10-14T11:36:22.173Z"
      },
      {
        "duration": 18,
        "start_time": "2021-10-14T11:36:34.536Z"
      },
      {
        "duration": 15,
        "start_time": "2021-10-14T11:36:40.416Z"
      },
      {
        "duration": 16,
        "start_time": "2021-10-14T11:37:01.203Z"
      },
      {
        "duration": 16,
        "start_time": "2021-10-14T11:37:37.701Z"
      },
      {
        "duration": 22,
        "start_time": "2021-10-14T11:37:50.971Z"
      },
      {
        "duration": 15,
        "start_time": "2021-10-14T11:39:24.017Z"
      },
      {
        "duration": 129,
        "start_time": "2021-10-14T11:40:38.089Z"
      },
      {
        "duration": 109,
        "start_time": "2021-10-14T11:41:10.824Z"
      },
      {
        "duration": 15,
        "start_time": "2021-10-14T11:41:39.685Z"
      },
      {
        "duration": 16,
        "start_time": "2021-10-14T11:41:53.014Z"
      },
      {
        "duration": 15,
        "start_time": "2021-10-14T11:42:13.326Z"
      },
      {
        "duration": 16,
        "start_time": "2021-10-14T11:42:35.846Z"
      },
      {
        "duration": 15,
        "start_time": "2021-10-14T11:42:54.521Z"
      },
      {
        "duration": 15,
        "start_time": "2021-10-14T11:43:07.653Z"
      },
      {
        "duration": 16,
        "start_time": "2021-10-14T11:43:14.645Z"
      },
      {
        "duration": 16,
        "start_time": "2021-10-14T11:43:27.138Z"
      },
      {
        "duration": 13,
        "start_time": "2021-10-14T11:43:36.454Z"
      },
      {
        "duration": 14,
        "start_time": "2021-10-14T11:43:46.903Z"
      },
      {
        "duration": 16,
        "start_time": "2021-10-14T11:44:02.024Z"
      },
      {
        "duration": 17,
        "start_time": "2021-10-14T11:44:12.995Z"
      },
      {
        "duration": 15,
        "start_time": "2021-10-14T11:44:22.884Z"
      },
      {
        "duration": 14,
        "start_time": "2021-10-14T11:44:29.688Z"
      },
      {
        "duration": 16,
        "start_time": "2021-10-14T11:44:39.210Z"
      },
      {
        "duration": 15,
        "start_time": "2021-10-14T11:44:42.514Z"
      },
      {
        "duration": 17,
        "start_time": "2021-10-14T11:44:45.631Z"
      },
      {
        "duration": 15,
        "start_time": "2021-10-14T11:44:49.689Z"
      },
      {
        "duration": 15,
        "start_time": "2021-10-14T11:44:53.478Z"
      },
      {
        "duration": 121,
        "start_time": "2021-10-14T11:49:58.217Z"
      }
    ],
    "kernelspec": {
      "display_name": "Python 3 (ipykernel)",
      "language": "python",
      "name": "python3"
    },
    "language_info": {
      "codemirror_mode": {
        "name": "ipython",
        "version": 3
      },
      "file_extension": ".py",
      "mimetype": "text/x-python",
      "name": "python",
      "nbconvert_exporter": "python",
      "pygments_lexer": "ipython3",
      "version": "3.9.5"
    },
    "toc": {
      "base_numbering": 1,
      "nav_menu": {},
      "number_sections": true,
      "sideBar": true,
      "skip_h1_title": true,
      "title_cell": "Table of Contents",
      "title_sidebar": "Contents",
      "toc_cell": false,
      "toc_position": {},
      "toc_section_display": true,
      "toc_window_display": false
    },
    "colab": {
      "provenance": []
    }
  },
  "nbformat": 4,
  "nbformat_minor": 0
}
