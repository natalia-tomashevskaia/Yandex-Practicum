{
  "cells": [
    {
      "cell_type": "markdown",
      "metadata": {
        "id": "yPlvDuKsZDzl"
      },
      "source": [
        "# Предсказание оттока клиентов финтес-центра\n",
        "\n",
        "Цели и задачи: \n",
        "* Спрогнозировать вероятность оттока клиентов в следующем месяце\n",
        "* Выделить группы клиентов и описать их свойства\n",
        "* Проанализировать признаки, влияющие на отток\n",
        "* Сделать выводы и предложить рекомендации по снижению оттока и взаимодействию с клиентами. \n",
        "\n",
        "Данные: данные заказчика, которые содержат данные на месяц до оттока и факт оттока на определённый месяц \n",
        "\n",
        "* [Шаг 1. Загрузка данных](#one)\n",
        "* [Шаг 2. Исследовательский анализ данных (EDA)](#two)\n",
        "* [Шаг 3. Модель прогнозирования оттока клиентов](#three)\n",
        "* [Шаг 4. Кластеризация клиентов](#four)\n",
        "* [Шаг 5. Выводы и базовые рекомендации](#five)"
      ]
    },
    {
      "cell_type": "markdown",
      "metadata": {
        "id": "aWXeb1YnZDzn"
      },
      "source": [
        "## Шаг 1. Загрузка данных<a class=\"anchor\" id=\"one\"></a>"
      ]
    },
    {
      "cell_type": "markdown",
      "metadata": {
        "id": "MvlzgrhZZDzp"
      },
      "source": [
        "Импортируем все необходимые библиотеки"
      ]
    },
    {
      "cell_type": "code",
      "execution_count": null,
      "metadata": {
        "id": "wqsWAF8oZDzq"
      },
      "outputs": [],
      "source": [
        "import pandas as pd\n",
        "import seaborn as sns\n",
        "from sklearn.preprocessing import StandardScaler\n",
        "from sklearn.model_selection import train_test_split\n",
        "import matplotlib.pyplot as plt\n",
        "from matplotlib.pyplot import figure\n",
        "from sklearn.linear_model import LogisticRegression\n",
        "from sklearn.ensemble import RandomForestClassifier \n",
        "from catboost import CatBoostClassifier\n",
        "from sklearn.metrics import accuracy_score, precision_score, recall_score\n",
        "from sklearn.cluster import KMeans\n",
        "from scipy.cluster.hierarchy import dendrogram, linkage \n",
        "import itertools"
      ]
    },
    {
      "cell_type": "markdown",
      "metadata": {
        "id": "cRzTfCepZDzu"
      },
      "source": [
        "Посмотрим на данные"
      ]
    },
    {
      "cell_type": "code",
      "execution_count": null,
      "metadata": {
        "id": "TwbWrzTOZDzv",
        "outputId": "da42950e-283a-4f09-b212-23ccc50bb0c2"
      },
      "outputs": [
        {
          "data": {
            "text/html": [
              "<div>\n",
              "<style scoped>\n",
              "    .dataframe tbody tr th:only-of-type {\n",
              "        vertical-align: middle;\n",
              "    }\n",
              "\n",
              "    .dataframe tbody tr th {\n",
              "        vertical-align: top;\n",
              "    }\n",
              "\n",
              "    .dataframe thead th {\n",
              "        text-align: right;\n",
              "    }\n",
              "</style>\n",
              "<table border=\"1\" class=\"dataframe\">\n",
              "  <thead>\n",
              "    <tr style=\"text-align: right;\">\n",
              "      <th></th>\n",
              "      <th>gender</th>\n",
              "      <th>Near_Location</th>\n",
              "      <th>Partner</th>\n",
              "      <th>Promo_friends</th>\n",
              "      <th>Phone</th>\n",
              "      <th>Contract_period</th>\n",
              "      <th>Group_visits</th>\n",
              "      <th>Age</th>\n",
              "      <th>Avg_additional_charges_total</th>\n",
              "      <th>Month_to_end_contract</th>\n",
              "      <th>Lifetime</th>\n",
              "      <th>Avg_class_frequency_total</th>\n",
              "      <th>Avg_class_frequency_current_month</th>\n",
              "      <th>Churn</th>\n",
              "    </tr>\n",
              "  </thead>\n",
              "  <tbody>\n",
              "    <tr>\n",
              "      <th>1531</th>\n",
              "      <td>0</td>\n",
              "      <td>0</td>\n",
              "      <td>1</td>\n",
              "      <td>0</td>\n",
              "      <td>1</td>\n",
              "      <td>6</td>\n",
              "      <td>0</td>\n",
              "      <td>25</td>\n",
              "      <td>156.921813</td>\n",
              "      <td>2.0</td>\n",
              "      <td>1</td>\n",
              "      <td>2.044484</td>\n",
              "      <td>1.652034</td>\n",
              "      <td>1</td>\n",
              "    </tr>\n",
              "  </tbody>\n",
              "</table>\n",
              "</div>"
            ],
            "text/plain": [
              "      gender  Near_Location  Partner  Promo_friends  Phone  Contract_period  \\\n",
              "1531       0              0        1              0      1                6   \n",
              "\n",
              "      Group_visits  Age  Avg_additional_charges_total  Month_to_end_contract  \\\n",
              "1531             0   25                    156.921813                    2.0   \n",
              "\n",
              "      Lifetime  Avg_class_frequency_total  Avg_class_frequency_current_month  \\\n",
              "1531         1                   2.044484                           1.652034   \n",
              "\n",
              "      Churn  \n",
              "1531      1  "
            ]
          },
          "execution_count": 2,
          "metadata": {},
          "output_type": "execute_result"
        }
      ],
      "source": [
        "data = pd.read_csv('/datasets/gym_churn.csv')\n",
        "data.sample()"
      ]
    },
    {
      "cell_type": "markdown",
      "metadata": {
        "id": "5DT2zTDfZDzy"
      },
      "source": [
        "Переведем названия колонок в lower case"
      ]
    },
    {
      "cell_type": "code",
      "execution_count": null,
      "metadata": {
        "id": "kgcgQ1c-ZDz0",
        "outputId": "76bbfda9-c993-4c24-a8c3-dd8a90c8c9d7"
      },
      "outputs": [
        {
          "data": {
            "text/html": [
              "<div>\n",
              "<style scoped>\n",
              "    .dataframe tbody tr th:only-of-type {\n",
              "        vertical-align: middle;\n",
              "    }\n",
              "\n",
              "    .dataframe tbody tr th {\n",
              "        vertical-align: top;\n",
              "    }\n",
              "\n",
              "    .dataframe thead th {\n",
              "        text-align: right;\n",
              "    }\n",
              "</style>\n",
              "<table border=\"1\" class=\"dataframe\">\n",
              "  <thead>\n",
              "    <tr style=\"text-align: right;\">\n",
              "      <th></th>\n",
              "      <th>gender</th>\n",
              "      <th>near_location</th>\n",
              "      <th>partner</th>\n",
              "      <th>promo_friends</th>\n",
              "      <th>phone</th>\n",
              "      <th>contract_period</th>\n",
              "      <th>group_visits</th>\n",
              "      <th>age</th>\n",
              "      <th>avg_additional_charges_total</th>\n",
              "      <th>month_to_end_contract</th>\n",
              "      <th>lifetime</th>\n",
              "      <th>avg_class_frequency_total</th>\n",
              "      <th>avg_class_frequency_current_month</th>\n",
              "      <th>churn</th>\n",
              "    </tr>\n",
              "  </thead>\n",
              "  <tbody>\n",
              "    <tr>\n",
              "      <th>3775</th>\n",
              "      <td>0</td>\n",
              "      <td>1</td>\n",
              "      <td>1</td>\n",
              "      <td>0</td>\n",
              "      <td>1</td>\n",
              "      <td>1</td>\n",
              "      <td>1</td>\n",
              "      <td>27</td>\n",
              "      <td>151.84822</td>\n",
              "      <td>1.0</td>\n",
              "      <td>12</td>\n",
              "      <td>4.226185</td>\n",
              "      <td>4.185463</td>\n",
              "      <td>0</td>\n",
              "    </tr>\n",
              "  </tbody>\n",
              "</table>\n",
              "</div>"
            ],
            "text/plain": [
              "      gender  near_location  partner  promo_friends  phone  contract_period  \\\n",
              "3775       0              1        1              0      1                1   \n",
              "\n",
              "      group_visits  age  avg_additional_charges_total  month_to_end_contract  \\\n",
              "3775             1   27                     151.84822                    1.0   \n",
              "\n",
              "      lifetime  avg_class_frequency_total  avg_class_frequency_current_month  \\\n",
              "3775        12                   4.226185                           4.185463   \n",
              "\n",
              "      churn  \n",
              "3775      0  "
            ]
          },
          "execution_count": 3,
          "metadata": {},
          "output_type": "execute_result"
        }
      ],
      "source": [
        "data.columns = data.columns.str.lower()\n",
        "data.sample()"
      ]
    },
    {
      "cell_type": "markdown",
      "metadata": {
        "id": "YpMrtltSZDz2"
      },
      "source": [
        "## Шаг 2. Исследовательский анализ данных (EDA) <a class=\"anchor\" id=\"three\"></a>"
      ]
    },
    {
      "cell_type": "markdown",
      "metadata": {
        "id": "WH_9PLwEZDz3"
      },
      "source": [
        "Оценим чистоту данных"
      ]
    },
    {
      "cell_type": "code",
      "execution_count": null,
      "metadata": {
        "id": "lUSBnkYWZDz4",
        "outputId": "b256ef53-2787-4bb0-e360-cb05619b0cd9"
      },
      "outputs": [
        {
          "name": "stdout",
          "output_type": "stream",
          "text": [
            "Общая информация\n",
            "<class 'pandas.core.frame.DataFrame'>\n",
            "RangeIndex: 4000 entries, 0 to 3999\n",
            "Data columns (total 14 columns):\n",
            " #   Column                             Non-Null Count  Dtype  \n",
            "---  ------                             --------------  -----  \n",
            " 0   gender                             4000 non-null   int64  \n",
            " 1   near_location                      4000 non-null   int64  \n",
            " 2   partner                            4000 non-null   int64  \n",
            " 3   promo_friends                      4000 non-null   int64  \n",
            " 4   phone                              4000 non-null   int64  \n",
            " 5   contract_period                    4000 non-null   int64  \n",
            " 6   group_visits                       4000 non-null   int64  \n",
            " 7   age                                4000 non-null   int64  \n",
            " 8   avg_additional_charges_total       4000 non-null   float64\n",
            " 9   month_to_end_contract              4000 non-null   float64\n",
            " 10  lifetime                           4000 non-null   int64  \n",
            " 11  avg_class_frequency_total          4000 non-null   float64\n",
            " 12  avg_class_frequency_current_month  4000 non-null   float64\n",
            " 13  churn                              4000 non-null   int64  \n",
            "dtypes: float64(4), int64(10)\n",
            "memory usage: 437.6 KB\n",
            "None\n",
            "\n",
            "Количество дубликатов 0\n",
            "\n",
            "Средние значения и стандартные отклонения\n",
            "            gender  near_location      partner  promo_friends        phone  \\\n",
            "count  4000.000000    4000.000000  4000.000000    4000.000000  4000.000000   \n",
            "mean      0.510250       0.845250     0.486750       0.308500     0.903500   \n",
            "std       0.499957       0.361711     0.499887       0.461932     0.295313   \n",
            "min       0.000000       0.000000     0.000000       0.000000     0.000000   \n",
            "25%       0.000000       1.000000     0.000000       0.000000     1.000000   \n",
            "50%       1.000000       1.000000     0.000000       0.000000     1.000000   \n",
            "75%       1.000000       1.000000     1.000000       1.000000     1.000000   \n",
            "max       1.000000       1.000000     1.000000       1.000000     1.000000   \n",
            "\n",
            "       contract_period  group_visits          age  \\\n",
            "count      4000.000000   4000.000000  4000.000000   \n",
            "mean          4.681250      0.412250    29.184250   \n",
            "std           4.549706      0.492301     3.258367   \n",
            "min           1.000000      0.000000    18.000000   \n",
            "25%           1.000000      0.000000    27.000000   \n",
            "50%           1.000000      0.000000    29.000000   \n",
            "75%           6.000000      1.000000    31.000000   \n",
            "max          12.000000      1.000000    41.000000   \n",
            "\n",
            "       avg_additional_charges_total  month_to_end_contract     lifetime  \\\n",
            "count                   4000.000000            4000.000000  4000.000000   \n",
            "mean                     146.943728               4.322750     3.724750   \n",
            "std                       96.355602               4.191297     3.749267   \n",
            "min                        0.148205               1.000000     0.000000   \n",
            "25%                       68.868830               1.000000     1.000000   \n",
            "50%                      136.220159               1.000000     3.000000   \n",
            "75%                      210.949625               6.000000     5.000000   \n",
            "max                      552.590740              12.000000    31.000000   \n",
            "\n",
            "       avg_class_frequency_total  avg_class_frequency_current_month  \\\n",
            "count                4000.000000                        4000.000000   \n",
            "mean                    1.879020                           1.767052   \n",
            "std                     0.972245                           1.052906   \n",
            "min                     0.000000                           0.000000   \n",
            "25%                     1.180875                           0.963003   \n",
            "50%                     1.832768                           1.719574   \n",
            "75%                     2.536078                           2.510336   \n",
            "max                     6.023668                           6.146783   \n",
            "\n",
            "             churn  \n",
            "count  4000.000000  \n",
            "mean      0.265250  \n",
            "std       0.441521  \n",
            "min       0.000000  \n",
            "25%       0.000000  \n",
            "50%       0.000000  \n",
            "75%       1.000000  \n",
            "max       1.000000  \n"
          ]
        }
      ],
      "source": [
        "def reviewer (df):\n",
        "    print('Общая информация')\n",
        "    print(df.info())\n",
        "    print()\n",
        "    print('Количество дубликатов', df.duplicated().sum())\n",
        "    print()\n",
        "    print('Средние значения и стандартные отклонения')\n",
        "    print(df.describe())\n",
        "\n",
        "reviewer(data)"
      ]
    },
    {
      "cell_type": "markdown",
      "metadata": {
        "id": "p4FGbCRVZDz5"
      },
      "source": [
        "В данных нет пропусков и дубликатов"
      ]
    },
    {
      "cell_type": "markdown",
      "metadata": {
        "id": "EA0uNpM6ZDz6"
      },
      "source": [
        "Посмотрим на средние значения признаков для тех, кто ушел, и тех, кто остался."
      ]
    },
    {
      "cell_type": "code",
      "execution_count": null,
      "metadata": {
        "id": "KVPbnVMXZDz7",
        "outputId": "02b37c81-c42b-44da-df68-556181ecb14e"
      },
      "outputs": [
        {
          "data": {
            "text/html": [
              "<div>\n",
              "<style scoped>\n",
              "    .dataframe tbody tr th:only-of-type {\n",
              "        vertical-align: middle;\n",
              "    }\n",
              "\n",
              "    .dataframe tbody tr th {\n",
              "        vertical-align: top;\n",
              "    }\n",
              "\n",
              "    .dataframe thead th {\n",
              "        text-align: right;\n",
              "    }\n",
              "</style>\n",
              "<table border=\"1\" class=\"dataframe\">\n",
              "  <thead>\n",
              "    <tr style=\"text-align: right;\">\n",
              "      <th></th>\n",
              "      <th>gender</th>\n",
              "      <th>near_location</th>\n",
              "      <th>partner</th>\n",
              "      <th>promo_friends</th>\n",
              "      <th>phone</th>\n",
              "      <th>contract_period</th>\n",
              "      <th>group_visits</th>\n",
              "      <th>age</th>\n",
              "      <th>avg_additional_charges_total</th>\n",
              "      <th>month_to_end_contract</th>\n",
              "      <th>lifetime</th>\n",
              "      <th>avg_class_frequency_total</th>\n",
              "      <th>avg_class_frequency_current_month</th>\n",
              "    </tr>\n",
              "    <tr>\n",
              "      <th>churn</th>\n",
              "      <th></th>\n",
              "      <th></th>\n",
              "      <th></th>\n",
              "      <th></th>\n",
              "      <th></th>\n",
              "      <th></th>\n",
              "      <th></th>\n",
              "      <th></th>\n",
              "      <th></th>\n",
              "      <th></th>\n",
              "      <th></th>\n",
              "      <th></th>\n",
              "      <th></th>\n",
              "    </tr>\n",
              "  </thead>\n",
              "  <tbody>\n",
              "    <tr>\n",
              "      <th>0</th>\n",
              "      <td>0.51</td>\n",
              "      <td>0.87</td>\n",
              "      <td>0.53</td>\n",
              "      <td>0.35</td>\n",
              "      <td>0.9</td>\n",
              "      <td>5.75</td>\n",
              "      <td>0.46</td>\n",
              "      <td>29.98</td>\n",
              "      <td>158.45</td>\n",
              "      <td>5.28</td>\n",
              "      <td>4.71</td>\n",
              "      <td>2.02</td>\n",
              "      <td>2.03</td>\n",
              "    </tr>\n",
              "    <tr>\n",
              "      <th>1</th>\n",
              "      <td>0.51</td>\n",
              "      <td>0.77</td>\n",
              "      <td>0.36</td>\n",
              "      <td>0.18</td>\n",
              "      <td>0.9</td>\n",
              "      <td>1.73</td>\n",
              "      <td>0.27</td>\n",
              "      <td>26.99</td>\n",
              "      <td>115.08</td>\n",
              "      <td>1.66</td>\n",
              "      <td>0.99</td>\n",
              "      <td>1.47</td>\n",
              "      <td>1.04</td>\n",
              "    </tr>\n",
              "  </tbody>\n",
              "</table>\n",
              "</div>"
            ],
            "text/plain": [
              "       gender  near_location  partner  promo_friends  phone  contract_period  \\\n",
              "churn                                                                          \n",
              "0        0.51           0.87     0.53           0.35    0.9             5.75   \n",
              "1        0.51           0.77     0.36           0.18    0.9             1.73   \n",
              "\n",
              "       group_visits    age  avg_additional_charges_total  \\\n",
              "churn                                                      \n",
              "0              0.46  29.98                        158.45   \n",
              "1              0.27  26.99                        115.08   \n",
              "\n",
              "       month_to_end_contract  lifetime  avg_class_frequency_total  \\\n",
              "churn                                                               \n",
              "0                       5.28      4.71                       2.02   \n",
              "1                       1.66      0.99                       1.47   \n",
              "\n",
              "       avg_class_frequency_current_month  \n",
              "churn                                     \n",
              "0                                   2.03  \n",
              "1                                   1.04  "
            ]
          },
          "execution_count": 5,
          "metadata": {},
          "output_type": "execute_result"
        }
      ],
      "source": [
        "churn = data.groupby('churn').mean()\n",
        "churn = churn.round(decimals=2)\n",
        "churn"
      ]
    },
    {
      "cell_type": "markdown",
      "metadata": {
        "id": "cyxTVEF4ZDz8"
      },
      "source": [
        "Отличия уходящих <br> * по гендеру и оставлению телефона нет отличий;  <br> * чаще живут дальше, реже приходят от друзей, реже работают в компаниях-парнерах, абонементы чаще на месяц, а не на полгода-год, реже ходят на групповые, в среднем моложе, меньше оставляют денег на дополнительные товары, реже в неделю ходят в зал и к моменту ухода посещаемость в неделю ещё падает "
      ]
    },
    {
      "cell_type": "markdown",
      "metadata": {
        "id": "TjOwyXp1ZDz9"
      },
      "source": [
        "Построим столбчатые гистограммы и распределения признаков для тех, кто ушёл (отток) и тех, кто остался (не попали в отток)"
      ]
    },
    {
      "cell_type": "code",
      "execution_count": null,
      "metadata": {
        "id": "YiVy_tDIZD0C",
        "outputId": "87a493ec-13e5-4ab6-d5af-a1fd8481d358"
      },
      "outputs": [
        {
          "data": {
            "text/plain": [
              "Index(['gender', 'near_location', 'partner', 'promo_friends', 'phone',\n",
              "       'contract_period', 'group_visits', 'age',\n",
              "       'avg_additional_charges_total', 'month_to_end_contract', 'lifetime',\n",
              "       'avg_class_frequency_total', 'avg_class_frequency_current_month',\n",
              "       'churn'],\n",
              "      dtype='object')"
            ]
          },
          "execution_count": 9,
          "metadata": {},
          "output_type": "execute_result"
        }
      ],
      "source": [
        "data.columns"
      ]
    },
    {
      "cell_type": "code",
      "execution_count": null,
      "metadata": {
        "id": "5T4zziC1ZD0C",
        "outputId": "8790d0e6-f605-4338-b951-61b80504ff84"
      },
      "outputs": [
        {
          "data": {
            "text/plain": [
              "<Figure size 360x360 with 0 Axes>"
            ]
          },
          "metadata": {},
          "output_type": "display_data"
        },
        {
          "data": {
            "image/png": "[encoded data removed]",
            "text/plain": [
              "<Figure size 402.375x360 with 1 Axes>"
            ]
          },
          "metadata": {
            "needs_background": "light"
          },
          "output_type": "display_data"
        },
        {
          "data": {
            "text/plain": [
              "<Figure size 360x360 with 0 Axes>"
            ]
          },
          "metadata": {},
          "output_type": "display_data"
        },
        {
          "data": {
            "image/png": "[encoded data removed]",
            "text/plain": [
              "<Figure size 402.375x360 with 1 Axes>"
            ]
          },
          "metadata": {
            "needs_background": "light"
          },
          "output_type": "display_data"
        },
        {
          "data": {
            "text/plain": [
              "<Figure size 360x360 with 0 Axes>"
            ]
          },
          "metadata": {},
          "output_type": "display_data"
        },
        {
          "data": {
            "image/png": "[encoded data removed]",
            "text/plain": [
              "<Figure size 402.375x360 with 1 Axes>"
            ]
          },
          "metadata": {
            "needs_background": "light"
          },
          "output_type": "display_data"
        },
        {
          "data": {
            "text/plain": [
              "<Figure size 360x360 with 0 Axes>"
            ]
          },
          "metadata": {},
          "output_type": "display_data"
        },
        {
          "data": {
            "image/png": "[encoded data removed]",
            "text/plain": [
              "<Figure size 402.375x360 with 1 Axes>"
            ]
          },
          "metadata": {
            "needs_background": "light"
          },
          "output_type": "display_data"
        },
        {
          "data": {
            "text/plain": [
              "<Figure size 360x360 with 0 Axes>"
            ]
          },
          "metadata": {},
          "output_type": "display_data"
        },
        {
          "data": {
            "image/png": "[encoded data removed]",
            "text/plain": [
              "<Figure size 402.375x360 with 1 Axes>"
            ]
          },
          "metadata": {
            "needs_background": "light"
          },
          "output_type": "display_data"
        },
        {
          "data": {
            "text/plain": [
              "<Figure size 360x360 with 0 Axes>"
            ]
          },
          "metadata": {},
          "output_type": "display_data"
        },
        {
          "data": {
            "image/png": "[encoded data removed]",
            "text/plain": [
              "<Figure size 402.375x360 with 1 Axes>"
            ]
          },
          "metadata": {
            "needs_background": "light"
          },
          "output_type": "display_data"
        },
        {
          "data": {
            "text/plain": [
              "<Figure size 360x360 with 0 Axes>"
            ]
          },
          "metadata": {},
          "output_type": "display_data"
        },
        {
          "data": {
            "image/png": "[encoded data removed]",
            "text/plain": [
              "<Figure size 402.375x360 with 1 Axes>"
            ]
          },
          "metadata": {
            "needs_background": "light"
          },
          "output_type": "display_data"
        },
        {
          "data": {
            "text/plain": [
              "<Figure size 360x360 with 0 Axes>"
            ]
          },
          "metadata": {},
          "output_type": "display_data"
        },
        {
          "data": {
            "image/png": "[encoded data removed]",
            "text/plain": [
              "<Figure size 402.375x360 with 1 Axes>"
            ]
          },
          "metadata": {
            "needs_background": "light"
          },
          "output_type": "display_data"
        }
      ],
      "source": [
        "for column in ['gender', 'near_location', 'partner', 'promo_friends', 'phone',\n",
        "       'contract_period', 'group_visits', 'age']:\n",
        "    plt.figure(figsize=(5, 5))\n",
        "    sns.catplot(x = column, hue='churn', kind='count', data=data)\n",
        "    plt.title(column)\n",
        "    plt.show()\n",
        "\n"
      ]
    },
    {
      "cell_type": "markdown",
      "metadata": {
        "id": "YtnkUQ9-ZD0D"
      },
      "source": [
        "По графикам видно, что оттекающие почти всегда заключают контракт на месяц. Лояльные тоже частенько заключают на месяц, но их больше, чем оттекающих, в контрактах на 6 и 12 месяцев. Наглядно видно, что лояльные немного постарше, чаще имеют партнерские скидки и дружеские приглашения, чаще ходят на групповые занятия. Те, кто живет близко, чаще лояльны. Но некоторое количество близкоживущих оттекает - на них можно осредоточиться отделу маркетинга."
      ]
    },
    {
      "cell_type": "markdown",
      "metadata": {
        "id": "jRQuqDGiZD0E"
      },
      "source": [
        "Построим матрицу корреляций признаков"
      ]
    },
    {
      "cell_type": "code",
      "execution_count": null,
      "metadata": {
        "id": "b0YkF4vxZD0E",
        "outputId": "9888c03e-67fd-4e6e-a093-d9729199e8b9"
      },
      "outputs": [
        {
          "data": {
            "image/png": "[encoded data removed]",
            "text/plain": [
              "<Figure size 1332x756 with 2 Axes>"
            ]
          },
          "metadata": {
            "needs_background": "light"
          },
          "output_type": "display_data"
        }
      ],
      "source": [
        "cm = data.corr() \n",
        "fig = plt.figure()\n",
        "fig.suptitle('Матрица корреляций признаков', fontsize=20)\n",
        "fig.set_size_inches(18.5, 10.5)\n",
        "sns.heatmap(data=cm, annot=True)\n",
        "plt.xticks(fontsize=14, rotation=70)\n",
        "plt.yticks(fontsize=14)\n",
        "plt.show()"
      ]
    },
    {
      "cell_type": "markdown",
      "metadata": {
        "id": "ySuKdrPaZD0F"
      },
      "source": [
        "По ней видно, что сильно коррелируют попарно между собой и с целевым признаком признаки \"Месяцев до конца контракта\" и \"Контрактный период\", а также \"Средняя посещаемость зала\" и \"Средняя посещаемость зала в текущем месяце\". \n",
        "Совсем не коррелируют с целевым гендер и оставление номера телефона."
      ]
    },
    {
      "cell_type": "markdown",
      "metadata": {
        "id": "hlYzVTofZD0H"
      },
      "source": [
        "## Шаг 3. Модель прогнозирования оттока клиентов <a class=\"anchor\" id=\"three\"></a>"
      ]
    },
    {
      "cell_type": "markdown",
      "metadata": {
        "id": "9YlGqCunZD0H"
      },
      "source": [
        "У нас есть мультиколлинеарные признаки. Можно убрать ['month_to_end_contract'] и ['avg_class_frequency_total']"
      ]
    },
    {
      "cell_type": "code",
      "execution_count": null,
      "metadata": {
        "id": "1jAUkI4bZD0I"
      },
      "outputs": [],
      "source": [
        "data = data.drop(['month_to_end_contract', 'avg_class_frequency_total'], axis=1)"
      ]
    },
    {
      "cell_type": "markdown",
      "metadata": {
        "id": "E3bLRp6-ZD0J"
      },
      "source": [
        "Разделим выборку на обучающую и валидационную."
      ]
    },
    {
      "cell_type": "code",
      "execution_count": null,
      "metadata": {
        "id": "aWQp64EHZD0J"
      },
      "outputs": [],
      "source": [
        "X = data.drop('churn', axis =1)\n",
        "y = data['churn']\n"
      ]
    },
    {
      "cell_type": "code",
      "execution_count": null,
      "metadata": {
        "id": "U2ouI8pSZD0K"
      },
      "outputs": [],
      "source": [
        "X_train, X_test, y_train, y_test = train_test_split(X, y, test_size=0.2, stratify=y, random_state=0)\n",
        "X_train, X_val, y_train, y_val = train_test_split(X_train, y_train, test_size=0.25, stratify=y_train, random_state=0)"
      ]
    },
    {
      "cell_type": "markdown",
      "metadata": {
        "id": "8NZsBDhOZD0L"
      },
      "source": [
        "Стандартизируем признаки"
      ]
    },
    {
      "cell_type": "code",
      "execution_count": null,
      "metadata": {
        "id": "LdhCqXYZZD0L"
      },
      "outputs": [],
      "source": [
        "scaler = StandardScaler()\n",
        "X_train_st = scaler.fit_transform(X_train)\n",
        "X_test_st = scaler.transform(X_test)"
      ]
    },
    {
      "cell_type": "markdown",
      "metadata": {
        "id": "cYVuusN4ZD0M"
      },
      "source": [
        "Обучим модели и выберем лучшую"
      ]
    },
    {
      "cell_type": "code",
      "execution_count": null,
      "metadata": {
        "id": "mFSHyGNHZD0M",
        "outputId": "67549650-17ec-44f0-86f8-c1bb7e2966a6"
      },
      "outputs": [
        {
          "name": "stdout",
          "output_type": "stream",
          "text": [
            "LogisticRegression(random_state=0)\n",
            "Accuracy:0.92 Precision: 0.86 Recall:0.83 \n",
            "RandomForestClassifier(random_state=0)\n",
            "Accuracy:0.91 Precision: 0.87 Recall:0.80 \n",
            "<catboost.core.CatBoostClassifier object at 0x7f55891c7310>\n",
            "Accuracy:0.91 Precision: 0.86 Recall:0.81 \n"
          ]
        }
      ],
      "source": [
        "models = [\n",
        "    LogisticRegression(random_state=0),\n",
        "    RandomForestClassifier(random_state=0),\n",
        "    CatBoostClassifier(random_state=0, verbose=False),\n",
        "]\n",
        "\n",
        "# функция, которая принимает на вход модель и данные и выводит метрики\n",
        "def make_prediction(m, X_train, y_train, X_test, y_test):\n",
        "    model = m\n",
        "    model.fit(X_train, y_train)\n",
        "    y_pred = model.predict(X_test)\n",
        "    print(\n",
        "        'Accuracy:{:.2f} Precision: {:.2f} Recall:{:.2f} '.format(\n",
        "            accuracy_score(y_test, y_pred),\n",
        "            precision_score(y_test, y_pred),\n",
        "            recall_score(y_test, y_pred),\n",
        "        )\n",
        "    )\n",
        "#цикл, который выводит метрики по списку моделей\n",
        "for i in models:\n",
        "    print(i)\n",
        "    make_prediction(i, X_train_st, y_train, X_test_st, y_test)"
      ]
    },
    {
      "cell_type": "markdown",
      "metadata": {
        "id": "5ViirwpPZD0N"
      },
      "source": [
        "Хороши все модели. На первом месте LogisticRegression, потом CatBoost, потом RandomForestClassifier. Если поиграть с параметрами, наверняка можно получить ещё более хорошие результаты."
      ]
    },
    {
      "cell_type": "markdown",
      "metadata": {
        "id": "vPX7jdKdZD0O"
      },
      "source": [
        "## Шаг 4. Кластеризация клиентов <a class=\"anchor\" id=\"four\"></a>"
      ]
    },
    {
      "cell_type": "markdown",
      "metadata": {
        "id": "GdJGSe0eZD0O"
      },
      "source": [
        "У нас уже есть данные без целевого признака. Стандартизируем их, построим матрицу расстояний и визуализируем её в дендрограмме. По ней будет видно, сколько кластеров - групп пользователей - получилось."
      ]
    },
    {
      "cell_type": "code",
      "execution_count": null,
      "metadata": {
        "id": "wE76dLi6ZD0O"
      },
      "outputs": [],
      "source": [
        "sc = StandardScaler()\n",
        "X_sc = sc.fit_transform(X)\n",
        "\n",
        "linked = linkage(X_sc, method = 'ward') \n",
        "plt.figure(figsize=(15, 10))  \n",
        "dendrogram(linked, orientation='top')\n",
        "plt.title('Кластеры культуристов-датасаентистов')\n",
        "plt.show() "
      ]
    },
    {
      "cell_type": "markdown",
      "metadata": {
        "id": "esOiJroRZD0P"
      },
      "source": [
        "Явно видно 4 кластера. Очевидно четвертый очень большой, и его можно разбить на два. Принимаем n за 5. Обучим модель и посмотрим на среднее для всех признаков."
      ]
    },
    {
      "cell_type": "code",
      "execution_count": null,
      "metadata": {
        "id": "6mRwAXulZD0P",
        "outputId": "83aeefee-fc84-4960-ecb5-2c6978e90e32"
      },
      "outputs": [
        {
          "data": {
            "text/html": [
              "<div>\n",
              "<style scoped>\n",
              "    .dataframe tbody tr th:only-of-type {\n",
              "        vertical-align: middle;\n",
              "    }\n",
              "\n",
              "    .dataframe tbody tr th {\n",
              "        vertical-align: top;\n",
              "    }\n",
              "\n",
              "    .dataframe thead th {\n",
              "        text-align: right;\n",
              "    }\n",
              "</style>\n",
              "<table border=\"1\" class=\"dataframe\">\n",
              "  <thead>\n",
              "    <tr style=\"text-align: right;\">\n",
              "      <th></th>\n",
              "      <th>gender</th>\n",
              "      <th>near_location</th>\n",
              "      <th>partner</th>\n",
              "      <th>promo_friends</th>\n",
              "      <th>phone</th>\n",
              "      <th>contract_period</th>\n",
              "      <th>group_visits</th>\n",
              "      <th>age</th>\n",
              "      <th>avg_additional_charges_total</th>\n",
              "      <th>lifetime</th>\n",
              "      <th>avg_class_frequency_current_month</th>\n",
              "      <th>churn</th>\n",
              "    </tr>\n",
              "    <tr>\n",
              "      <th>cluster_km</th>\n",
              "      <th></th>\n",
              "      <th></th>\n",
              "      <th></th>\n",
              "      <th></th>\n",
              "      <th></th>\n",
              "      <th></th>\n",
              "      <th></th>\n",
              "      <th></th>\n",
              "      <th></th>\n",
              "      <th></th>\n",
              "      <th></th>\n",
              "      <th></th>\n",
              "    </tr>\n",
              "  </thead>\n",
              "  <tbody>\n",
              "    <tr>\n",
              "      <th>0</th>\n",
              "      <td>0.496447</td>\n",
              "      <td>0.995939</td>\n",
              "      <td>0.892386</td>\n",
              "      <td>1.000000</td>\n",
              "      <td>1.0</td>\n",
              "      <td>6.922843</td>\n",
              "      <td>0.524873</td>\n",
              "      <td>29.606091</td>\n",
              "      <td>153.424651</td>\n",
              "      <td>4.283249</td>\n",
              "      <td>1.919520</td>\n",
              "      <td>0.119797</td>\n",
              "    </tr>\n",
              "    <tr>\n",
              "      <th>1</th>\n",
              "      <td>0.500000</td>\n",
              "      <td>0.000000</td>\n",
              "      <td>0.489247</td>\n",
              "      <td>0.078853</td>\n",
              "      <td>1.0</td>\n",
              "      <td>2.994624</td>\n",
              "      <td>0.232975</td>\n",
              "      <td>28.679211</td>\n",
              "      <td>137.125763</td>\n",
              "      <td>2.974910</td>\n",
              "      <td>1.597146</td>\n",
              "      <td>0.403226</td>\n",
              "    </tr>\n",
              "    <tr>\n",
              "      <th>2</th>\n",
              "      <td>0.500940</td>\n",
              "      <td>1.000000</td>\n",
              "      <td>0.217105</td>\n",
              "      <td>0.072368</td>\n",
              "      <td>1.0</td>\n",
              "      <td>2.010338</td>\n",
              "      <td>0.277256</td>\n",
              "      <td>27.583647</td>\n",
              "      <td>119.339956</td>\n",
              "      <td>1.922932</td>\n",
              "      <td>1.203319</td>\n",
              "      <td>0.563910</td>\n",
              "    </tr>\n",
              "    <tr>\n",
              "      <th>3</th>\n",
              "      <td>0.534260</td>\n",
              "      <td>0.996028</td>\n",
              "      <td>0.379345</td>\n",
              "      <td>0.009930</td>\n",
              "      <td>1.0</td>\n",
              "      <td>6.208540</td>\n",
              "      <td>0.538232</td>\n",
              "      <td>30.699106</td>\n",
              "      <td>176.259567</td>\n",
              "      <td>5.415094</td>\n",
              "      <td>2.324220</td>\n",
              "      <td>0.014896</td>\n",
              "    </tr>\n",
              "    <tr>\n",
              "      <th>4</th>\n",
              "      <td>0.523316</td>\n",
              "      <td>0.862694</td>\n",
              "      <td>0.471503</td>\n",
              "      <td>0.305699</td>\n",
              "      <td>0.0</td>\n",
              "      <td>4.777202</td>\n",
              "      <td>0.427461</td>\n",
              "      <td>29.297927</td>\n",
              "      <td>144.208179</td>\n",
              "      <td>3.940415</td>\n",
              "      <td>1.723967</td>\n",
              "      <td>0.266839</td>\n",
              "    </tr>\n",
              "  </tbody>\n",
              "</table>\n",
              "</div>"
            ],
            "text/plain": [
              "              gender  near_location   partner  promo_friends  phone  \\\n",
              "cluster_km                                                            \n",
              "0           0.496447       0.995939  0.892386       1.000000    1.0   \n",
              "1           0.500000       0.000000  0.489247       0.078853    1.0   \n",
              "2           0.500940       1.000000  0.217105       0.072368    1.0   \n",
              "3           0.534260       0.996028  0.379345       0.009930    1.0   \n",
              "4           0.523316       0.862694  0.471503       0.305699    0.0   \n",
              "\n",
              "            contract_period  group_visits        age  \\\n",
              "cluster_km                                             \n",
              "0                  6.922843      0.524873  29.606091   \n",
              "1                  2.994624      0.232975  28.679211   \n",
              "2                  2.010338      0.277256  27.583647   \n",
              "3                  6.208540      0.538232  30.699106   \n",
              "4                  4.777202      0.427461  29.297927   \n",
              "\n",
              "            avg_additional_charges_total  lifetime  \\\n",
              "cluster_km                                           \n",
              "0                             153.424651  4.283249   \n",
              "1                             137.125763  2.974910   \n",
              "2                             119.339956  1.922932   \n",
              "3                             176.259567  5.415094   \n",
              "4                             144.208179  3.940415   \n",
              "\n",
              "            avg_class_frequency_current_month     churn  \n",
              "cluster_km                                               \n",
              "0                                    1.919520  0.119797  \n",
              "1                                    1.597146  0.403226  \n",
              "2                                    1.203319  0.563910  \n",
              "3                                    2.324220  0.014896  \n",
              "4                                    1.723967  0.266839  "
            ]
          },
          "execution_count": 25,
          "metadata": {},
          "output_type": "execute_result"
        }
      ],
      "source": [
        "km = KMeans(n_clusters=5, random_state=0)\n",
        "labels = km.fit_predict(X_sc) \n",
        "data['cluster_km'] = labels\n",
        "mean_km = data.groupby(['cluster_km']).mean()\n",
        "mean_km.round(decimals = 2)\n",
        "mean_km"
      ]
    },
    {
      "cell_type": "markdown",
      "metadata": {
        "id": "DgJqbEbfZD0Q"
      },
      "source": [
        "Построим распределения признаков для кластеров. "
      ]
    },
    {
      "cell_type": "code",
      "execution_count": null,
      "metadata": {
        "id": "8dK4kmN6ZD0Q",
        "outputId": "51a1013f-1746-4474-c367-544ed435b9db"
      },
      "outputs": [
        {
          "data": {
            "image/png": "[encoded data removed]",
            "text/plain": [
              "<Figure size 360x360 with 1 Axes>"
            ]
          },
          "metadata": {
            "needs_background": "light"
          },
          "output_type": "display_data"
        },
        {
          "data": {
            "image/png": "[encoded data removed]",
            "text/plain": [
              "<Figure size 360x360 with 1 Axes>"
            ]
          },
          "metadata": {
            "needs_background": "light"
          },
          "output_type": "display_data"
        },
        {
          "data": {
            "image/png": "[encoded data removed]",
            "text/plain": [
              "<Figure size 360x360 with 1 Axes>"
            ]
          },
          "metadata": {
            "needs_background": "light"
          },
          "output_type": "display_data"
        },
        {
          "data": {
            "image/png": "[encoded data removed]",
            "text/plain": [
              "<Figure size 360x360 with 1 Axes>"
            ]
          },
          "metadata": {
            "needs_background": "light"
          },
          "output_type": "display_data"
        },
        {
          "data": {
            "image/png": "[encoded data removed]",
            "text/plain": [
              "<Figure size 360x360 with 1 Axes>"
            ]
          },
          "metadata": {
            "needs_background": "light"
          },
          "output_type": "display_data"
        },
        {
          "data": {
            "image/png": "[encoded data removed]",
            "text/plain": [
              "<Figure size 360x360 with 1 Axes>"
            ]
          },
          "metadata": {
            "needs_background": "light"
          },
          "output_type": "display_data"
        },
        {
          "data": {
            "image/png": "[encoded data removed]",
            "text/plain": [
              "<Figure size 360x360 with 1 Axes>"
            ]
          },
          "metadata": {
            "needs_background": "light"
          },
          "output_type": "display_data"
        },
        {
          "data": {
            "image/png": "[encoded data removed]",
            "text/plain": [
              "<Figure size 360x360 with 1 Axes>"
            ]
          },
          "metadata": {
            "needs_background": "light"
          },
          "output_type": "display_data"
        }
      ],
      "source": [
        "for column in ['gender', 'near_location', 'partner', 'promo_friends', 'phone',\n",
        "       'contract_period', 'group_visits', 'age']:\n",
        "    plt.figure(figsize=(5, 5))\n",
        "    sns.countplot(x = column, hue='cluster_km', data=data)\n",
        "    plt.title(column)\n",
        "    plt.show()"
      ]
    },
    {
      "cell_type": "markdown",
      "metadata": {
        "id": "epSvJrmKZD0R"
      },
      "source": [
        "Видно, что в первом кластере люди, которые живут далеко. Поскольку отток в первом кластере большой, очевидно, что это важно. Люди из второго кластера чаще всего заключают контракт на месяц (и отток во втором кластере большой). Несмотря на это, люди из третьего - самого надежного - кластера, заключают контракты на месяц, полгода и год в равной пропорции. Скорее всего, не нужно стимулировать людей покупать абонементы больше, чем на месяц."
      ]
    },
    {
      "cell_type": "markdown",
      "metadata": {
        "id": "wvLL_3HpZD0T"
      },
      "source": [
        "Для каждого полученного кластера посчитаем долю оттока"
      ]
    },
    {
      "cell_type": "code",
      "execution_count": null,
      "metadata": {
        "id": "j-A034UhZD0T",
        "outputId": "9c785c82-013f-4111-87fe-67c12eb25f47"
      },
      "outputs": [
        {
          "data": {
            "text/plain": [
              "cluster_km\n",
              "3    0.01\n",
              "0    0.12\n",
              "4    0.27\n",
              "1    0.40\n",
              "2    0.56\n",
              "Name: churn, dtype: float64"
            ]
          },
          "execution_count": 19,
          "metadata": {},
          "output_type": "execute_result"
        }
      ],
      "source": [
        "churn_km = data.groupby(['cluster_km'])['churn'].mean().sort_values()\n",
        "churn_km.round(decimals = 2)"
      ]
    },
    {
      "cell_type": "markdown",
      "metadata": {
        "id": "A59P-1gsZD0T"
      },
      "source": [
        "Третий кластер самый надежный. Больше всего отток в первом и втором кластерах."
      ]
    },
    {
      "cell_type": "markdown",
      "metadata": {
        "id": "LmB1VHzSZD0U"
      },
      "source": [
        "## Шаг 5. Выводы и базовые рекомендации <a class=\"anchor\" id=\"five\"></a>"
      ]
    },
    {
      "cell_type": "markdown",
      "metadata": {
        "id": "O3KNZDYXZD0U"
      },
      "source": [
        "Изначально отток клиентов составляет около 27%. <br> Анализ данных показывает, что лояльные клиенты в среднем на пару лет старше тех, кто уходит, чаще ближе живут, пользуются дружескими приглашениями и партнерскими программами. Посещают занятия чаще - как минимум 2 раза в неделю, и ходят на групповые.<br> Клиентов можно разделить на 4-5 групп. В двух из них отток довольно большой. В одной из них - скорее всего, потому, что люди далеко живут. Поэтому в первую очередь нужно сосредоточиться на втором кластере, там люди живут близко, но все равно оттекают. Можно предложить им скидки, возможно, бесплатное посещение групповых занятий или хорошие скидки на сопутствующие товары. Тем, кто живёт далеко, можно предложить удаленные групповые занятия или удаленные занятия с персональным тренером."
      ]
    },
    {
      "cell_type": "code",
      "execution_count": null,
      "metadata": {
        "id": "bnrzmgp6ZD0X"
      },
      "outputs": [],
      "source": []
    }
  ],
  "metadata": {
    "ExecuteTimeLog": [
      {
        "duration": 4,
        "start_time": "2022-06-28T07:25:36.163Z"
      },
      {
        "duration": 2,
        "start_time": "2022-06-28T07:28:45.299Z"
      },
      {
        "duration": 1648,
        "start_time": "2022-06-28T07:39:56.602Z"
      },
      {
        "duration": 51,
        "start_time": "2022-06-28T07:40:05.212Z"
      },
      {
        "duration": 29,
        "start_time": "2022-06-28T07:40:15.705Z"
      },
      {
        "duration": 58,
        "start_time": "2022-06-28T07:43:46.893Z"
      },
      {
        "duration": 49,
        "start_time": "2022-06-28T07:47:00.919Z"
      },
      {
        "duration": 58,
        "start_time": "2022-06-28T07:47:37.469Z"
      },
      {
        "duration": 113,
        "start_time": "2022-06-28T07:49:45.362Z"
      },
      {
        "duration": 16,
        "start_time": "2022-06-28T07:50:01.798Z"
      },
      {
        "duration": 17,
        "start_time": "2022-06-28T07:50:17.589Z"
      },
      {
        "duration": 15,
        "start_time": "2022-06-28T07:52:19.652Z"
      },
      {
        "duration": 3297,
        "start_time": "2022-06-28T08:05:09.105Z"
      },
      {
        "duration": 1481,
        "start_time": "2022-06-28T08:05:30.586Z"
      },
      {
        "duration": 4,
        "start_time": "2022-06-28T08:36:11.215Z"
      },
      {
        "duration": 1332,
        "start_time": "2022-06-28T08:36:24.037Z"
      },
      {
        "duration": 1316,
        "start_time": "2022-06-28T08:36:39.613Z"
      },
      {
        "duration": 1348,
        "start_time": "2022-06-28T08:37:44.793Z"
      },
      {
        "duration": 1508,
        "start_time": "2022-06-28T08:38:13.584Z"
      },
      {
        "duration": 1371,
        "start_time": "2022-06-28T08:38:28.347Z"
      },
      {
        "duration": 1508,
        "start_time": "2022-06-28T08:38:35.306Z"
      },
      {
        "duration": 1457,
        "start_time": "2022-06-28T08:39:02.675Z"
      },
      {
        "duration": 1568,
        "start_time": "2022-06-28T08:41:59.570Z"
      },
      {
        "duration": 1478,
        "start_time": "2022-06-28T08:42:54.326Z"
      },
      {
        "duration": 1465,
        "start_time": "2022-06-28T08:43:18.604Z"
      },
      {
        "duration": 15,
        "start_time": "2022-06-28T08:45:27.221Z"
      },
      {
        "duration": 13,
        "start_time": "2022-06-28T08:45:49.838Z"
      },
      {
        "duration": 15,
        "start_time": "2022-06-28T08:46:08.149Z"
      },
      {
        "duration": 1608,
        "start_time": "2022-06-28T08:46:23.579Z"
      },
      {
        "duration": 1429,
        "start_time": "2022-06-28T08:47:33.820Z"
      },
      {
        "duration": 1496,
        "start_time": "2022-06-28T08:47:51.024Z"
      },
      {
        "duration": 1709,
        "start_time": "2022-06-28T08:49:14.510Z"
      },
      {
        "duration": 1504,
        "start_time": "2022-06-28T08:49:36.721Z"
      },
      {
        "duration": 1596,
        "start_time": "2022-06-28T08:49:55.090Z"
      },
      {
        "duration": 1476,
        "start_time": "2022-06-28T08:50:22.722Z"
      },
      {
        "duration": 1593,
        "start_time": "2022-06-28T08:50:53.752Z"
      },
      {
        "duration": 1510,
        "start_time": "2022-06-28T08:52:20.517Z"
      },
      {
        "duration": 1562,
        "start_time": "2022-06-28T08:53:05.665Z"
      },
      {
        "duration": 1479,
        "start_time": "2022-06-28T08:53:22.893Z"
      },
      {
        "duration": 1611,
        "start_time": "2022-06-28T08:53:49.950Z"
      },
      {
        "duration": 1496,
        "start_time": "2022-06-28T08:54:03.522Z"
      },
      {
        "duration": 1556,
        "start_time": "2022-06-28T08:54:35.726Z"
      },
      {
        "duration": 2341,
        "start_time": "2022-06-28T09:36:01.993Z"
      },
      {
        "duration": 4222,
        "start_time": "2022-06-28T09:36:34.188Z"
      },
      {
        "duration": 1880,
        "start_time": "2022-06-28T09:36:59.387Z"
      },
      {
        "duration": 2004,
        "start_time": "2022-06-28T09:38:52.675Z"
      },
      {
        "duration": 2034,
        "start_time": "2022-06-28T09:39:35.351Z"
      },
      {
        "duration": 1984,
        "start_time": "2022-06-28T09:39:53.416Z"
      },
      {
        "duration": 1677,
        "start_time": "2022-06-28T09:39:58.257Z"
      },
      {
        "duration": 1886,
        "start_time": "2022-06-28T09:40:02.256Z"
      },
      {
        "duration": 2082,
        "start_time": "2022-06-28T09:40:13.603Z"
      },
      {
        "duration": 1879,
        "start_time": "2022-06-28T09:40:30.717Z"
      },
      {
        "duration": 1889,
        "start_time": "2022-06-28T09:40:37.574Z"
      },
      {
        "duration": 1864,
        "start_time": "2022-06-28T09:40:49.472Z"
      },
      {
        "duration": 2029,
        "start_time": "2022-06-28T09:40:55.576Z"
      },
      {
        "duration": 2167,
        "start_time": "2022-06-28T09:41:06.937Z"
      },
      {
        "duration": 1903,
        "start_time": "2022-06-28T09:41:19.012Z"
      },
      {
        "duration": 2176,
        "start_time": "2022-06-28T09:42:25.042Z"
      },
      {
        "duration": 5974,
        "start_time": "2022-06-28T09:42:54.210Z"
      },
      {
        "duration": 4294,
        "start_time": "2022-06-28T09:43:04.247Z"
      },
      {
        "duration": 4117,
        "start_time": "2022-06-28T09:43:10.111Z"
      },
      {
        "duration": 2708,
        "start_time": "2022-06-28T09:43:22.523Z"
      },
      {
        "duration": 2035,
        "start_time": "2022-06-28T09:43:33.793Z"
      },
      {
        "duration": 1904,
        "start_time": "2022-06-28T09:43:46.769Z"
      },
      {
        "duration": 1932,
        "start_time": "2022-06-28T09:43:53.573Z"
      },
      {
        "duration": 2146,
        "start_time": "2022-06-28T09:44:28.038Z"
      },
      {
        "duration": 3795,
        "start_time": "2022-06-28T09:44:39.407Z"
      },
      {
        "duration": 5763,
        "start_time": "2022-06-28T09:44:51.922Z"
      },
      {
        "duration": 341,
        "start_time": "2022-06-28T09:45:00.128Z"
      },
      {
        "duration": 4158,
        "start_time": "2022-06-28T09:45:07.118Z"
      },
      {
        "duration": 5360,
        "start_time": "2022-06-28T09:45:20.044Z"
      },
      {
        "duration": 4186,
        "start_time": "2022-06-28T09:45:33.620Z"
      },
      {
        "duration": 2269,
        "start_time": "2022-06-28T09:45:50.895Z"
      },
      {
        "duration": 2048,
        "start_time": "2022-06-28T09:46:02.763Z"
      },
      {
        "duration": 483,
        "start_time": "2022-06-28T09:49:31.040Z"
      },
      {
        "duration": 23,
        "start_time": "2022-06-28T09:49:58.725Z"
      },
      {
        "duration": 2025,
        "start_time": "2022-06-28T09:50:10.770Z"
      },
      {
        "duration": 15,
        "start_time": "2022-06-28T09:51:22.867Z"
      },
      {
        "duration": 154,
        "start_time": "2022-06-28T09:51:35.657Z"
      },
      {
        "duration": 589,
        "start_time": "2022-06-28T09:52:20.867Z"
      },
      {
        "duration": 8863,
        "start_time": "2022-06-28T09:52:39.666Z"
      },
      {
        "duration": 1936,
        "start_time": "2022-06-28T09:59:40.716Z"
      },
      {
        "duration": 20,
        "start_time": "2022-06-28T10:01:06.971Z"
      },
      {
        "duration": 7,
        "start_time": "2022-06-28T10:01:15.298Z"
      },
      {
        "duration": 1925,
        "start_time": "2022-06-28T10:01:17.081Z"
      },
      {
        "duration": 2077,
        "start_time": "2022-06-28T10:01:22.096Z"
      },
      {
        "duration": 13,
        "start_time": "2022-06-28T10:12:21.469Z"
      },
      {
        "duration": 14,
        "start_time": "2022-06-28T10:12:31.266Z"
      },
      {
        "duration": 798,
        "start_time": "2022-06-28T10:12:38.916Z"
      },
      {
        "duration": 4,
        "start_time": "2022-06-28T10:13:53.383Z"
      },
      {
        "duration": 11,
        "start_time": "2022-06-28T10:13:59.676Z"
      },
      {
        "duration": 1160,
        "start_time": "2022-06-28T10:14:32.105Z"
      },
      {
        "duration": 1204,
        "start_time": "2022-06-28T10:14:39.708Z"
      },
      {
        "duration": 1276,
        "start_time": "2022-06-28T10:14:51.522Z"
      },
      {
        "duration": 1588,
        "start_time": "2022-06-28T10:15:00.339Z"
      },
      {
        "duration": 1313,
        "start_time": "2022-06-28T10:15:07.329Z"
      },
      {
        "duration": 771,
        "start_time": "2022-06-28T10:15:37.159Z"
      },
      {
        "duration": 4,
        "start_time": "2022-06-28T10:22:13.655Z"
      },
      {
        "duration": 28,
        "start_time": "2022-06-28T10:22:16.635Z"
      },
      {
        "duration": 12,
        "start_time": "2022-06-28T10:22:17.973Z"
      },
      {
        "duration": 50,
        "start_time": "2022-06-28T10:22:19.514Z"
      },
      {
        "duration": 12,
        "start_time": "2022-06-28T10:22:21.180Z"
      },
      {
        "duration": 27,
        "start_time": "2022-06-28T10:22:23.475Z"
      },
      {
        "duration": 8,
        "start_time": "2022-06-28T10:22:29.576Z"
      },
      {
        "duration": 1876,
        "start_time": "2022-06-28T10:22:30.986Z"
      },
      {
        "duration": 1989,
        "start_time": "2022-06-28T10:22:32.864Z"
      },
      {
        "duration": 241548,
        "start_time": "2022-06-28T10:22:38.972Z"
      },
      {
        "duration": 1524,
        "start_time": "2022-06-28T10:26:45.073Z"
      },
      {
        "duration": 1801,
        "start_time": "2022-06-29T08:56:46.195Z"
      },
      {
        "duration": 86,
        "start_time": "2022-06-29T08:56:48.594Z"
      },
      {
        "duration": 29,
        "start_time": "2022-06-29T08:56:49.525Z"
      },
      {
        "duration": 73,
        "start_time": "2022-06-29T08:56:50.974Z"
      },
      {
        "duration": 135,
        "start_time": "2022-06-29T08:56:52.316Z"
      },
      {
        "duration": 18,
        "start_time": "2022-06-29T08:57:01.618Z"
      },
      {
        "duration": 11,
        "start_time": "2022-06-29T08:57:18.407Z"
      },
      {
        "duration": 12,
        "start_time": "2022-06-29T08:57:30.403Z"
      },
      {
        "duration": 19,
        "start_time": "2022-06-29T08:57:53.017Z"
      },
      {
        "duration": 20,
        "start_time": "2022-06-29T08:58:15.711Z"
      },
      {
        "duration": 17,
        "start_time": "2022-06-29T08:59:18.583Z"
      },
      {
        "duration": 19,
        "start_time": "2022-06-29T08:59:31.478Z"
      },
      {
        "duration": 10,
        "start_time": "2022-06-29T08:59:39.745Z"
      },
      {
        "duration": 2409,
        "start_time": "2022-06-29T08:59:41.098Z"
      },
      {
        "duration": 2195,
        "start_time": "2022-06-29T08:59:43.509Z"
      },
      {
        "duration": 1466,
        "start_time": "2022-06-29T09:03:00.657Z"
      },
      {
        "duration": 35,
        "start_time": "2022-06-29T09:03:02.126Z"
      },
      {
        "duration": 11,
        "start_time": "2022-06-29T09:03:02.163Z"
      },
      {
        "duration": 71,
        "start_time": "2022-06-29T09:03:02.177Z"
      },
      {
        "duration": 18,
        "start_time": "2022-06-29T09:03:02.250Z"
      },
      {
        "duration": 9,
        "start_time": "2022-06-29T09:03:02.270Z"
      },
      {
        "duration": 2010,
        "start_time": "2022-06-29T09:03:02.282Z"
      },
      {
        "duration": 2012,
        "start_time": "2022-06-29T09:03:04.293Z"
      },
      {
        "duration": 1423,
        "start_time": "2022-06-29T09:03:45.230Z"
      },
      {
        "duration": 33,
        "start_time": "2022-06-29T09:03:46.655Z"
      },
      {
        "duration": 10,
        "start_time": "2022-06-29T09:03:46.690Z"
      },
      {
        "duration": 64,
        "start_time": "2022-06-29T09:03:46.702Z"
      },
      {
        "duration": 15,
        "start_time": "2022-06-29T09:03:46.768Z"
      },
      {
        "duration": 7,
        "start_time": "2022-06-29T09:03:46.785Z"
      },
      {
        "duration": 2039,
        "start_time": "2022-06-29T09:03:46.794Z"
      },
      {
        "duration": 1964,
        "start_time": "2022-06-29T09:03:48.835Z"
      },
      {
        "duration": 1479,
        "start_time": "2022-06-29T09:04:17.150Z"
      },
      {
        "duration": 36,
        "start_time": "2022-06-29T09:04:18.632Z"
      },
      {
        "duration": 11,
        "start_time": "2022-06-29T09:04:18.670Z"
      },
      {
        "duration": 74,
        "start_time": "2022-06-29T09:04:18.683Z"
      },
      {
        "duration": 15,
        "start_time": "2022-06-29T09:04:18.759Z"
      },
      {
        "duration": 8,
        "start_time": "2022-06-29T09:04:18.776Z"
      },
      {
        "duration": 2042,
        "start_time": "2022-06-29T09:04:18.786Z"
      },
      {
        "duration": 2023,
        "start_time": "2022-06-29T09:04:20.829Z"
      },
      {
        "duration": 15,
        "start_time": "2022-06-29T09:04:22.853Z"
      },
      {
        "duration": 23,
        "start_time": "2022-06-29T09:04:46.644Z"
      },
      {
        "duration": 1672,
        "start_time": "2022-06-29T09:05:22.728Z"
      },
      {
        "duration": 7,
        "start_time": "2022-06-29T09:08:12.868Z"
      },
      {
        "duration": 7,
        "start_time": "2022-06-29T09:08:49.551Z"
      },
      {
        "duration": 108,
        "start_time": "2022-06-29T09:08:50.407Z"
      },
      {
        "duration": 11,
        "start_time": "2022-06-29T09:08:59.998Z"
      },
      {
        "duration": 4771,
        "start_time": "2022-06-29T09:21:20.950Z"
      },
      {
        "duration": 6324,
        "start_time": "2022-06-29T09:22:41.996Z"
      },
      {
        "duration": 4749,
        "start_time": "2022-06-29T09:23:17.169Z"
      },
      {
        "duration": 4979,
        "start_time": "2022-06-29T09:23:39.618Z"
      },
      {
        "duration": 20,
        "start_time": "2022-06-29T09:28:01.606Z"
      },
      {
        "duration": 15,
        "start_time": "2022-06-29T09:28:10.748Z"
      },
      {
        "duration": 14,
        "start_time": "2022-06-29T09:28:27.011Z"
      },
      {
        "duration": 1414,
        "start_time": "2022-06-29T09:28:39.551Z"
      },
      {
        "duration": 32,
        "start_time": "2022-06-29T09:28:40.967Z"
      },
      {
        "duration": 10,
        "start_time": "2022-06-29T09:28:41.001Z"
      },
      {
        "duration": 86,
        "start_time": "2022-06-29T09:28:41.013Z"
      },
      {
        "duration": 17,
        "start_time": "2022-06-29T09:28:41.101Z"
      },
      {
        "duration": 17,
        "start_time": "2022-06-29T09:28:41.120Z"
      },
      {
        "duration": 2164,
        "start_time": "2022-06-29T09:28:41.139Z"
      },
      {
        "duration": 2076,
        "start_time": "2022-06-29T09:28:43.305Z"
      },
      {
        "duration": 1716,
        "start_time": "2022-06-29T09:28:45.382Z"
      },
      {
        "duration": 150,
        "start_time": "2022-06-29T09:28:47.100Z"
      },
      {
        "duration": 0,
        "start_time": "2022-06-29T09:28:47.252Z"
      },
      {
        "duration": 0,
        "start_time": "2022-06-29T09:28:47.253Z"
      },
      {
        "duration": 0,
        "start_time": "2022-06-29T09:28:47.255Z"
      },
      {
        "duration": 16,
        "start_time": "2022-06-29T09:29:16.755Z"
      },
      {
        "duration": 14,
        "start_time": "2022-06-29T09:29:58.141Z"
      },
      {
        "duration": 4,
        "start_time": "2022-06-29T09:30:11.107Z"
      },
      {
        "duration": 9,
        "start_time": "2022-06-29T09:30:13.598Z"
      },
      {
        "duration": 11,
        "start_time": "2022-06-29T09:30:15.273Z"
      },
      {
        "duration": 3532,
        "start_time": "2022-06-29T09:30:17.052Z"
      },
      {
        "duration": 4,
        "start_time": "2022-06-29T09:40:28.715Z"
      },
      {
        "duration": 118132,
        "start_time": "2022-06-29T09:43:09.091Z"
      },
      {
        "duration": 1038,
        "start_time": "2022-06-29T09:49:44.621Z"
      },
      {
        "duration": 1199,
        "start_time": "2022-06-29T09:51:15.547Z"
      },
      {
        "duration": 915,
        "start_time": "2022-06-29T09:51:23.721Z"
      },
      {
        "duration": 1095,
        "start_time": "2022-06-29T09:51:37.560Z"
      },
      {
        "duration": 1163,
        "start_time": "2022-06-29T09:51:50.484Z"
      },
      {
        "duration": 1035,
        "start_time": "2022-06-29T09:52:10.814Z"
      },
      {
        "duration": 1202,
        "start_time": "2022-06-29T09:52:21.325Z"
      },
      {
        "duration": 954,
        "start_time": "2022-06-29T09:52:29.794Z"
      },
      {
        "duration": 1099,
        "start_time": "2022-06-29T09:54:01.855Z"
      },
      {
        "duration": 1134,
        "start_time": "2022-06-29T09:54:38.307Z"
      },
      {
        "duration": 1192,
        "start_time": "2022-06-29T09:58:43.643Z"
      },
      {
        "duration": 1154,
        "start_time": "2022-06-29T09:59:02.592Z"
      },
      {
        "duration": 3,
        "start_time": "2022-06-29T09:59:18.013Z"
      },
      {
        "duration": 1373,
        "start_time": "2022-06-29T09:59:28.172Z"
      },
      {
        "duration": 1142,
        "start_time": "2022-06-29T09:59:46.990Z"
      },
      {
        "duration": 1189,
        "start_time": "2022-06-29T10:00:04.057Z"
      },
      {
        "duration": 1058,
        "start_time": "2022-06-29T10:00:19.793Z"
      },
      {
        "duration": 6,
        "start_time": "2022-06-29T10:02:33.443Z"
      },
      {
        "duration": 9,
        "start_time": "2022-06-29T10:02:41.597Z"
      },
      {
        "duration": 9,
        "start_time": "2022-06-29T10:02:53.758Z"
      },
      {
        "duration": 4,
        "start_time": "2022-06-29T10:03:57.199Z"
      },
      {
        "duration": 22,
        "start_time": "2022-06-29T10:04:05.125Z"
      },
      {
        "duration": 12,
        "start_time": "2022-06-29T10:04:22.492Z"
      },
      {
        "duration": 28251,
        "start_time": "2022-06-29T10:04:59.213Z"
      },
      {
        "duration": 6914,
        "start_time": "2022-06-29T10:05:58.990Z"
      },
      {
        "duration": 32,
        "start_time": "2022-06-29T10:06:26.607Z"
      },
      {
        "duration": 19,
        "start_time": "2022-06-29T10:06:36.787Z"
      },
      {
        "duration": 23,
        "start_time": "2022-06-29T10:07:01.942Z"
      },
      {
        "duration": 1423,
        "start_time": "2022-06-29T10:11:28.663Z"
      },
      {
        "duration": 34,
        "start_time": "2022-06-29T10:11:30.087Z"
      },
      {
        "duration": 22,
        "start_time": "2022-06-29T10:11:30.122Z"
      },
      {
        "duration": 54,
        "start_time": "2022-06-29T10:11:30.146Z"
      },
      {
        "duration": 39,
        "start_time": "2022-06-29T10:11:30.202Z"
      },
      {
        "duration": 10,
        "start_time": "2022-06-29T10:11:30.243Z"
      },
      {
        "duration": 2261,
        "start_time": "2022-06-29T10:11:30.255Z"
      },
      {
        "duration": 2133,
        "start_time": "2022-06-29T10:11:32.517Z"
      },
      {
        "duration": 1690,
        "start_time": "2022-06-29T10:11:34.653Z"
      },
      {
        "duration": 5,
        "start_time": "2022-06-29T10:11:36.345Z"
      },
      {
        "duration": 33,
        "start_time": "2022-06-29T10:11:36.352Z"
      },
      {
        "duration": 29,
        "start_time": "2022-06-29T10:11:36.387Z"
      },
      {
        "duration": 3163,
        "start_time": "2022-06-29T10:11:36.418Z"
      },
      {
        "duration": 119030,
        "start_time": "2022-06-29T10:11:39.582Z"
      },
      {
        "duration": 1231,
        "start_time": "2022-06-29T10:13:38.614Z"
      },
      {
        "duration": 125,
        "start_time": "2022-06-29T10:13:39.847Z"
      },
      {
        "duration": 7,
        "start_time": "2022-06-29T10:14:47.967Z"
      },
      {
        "duration": 11,
        "start_time": "2022-06-29T10:14:54.358Z"
      },
      {
        "duration": 11,
        "start_time": "2022-06-29T10:14:59.567Z"
      },
      {
        "duration": 25,
        "start_time": "2022-06-29T10:15:13.053Z"
      },
      {
        "duration": 1613,
        "start_time": "2022-06-29T10:19:20.297Z"
      },
      {
        "duration": 39,
        "start_time": "2022-06-29T10:19:21.912Z"
      },
      {
        "duration": 17,
        "start_time": "2022-06-29T10:19:21.953Z"
      },
      {
        "duration": 81,
        "start_time": "2022-06-29T10:19:21.972Z"
      },
      {
        "duration": 22,
        "start_time": "2022-06-29T10:19:22.055Z"
      },
      {
        "duration": 22,
        "start_time": "2022-06-29T10:19:22.079Z"
      },
      {
        "duration": 2251,
        "start_time": "2022-06-29T10:19:22.103Z"
      },
      {
        "duration": 2189,
        "start_time": "2022-06-29T10:19:24.357Z"
      },
      {
        "duration": 1696,
        "start_time": "2022-06-29T10:19:26.549Z"
      },
      {
        "duration": 5,
        "start_time": "2022-06-29T10:19:28.248Z"
      },
      {
        "duration": 23,
        "start_time": "2022-06-29T10:19:28.255Z"
      },
      {
        "duration": 33,
        "start_time": "2022-06-29T10:19:28.281Z"
      },
      {
        "duration": 3677,
        "start_time": "2022-06-29T10:19:28.316Z"
      },
      {
        "duration": 124464,
        "start_time": "2022-06-29T10:19:31.996Z"
      },
      {
        "duration": 1191,
        "start_time": "2022-06-29T10:21:36.462Z"
      },
      {
        "duration": 1649,
        "start_time": "2022-06-29T10:25:03.568Z"
      },
      {
        "duration": 55,
        "start_time": "2022-06-29T10:25:05.219Z"
      },
      {
        "duration": 13,
        "start_time": "2022-06-29T10:25:05.275Z"
      },
      {
        "duration": 66,
        "start_time": "2022-06-29T10:25:05.290Z"
      },
      {
        "duration": 22,
        "start_time": "2022-06-29T10:25:05.359Z"
      },
      {
        "duration": 8,
        "start_time": "2022-06-29T10:25:05.382Z"
      },
      {
        "duration": 2400,
        "start_time": "2022-06-29T10:25:05.392Z"
      },
      {
        "duration": 2221,
        "start_time": "2022-06-29T10:25:07.794Z"
      },
      {
        "duration": 1848,
        "start_time": "2022-06-29T10:25:10.016Z"
      },
      {
        "duration": 6,
        "start_time": "2022-06-29T10:25:11.866Z"
      },
      {
        "duration": 12,
        "start_time": "2022-06-29T10:25:11.876Z"
      },
      {
        "duration": 14,
        "start_time": "2022-06-29T10:25:11.890Z"
      },
      {
        "duration": 1151,
        "start_time": "2022-06-29T10:25:11.906Z"
      },
      {
        "duration": 1806,
        "start_time": "2022-06-29T10:25:58.902Z"
      },
      {
        "duration": 40,
        "start_time": "2022-06-29T10:26:00.710Z"
      },
      {
        "duration": 19,
        "start_time": "2022-06-29T10:26:00.752Z"
      },
      {
        "duration": 104,
        "start_time": "2022-06-29T10:26:00.774Z"
      },
      {
        "duration": 21,
        "start_time": "2022-06-29T10:26:00.880Z"
      },
      {
        "duration": 36,
        "start_time": "2022-06-29T10:26:00.903Z"
      },
      {
        "duration": 2415,
        "start_time": "2022-06-29T10:26:00.941Z"
      },
      {
        "duration": 2464,
        "start_time": "2022-06-29T10:26:03.359Z"
      },
      {
        "duration": 1967,
        "start_time": "2022-06-29T10:26:05.824Z"
      },
      {
        "duration": 6,
        "start_time": "2022-06-29T10:26:07.795Z"
      },
      {
        "duration": 31,
        "start_time": "2022-06-29T10:26:07.804Z"
      },
      {
        "duration": 48,
        "start_time": "2022-06-29T10:26:07.844Z"
      },
      {
        "duration": 3546,
        "start_time": "2022-06-29T10:26:07.894Z"
      },
      {
        "duration": 121972,
        "start_time": "2022-06-29T10:26:11.452Z"
      },
      {
        "duration": 1008,
        "start_time": "2022-06-29T10:28:13.427Z"
      },
      {
        "duration": 238315,
        "start_time": "2022-06-29T10:28:14.440Z"
      },
      {
        "duration": 8,
        "start_time": "2022-06-29T10:32:12.757Z"
      },
      {
        "duration": 1676,
        "start_time": "2022-06-29T15:57:30.584Z"
      },
      {
        "duration": 50,
        "start_time": "2022-06-29T15:57:32.263Z"
      },
      {
        "duration": 11,
        "start_time": "2022-06-29T15:57:32.314Z"
      },
      {
        "duration": 62,
        "start_time": "2022-06-29T15:57:32.327Z"
      },
      {
        "duration": 19,
        "start_time": "2022-06-29T15:57:32.391Z"
      },
      {
        "duration": 8,
        "start_time": "2022-06-29T15:57:32.412Z"
      },
      {
        "duration": 2209,
        "start_time": "2022-06-29T15:57:32.422Z"
      },
      {
        "duration": 2120,
        "start_time": "2022-06-29T15:57:34.633Z"
      },
      {
        "duration": 153,
        "start_time": "2022-06-29T15:57:36.754Z"
      },
      {
        "duration": 0,
        "start_time": "2022-06-29T15:57:36.908Z"
      },
      {
        "duration": 0,
        "start_time": "2022-06-29T15:57:36.910Z"
      },
      {
        "duration": 0,
        "start_time": "2022-06-29T15:57:36.911Z"
      },
      {
        "duration": 0,
        "start_time": "2022-06-29T15:57:36.912Z"
      },
      {
        "duration": 0,
        "start_time": "2022-06-29T15:57:36.913Z"
      },
      {
        "duration": 0,
        "start_time": "2022-06-29T15:57:36.914Z"
      },
      {
        "duration": 0,
        "start_time": "2022-06-29T15:57:36.915Z"
      },
      {
        "duration": 0,
        "start_time": "2022-06-29T15:57:36.916Z"
      },
      {
        "duration": 0,
        "start_time": "2022-06-29T15:57:36.917Z"
      },
      {
        "duration": 0,
        "start_time": "2022-06-29T15:57:36.918Z"
      },
      {
        "duration": 358,
        "start_time": "2022-06-29T15:58:12.584Z"
      },
      {
        "duration": 215,
        "start_time": "2022-06-29T15:58:20.279Z"
      },
      {
        "duration": 308,
        "start_time": "2022-06-29T15:58:30.784Z"
      },
      {
        "duration": 312,
        "start_time": "2022-06-29T15:58:34.498Z"
      },
      {
        "duration": 307,
        "start_time": "2022-06-29T15:58:37.380Z"
      },
      {
        "duration": 294,
        "start_time": "2022-06-29T15:58:50.000Z"
      },
      {
        "duration": 248,
        "start_time": "2022-06-29T15:59:01.906Z"
      },
      {
        "duration": 151,
        "start_time": "2022-06-29T16:02:15.452Z"
      },
      {
        "duration": 136,
        "start_time": "2022-06-29T16:02:27.967Z"
      },
      {
        "duration": 230,
        "start_time": "2022-06-29T16:02:36.976Z"
      },
      {
        "duration": 140,
        "start_time": "2022-06-29T16:02:41.869Z"
      },
      {
        "duration": 14,
        "start_time": "2022-06-29T16:02:58.532Z"
      },
      {
        "duration": 31,
        "start_time": "2022-06-29T16:03:19.145Z"
      },
      {
        "duration": 1679,
        "start_time": "2022-06-29T16:06:50.484Z"
      },
      {
        "duration": 56,
        "start_time": "2022-06-29T16:06:52.173Z"
      },
      {
        "duration": 16,
        "start_time": "2022-06-29T16:06:52.232Z"
      },
      {
        "duration": 112,
        "start_time": "2022-06-29T16:06:52.250Z"
      },
      {
        "duration": 34,
        "start_time": "2022-06-29T16:06:52.365Z"
      },
      {
        "duration": 10,
        "start_time": "2022-06-29T16:06:52.401Z"
      },
      {
        "duration": 2212,
        "start_time": "2022-06-29T16:06:52.413Z"
      },
      {
        "duration": 2176,
        "start_time": "2022-06-29T16:06:54.627Z"
      },
      {
        "duration": 2024,
        "start_time": "2022-06-29T16:06:56.805Z"
      },
      {
        "duration": 5,
        "start_time": "2022-06-29T16:06:58.832Z"
      },
      {
        "duration": 73,
        "start_time": "2022-06-29T16:06:58.839Z"
      },
      {
        "duration": 14,
        "start_time": "2022-06-29T16:06:58.915Z"
      },
      {
        "duration": 5661,
        "start_time": "2022-06-29T16:06:58.932Z"
      },
      {
        "duration": 123139,
        "start_time": "2022-06-29T16:07:04.595Z"
      },
      {
        "duration": 859,
        "start_time": "2022-06-29T16:09:07.737Z"
      },
      {
        "duration": 257415,
        "start_time": "2022-06-29T16:09:08.599Z"
      },
      {
        "duration": 6,
        "start_time": "2022-06-29T16:13:26.016Z"
      },
      {
        "duration": 63,
        "start_time": "2022-06-29T21:00:03.251Z"
      },
      {
        "duration": 2170,
        "start_time": "2022-06-29T21:00:10.940Z"
      },
      {
        "duration": 56,
        "start_time": "2022-06-29T21:00:14.188Z"
      },
      {
        "duration": 13,
        "start_time": "2022-06-29T21:00:15.020Z"
      },
      {
        "duration": 51,
        "start_time": "2022-06-29T21:00:16.516Z"
      },
      {
        "duration": 19,
        "start_time": "2022-06-29T21:00:18.166Z"
      },
      {
        "duration": 9,
        "start_time": "2022-06-29T21:01:50.787Z"
      },
      {
        "duration": 2029,
        "start_time": "2022-06-29T21:01:51.735Z"
      },
      {
        "duration": 2007,
        "start_time": "2022-06-29T21:01:53.766Z"
      },
      {
        "duration": 86,
        "start_time": "2022-06-29T21:01:55.775Z"
      },
      {
        "duration": 442,
        "start_time": "2022-06-29T21:02:14.690Z"
      },
      {
        "duration": 9,
        "start_time": "2022-06-29T21:02:48.199Z"
      },
      {
        "duration": 1398,
        "start_time": "2022-06-29T21:04:57.353Z"
      },
      {
        "duration": 33,
        "start_time": "2022-06-29T21:04:58.753Z"
      },
      {
        "duration": 11,
        "start_time": "2022-06-29T21:04:58.788Z"
      },
      {
        "duration": 61,
        "start_time": "2022-06-29T21:04:58.801Z"
      },
      {
        "duration": 20,
        "start_time": "2022-06-29T21:04:58.863Z"
      },
      {
        "duration": 7,
        "start_time": "2022-06-29T21:04:58.885Z"
      },
      {
        "duration": 2001,
        "start_time": "2022-06-29T21:04:58.894Z"
      },
      {
        "duration": 2035,
        "start_time": "2022-06-29T21:05:00.897Z"
      },
      {
        "duration": 1447,
        "start_time": "2022-06-29T21:07:13.444Z"
      },
      {
        "duration": 31,
        "start_time": "2022-06-29T21:07:14.893Z"
      },
      {
        "duration": 10,
        "start_time": "2022-06-29T21:07:14.926Z"
      },
      {
        "duration": 54,
        "start_time": "2022-06-29T21:07:14.938Z"
      },
      {
        "duration": 21,
        "start_time": "2022-06-29T21:07:14.994Z"
      },
      {
        "duration": 12,
        "start_time": "2022-06-29T21:07:15.017Z"
      },
      {
        "duration": 2002,
        "start_time": "2022-06-29T21:07:15.030Z"
      },
      {
        "duration": 1962,
        "start_time": "2022-06-29T21:07:17.034Z"
      },
      {
        "duration": 438,
        "start_time": "2022-06-29T21:07:18.998Z"
      },
      {
        "duration": 1513,
        "start_time": "2022-06-29T21:07:19.439Z"
      },
      {
        "duration": 6,
        "start_time": "2022-06-29T21:07:20.954Z"
      },
      {
        "duration": 9,
        "start_time": "2022-06-29T21:07:20.962Z"
      },
      {
        "duration": 11,
        "start_time": "2022-06-29T21:07:20.973Z"
      },
      {
        "duration": 2950,
        "start_time": "2022-06-29T21:07:20.986Z"
      },
      {
        "duration": 107582,
        "start_time": "2022-06-29T21:07:23.938Z"
      },
      {
        "duration": 1549,
        "start_time": "2022-06-29T21:09:11.523Z"
      },
      {
        "duration": 1446,
        "start_time": "2022-06-29T21:09:16.728Z"
      },
      {
        "duration": 31,
        "start_time": "2022-06-29T21:09:18.176Z"
      },
      {
        "duration": 11,
        "start_time": "2022-06-29T21:09:18.209Z"
      },
      {
        "duration": 56,
        "start_time": "2022-06-29T21:09:18.222Z"
      },
      {
        "duration": 18,
        "start_time": "2022-06-29T21:09:18.279Z"
      },
      {
        "duration": 10,
        "start_time": "2022-06-29T21:09:18.298Z"
      },
      {
        "duration": 2004,
        "start_time": "2022-06-29T21:09:18.310Z"
      },
      {
        "duration": 1912,
        "start_time": "2022-06-29T21:09:20.316Z"
      },
      {
        "duration": 1469,
        "start_time": "2022-06-29T21:11:13.242Z"
      },
      {
        "duration": 38,
        "start_time": "2022-06-29T21:11:14.713Z"
      },
      {
        "duration": 11,
        "start_time": "2022-06-29T21:11:14.753Z"
      },
      {
        "duration": 62,
        "start_time": "2022-06-29T21:11:14.766Z"
      },
      {
        "duration": 18,
        "start_time": "2022-06-29T21:11:14.830Z"
      },
      {
        "duration": 14,
        "start_time": "2022-06-29T21:11:14.850Z"
      },
      {
        "duration": 1872,
        "start_time": "2022-06-29T21:11:14.866Z"
      },
      {
        "duration": 1923,
        "start_time": "2022-06-29T21:11:16.740Z"
      },
      {
        "duration": 1483,
        "start_time": "2022-06-29T21:12:35.012Z"
      },
      {
        "duration": 31,
        "start_time": "2022-06-29T21:12:36.497Z"
      },
      {
        "duration": 11,
        "start_time": "2022-06-29T21:12:36.529Z"
      },
      {
        "duration": 64,
        "start_time": "2022-06-29T21:12:36.542Z"
      },
      {
        "duration": 18,
        "start_time": "2022-06-29T21:12:36.608Z"
      },
      {
        "duration": 7,
        "start_time": "2022-06-29T21:12:36.627Z"
      },
      {
        "duration": 2157,
        "start_time": "2022-06-29T21:12:36.636Z"
      },
      {
        "duration": 2021,
        "start_time": "2022-06-29T21:12:38.794Z"
      },
      {
        "duration": 474,
        "start_time": "2022-06-29T21:12:40.816Z"
      },
      {
        "duration": 1580,
        "start_time": "2022-06-29T21:12:41.292Z"
      },
      {
        "duration": 7,
        "start_time": "2022-06-29T21:12:42.875Z"
      },
      {
        "duration": 8,
        "start_time": "2022-06-29T21:12:42.884Z"
      },
      {
        "duration": 10,
        "start_time": "2022-06-29T21:12:42.894Z"
      },
      {
        "duration": 3097,
        "start_time": "2022-06-29T21:12:42.906Z"
      },
      {
        "duration": 1463,
        "start_time": "2022-06-29T21:14:20.642Z"
      },
      {
        "duration": 31,
        "start_time": "2022-06-29T21:14:22.107Z"
      },
      {
        "duration": 12,
        "start_time": "2022-06-29T21:14:22.139Z"
      },
      {
        "duration": 72,
        "start_time": "2022-06-29T21:14:22.158Z"
      },
      {
        "duration": 20,
        "start_time": "2022-06-29T21:14:22.232Z"
      },
      {
        "duration": 14,
        "start_time": "2022-06-29T21:14:22.253Z"
      },
      {
        "duration": 2052,
        "start_time": "2022-06-29T21:14:22.268Z"
      },
      {
        "duration": 2091,
        "start_time": "2022-06-29T21:14:24.322Z"
      },
      {
        "duration": 483,
        "start_time": "2022-06-29T21:14:26.415Z"
      },
      {
        "duration": 2,
        "start_time": "2022-06-29T21:14:26.901Z"
      },
      {
        "duration": 384,
        "start_time": "2022-06-29T21:14:26.904Z"
      },
      {
        "duration": 1597,
        "start_time": "2022-06-29T21:14:27.291Z"
      },
      {
        "duration": 5,
        "start_time": "2022-06-29T21:14:28.889Z"
      },
      {
        "duration": 9,
        "start_time": "2022-06-29T21:14:28.896Z"
      },
      {
        "duration": 14,
        "start_time": "2022-06-29T21:14:28.907Z"
      },
      {
        "duration": 2885,
        "start_time": "2022-06-29T21:14:28.923Z"
      },
      {
        "duration": 1460,
        "start_time": "2022-06-29T21:15:13.323Z"
      },
      {
        "duration": 32,
        "start_time": "2022-06-29T21:15:14.785Z"
      },
      {
        "duration": 12,
        "start_time": "2022-06-29T21:15:14.818Z"
      },
      {
        "duration": 67,
        "start_time": "2022-06-29T21:15:14.832Z"
      },
      {
        "duration": 19,
        "start_time": "2022-06-29T21:15:14.901Z"
      },
      {
        "duration": 8,
        "start_time": "2022-06-29T21:15:14.922Z"
      },
      {
        "duration": 2092,
        "start_time": "2022-06-29T21:15:14.931Z"
      },
      {
        "duration": 2084,
        "start_time": "2022-06-29T21:15:17.026Z"
      },
      {
        "duration": 4,
        "start_time": "2022-06-29T21:15:19.112Z"
      },
      {
        "duration": 476,
        "start_time": "2022-06-29T21:15:19.119Z"
      },
      {
        "duration": 2,
        "start_time": "2022-06-29T21:15:19.596Z"
      },
      {
        "duration": 344,
        "start_time": "2022-06-29T21:15:19.600Z"
      },
      {
        "duration": 1586,
        "start_time": "2022-06-29T21:15:19.946Z"
      },
      {
        "duration": 7,
        "start_time": "2022-06-29T21:15:21.533Z"
      },
      {
        "duration": 11,
        "start_time": "2022-06-29T21:15:21.541Z"
      },
      {
        "duration": 13,
        "start_time": "2022-06-29T21:15:21.553Z"
      },
      {
        "duration": 2992,
        "start_time": "2022-06-29T21:15:21.568Z"
      },
      {
        "duration": 110598,
        "start_time": "2022-06-29T21:15:24.562Z"
      },
      {
        "duration": 1216,
        "start_time": "2022-06-29T21:17:15.162Z"
      },
      {
        "duration": 1349,
        "start_time": "2022-06-29T21:20:38.707Z"
      },
      {
        "duration": 45,
        "start_time": "2022-06-29T21:20:40.059Z"
      },
      {
        "duration": 23,
        "start_time": "2022-06-29T21:20:40.105Z"
      },
      {
        "duration": 101,
        "start_time": "2022-06-29T21:20:40.130Z"
      },
      {
        "duration": 37,
        "start_time": "2022-06-29T21:20:40.233Z"
      },
      {
        "duration": 9,
        "start_time": "2022-06-29T21:20:40.272Z"
      },
      {
        "duration": 2062,
        "start_time": "2022-06-29T21:20:40.283Z"
      },
      {
        "duration": 2020,
        "start_time": "2022-06-29T21:20:42.346Z"
      },
      {
        "duration": 5,
        "start_time": "2022-06-29T21:20:44.368Z"
      },
      {
        "duration": 462,
        "start_time": "2022-06-29T21:20:44.376Z"
      },
      {
        "duration": 4,
        "start_time": "2022-06-29T21:20:44.840Z"
      },
      {
        "duration": 395,
        "start_time": "2022-06-29T21:20:44.845Z"
      },
      {
        "duration": 1593,
        "start_time": "2022-06-29T21:20:45.243Z"
      },
      {
        "duration": 6,
        "start_time": "2022-06-29T21:20:46.838Z"
      },
      {
        "duration": 11,
        "start_time": "2022-06-29T21:20:46.845Z"
      },
      {
        "duration": 12,
        "start_time": "2022-06-29T21:20:46.858Z"
      },
      {
        "duration": 2790,
        "start_time": "2022-06-29T21:20:46.871Z"
      },
      {
        "duration": 111005,
        "start_time": "2022-06-29T21:20:49.663Z"
      },
      {
        "duration": 1805,
        "start_time": "2022-06-29T21:22:40.670Z"
      },
      {
        "duration": 1828,
        "start_time": "2022-06-30T07:34:21.481Z"
      },
      {
        "duration": 81,
        "start_time": "2022-06-30T07:34:23.312Z"
      },
      {
        "duration": 15,
        "start_time": "2022-06-30T07:34:23.396Z"
      },
      {
        "duration": 69,
        "start_time": "2022-06-30T07:34:23.414Z"
      },
      {
        "duration": 22,
        "start_time": "2022-06-30T07:34:23.485Z"
      },
      {
        "duration": 10,
        "start_time": "2022-06-30T07:34:23.509Z"
      },
      {
        "duration": 2027,
        "start_time": "2022-06-30T07:34:23.521Z"
      },
      {
        "duration": 2121,
        "start_time": "2022-06-30T07:34:25.550Z"
      },
      {
        "duration": 13,
        "start_time": "2022-06-30T07:34:27.673Z"
      },
      {
        "duration": 517,
        "start_time": "2022-06-30T07:34:27.689Z"
      },
      {
        "duration": 2,
        "start_time": "2022-06-30T07:34:28.208Z"
      },
      {
        "duration": 444,
        "start_time": "2022-06-30T07:34:28.212Z"
      },
      {
        "duration": 363,
        "start_time": "2022-06-30T07:34:28.657Z"
      },
      {
        "duration": 1581,
        "start_time": "2022-06-30T07:34:29.022Z"
      },
      {
        "duration": 4,
        "start_time": "2022-06-30T07:34:30.605Z"
      },
      {
        "duration": 11,
        "start_time": "2022-06-30T07:34:30.611Z"
      },
      {
        "duration": 40,
        "start_time": "2022-06-30T07:34:30.624Z"
      },
      {
        "duration": 3519,
        "start_time": "2022-06-30T07:34:30.666Z"
      },
      {
        "duration": 116285,
        "start_time": "2022-06-30T07:34:34.188Z"
      },
      {
        "duration": 1300,
        "start_time": "2022-06-30T07:36:30.476Z"
      },
      {
        "duration": 1448,
        "start_time": "2022-06-30T07:37:52.309Z"
      },
      {
        "duration": 48,
        "start_time": "2022-06-30T07:37:53.759Z"
      },
      {
        "duration": 11,
        "start_time": "2022-06-30T07:37:53.809Z"
      },
      {
        "duration": 54,
        "start_time": "2022-06-30T07:37:53.822Z"
      },
      {
        "duration": 20,
        "start_time": "2022-06-30T07:37:53.877Z"
      },
      {
        "duration": 8,
        "start_time": "2022-06-30T07:37:53.899Z"
      },
      {
        "duration": 2106,
        "start_time": "2022-06-30T07:37:53.909Z"
      },
      {
        "duration": 2167,
        "start_time": "2022-06-30T07:37:56.017Z"
      },
      {
        "duration": 6,
        "start_time": "2022-06-30T07:37:58.185Z"
      },
      {
        "duration": 441,
        "start_time": "2022-06-30T07:37:58.193Z"
      },
      {
        "duration": 3,
        "start_time": "2022-06-30T07:37:58.636Z"
      },
      {
        "duration": 372,
        "start_time": "2022-06-30T07:37:58.640Z"
      },
      {
        "duration": 380,
        "start_time": "2022-06-30T07:37:59.013Z"
      },
      {
        "duration": 1569,
        "start_time": "2022-06-30T07:37:59.395Z"
      },
      {
        "duration": 4,
        "start_time": "2022-06-30T07:38:00.974Z"
      },
      {
        "duration": 15,
        "start_time": "2022-06-30T07:38:00.980Z"
      },
      {
        "duration": 28,
        "start_time": "2022-06-30T07:38:00.997Z"
      },
      {
        "duration": 3380,
        "start_time": "2022-06-30T07:38:01.026Z"
      },
      {
        "duration": 646,
        "start_time": "2022-06-30T07:38:04.408Z"
      },
      {
        "duration": 1412,
        "start_time": "2022-06-30T07:38:05.055Z"
      },
      {
        "duration": 1541,
        "start_time": "2022-06-30T07:40:06.844Z"
      },
      {
        "duration": 33,
        "start_time": "2022-06-30T07:40:08.387Z"
      },
      {
        "duration": 12,
        "start_time": "2022-06-30T07:40:08.421Z"
      },
      {
        "duration": 74,
        "start_time": "2022-06-30T07:40:08.435Z"
      },
      {
        "duration": 21,
        "start_time": "2022-06-30T07:40:08.511Z"
      },
      {
        "duration": 8,
        "start_time": "2022-06-30T07:40:08.533Z"
      },
      {
        "duration": 2009,
        "start_time": "2022-06-30T07:40:08.543Z"
      },
      {
        "duration": 2058,
        "start_time": "2022-06-30T07:40:10.554Z"
      },
      {
        "duration": 4,
        "start_time": "2022-06-30T07:40:12.614Z"
      },
      {
        "duration": 508,
        "start_time": "2022-06-30T07:40:12.621Z"
      },
      {
        "duration": 3,
        "start_time": "2022-06-30T07:40:13.131Z"
      },
      {
        "duration": 365,
        "start_time": "2022-06-30T07:40:13.136Z"
      },
      {
        "duration": 328,
        "start_time": "2022-06-30T07:40:13.503Z"
      },
      {
        "duration": 1576,
        "start_time": "2022-06-30T07:40:13.833Z"
      },
      {
        "duration": 5,
        "start_time": "2022-06-30T07:40:15.410Z"
      },
      {
        "duration": 12,
        "start_time": "2022-06-30T07:40:15.417Z"
      },
      {
        "duration": 15,
        "start_time": "2022-06-30T07:40:15.431Z"
      },
      {
        "duration": 3013,
        "start_time": "2022-06-30T07:40:15.447Z"
      },
      {
        "duration": 551,
        "start_time": "2022-06-30T07:40:18.469Z"
      },
      {
        "duration": 968,
        "start_time": "2022-06-30T07:40:19.022Z"
      },
      {
        "duration": 1471,
        "start_time": "2022-06-30T07:41:00.427Z"
      },
      {
        "duration": 34,
        "start_time": "2022-06-30T07:41:01.900Z"
      },
      {
        "duration": 12,
        "start_time": "2022-06-30T07:41:01.935Z"
      },
      {
        "duration": 65,
        "start_time": "2022-06-30T07:41:01.965Z"
      },
      {
        "duration": 20,
        "start_time": "2022-06-30T07:41:02.032Z"
      },
      {
        "duration": 11,
        "start_time": "2022-06-30T07:41:02.053Z"
      },
      {
        "duration": 2163,
        "start_time": "2022-06-30T07:41:02.066Z"
      },
      {
        "duration": 2072,
        "start_time": "2022-06-30T07:41:04.231Z"
      },
      {
        "duration": 333,
        "start_time": "2022-06-30T07:41:06.305Z"
      },
      {
        "duration": 0,
        "start_time": "2022-06-30T07:41:06.640Z"
      },
      {
        "duration": 0,
        "start_time": "2022-06-30T07:41:06.641Z"
      },
      {
        "duration": 0,
        "start_time": "2022-06-30T07:41:06.643Z"
      },
      {
        "duration": 0,
        "start_time": "2022-06-30T07:41:06.644Z"
      },
      {
        "duration": 0,
        "start_time": "2022-06-30T07:41:06.659Z"
      },
      {
        "duration": 0,
        "start_time": "2022-06-30T07:41:06.659Z"
      },
      {
        "duration": 0,
        "start_time": "2022-06-30T07:41:06.660Z"
      },
      {
        "duration": 0,
        "start_time": "2022-06-30T07:41:06.661Z"
      },
      {
        "duration": 0,
        "start_time": "2022-06-30T07:41:06.661Z"
      },
      {
        "duration": 0,
        "start_time": "2022-06-30T07:41:06.662Z"
      },
      {
        "duration": 0,
        "start_time": "2022-06-30T07:41:06.663Z"
      },
      {
        "duration": 0,
        "start_time": "2022-06-30T07:41:06.664Z"
      },
      {
        "duration": 0,
        "start_time": "2022-06-30T07:41:06.668Z"
      },
      {
        "duration": 0,
        "start_time": "2022-06-30T07:41:06.669Z"
      },
      {
        "duration": 303,
        "start_time": "2022-06-30T07:41:49.632Z"
      },
      {
        "duration": 5,
        "start_time": "2022-06-30T07:42:14.737Z"
      },
      {
        "duration": 337,
        "start_time": "2022-06-30T07:42:34.337Z"
      },
      {
        "duration": 270,
        "start_time": "2022-06-30T07:43:17.968Z"
      },
      {
        "duration": 353,
        "start_time": "2022-06-30T07:43:37.123Z"
      },
      {
        "duration": 347,
        "start_time": "2022-06-30T07:44:05.899Z"
      },
      {
        "duration": 364,
        "start_time": "2022-06-30T07:44:14.151Z"
      },
      {
        "duration": 419,
        "start_time": "2022-06-30T07:44:21.847Z"
      },
      {
        "duration": 361,
        "start_time": "2022-06-30T07:44:27.285Z"
      },
      {
        "duration": 356,
        "start_time": "2022-06-30T07:45:04.787Z"
      },
      {
        "duration": 330,
        "start_time": "2022-06-30T07:45:49.102Z"
      },
      {
        "duration": 364,
        "start_time": "2022-06-30T07:46:35.320Z"
      },
      {
        "duration": 309,
        "start_time": "2022-06-30T07:46:43.579Z"
      },
      {
        "duration": 437,
        "start_time": "2022-06-30T07:46:52.004Z"
      },
      {
        "duration": 360,
        "start_time": "2022-06-30T07:46:59.872Z"
      },
      {
        "duration": 349,
        "start_time": "2022-06-30T07:47:07.784Z"
      },
      {
        "duration": 370,
        "start_time": "2022-06-30T07:47:15.533Z"
      },
      {
        "duration": 376,
        "start_time": "2022-06-30T07:47:46.446Z"
      },
      {
        "duration": 583,
        "start_time": "2022-06-30T07:47:59.541Z"
      },
      {
        "duration": 1491,
        "start_time": "2022-06-30T07:49:04.133Z"
      },
      {
        "duration": 34,
        "start_time": "2022-06-30T07:49:05.625Z"
      },
      {
        "duration": 12,
        "start_time": "2022-06-30T07:49:05.671Z"
      },
      {
        "duration": 55,
        "start_time": "2022-06-30T07:49:05.685Z"
      },
      {
        "duration": 34,
        "start_time": "2022-06-30T07:49:05.742Z"
      },
      {
        "duration": 8,
        "start_time": "2022-06-30T07:49:05.778Z"
      },
      {
        "duration": 2290,
        "start_time": "2022-06-30T07:49:05.787Z"
      },
      {
        "duration": 2030,
        "start_time": "2022-06-30T07:49:08.079Z"
      },
      {
        "duration": 4,
        "start_time": "2022-06-30T07:49:10.111Z"
      },
      {
        "duration": 494,
        "start_time": "2022-06-30T07:49:10.117Z"
      },
      {
        "duration": 375,
        "start_time": "2022-06-30T07:49:10.613Z"
      },
      {
        "duration": 344,
        "start_time": "2022-06-30T07:49:10.989Z"
      },
      {
        "duration": 372,
        "start_time": "2022-06-30T07:49:11.334Z"
      },
      {
        "duration": 342,
        "start_time": "2022-06-30T07:49:11.708Z"
      },
      {
        "duration": 353,
        "start_time": "2022-06-30T07:49:12.052Z"
      },
      {
        "duration": 417,
        "start_time": "2022-06-30T07:49:12.406Z"
      },
      {
        "duration": 628,
        "start_time": "2022-06-30T07:49:12.825Z"
      },
      {
        "duration": 458,
        "start_time": "2022-06-30T07:49:13.454Z"
      },
      {
        "duration": 373,
        "start_time": "2022-06-30T07:49:13.914Z"
      },
      {
        "duration": 431,
        "start_time": "2022-06-30T07:49:14.289Z"
      },
      {
        "duration": 1671,
        "start_time": "2022-06-30T07:49:14.721Z"
      },
      {
        "duration": 4,
        "start_time": "2022-06-30T07:49:16.394Z"
      },
      {
        "duration": 12,
        "start_time": "2022-06-30T07:49:16.400Z"
      },
      {
        "duration": 15,
        "start_time": "2022-06-30T07:49:16.414Z"
      },
      {
        "duration": 3014,
        "start_time": "2022-06-30T07:49:16.431Z"
      },
      {
        "duration": 600,
        "start_time": "2022-06-30T07:49:19.446Z"
      },
      {
        "duration": 940,
        "start_time": "2022-06-30T07:49:20.049Z"
      },
      {
        "duration": 1459,
        "start_time": "2022-06-30T07:50:21.191Z"
      },
      {
        "duration": 45,
        "start_time": "2022-06-30T07:50:22.652Z"
      },
      {
        "duration": 11,
        "start_time": "2022-06-30T07:50:22.699Z"
      },
      {
        "duration": 62,
        "start_time": "2022-06-30T07:50:22.712Z"
      },
      {
        "duration": 20,
        "start_time": "2022-06-30T07:50:22.778Z"
      },
      {
        "duration": 7,
        "start_time": "2022-06-30T07:50:22.800Z"
      },
      {
        "duration": 2086,
        "start_time": "2022-06-30T07:50:22.809Z"
      },
      {
        "duration": 2034,
        "start_time": "2022-06-30T07:50:24.896Z"
      },
      {
        "duration": 4,
        "start_time": "2022-06-30T07:50:26.932Z"
      },
      {
        "duration": 522,
        "start_time": "2022-06-30T07:50:26.939Z"
      },
      {
        "duration": 344,
        "start_time": "2022-06-30T07:50:27.463Z"
      },
      {
        "duration": 356,
        "start_time": "2022-06-30T07:50:27.809Z"
      },
      {
        "duration": 340,
        "start_time": "2022-06-30T07:50:28.167Z"
      },
      {
        "duration": 331,
        "start_time": "2022-06-30T07:50:28.509Z"
      },
      {
        "duration": 364,
        "start_time": "2022-06-30T07:50:28.842Z"
      },
      {
        "duration": 352,
        "start_time": "2022-06-30T07:50:29.208Z"
      },
      {
        "duration": 569,
        "start_time": "2022-06-30T07:50:29.562Z"
      },
      {
        "duration": 466,
        "start_time": "2022-06-30T07:50:30.133Z"
      },
      {
        "duration": 1481,
        "start_time": "2022-06-30T07:52:27.905Z"
      },
      {
        "duration": 34,
        "start_time": "2022-06-30T07:52:29.388Z"
      },
      {
        "duration": 16,
        "start_time": "2022-06-30T07:52:29.424Z"
      },
      {
        "duration": 77,
        "start_time": "2022-06-30T07:52:29.443Z"
      },
      {
        "duration": 38,
        "start_time": "2022-06-30T07:52:29.522Z"
      },
      {
        "duration": 9,
        "start_time": "2022-06-30T07:52:29.562Z"
      },
      {
        "duration": 2191,
        "start_time": "2022-06-30T07:52:29.578Z"
      },
      {
        "duration": 2220,
        "start_time": "2022-06-30T07:52:31.771Z"
      },
      {
        "duration": 5,
        "start_time": "2022-06-30T07:52:33.993Z"
      },
      {
        "duration": 526,
        "start_time": "2022-06-30T07:52:34.002Z"
      },
      {
        "duration": 362,
        "start_time": "2022-06-30T07:52:34.529Z"
      },
      {
        "duration": 337,
        "start_time": "2022-06-30T07:52:34.893Z"
      },
      {
        "duration": 362,
        "start_time": "2022-06-30T07:52:35.231Z"
      },
      {
        "duration": 331,
        "start_time": "2022-06-30T07:52:35.595Z"
      },
      {
        "duration": 370,
        "start_time": "2022-06-30T07:52:35.928Z"
      },
      {
        "duration": 360,
        "start_time": "2022-06-30T07:52:36.300Z"
      },
      {
        "duration": 590,
        "start_time": "2022-06-30T07:52:36.662Z"
      },
      {
        "duration": 540,
        "start_time": "2022-06-30T07:52:37.258Z"
      },
      {
        "duration": 3180,
        "start_time": "2022-06-30T07:52:37.800Z"
      },
      {
        "duration": 1531,
        "start_time": "2022-06-30T07:54:26.689Z"
      },
      {
        "duration": 33,
        "start_time": "2022-06-30T07:54:28.222Z"
      },
      {
        "duration": 18,
        "start_time": "2022-06-30T07:54:28.256Z"
      },
      {
        "duration": 62,
        "start_time": "2022-06-30T07:54:28.277Z"
      },
      {
        "duration": 38,
        "start_time": "2022-06-30T07:54:28.340Z"
      },
      {
        "duration": 3,
        "start_time": "2022-06-30T07:54:28.380Z"
      },
      {
        "duration": 6,
        "start_time": "2022-06-30T07:54:28.384Z"
      },
      {
        "duration": 10,
        "start_time": "2022-06-30T07:54:28.391Z"
      },
      {
        "duration": 11,
        "start_time": "2022-06-30T07:54:28.403Z"
      },
      {
        "duration": 3222,
        "start_time": "2022-06-30T07:54:28.416Z"
      },
      {
        "duration": 1736,
        "start_time": "2022-06-30T07:54:31.640Z"
      },
      {
        "duration": 4,
        "start_time": "2022-06-30T07:54:33.378Z"
      },
      {
        "duration": 9,
        "start_time": "2022-06-30T07:54:33.384Z"
      },
      {
        "duration": 21,
        "start_time": "2022-06-30T07:54:33.394Z"
      },
      {
        "duration": 3296,
        "start_time": "2022-06-30T07:54:33.417Z"
      },
      {
        "duration": 650,
        "start_time": "2022-06-30T07:54:36.716Z"
      },
      {
        "duration": 1107,
        "start_time": "2022-06-30T07:54:37.369Z"
      },
      {
        "duration": 1479,
        "start_time": "2022-06-30T07:55:29.915Z"
      },
      {
        "duration": 33,
        "start_time": "2022-06-30T07:55:31.396Z"
      },
      {
        "duration": 12,
        "start_time": "2022-06-30T07:55:31.431Z"
      },
      {
        "duration": 92,
        "start_time": "2022-06-30T07:55:31.445Z"
      },
      {
        "duration": 21,
        "start_time": "2022-06-30T07:55:31.539Z"
      },
      {
        "duration": 32,
        "start_time": "2022-06-30T07:55:31.562Z"
      },
      {
        "duration": 28,
        "start_time": "2022-06-30T07:55:31.596Z"
      },
      {
        "duration": 25,
        "start_time": "2022-06-30T07:55:31.626Z"
      },
      {
        "duration": 28,
        "start_time": "2022-06-30T07:55:31.653Z"
      },
      {
        "duration": 3345,
        "start_time": "2022-06-30T07:55:31.684Z"
      },
      {
        "duration": 1633,
        "start_time": "2022-06-30T07:55:35.031Z"
      },
      {
        "duration": 6,
        "start_time": "2022-06-30T07:55:36.666Z"
      },
      {
        "duration": 22,
        "start_time": "2022-06-30T07:55:36.675Z"
      },
      {
        "duration": 18,
        "start_time": "2022-06-30T07:55:36.698Z"
      },
      {
        "duration": 3425,
        "start_time": "2022-06-30T07:55:36.719Z"
      },
      {
        "duration": 591,
        "start_time": "2022-06-30T07:55:40.146Z"
      },
      {
        "duration": 847,
        "start_time": "2022-06-30T07:55:40.738Z"
      },
      {
        "duration": 1882,
        "start_time": "2022-06-30T07:55:41.588Z"
      },
      {
        "duration": 10,
        "start_time": "2022-06-30T07:55:43.473Z"
      },
      {
        "duration": 9,
        "start_time": "2022-06-30T08:22:42.473Z"
      },
      {
        "duration": 9,
        "start_time": "2022-06-30T08:22:52.100Z"
      },
      {
        "duration": 9,
        "start_time": "2022-06-30T08:22:53.475Z"
      },
      {
        "duration": 2935,
        "start_time": "2022-06-30T08:22:56.773Z"
      },
      {
        "duration": 604,
        "start_time": "2022-06-30T08:23:12.243Z"
      },
      {
        "duration": 1247,
        "start_time": "2022-06-30T08:23:14.721Z"
      },
      {
        "duration": 1606,
        "start_time": "2022-06-30T08:23:20.134Z"
      },
      {
        "duration": 3,
        "start_time": "2022-06-30T08:23:45.131Z"
      },
      {
        "duration": 46,
        "start_time": "2022-06-30T08:24:42.071Z"
      },
      {
        "duration": 1045,
        "start_time": "2022-06-30T12:14:26.925Z"
      }
    ],
    "kernelspec": {
      "display_name": "Python 3 (ipykernel)",
      "language": "python",
      "name": "python3"
    },
    "language_info": {
      "codemirror_mode": {
        "name": "ipython",
        "version": 3
      },
      "file_extension": ".py",
      "mimetype": "text/x-python",
      "name": "python",
      "nbconvert_exporter": "python",
      "pygments_lexer": "ipython3",
      "version": "3.9.5"
    },
    "toc": {
      "base_numbering": 1,
      "nav_menu": {},
      "number_sections": true,
      "sideBar": true,
      "skip_h1_title": true,
      "title_cell": "Table of Contents",
      "title_sidebar": "Contents",
      "toc_cell": false,
      "toc_position": {
        "height": "calc(100% - 180px)",
        "left": "10px",
        "top": "150px",
        "width": "165px"
      },
      "toc_section_display": true,
      "toc_window_display": true
    },
    "colab": {
      "provenance": []
    }
  },
  "nbformat": 4,
  "nbformat_minor": 0
}